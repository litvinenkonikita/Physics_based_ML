{
  "nbformat": 4,
  "nbformat_minor": 0,
  "metadata": {
    "colab": {
      "provenance": []
    },
    "kernelspec": {
      "name": "python3",
      "display_name": "Python 3"
    },
    "language_info": {
      "name": "python"
    }
  },
  "cells": [
    {
      "cell_type": "code",
      "execution_count": 1,
      "metadata": {
        "colab": {
          "base_uri": "https://localhost:8080/"
        },
        "id": "UYFsCmngvhRr",
        "outputId": "a124b8cc-347f-4e91-f2d1-ac1bd358f791"
      },
      "outputs": [
        {
          "output_type": "stream",
          "name": "stdout",
          "text": [
            "Mounted at /content/drive\n"
          ]
        }
      ],
      "source": [
        "from google.colab import drive\n",
        "drive.mount('/content/drive')"
      ]
    },
    {
      "cell_type": "code",
      "source": [
        "import matplotlib.pyplot as plt\n",
        "import numpy as np\n",
        "import os\n",
        "from PIL import Image\n",
        "import torch\n",
        "import shutil"
      ],
      "metadata": {
        "id": "5wyHwcis051C"
      },
      "execution_count": 2,
      "outputs": []
    },
    {
      "cell_type": "code",
      "source": [
        "def clear_folder(path):\n",
        "  for filename in os.listdir(path):\n",
        "    file_path = os.path.join(path, filename)\n",
        "    try:\n",
        "      if os.path.isfile(file_path) or os.path.islink(file_path):\n",
        "        os.unlink(file_path)\n",
        "      elif os.path.isdir(file_path):\n",
        "        shutil.rmtree(file_path)\n",
        "    except Exception as e:\n",
        "      print('Failed to delete %s. Reason: %s' % (file_path, e))"
      ],
      "metadata": {
        "id": "ogaDi3GFl-oW"
      },
      "execution_count": 3,
      "outputs": []
    },
    {
      "cell_type": "code",
      "source": [
        "def create_circular_mask(h, w, center=None, radius=None):\n",
        "  \"\"\"\n",
        "  if h % 2 == 0:\n",
        "    h = h + 1\n",
        "  if w % 2 == 0: \n",
        "    w = w + 1\n",
        "  \"\"\"\n",
        "  if center is None: # use the middle of the image\n",
        "    center = (int(w/2), int(h/2))\n",
        "  if radius is None: # use the smallest distance between the center and image walls\n",
        "    radius = min(center[0], center[1], w-center[0], h-center[1])\n",
        "\n",
        "  Y, X = np.ogrid[:h, :w]\n",
        "  dist_from_center = np.sqrt((X - center[0])**2 + (Y-center[1])**2)\n",
        "  mask = dist_from_center <= radius\n",
        "  return mask"
      ],
      "metadata": {
        "id": "J6OitUFW9_qX"
      },
      "execution_count": 4,
      "outputs": []
    },
    {
      "cell_type": "code",
      "source": [
        "def atleast_4d(x):\n",
        "  if x.ndim < 4:\n",
        "    y = np.expand_dims(np.atleast_3d(x), axis=0)\n",
        "  else:\n",
        "    y = x\n",
        "\n",
        "  return y"
      ],
      "metadata": {
        "id": "rBbJacw-CmHs"
      },
      "execution_count": 5,
      "outputs": []
    },
    {
      "cell_type": "code",
      "source": [
        "physics_based_path = os.path.join('drive', 'My Drive', 'physics_based')"
      ],
      "metadata": {
        "id": "JoLDUdU9mvxU"
      },
      "execution_count": 6,
      "outputs": []
    },
    {
      "cell_type": "markdown",
      "source": [
        "function **create_pipe_tensor**(PIPE_LENGTH, PIPE_RADIUS, IMG_H, IMG_W, rgb=False) returns **3D pipe mask** and **3D empty tensor**\n",
        "\n"
      ],
      "metadata": {
        "id": "VprpWRL289--"
      }
    },
    {
      "cell_type": "code",
      "source": [
        "def create_pipe_tensor(PIPE_LENGTH, PIPE_RADIUS, IMG_H, IMG_W, rgb=False):\n",
        "  if rgb:\n",
        "    pipe = np.empty((0, IMG_H, IMG_W, 3), dtype=np.float32)\n",
        "  else:\n",
        "    pipe = np.empty((0, IMG_H, IMG_W), dtype=np.float32)\n",
        "\n",
        "  mask = create_circular_mask(IMG_H, IMG_W, center=None, radius=PIPE_RADIUS)\n",
        "\n",
        "  if rgb:\n",
        "    mask = atleast_4d(np.asarray(Image.fromarray(np.uint8(mask)).convert('RGB'), dtype=np.float32))\n",
        "  else:\n",
        "    mask = np.expand_dims(mask, axis=0)\n",
        "\n",
        "  for i in range(PIPE_LENGTH):\n",
        "    pipe = np.append(pipe, mask, axis=0)\n",
        "\n",
        "  pipe = np.expand_dims(pipe, axis=0)\n",
        "  print(f'pipe.shape: {pipe.shape}')\n",
        "\n",
        "  \"\"\"\n",
        "  for xid in range(pipe.shape[0]):\n",
        "    circle = pipe[xid]\n",
        "    plt.imsave(os.path.join(physics_based_path, f'{xid}.png'), circle)\n",
        "  \"\"\"\n",
        "\n",
        "  return torch.from_numpy(pipe)"
      ],
      "metadata": {
        "id": "CAIIIT4gC2EC"
      },
      "execution_count": 7,
      "outputs": []
    },
    {
      "cell_type": "code",
      "source": [
        "PIPE_RADIUS = 48\n",
        "PIPE_LENGTH = 128\n",
        "IMG_W = 128\n",
        "IMG_H = 128"
      ],
      "metadata": {
        "id": "Dyhwf0rLNWg9"
      },
      "execution_count": 8,
      "outputs": []
    },
    {
      "cell_type": "code",
      "source": [
        "clear_folder(physics_based_path)\n",
        "pipe_tensor = create_pipe_tensor(PIPE_LENGTH, PIPE_RADIUS, IMG_H, IMG_W)"
      ],
      "metadata": {
        "id": "xNsPJfKrB5Ww",
        "colab": {
          "base_uri": "https://localhost:8080/"
        },
        "outputId": "d1c3e218-98cb-44bc-f9d7-23ea611f7814"
      },
      "execution_count": 10,
      "outputs": [
        {
          "output_type": "stream",
          "name": "stdout",
          "text": [
            "pipe.shape: (1, 128, 128, 128)\n"
          ]
        }
      ]
    },
    {
      "cell_type": "code",
      "source": [
        "pipe_tensor.size()"
      ],
      "metadata": {
        "colab": {
          "base_uri": "https://localhost:8080/"
        },
        "id": "b05ug5yl21KB",
        "outputId": "204139e2-a19b-4fbd-ab8f-e7057f056a64"
      },
      "execution_count": 11,
      "outputs": [
        {
          "output_type": "execute_result",
          "data": {
            "text/plain": [
              "torch.Size([1, 128, 128, 128])"
            ]
          },
          "metadata": {},
          "execution_count": 11
        }
      ]
    },
    {
      "cell_type": "code",
      "source": [
        "pipe_tensor.size()"
      ],
      "metadata": {
        "id": "MYYPuUT79fHg",
        "colab": {
          "base_uri": "https://localhost:8080/"
        },
        "outputId": "776759af-b509-4eeb-b630-5703696c13a4"
      },
      "execution_count": 12,
      "outputs": [
        {
          "output_type": "execute_result",
          "data": {
            "text/plain": [
              "torch.Size([1, 128, 128, 128])"
            ]
          },
          "metadata": {},
          "execution_count": 12
        }
      ]
    },
    {
      "cell_type": "code",
      "source": [
        "torch.save(pipe_tensor, os.path.join(physics_based_path, 'pipe_tensor.pt')) "
      ],
      "metadata": {
        "id": "AGDaDh_DKHXt"
      },
      "execution_count": 13,
      "outputs": []
    },
    {
      "cell_type": "code",
      "source": [
        "loaded_pipe = torch.load(os.path.join(physics_based_path, 'pipe_tensor.pt'))"
      ],
      "metadata": {
        "id": "Psnu1iSZLtmS"
      },
      "execution_count": 14,
      "outputs": []
    }
  ]
}