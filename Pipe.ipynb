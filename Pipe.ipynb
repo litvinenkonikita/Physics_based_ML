{
  "nbformat": 4,
  "nbformat_minor": 0,
  "metadata": {
    "colab": {
      "provenance": []
    },
    "kernelspec": {
      "name": "python3",
      "display_name": "Python 3"
    },
    "language_info": {
      "name": "python"
    }
  },
  "cells": [
    {
      "cell_type": "code",
      "execution_count": 1,
      "metadata": {
        "colab": {
          "base_uri": "https://localhost:8080/"
        },
        "id": "UYFsCmngvhRr",
        "outputId": "a7835815-fed1-4cf4-e83b-a33ad58aa98e"
      },
      "outputs": [
        {
          "output_type": "stream",
          "name": "stdout",
          "text": [
            "Mounted at /content/drive\n"
          ]
        }
      ],
      "source": [
        "from google.colab import drive\n",
        "drive.mount('/content/drive')"
      ]
    },
    {
      "cell_type": "code",
      "source": [
        "import matplotlib.pyplot as plt\n",
        "import numpy as np\n",
        "import os\n",
        "from PIL import Image\n",
        "import torch\n",
        "import shutil"
      ],
      "metadata": {
        "id": "5wyHwcis051C"
      },
      "execution_count": 2,
      "outputs": []
    },
    {
      "cell_type": "code",
      "source": [
        "def clear_folder(path):\n",
        "  for filename in os.listdir(path):\n",
        "    file_path = os.path.join(path, filename)\n",
        "    try:\n",
        "      if os.path.isfile(file_path) or os.path.islink(file_path):\n",
        "        os.unlink(file_path)\n",
        "      elif os.path.isdir(file_path):\n",
        "        shutil.rmtree(file_path)\n",
        "    except Exception as e:\n",
        "      print('Failed to delete %s. Reason: %s' % (file_path, e))"
      ],
      "metadata": {
        "id": "ogaDi3GFl-oW"
      },
      "execution_count": 3,
      "outputs": []
    },
    {
      "cell_type": "code",
      "source": [
        "def create_circular_mask(h, w, center=None, radius=None):\n",
        "  \"\"\"\n",
        "  if h % 2 == 0:\n",
        "    h = h + 1\n",
        "  if w % 2 == 0: \n",
        "    w = w + 1\n",
        "  \"\"\"\n",
        "  if center is None: # use the middle of the image\n",
        "    center = (int(w/2), int(h/2))\n",
        "  if radius is None: # use the smallest distance between the center and image walls\n",
        "    radius = min(center[0], center[1], w-center[0], h-center[1])\n",
        "\n",
        "  Y, X = np.ogrid[:h, :w]\n",
        "  dist_from_center = np.sqrt((X - center[0])**2 + (Y-center[1])**2)\n",
        "  mask = dist_from_center <= radius\n",
        "  return mask"
      ],
      "metadata": {
        "id": "J6OitUFW9_qX"
      },
      "execution_count": 4,
      "outputs": []
    },
    {
      "cell_type": "code",
      "source": [
        "def atleast_4d(x):\n",
        "  if x.ndim < 4:\n",
        "    y = np.expand_dims(np.atleast_3d(x), axis=0)\n",
        "  else:\n",
        "    y = x\n",
        "\n",
        "  return y"
      ],
      "metadata": {
        "id": "rBbJacw-CmHs"
      },
      "execution_count": 5,
      "outputs": []
    },
    {
      "cell_type": "code",
      "source": [
        "physics_based_path = os.path.join('drive', 'My Drive', 'physics_based')"
      ],
      "metadata": {
        "id": "JoLDUdU9mvxU"
      },
      "execution_count": 6,
      "outputs": []
    },
    {
      "cell_type": "markdown",
      "source": [
        "function **create_pipe_tensor**(PIPE_LENGTH, PIPE_RADIUS, IMG_H, IMG_W, rgb=False) returns **3D pipe mask** and **3D empty tensor**\n",
        "\n"
      ],
      "metadata": {
        "id": "VprpWRL289--"
      }
    },
    {
      "cell_type": "code",
      "source": [
        "def create_pipe_tensor(PIPE_LENGTH, PIPE_RADIUS, IMG_H, IMG_W, rgb=False):\n",
        "  if rgb:\n",
        "    pipe = np.empty((0, IMG_H, IMG_W, 3), dtype=np.float32)\n",
        "  else:\n",
        "    pipe = np.empty((0, IMG_H, IMG_W), dtype=np.float32)\n",
        "\n",
        "  mask = create_circular_mask(IMG_H, IMG_W, center=None, radius=PIPE_RADIUS)\n",
        "\n",
        "  if rgb:\n",
        "    mask = atleast_4d(np.asarray(Image.fromarray(np.uint8(mask)).convert('RGB'), dtype=np.float32))\n",
        "  else:\n",
        "    mask = np.expand_dims(mask, axis=0)\n",
        "\n",
        "  for i in range(PIPE_LENGTH):\n",
        "    pipe = np.append(pipe, mask, axis=0)\n",
        "\n",
        "  \"\"\"\n",
        "  for xid in range(pipe.shape[0]):\n",
        "    circle = pipe[xid]\n",
        "    plt.imsave(os.path.join(physics_based_path, f'{xid}.png'), circle)\n",
        "  \"\"\"\n",
        "  empty_tensor = np.zeros_like(pipe)\n",
        "\n",
        "  return torch.from_numpy(pipe), torch.from_numpy(empty_tensor)"
      ],
      "metadata": {
        "id": "CAIIIT4gC2EC"
      },
      "execution_count": 24,
      "outputs": []
    },
    {
      "cell_type": "code",
      "source": [
        "PIPE_RADIUS = 48\n",
        "PIPE_LENGTH = 128\n",
        "IMG_W = 128\n",
        "IMG_H = 128"
      ],
      "metadata": {
        "id": "Dyhwf0rLNWg9"
      },
      "execution_count": 25,
      "outputs": []
    },
    {
      "cell_type": "code",
      "source": [
        "clear_folder(physics_based_path)\n",
        "pipe_tensor_rgb, empty_tensor_rgb = create_pipe_tensor(PIPE_LENGTH, PIPE_RADIUS, IMG_H, IMG_W, True)"
      ],
      "metadata": {
        "id": "xNsPJfKrB5Ww",
        "colab": {
          "base_uri": "https://localhost:8080/"
        },
        "outputId": "57c9453e-7f43-4ff2-cbdc-e6b7dd3680a4"
      },
      "execution_count": 26,
      "outputs": [
        {
          "output_type": "stream",
          "name": "stdout",
          "text": [
            "pipe.shape: (0, 128, 128, 3)\n",
            "mask.shape: (1, 128, 128, 3)\n"
          ]
        }
      ]
    },
    {
      "cell_type": "code",
      "source": [
        "pipe_tensor_rgb.size()"
      ],
      "metadata": {
        "colab": {
          "base_uri": "https://localhost:8080/"
        },
        "id": "b05ug5yl21KB",
        "outputId": "5dcb012d-fc77-44e3-9c2e-019eac389654"
      },
      "execution_count": 27,
      "outputs": [
        {
          "output_type": "execute_result",
          "data": {
            "text/plain": [
              "torch.Size([128, 128, 128, 3])"
            ]
          },
          "metadata": {},
          "execution_count": 27
        }
      ]
    },
    {
      "cell_type": "code",
      "source": [
        "empty_tensor_rgb.size()"
      ],
      "metadata": {
        "colab": {
          "base_uri": "https://localhost:8080/"
        },
        "id": "89WAe2ci258e",
        "outputId": "9cb4547e-3956-46e8-c384-e91103ffc4b5"
      },
      "execution_count": 28,
      "outputs": [
        {
          "output_type": "execute_result",
          "data": {
            "text/plain": [
              "torch.Size([128, 128, 128, 3])"
            ]
          },
          "metadata": {},
          "execution_count": 28
        }
      ]
    },
    {
      "cell_type": "code",
      "source": [
        "pipe_tensor, empty_tensor = create_pipe_tensor(PIPE_LENGTH, PIPE_RADIUS, IMG_H, IMG_W, False)"
      ],
      "metadata": {
        "colab": {
          "base_uri": "https://localhost:8080/"
        },
        "id": "8zy7K5zckUXD",
        "outputId": "0050154e-a0d3-49fe-dc28-6c940daddb85"
      },
      "execution_count": 29,
      "outputs": [
        {
          "output_type": "stream",
          "name": "stdout",
          "text": [
            "pipe.shape: (0, 128, 128)\n",
            "mask.shape: (1, 128, 128)\n"
          ]
        }
      ]
    },
    {
      "cell_type": "code",
      "source": [
        "pipe_tensor.size()"
      ],
      "metadata": {
        "id": "MYYPuUT79fHg",
        "colab": {
          "base_uri": "https://localhost:8080/"
        },
        "outputId": "159e12d3-1ced-4a4e-e9a2-8d95c5746afe"
      },
      "execution_count": 30,
      "outputs": [
        {
          "output_type": "execute_result",
          "data": {
            "text/plain": [
              "torch.Size([128, 128, 128])"
            ]
          },
          "metadata": {},
          "execution_count": 30
        }
      ]
    },
    {
      "cell_type": "code",
      "source": [
        "empty_tensor.size()"
      ],
      "metadata": {
        "colab": {
          "base_uri": "https://localhost:8080/"
        },
        "id": "p2pnmcByPfPr",
        "outputId": "83901170-2e9c-499b-a641-da64f8c537e2"
      },
      "execution_count": 31,
      "outputs": [
        {
          "output_type": "execute_result",
          "data": {
            "text/plain": [
              "torch.Size([128, 128, 128])"
            ]
          },
          "metadata": {},
          "execution_count": 31
        }
      ]
    },
    {
      "cell_type": "code",
      "source": [
        "torch.save(pipe_tensor, os.path.join(physics_based_path, 'pipe_tensor.pt')) "
      ],
      "metadata": {
        "id": "AGDaDh_DKHXt"
      },
      "execution_count": null,
      "outputs": []
    },
    {
      "cell_type": "code",
      "source": [
        "loaded_pipe = torch.load(os.path.join(physics_based_path, 'pipe_tensor.pt'))"
      ],
      "metadata": {
        "id": "Psnu1iSZLtmS"
      },
      "execution_count": null,
      "outputs": []
    }
  ]
}