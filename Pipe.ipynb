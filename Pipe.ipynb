{
  "nbformat": 4,
  "nbformat_minor": 0,
  "metadata": {
    "colab": {
      "provenance": []
    },
    "kernelspec": {
      "name": "python3",
      "display_name": "Python 3"
    },
    "language_info": {
      "name": "python"
    }
  },
  "cells": [
    {
      "cell_type": "code",
      "execution_count": null,
      "metadata": {
        "colab": {
          "base_uri": "https://localhost:8080/"
        },
        "id": "UYFsCmngvhRr",
        "outputId": "8e976434-2929-454d-e36c-660e4d3721fb"
      },
      "outputs": [
        {
          "output_type": "stream",
          "name": "stdout",
          "text": [
            "Mounted at /content/drive\n"
          ]
        }
      ],
      "source": [
        "from google.colab import drive\n",
        "drive.mount('/content/drive')"
      ]
    },
    {
      "cell_type": "code",
      "source": [
        "import cv2\n",
        "import matplotlib\n",
        "import matplotlib.pyplot as plt\n",
        "import numpy as np\n",
        "import os\n",
        "from PIL import Image\n",
        "import torch\n",
        "import glob\n",
        "import shutil"
      ],
      "metadata": {
        "id": "5wyHwcis051C"
      },
      "execution_count": null,
      "outputs": []
    },
    {
      "cell_type": "code",
      "source": [
        "def clear_folder(path):\n",
        "  for filename in os.listdir(path):\n",
        "    file_path = os.path.join(path, filename)\n",
        "    try:\n",
        "      if os.path.isfile(file_path) or os.path.islink(file_path):\n",
        "        os.unlink(file_path)\n",
        "      elif os.path.isdir(file_path):\n",
        "        shutil.rmtree(file_path)\n",
        "    except Exception as e:\n",
        "      print('Failed to delete %s. Reason: %s' % (file_path, e))"
      ],
      "metadata": {
        "id": "ogaDi3GFl-oW"
      },
      "execution_count": null,
      "outputs": []
    },
    {
      "cell_type": "code",
      "source": [
        "def create_circular_mask(h, w, center=None, radius=None):\n",
        "  \"\"\"\n",
        "  if h % 2 == 0:\n",
        "    h = h + 1\n",
        "  if w % 2 == 0: \n",
        "    w = w + 1\n",
        "  \"\"\"\n",
        "  if center is None: # use the middle of the image\n",
        "    center = (int(w/2), int(h/2))\n",
        "  if radius is None: # use the smallest distance between the center and image walls\n",
        "    radius = min(center[0], center[1], w-center[0], h-center[1])\n",
        "\n",
        "  Y, X = np.ogrid[:h, :w]\n",
        "  dist_from_center = np.sqrt((X - center[0])**2 + (Y-center[1])**2)\n",
        "  mask = dist_from_center <= radius\n",
        "  return mask"
      ],
      "metadata": {
        "id": "J6OitUFW9_qX"
      },
      "execution_count": null,
      "outputs": []
    },
    {
      "cell_type": "code",
      "source": [
        "def atleast_4d(x):\n",
        "  if x.ndim < 4:\n",
        "    y = np.expand_dims(np.atleast_3d(x), axis=0)\n",
        "  else:\n",
        "    y = x\n",
        "\n",
        "  return y"
      ],
      "metadata": {
        "id": "rBbJacw-CmHs"
      },
      "execution_count": null,
      "outputs": []
    },
    {
      "cell_type": "code",
      "source": [
        "def create_pipe_tensor(PIPE_LENGTH, PIPE_RADIUS, IMG_H, IMG_W):\n",
        "  pipe = np.empty((0, IMG_H, IMG_W, 3), dtype=np.float32)\n",
        "  mask = create_circular_mask(IMG_H, IMG_W, center=None, radius=PIPE_RADIUS)\n",
        "  rgb_mask = np.asarray(Image.fromarray(np.uint8(mask)).convert('RGB'), dtype=np.float32)\n",
        "\n",
        "  for i in range(PIPE_LENGTH):\n",
        "    pipe = np.append(pipe, atleast_4d(rgb_mask), axis=0)\n",
        "  \n",
        "  return torch.from_numpy(pipe)\n"
      ],
      "metadata": {
        "id": "CAIIIT4gC2EC"
      },
      "execution_count": null,
      "outputs": []
    },
    {
      "cell_type": "code",
      "source": [
        "PIPE_RADIUS = 128\n",
        "PIPE_LENGTH = 1024\n",
        "IMG_W = 384\n",
        "IMG_H = 384\n",
        "physics_based_path = os.path.join('drive', 'My Drive', 'physics_based')"
      ],
      "metadata": {
        "id": "Dyhwf0rLNWg9"
      },
      "execution_count": 47,
      "outputs": []
    },
    {
      "cell_type": "code",
      "source": [
        "pipe_tensor = create_pipe_tensor(PIPE_LENGTH, PIPE_RADIUS, IMG_H, IMG_W)"
      ],
      "metadata": {
        "id": "xNsPJfKrB5Ww"
      },
      "execution_count": 42,
      "outputs": []
    },
    {
      "cell_type": "markdown",
      "source": [
        "Функция create_pipe_tensor() создаёт тензор с трубой из PIPE_LENGTH RGB-изображений, может долго работать, поэтому тензор можно скачать тут: https://drive.google.com/file/d/1-NiLonQLIYgDzCJ8RQcvbyZsf2O5RVa_/view?usp=share_link"
      ],
      "metadata": {
        "id": "CAzFzvPgOo8f"
      }
    },
    {
      "cell_type": "code",
      "source": [
        "pipe_tensor.size()"
      ],
      "metadata": {
        "id": "MYYPuUT79fHg",
        "colab": {
          "base_uri": "https://localhost:8080/"
        },
        "outputId": "833b2f17-8a8a-4d82-c8d3-65c36dfcb487"
      },
      "execution_count": 43,
      "outputs": [
        {
          "output_type": "execute_result",
          "data": {
            "text/plain": [
              "torch.Size([1024, 384, 384, 3])"
            ]
          },
          "metadata": {},
          "execution_count": 43
        }
      ]
    },
    {
      "cell_type": "code",
      "source": [
        "torch.save(pipe_tensor, os.path.join(physics_based_path, 'pipe_tensor.pt')) "
      ],
      "metadata": {
        "id": "AGDaDh_DKHXt"
      },
      "execution_count": 44,
      "outputs": []
    },
    {
      "cell_type": "code",
      "source": [
        "loaded_pipe = torch.load(os.path.join(physics_based_path, 'pipe_tensor.pt'))"
      ],
      "metadata": {
        "id": "Psnu1iSZLtmS"
      },
      "execution_count": 45,
      "outputs": []
    },
    {
      "cell_type": "code",
      "source": [
        "loaded_pipe.size()"
      ],
      "metadata": {
        "colab": {
          "base_uri": "https://localhost:8080/"
        },
        "id": "cKUOZiS4L8Dl",
        "outputId": "aec1415a-8f5b-4e64-96ee-b228a05f6056"
      },
      "execution_count": 46,
      "outputs": [
        {
          "output_type": "execute_result",
          "data": {
            "text/plain": [
              "torch.Size([1024, 384, 384, 3])"
            ]
          },
          "metadata": {},
          "execution_count": 46
        }
      ]
    }
  ]
}