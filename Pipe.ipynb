{
  "nbformat": 4,
  "nbformat_minor": 0,
  "metadata": {
    "colab": {
      "provenance": []
    },
    "kernelspec": {
      "name": "python3",
      "display_name": "Python 3"
    },
    "language_info": {
      "name": "python"
    }
  },
  "cells": [
    {
      "cell_type": "code",
      "execution_count": null,
      "metadata": {
        "colab": {
          "base_uri": "https://localhost:8080/"
        },
        "id": "UYFsCmngvhRr",
        "outputId": "7fd7d677-5dc5-443e-e37f-3f00a09d3e50"
      },
      "outputs": [
        {
          "output_type": "stream",
          "name": "stdout",
          "text": [
            "Mounted at /content/drive\n"
          ]
        }
      ],
      "source": [
        "from google.colab import drive\n",
        "drive.mount('/content/drive')"
      ]
    },
    {
      "cell_type": "code",
      "source": [
        "import matplotlib.pyplot as plt\n",
        "import numpy as np\n",
        "import os\n",
        "from PIL import Image\n",
        "import torch\n",
        "import shutil"
      ],
      "metadata": {
        "id": "5wyHwcis051C"
      },
      "execution_count": null,
      "outputs": []
    },
    {
      "cell_type": "code",
      "source": [
        "def clear_folder(path):\n",
        "  for filename in os.listdir(path):\n",
        "    file_path = os.path.join(path, filename)\n",
        "    try:\n",
        "      if os.path.isfile(file_path) or os.path.islink(file_path):\n",
        "        os.unlink(file_path)\n",
        "      elif os.path.isdir(file_path):\n",
        "        shutil.rmtree(file_path)\n",
        "    except Exception as e:\n",
        "      print('Failed to delete %s. Reason: %s' % (file_path, e))"
      ],
      "metadata": {
        "id": "ogaDi3GFl-oW"
      },
      "execution_count": null,
      "outputs": []
    },
    {
      "cell_type": "code",
      "source": [
        "def create_circular_mask(h, w, center=None, radius=None):\n",
        "  \"\"\"\n",
        "  if h % 2 == 0:\n",
        "    h = h + 1\n",
        "  if w % 2 == 0: \n",
        "    w = w + 1\n",
        "  \"\"\"\n",
        "  if center is None: # use the middle of the image\n",
        "    center = (int(w/2), int(h/2))\n",
        "  if radius is None: # use the smallest distance between the center and image walls\n",
        "    radius = min(center[0], center[1], w-center[0], h-center[1])\n",
        "\n",
        "  Y, X = np.ogrid[:h, :w]\n",
        "  dist_from_center = np.sqrt((X - center[0])**2 + (Y-center[1])**2)\n",
        "  mask = dist_from_center <= radius\n",
        "  return mask"
      ],
      "metadata": {
        "id": "J6OitUFW9_qX"
      },
      "execution_count": null,
      "outputs": []
    },
    {
      "cell_type": "code",
      "source": [
        "physics_based_path = os.path.join('drive', 'My Drive', 'physics_based')"
      ],
      "metadata": {
        "id": "JoLDUdU9mvxU"
      },
      "execution_count": null,
      "outputs": []
    },
    {
      "cell_type": "markdown",
      "source": [
        "function **create_pipe_tensor**(PIPE_LENGTH, PIPE_RADIUS, IMG_H, IMG_W, rgb=False) returns **3D pipe mask**\n",
        "\n"
      ],
      "metadata": {
        "id": "VprpWRL289--"
      }
    },
    {
      "cell_type": "code",
      "source": [
        "def create_pipe_tensor(PIPE_RADIUS, IMG_H, IMG_W, PIPE_LENGTH, rgb=False):\n",
        "  if rgb:\n",
        "    pipe = np.empty((3, IMG_H, IMG_W, 0), dtype=np.float32)\n",
        "  else:\n",
        "    pipe = np.empty((1, IMG_H, IMG_W, 0), dtype=np.float32)\n",
        "\n",
        "  mask = create_circular_mask(IMG_H, IMG_W, center=None, radius=PIPE_RADIUS)\n",
        "\n",
        "  if rgb:\n",
        "    mask = np.asarray(Image.fromarray(np.uint8(mask)).convert('RGB'), dtype=np.float32)\n",
        "    mask = np.moveaxis(mask, 2, 0)\n",
        "  else:\n",
        "    mask = np.expand_dims(mask, axis=0)\n",
        "\n",
        "  mask = np.expand_dims(mask, axis=3)  # add dim for channels\n",
        "\n",
        "  for i in range(PIPE_LENGTH):\n",
        "    pipe = np.append(pipe, mask, axis=3)\n",
        "\n",
        "  # pipe = np.expand_dims(pipe, axis=0) # add dim for batch\n",
        "\n",
        "  return torch.from_numpy(pipe)"
      ],
      "metadata": {
        "id": "CAIIIT4gC2EC"
      },
      "execution_count": null,
      "outputs": []
    },
    {
      "cell_type": "code",
      "source": [
        "PIPE_RADIUS = 48\n",
        "PIPE_LENGTH = 128\n",
        "IMG_W = 128\n",
        "IMG_H = 128"
      ],
      "metadata": {
        "id": "Dyhwf0rLNWg9"
      },
      "execution_count": null,
      "outputs": []
    },
    {
      "cell_type": "code",
      "source": [
        "clear_folder(physics_based_path)\n",
        "pipe_tensor = create_pipe_tensor(PIPE_RADIUS, IMG_H, IMG_W, PIPE_LENGTH)"
      ],
      "metadata": {
        "id": "xNsPJfKrB5Ww"
      },
      "execution_count": null,
      "outputs": []
    },
    {
      "cell_type": "code",
      "source": [
        "pipe_tensor.size()"
      ],
      "metadata": {
        "colab": {
          "base_uri": "https://localhost:8080/"
        },
        "id": "b05ug5yl21KB",
        "outputId": "b2fa23bd-84a2-4744-8a7f-1ecf689ad808"
      },
      "execution_count": null,
      "outputs": [
        {
          "output_type": "execute_result",
          "data": {
            "text/plain": [
              "torch.Size([1, 1, 128, 128, 64])"
            ]
          },
          "metadata": {},
          "execution_count": 11
        }
      ]
    },
    {
      "cell_type": "code",
      "source": [
        "pipe_tensor.size()"
      ],
      "metadata": {
        "id": "MYYPuUT79fHg",
        "colab": {
          "base_uri": "https://localhost:8080/"
        },
        "outputId": "01308916-7797-48eb-cd64-a111340f43df"
      },
      "execution_count": null,
      "outputs": [
        {
          "output_type": "execute_result",
          "data": {
            "text/plain": [
              "torch.Size([1, 1, 128, 128, 64])"
            ]
          },
          "metadata": {},
          "execution_count": 12
        }
      ]
    },
    {
      "cell_type": "code",
      "source": [
        "torch.save(pipe_tensor, os.path.join(physics_based_path, 'pipe_tensor.pt')) "
      ],
      "metadata": {
        "id": "AGDaDh_DKHXt"
      },
      "execution_count": null,
      "outputs": []
    },
    {
      "cell_type": "code",
      "source": [
        "loaded_pipe = torch.load(os.path.join(physics_based_path, 'pipe_tensor.pt'))"
      ],
      "metadata": {
        "id": "Psnu1iSZLtmS"
      },
      "execution_count": null,
      "outputs": []
    }
  ]
}