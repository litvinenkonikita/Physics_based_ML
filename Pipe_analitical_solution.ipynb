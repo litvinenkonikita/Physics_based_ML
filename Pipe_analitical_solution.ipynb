{
  "nbformat": 4,
  "nbformat_minor": 0,
  "metadata": {
    "colab": {
      "provenance": [],
      "authorship_tag": "ABX9TyO1HQ0XNe6XTo1mScQWIq4A",
      "include_colab_link": true
    },
    "kernelspec": {
      "name": "python3",
      "display_name": "Python 3"
    },
    "language_info": {
      "name": "python"
    },
    "gpuClass": "standard"
  },
  "cells": [
    {
      "cell_type": "markdown",
      "metadata": {
        "id": "view-in-github",
        "colab_type": "text"
      },
      "source": [
        "<a href=\"https://colab.research.google.com/github/litvinenkonikita/Physics_based_ML/blob/main/Pipe_analitical_solution.ipynb\" target=\"_parent\"><img src=\"https://colab.research.google.com/assets/colab-badge.svg\" alt=\"Open In Colab\"/></a>"
      ]
    },
    {
      "cell_type": "markdown",
      "source": [
        "# Introduction\n",
        "\n",
        "It is supposed that the Newtonian fluid flows through a cylindrical pipe. The flow is steady, the Reynolds number is smaller than the critical one $Re < Re^* {\\approx} 1100...1400$. Then the task is known as Poiseuille flow and it has a simple analytical solution given in cylindrical coordinates $[\\rho, \\theta, x_3]$:\n",
        "\\begin{equation}\n",
        "    {v_3} = - \\frac{1}{4\\mu}\\frac{\\partial p}{\\partial x_3}(a^2 - \\rho^2),\n",
        "\\end{equation}\n",
        "where ${\\partial p}/{\\partial x_3}$ is the pressure drop along the axis of the cylinder, and $a$ is the parameter that characterizes the maximum flow rate in the center of the cylinder."
      ],
      "metadata": {
        "id": "WN1yv-FGS2tg"
      }
    },
    {
      "cell_type": "markdown",
      "source": [
        "# Initialization"
      ],
      "metadata": {
        "id": "lrvFyOZpz_a_"
      }
    },
    {
      "cell_type": "markdown",
      "source": [
        "## Import libraries"
      ],
      "metadata": {
        "id": "JlSxlGhUQRJq"
      }
    },
    {
      "cell_type": "code",
      "execution_count": 3,
      "metadata": {
        "id": "uU0xxdRxQHK0"
      },
      "outputs": [],
      "source": [
        "# Pytorch modules\n",
        "import torch\n",
        "\n",
        "# Plotting\n",
        "from matplotlib import pyplot as plt\n",
        "import numpy as np\n",
        "\n",
        "# Work with files and images"
      ]
    },
    {
      "cell_type": "markdown",
      "source": [
        "## Settings"
      ],
      "metadata": {
        "id": "oJubEjEoz6p7"
      }
    },
    {
      "cell_type": "code",
      "source": [
        "n = 100\n",
        "L = 1 #lenght\n",
        "dpdx_3 = 1 #pressure drop\n",
        "\n",
        "#coordinates\n",
        "x_1 = torch.linspace(0, 1, n)\n",
        "x_1, x_2 = torch.meshgrid(x_1, x_1)"
      ],
      "metadata": {
        "id": "tD-xKVYOQptw"
      },
      "execution_count": 6,
      "outputs": []
    },
    {
      "cell_type": "code",
      "source": [
        "x_1, x_2"
      ],
      "metadata": {
        "colab": {
          "base_uri": "https://localhost:8080/"
        },
        "id": "Vn3Jnj_X0n9X",
        "outputId": "31490a05-098e-4462-d91a-8d0d6eea2b38"
      },
      "execution_count": 5,
      "outputs": [
        {
          "output_type": "execute_result",
          "data": {
            "text/plain": [
              "(tensor([[0.0000, 0.0000, 0.0000,  ..., 0.0000, 0.0000, 0.0000],\n",
              "         [0.0101, 0.0101, 0.0101,  ..., 0.0101, 0.0101, 0.0101],\n",
              "         [0.0202, 0.0202, 0.0202,  ..., 0.0202, 0.0202, 0.0202],\n",
              "         ...,\n",
              "         [0.9798, 0.9798, 0.9798,  ..., 0.9798, 0.9798, 0.9798],\n",
              "         [0.9899, 0.9899, 0.9899,  ..., 0.9899, 0.9899, 0.9899],\n",
              "         [1.0000, 1.0000, 1.0000,  ..., 1.0000, 1.0000, 1.0000]]),\n",
              " tensor([[0.0000, 0.0101, 0.0202,  ..., 0.9798, 0.9899, 1.0000],\n",
              "         [0.0000, 0.0101, 0.0202,  ..., 0.9798, 0.9899, 1.0000],\n",
              "         [0.0000, 0.0101, 0.0202,  ..., 0.9798, 0.9899, 1.0000],\n",
              "         ...,\n",
              "         [0.0000, 0.0101, 0.0202,  ..., 0.9798, 0.9899, 1.0000],\n",
              "         [0.0000, 0.0101, 0.0202,  ..., 0.9798, 0.9899, 1.0000],\n",
              "         [0.0000, 0.0101, 0.0202,  ..., 0.9798, 0.9899, 1.0000]]))"
            ]
          },
          "metadata": {},
          "execution_count": 5
        }
      ]
    },
    {
      "cell_type": "code",
      "source": [],
      "metadata": {
        "id": "Wql74NgE0sLn"
      },
      "execution_count": null,
      "outputs": []
    }
  ]
}