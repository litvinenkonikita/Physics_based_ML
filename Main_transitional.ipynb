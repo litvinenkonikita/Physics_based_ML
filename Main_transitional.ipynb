{
 "cells": [
  {
   "cell_type": "markdown",
   "metadata": {
    "id": "RJkKJ83igGYb"
   },
   "source": [
    "# **Physics-based loss and machine learing approach in application to fluids flow modelling: 2D flow domains**\n",
    "\n",
    "The program recieves an image of the flow domain and the flow rate value, then calculate velocity distribution. The main idea is power loss minimization. The main unknown function is the stream function $\\psi = \\psi(x_1, x_2)$ that determines the velocity field $\\textbf{V} = [[v_1, v_2]]$, where $v_1 = \\frac{\\partial \\psi}{\\partial x_2}$, $v_2 = - \\frac{\\partial \\psi}{\\partial x_1}$.\n",
    "\n"
   ]
  },
  {
   "cell_type": "markdown",
   "metadata": {
    "id": "ydwhZV95sFoN"
   },
   "source": [
    "# Initialization\n",
    "## Import libraries"
   ]
  },
  {
   "cell_type": "code",
   "execution_count": 1,
   "metadata": {
    "id": "Go3JwW4hICsK"
   },
   "outputs": [],
   "source": [
    "# Pytorch modules\n",
    "import torch\n",
    "from torch import nn\n",
    "\n",
    "# Plotting\n",
    "from matplotlib import pyplot as plt\n",
    "from matplotlib import transforms\n",
    "import numpy as np\n",
    "\n",
    "# Python functions\n",
    "from collections import namedtuple\n",
    "from itertools import product\n",
    "from collections import OrderedDict\n",
    "#from scipy import integrate\n",
    "\n",
    "# Status bar\n",
    "from tqdm.notebook import tqdm\n",
    "from datetime import datetime\n",
    "import time\n",
    "\n",
    "# Work with files and images\n",
    "import json\n",
    "from pathlib import Path\n",
    "import os, fnmatch\n",
    "import re\n",
    "from PIL import Image\n",
    "\n",
    "#Log\n",
    "import neptune.new as neptune\n",
    "from neptune.new.types import File\n",
    "\n",
    "import time"
   ]
  },
  {
   "cell_type": "markdown",
   "metadata": {},
   "source": [
    "## Neptune project"
   ]
  },
  {
   "cell_type": "code",
   "execution_count": 2,
   "metadata": {},
   "outputs": [
    {
     "name": "stderr",
     "output_type": "stream",
     "text": [
      "/opt/conda/lib/python3.7/site-packages/ipykernel_launcher.py:3: NeptuneDeprecationWarning: `init` is deprecated, use `init_run` instead. We'll end support of it in `neptune-client==1.0.0`.\n",
      "  This is separate from the ipykernel package so we can avoid doing imports until\n"
     ]
    },
    {
     "name": "stdout",
     "output_type": "stream",
     "text": [
      "https://app.neptune.ai/avkornaev/PhysicsBasedDL/e/PHYSIC-73\n",
      "Remember to stop your run once you’ve finished logging your metadata (https://docs.neptune.ai/api/run#stop). It will be stopped automatically only when the notebook kernel/interactive console is terminated.\n"
     ]
    }
   ],
   "source": [
    "run = neptune.init(\n",
    "    project=\"avkornaev/PhysicsBasedDL\",\n",
    "    api_token=\"eyJhcGlfYWRkcmVzcyI6Imh0dHBzOi8vYXBwLm5lcHR1bmUuYWkiLCJhcGlfdXJsIjoiaHR0cHM6Ly9hcHAubmVwdHVuZS5haSIsImFwaV9rZXkiOiJiMmRjMGY4Ny1hYTI1LTQxZmEtYjRmZC02YzNkYWZjYzNiNjIifQ==\",\n",
    ")  # your credentials"
   ]
  },
  {
   "cell_type": "markdown",
   "metadata": {
    "id": "nzMpruhsYD38"
   },
   "source": [
    "## Path"
   ]
  },
  {
   "cell_type": "code",
   "execution_count": 3,
   "metadata": {},
   "outputs": [
    {
     "data": {
      "text/plain": [
       "['Parallel plates narrow.png',\n",
       " 'Parallel plates 1x16.png',\n",
       " 'Parallel plates.png',\n",
       " 'Nailfold_capillary.png',\n",
       " 'Parallel plates 1x4.png',\n",
       " 'Parallel plates with notch.png',\n",
       " 'Parallel plates 1x4 with notch.png']"
      ]
     },
     "execution_count": 3,
     "metadata": {},
     "output_type": "execute_result"
    }
   ],
   "source": [
    " path =  Path('/root/Physics_based_loss')\n",
    " imgPath = path/'ToyDataset'\n",
    " imgList = fnmatch.filter(os.listdir(imgPath), '*.png') #imgPath.ls()\n",
    " imgList"
   ]
  },
  {
   "cell_type": "markdown",
   "metadata": {
    "id": "nzMpruhsYD38"
   },
   "source": [
    "## Download and preprocess image of the flow domain"
   ]
  },
  {
   "cell_type": "markdown",
   "metadata": {
    "id": "nzMpruhsYD38"
   },
   "source": [
    "## Constants"
   ]
  },
  {
   "cell_type": "code",
   "execution_count": 4,
   "metadata": {
    "id": "YsKHT1J2Ibx9"
   },
   "outputs": [],
   "source": [
    "#Training\n",
    "SIZE = 256 # image size (128, 256, 512)\n",
    "EPOCHS = 60000\n",
    "NoOfFeatures = 32 #32\n",
    "WORK_DIR = '/root/Physics_based_loss'\n",
    "#SCALE_FACTOR = 1 # muliplier for the loss function\n",
    "DEVICE = torch.device(\"cuda\" if torch.cuda.is_available() else \"cpu\")\n",
    "MODEL_NAME = \"unet\"\n",
    "EARLY_STOP_PATIENCE = EPOCHS\n",
    "DECAY = 1e-4\n",
    "PATIENCE = 5000\n",
    "\n",
    "parameters = {'image_size':SIZE,\n",
    "             'Epochs':EPOCHS,\n",
    "             'Model':MODEL_NAME,\n",
    "             'No_of_features':NoOfFeatures}\n",
    "\n",
    "HYPS = []\n",
    "\n",
    "hyps = {\"learning_rate\": [1e-3],\n",
    "        \"scheduler\": [\"none\"],\n",
    "        \"scheduler_factor\": [0.1],\n",
    "        \"scheduler_patience\": [50],\n",
    "        \"use_bn\": [True],\n",
    "        \"Early_stop_patience\": [EARLY_STOP_PATIENCE],\n",
    "        \"Decay\": [DECAY]} # Use or not batchnorm\n",
    "    \n",
    "for i in product(*[hyps[j] for j in hyps]):\n",
    "    HYPS.append({a:b for a, b in zip(hyps, i)})\n",
    "#\"scheduler\": [\"None\", \"step\", \"cycle\"]\n",
    "#\"use_bn\": [True, False]\n",
    "\n",
    "#Visualization\n",
    "sp = int(SIZE/2)#slice position\n",
    "vps = 10 #vector plot step \n",
    "FIGSIZE = 5 # figure size\n",
    "#S2 = int(SIZE*0.4)\n",
    "#S3 = SIZE - S2\n",
    "UP_COLOR  =  torch.tensor((0, 255, 0)) # upper wall color is green \n",
    "LOW_COLOR =  torch.tensor((0, 0, 255)) # upper wall color is blue\n",
    "FLOW_DOMAIN_COLOR = torch.tensor((1, 1, 1)) # flow domain"
   ]
  },
  {
   "cell_type": "markdown",
   "metadata": {},
   "source": [
    "## Log parameters"
   ]
  },
  {
   "cell_type": "code",
   "execution_count": 5,
   "metadata": {},
   "outputs": [
    {
     "name": "stderr",
     "output_type": "stream",
     "text": [
      "/opt/conda/lib/python3.7/site-packages/neptune/new/attributes/attribute.py:64: NeptuneDeprecationWarning: The object you're logging will be implicitly cast to a string. We'll end support of this behavior in `neptune-client==1.0.0`. To log the object as a string, use `str(object)` instead.\n",
      "  return self.assign(value, wait)\n"
     ]
    }
   ],
   "source": [
    "run[\"config/parameters\"] = parameters\n",
    "run[\"config/hyperparameters\"] = hyps"
   ]
  },
  {
   "cell_type": "markdown",
   "metadata": {
    "id": "ORhTWZZvVw7c"
   },
   "source": [
    "## Geometry of the flow domain, fluid properties and boundary conditions\n",
    "The fluid is Newtonian.\n",
    "The domain of size *'L x L'*  with flow channel is represented as an image of size *'SIZE x SIZE'*. $S_1$ is the upper wall with the green label [0 255 0]. $S_2$ and $S_4$ are outlet and inlet surfaces, respectivelly. $S_3$ is the lower wall with the blue label [0 0 255]. No-slip condition is applied on the walls. The flow rate is given and equal to $Q$."
   ]
  },
  {
   "cell_type": "code",
   "execution_count": 6,
   "metadata": {},
   "outputs": [],
   "source": [
    "#Image number from the imgList\n",
    "imgNo = 4\n",
    "\n",
    "#read proporion from the title\n",
    "regex = re.compile(r'\\d+')\n",
    "proportion = regex.findall(imgList[imgNo])\n",
    "\n",
    "# L x L flow domain\n",
    "L = 0.012#0.0024#\n",
    "h = L/4 # h is thickness of the gap between 2 parallel plates when 'Parallel plates.png' is under study\n",
    "\n",
    "#Boundary conditions\n",
    "NL = 5 #number of layers with fixed values\n",
    "\n",
    "# Normalized coordinates, finite diferences, limits and elementary surface area\n",
    "X1N = torch.linspace(0, 1, SIZE)\n",
    "X2N = torch.linspace(0, 1, SIZE)\n",
    "DX1N = X1N[1] - X1N[0]\n",
    "DX2N = X2N[1] - X2N[0]\n",
    "LIM1 = [0, L]\n",
    "LIM2 = [0, L]\n",
    "ds = DX1N * DX2N * LIM1[1] * LIM2[1] # elementary surface area\n",
    "\n",
    "# Flow rate through the inlet (outlet) boundary, m^3/s\n",
    "Q = 5E-4# 0.0000005#\n",
    "\n",
    "# Koefficient of dynamic viscosity (viscosity), Pa*s\n",
    "# Herschel-Bulkley model mu = q0 + q1*Eta^(z-1)\n",
    "\n",
    "#Non-Newtonian Fluid (walls are also supposed as non-Newtonian fluid)\n",
    "Q0 = 1e-3\n",
    "Q1 = 0\n",
    "Z = 1\n",
    "#Walls\n",
    "Q0W = 1e+3\n",
    "Q1W = 0\n",
    "ZW = 1\n",
    "\n",
    "# Density, kg/m**3\n",
    "RHO = 1000\n",
    "\n",
    "#Newtonian fluid\n",
    "MU = Q0\n",
    "\n",
    "#Mass force\n",
    "Fm = [-1.18E-5/(h*L), 0]"
   ]
  },
  {
   "cell_type": "markdown",
   "metadata": {
    "id": "Hw2AD3oWsfJb"
   },
   "source": [
    "## Additional functions"
   ]
  },
  {
   "cell_type": "markdown",
   "metadata": {
    "id": "2JAf1YAHtV15"
   },
   "source": [
    "Numerical derivative"
   ]
  },
  {
   "cell_type": "code",
   "execution_count": 7,
   "metadata": {
    "id": "5P2RND6cYEOK"
   },
   "outputs": [],
   "source": [
    "def num_diff_1(f, dx1, dx2):\n",
    "    '''Numerical partial derivatives of a function of two variables f = f(x1, x2):\n",
    "    i - index along x1\n",
    "    j - index along x2\n",
    "    for the internal points - central differences e.q. df_dx = (f_{i+1}-f_{i-1})/(2*dx)\n",
    "    for the boundaries - left or right finite differences e.q. df_dx = (f_{i+1}-f_{i})/dx or df_dx = (f_{i}-f_{i-1})/dx\n",
    "    '''\n",
    "    n1, n2 = f.shape\n",
    "    df_dx1 = 0\n",
    "    df_dx2 = 0\n",
    "    df_dx1, df_dx2 = torch.zeros(n1, n2), torch.zeros(n1, n2)\n",
    "    if torch.cuda.is_available():\n",
    "        df_dx1 = df_dx1.to('cuda')\n",
    "        df_dx2 = df_dx2.to('cuda')\n",
    "    # x1 derivative:\n",
    "    df_dx1[:, 1:n2-1] = (f[:, 2:] - f[:, :-2]) / (2 * dx1)\n",
    "    df_dx1[:, 0] = (-f[:, 2] + 4 * f[:,1] - 3 * f[:,0]) / (2 * dx1)\n",
    "    df_dx1[:, n2-1] = (3 * f[:,n2-1] - 4 * f[:,n2-2] + f[:,n2-3]) / (2 * dx1)\n",
    "    # x2 derivative:\n",
    "    df_dx2[1:n1-1, :] = (f[2:, :] - f[:-2,:]) / (2 * dx2)\n",
    "    df_dx2[0, :] = (- f[2,:] + 4 * f[1,:] - 3 * f[0, :]) / (2 * dx2)\n",
    "    df_dx2[n1-1, :] = (3 * f[n1 - 1, :] - 4 * f[n1 - 2, :] + f[n1 - 3, :]) / (2 * dx2)\n",
    "\n",
    "    return df_dx1, df_dx2"
   ]
  },
  {
   "cell_type": "code",
   "execution_count": 8,
   "metadata": {},
   "outputs": [],
   "source": [
    "def num_diff(f, dx1, dx2):\n",
    "    '''Numerical partial derivatives of a function of two variables f = f(x1, x2):\n",
    "    i - index along x1\n",
    "    j - index along x2\n",
    "    for the internal points - central differences e.q. df_dx = (f_{i+1}-f_{i-1})/(2*dx)\n",
    "    for the boundaries - left or right finite differences e.q. df_dx = (f_{i+1}-f_{i})/dx or df_dx = (f_{i}-f_{i-1})/dx\n",
    "    '''\n",
    "    n1, n2 = f.shape\n",
    "    df_dx1 = 0\n",
    "    df_dx2 = 0\n",
    "    df_dx1, df_dx2 = torch.zeros(n1, n2), torch.zeros(n1, n2)\n",
    "    if torch.cuda.is_available():\n",
    "        df_dx1 = df_dx1.to('cuda')\n",
    "        df_dx2 = df_dx2.to('cuda')\n",
    "    # x1 derivative:\n",
    "    df_dx1[:, 1:n2-1] = (-3*f[:, 0:n2-2] +4*f[:, 1:n2-1] - f[:, 2:n2]) / (2 * dx1)\n",
    "    df_dx1[:, 0] = (3 * f[:,n2-1] - 4 * f[:,n2-2] + f[:,n2-3]) / (2*dx1)\n",
    "    df_dx1[:, n2-1] = (3 * f[:,n2-2] - 4 * f[:,n2-3] + f[:,n2-4]) / (2*dx1)\n",
    "    # x2 derivative:\n",
    "    df_dx2[0:n1-2, :] = (-3*f[0:n1-2,:] +4*f[1:n1-1,:] - f[2:n1,:]) / (2 * dx2)\n",
    "    df_dx2[n1-1, :] = (3 * f[n1-1,:] - 4 * f[n1-2,:] + f[n1-3,:]) / (2 * dx2)\n",
    "    df_dx2[n1-2, :] = (3 * f[n1-2,:] - 4 * f[n1-3,:] + f[n1-4,:]) / (2 * dx2)\n",
    "\n",
    "    return df_dx1, df_dx2"
   ]
  },
  {
   "cell_type": "code",
   "execution_count": 9,
   "metadata": {},
   "outputs": [],
   "source": [
    "def num_diff_5_points(f, dx1, dx2):\n",
    "    '''Numerical partial derivatives of a function of two variables f = f(x1, x2):\n",
    "    i - index along x1\n",
    "    j - index along x2\n",
    "    for the internal points - central differences e.q. df_dx = (f_{i+1}-f_{i-1})/(2*dx)\n",
    "    for the boundaries - left or right finite differences e.q. df_dx = (f_{i+1}-f_{i})/dx or df_dx = (f_{i}-f_{i-1})/dx\n",
    "    '''\n",
    "    #print(f'f.shape = {f.shape}')\n",
    "    n1, n2 = f.shape\n",
    "    df_dx1 = 0\n",
    "    df_dx2 = 0\n",
    "    df_dx1, df_dx2 = torch.zeros(n1, n2), torch.zeros(n1, n2)\n",
    "    d2f_dx1, d2f_dx2 = torch.zeros(n1, n2), torch.zeros(n1, n2)\n",
    "    if torch.cuda.is_available():\n",
    "        df_dx1 = df_dx1.to('cuda')\n",
    "        df_dx2 = df_dx2.to('cuda')\n",
    "        d2f_dx1 = df_dx1.to('cuda')\n",
    "        d2f_dx2 = df_dx2.to('cuda')\n",
    "    \n",
    "      # 1st order x1 derivative:\n",
    "    df_dx1[:, 2:n2-2] = (-f[:, 4:] + 8 * f[:, 3:n2-1] - 8 * f[:, 1:n2-3] + f[:, :n2-4]) / (12 * dx1)\n",
    "    df_dx1[:, 0] = (-3 * f[:,4] + 16 * f[:, 3] - 36 * f[:, 2] + 48 * f[:, 1] - 25 * f[:,0]) / (12*dx1)\n",
    "    df_dx1[:, 1] = (f[:,4] - 6 * f[:, 3] + 18 * f[:, 2] - 10 * f[:, 1] - 3 * f[:,0]) / (12*dx1)\n",
    "    df_dx1[:, n2-2] = (3 * f[:, n2-1] + 10 * f[:, n2-2] - 18 * f[:, n2-3] + 6 * f[:, n2-4] - f[:,n2-5]) / (12*dx1)\n",
    "    df_dx1[:, n2-1] = (25 * f[:, n2-1] - 48 * f[:, n2-2] + 36 * f[:, n2-3] - 16 * f[:, n2-4] + 3 * f[:,n2-5]) / (12*dx1)\n",
    "      \n",
    "      # 1st order x2 derivative:\n",
    "    df_dx2[2:n1-2, :] = (-f[4:, :] + 8 * f[3:n1-1, :] - 8 * f[1:n1-3, :] + f[:n1-4, :]) / (12 * dx2)\n",
    "    df_dx2[0, :] = (-3 * f[4, :] + 16 * f[3, :] - 36 * f[2, :] + 48 * f[1, :] - 25 * f[0, :]) / (12 * dx2)\n",
    "    df_dx2[1, :] = (f[4, :] - 6 * f[3, :] + 18 * f[2, :] - 10 * f[1, :] - 3 * f[0, :]) / (12 * dx2)\n",
    "    df_dx2[n1-2, :] = (3 * f[n1-1, :] + 10 * f[n1-2, :] - 18 * f[n1-3, :] + 6 * f[n1-4, :] - f[n1-5, :]) / (12 * dx2)\n",
    "    df_dx2[n1-1, :] = (25 * f[n1-1, :] - 48 * f[n1-2, :] + 36 * f[n1-3, :] - 16 * f[n1-4, :] + 3*f[n1-5, :]) / (12 * dx2)\n",
    "\n",
    "#     # 2nd order x1 derivative:\n",
    "#     d2f_dx1[:, 2:n2-2] = (-f[:, 4:] + 16 * f[:, 3:n2-1] - 30 *f[:, 2:n2-2] + 16* f[:, 1:n2-3] - f[:, :n2-4]) / (12 * dx1**2)\n",
    "#     d2f_dx1[:, 0] = (11 * f[:,4] - 56 * f[:, 3] + 114 * f[:, 2] - 104 * f[:, 1] + 35 * f[:,0]) / (12*dx1**2)\n",
    "#     d2f_dx1[:, 1] = (-f[:,4] + 4 * f[:, 3] + 6 * f[:, 2] - 20 * f[:, 1] + 11 * f[:,0]) / (12*dx1**2)\n",
    "#     d2f_dx1[:, n2-2] = (11 * f[:, n2-1] - 20 * f[:, n2-2] + 6 * f[:, n2-3] + 4 * f[:, n2-4] - f[:,n2-5]) / (12*dx1**2)\n",
    "#     d2f_dx1[:, n2-1] = (35 * f[:, n2-1] - 104 * f[:, n2-2] + 114 * f[:, n2-3] - 56 * f[:, n2-4] + 11 * f[:,n2-5]) / (12*dx1**2)\n",
    "\n",
    "#     # 2nd order x2 derivative:\n",
    "#     d2f_dx2[2:n1-2, :] = (-f[4:, :] + 16 * f[3:n1-1, :] - 30 *f[2:n1-2, :] + 16* f[1:n1-3, :] - f[:n1-4, :]) / (12 * dx2**2)\n",
    "#     d2f_dx2[0, :] = (11 * f[4, :] - 56 * f[3, :] + 114 * f[2, :] - 104 * f[1, :] + 35 * f[0, :]) / (12*dx2**2)\n",
    "#     d2f_dx2[1, :] = (-f[4, :] + 4 * f[3, :] + 6 * f[2, :] - 20 * f[1, :] + 11 * f[0, :]) / (12*dx2**2)\n",
    "#     d2f_dx2[n1-2, :] = (11 * f[n1-1, :] - 20 * f[n1-2, :] + 6 * f[n1-3, :] + 4 * f[n1-4, :] - f[n1-5, :]) / (12*dx2**2)\n",
    "#     d2f_dx2[n1-1, :] = (35 * f[n1-1, :] - 104 * f[n1-2, :] + 114 * f[n1-3, :] - 56 * f[n1-4, :] + 11 * f[n1-5, :]) / (12*dx2**2)\n",
    "\n",
    "    return df_dx1, df_dx2"
   ]
  },
  {
   "cell_type": "markdown",
   "metadata": {},
   "source": [
    "Check numerical differentiations"
   ]
  },
  {
   "cell_type": "code",
   "execution_count": 10,
   "metadata": {},
   "outputs": [
    {
     "name": "stdout",
     "output_type": "stream",
     "text": [
      "exact solution 2.0001022815704346, approximate solution 2.0001018047332764\n"
     ]
    }
   ],
   "source": [
    "xx = torch.linspace(0, 1, 100)\n",
    "xx, yy = torch.meshgrid(xx, xx)\n",
    "\n",
    "dxx = xx[1][0]-xx[0][0]\n",
    "zz = xx**3 + yy**3\n",
    "\n",
    "diffzz = 3*xx**2 + 3*yy**2\n",
    "diff1, diff2 = num_diff_5_points(zz, dxx, dxx) \n",
    "diffzz_= diff1 + diff2\n",
    "\n",
    "intzz1 = torch.trapz(diffzz)*dxx\n",
    "intzz2 = torch.trapz(intzz1)*dxx\n",
    "\n",
    "intzz1_ = torch.trapz(diffzz_)*dxx\n",
    "intzz2_ = torch.trapz(intzz1_)*dxx\n",
    "\n",
    "print(f'exact solution {intzz2}, approximate solution {intzz2_}')"
   ]
  },
  {
   "cell_type": "markdown",
   "metadata": {},
   "source": [
    "## Numerical integration using Simpson's formula*\n",
    "\n",
    "* the number of nodes should be odd (so far)\n",
    "\n"
   ]
  },
  {
   "cell_type": "code",
   "execution_count": 11,
   "metadata": {},
   "outputs": [],
   "source": [
    "def int_func_sympson_2d(f,dx,dy):\n",
    "    # i, j: f(y, x)\n",
    "    # нечетное кол-во точек n1, n2; [(n1-1)/2]x[(n2-1)/2] - кол-во прямоугольников\n",
    "    n1, n2 = f.shape\n",
    "    s = 0\n",
    "    for i in range(int((n1-1)/2)):\n",
    "        for j in range(int((n2-1)/2)):\n",
    "            s+=dx*dy*(f[2*i,2*j]+f[2*i,2*j+2]+f[2*i+2,2*j]+f[2*i+2,2*j+2]+4*(f[2*i+1,2*j]+f[2*i,2*j+1]+f[2*i+1,2*j+2]+f[2*i+2,2*j+1])+16*f[2*i+1,2*j+1])/9\n",
    "            \n",
    "    return s"
   ]
  },
  {
   "cell_type": "markdown",
   "metadata": {
    "id": "1i1RAg4ozeGq"
   },
   "source": [
    "Numerical integrals: single and double can be implemented by torch.trapezoid function https://pytorch.org/docs/stable/generated/torch.trapezoid.html#torch.trapezoid\n",
    "\n",
    "Visualization"
   ]
  },
  {
   "cell_type": "code",
   "execution_count": 12,
   "metadata": {},
   "outputs": [],
   "source": [
    "def vector_plot(arg, vec, FIGSIZE, vptitle='vector_plot',step=10):\n",
    "    gradmag = np.sqrt(vec[0]**2+vec[1]**2)\n",
    "    plt.pcolor(arg[0], arg[1], gradmag, cmap='rainbow')\n",
    "    plt.colorbar()\n",
    "    plt.quiver(arg[0][::step,::step], arg[1][::step,::step], vec[0][::step,::step], vec[1][::step,::step])\n",
    "    plt.title(vptitle)\n",
    " "
   ]
  },
  {
   "cell_type": "markdown",
   "metadata": {
    "id": "mH8zURs8A1Sr"
   },
   "source": [
    "## Major functions\n",
    "\n",
    "Distributions: the velocity components [[$v_1$, $v_2$]], the strain rate tensor components [[$\\xi_{ij}$]], $\\xi_{ij}=\\xi_{ji}$ . And the shear rate intensity Η. "
   ]
  },
  {
   "cell_type": "code",
   "execution_count": 13,
   "metadata": {
    "id": "WMUIipgs5t3Q"
   },
   "outputs": [],
   "source": [
    "def velocityDistr(psi,dx1n,dx2n,lim1,lim2):\n",
    "    '''Velocity distribution [[v1, v2]] in the flow domain\n",
    "    '''\n",
    "    n = psi.shape\n",
    "    v1 = 0\n",
    "    v2 = 0\n",
    "    dpsidx1 = 0\n",
    "    dpsidx2 = 0\n",
    "    dpsidx1, dpsidx2 = num_diff_5_points(psi, dx1n, dx2n)\n",
    "    v1 = dpsidx2 / lim2[1]\n",
    "    v2 = - dpsidx1 / lim1[1]\n",
    "    \n",
    "    return v1,v2"
   ]
  },
  {
   "cell_type": "code",
   "execution_count": 14,
   "metadata": {
    "id": "716qlRJoNglx"
   },
   "outputs": [],
   "source": [
    "def TksiDistr(v1,v2,dx1n,dx2n,lim1,lim2):\n",
    "    '''Strain rate tensor Txi and the shear rate intensity Eta squared\n",
    "    '''    \n",
    "    n = v1.shape\n",
    "    xi11 = 0\n",
    "    xi12 = 0\n",
    "    xi22 = 0\n",
    "    dv1dx1 = 0\n",
    "    dv1dx2 =0\n",
    "    dv2dx1 = 0\n",
    "    dv2dx2 = 0\n",
    "  \n",
    "    dv1dx1, dv1dx2 = num_diff_5_points(v1, dx1n, dx2n)\n",
    "    dv2dx1, dv2dx2 = num_diff_5_points(v2, dx1n, dx2n)\n",
    "  \n",
    "    xi11 = dv1dx1 / lim1[1]\n",
    "    xi12 = 0.5 * (dv1dx2 / lim2[1] + dv2dx1 / lim1[1])\n",
    "    xi22 = dv2dx2 / lim2[1]\n",
    "    EtaEta = (2 * (xi11 * xi11 + 2* xi12 * xi12 + xi22 * xi22))\n",
    "  \n",
    "    return xi11, xi12, xi22, EtaEta"
   ]
  },
  {
   "cell_type": "markdown",
   "metadata": {},
   "source": [
    "Viscosity distribution"
   ]
  },
  {
   "cell_type": "code",
   "execution_count": 15,
   "metadata": {},
   "outputs": [],
   "source": [
    "def viscosityDistr(q0,q1,z,EtaEta):\n",
    "    '''Viscosity distribution mu = q0 + q1*Eta**(z-1)\n",
    "    '''\n",
    "    mu = q0 + q1*(EtaEta**((z-1)*0.5))\n",
    "    return mu"
   ]
  },
  {
   "cell_type": "markdown",
   "metadata": {},
   "source": [
    "## Callbacks"
   ]
  },
  {
   "cell_type": "code",
   "execution_count": 16,
   "metadata": {},
   "outputs": [],
   "source": [
    "class EarlyStop():\n",
    "    \"\"\"Callback for early stop train process.\n",
    "    \n",
    "    Args:\n",
    "        monitor (str): value for monitoring.\n",
    "        patience (int): Number of epochs with no improvement after which training will be stopped.\n",
    "        mode (str): One of {\"min\", \"max\"}. In min mode, training will stop when the quantity monitored has stopped decreasing.\n",
    "            In \"max\" mode it will stop when the quantity monitored has stopped increasing.\n",
    "    \n",
    "    Attributes:\n",
    "        history (dict): Dict of lists with train history. Key \"monitor\" contains list of monitoring values. \n",
    "        steps (int): Number of passed epoches. \n",
    "        best_step (int): Number of best epoch. \n",
    "        best_monitor (float): Best of monitoring value.\n",
    "        model (Model): Training model\n",
    "    \"\"\"\n",
    "    \n",
    "    def __init__(self, monitor, patience, mode):\n",
    "        self.monitor = monitor\n",
    "        self.patience = patience\n",
    "        self.mode = mode\n",
    "        self.history = None\n",
    "        self.steps = -1\n",
    "        self.best_step = -1\n",
    "        if self.mode == 'max':\n",
    "            self.best_monitor = 0\n",
    "        elif self.mode == 'min':\n",
    "            self.best_monitor = 1e99999\n",
    "            \n",
    "    def start(self, history, model):\n",
    "        \"\"\"Start and init callback.\n",
    "        \n",
    "        Args:\n",
    "            history (dict): Dict of lists with train history. Key \"monitor\" contains list of monitoring values. \n",
    "            model (Model): Training model.\n",
    "        \"\"\"\n",
    "        \n",
    "        self.history = history\n",
    "        self.model = model\n",
    "        \n",
    "    def step(self):\n",
    "        \"\"\"Make a step of callback.\n",
    "        \n",
    "        Returns:\n",
    "            tuple: (event, stop):\n",
    "                event (str): Decription of event. If event not did not happen then event = ''.\n",
    "                stop (bool): Flag of stopping train process.\n",
    "        \"\"\"\n",
    "        \n",
    "        self.steps += 1\n",
    "        \n",
    "        if self.mode == 'max':\n",
    "            if self.history[self.monitor][-1] > self.best_monitor:\n",
    "                self.best_monitor = self.history[self.monitor][-1]\n",
    "                self.best_step = self.steps\n",
    "        elif self.mode == 'min':\n",
    "            if self.history[self.monitor][-1] < self.best_monitor:\n",
    "                self.best_monitor = self.history[self.monitor][-1]\n",
    "                self.best_step = self.steps\n",
    "        \n",
    "        if self.steps - self.best_step > self.patience:\n",
    "            return 'Early stop with {}: {:.4f}'.format(self.monitor, self.history[self.monitor][self.best_step]), True\n",
    "        return None, False\n",
    "    \n",
    "    def stop(self):\n",
    "        \"\"\"Delete model from callback.\"\"\"\n",
    "        \n",
    "        self.model = None\n",
    "        torch.cuda.empty_cache()\n",
    "\n",
    "\n",
    "class SaveBest():\n",
    "    \"\"\"Callback for save model if there is an improvement.\n",
    "    \n",
    "    Args:\n",
    "        monitor (str): value for monitoring.\n",
    "        model_path (str): Path for saving model.\n",
    "        mode (str): One of {\"min\", \"max\"}. In min mode, training will stop when the quantity monitored has stopped decreasing.\n",
    "            In \"max\" mode it will stop when the quantity monitored has stopped increasing.\n",
    "    \n",
    "    Attributes:\n",
    "        history (dict): Dict of lists with train history. Key \"monitor\" contains list of monitoring values. \n",
    "        steps (int): Number of passed epoches. \n",
    "        best_step (int): Number of best epoch. \n",
    "        best_monitor (float): Best of monitoring value.\n",
    "        model (Model): Training model\n",
    "    \"\"\"\n",
    "    \n",
    "    def __init__(self, monitor, model_path, mode):\n",
    "        self.monitor = monitor\n",
    "        self.model_path = model_path\n",
    "        self.mode = mode\n",
    "        self.history = None\n",
    "        self.steps = -1\n",
    "        self.best_step = -1\n",
    "        if self.mode == 'max':\n",
    "            self.best_monitor = 0\n",
    "        elif self.mode == 'min':\n",
    "            self.best_monitor = 1e99999\n",
    "    \n",
    "    def start(self, history, model):\n",
    "        \"\"\"Start and init callback. Save first version of model.\n",
    "        \n",
    "        Args:\n",
    "            history (dict): Dict of lists with train history. Key \"monitor\" contains list of monitoring values. \n",
    "            model (Model): Training model\n",
    "        \"\"\"\n",
    "        \n",
    "        self.history = history\n",
    "        self.model = model\n",
    "        torch.save(self.model.state_dict(), self.model_path)\n",
    "    \n",
    "    def step(self):\n",
    "        \"\"\"Make a step of callback.\n",
    "        \n",
    "        Returns:\n",
    "            tuple: (event, stop):\n",
    "                event (str): Decription of event. If event not did not happen then event = ''.\n",
    "                stop (bool): Flag of stopping train process.\n",
    "        \"\"\"\n",
    "        \n",
    "        self.steps += 1\n",
    "        \n",
    "        if self.mode == 'max':\n",
    "            if self.history[self.monitor][-1] > self.best_monitor:\n",
    "                self.best_monitor = self.history[self.monitor][-1]\n",
    "                self.best_step = self.steps\n",
    "        elif self.mode == 'min':\n",
    "            if self.history[self.monitor][-1] < self.best_monitor:\n",
    "                self.best_monitor = self.history[self.monitor][-1]\n",
    "                self.best_step = self.steps\n",
    "        \n",
    "        if self.steps == self.best_step:\n",
    "            torch.save(self.model.state_dict(), self.model_path)\n",
    "            return 'Save model with {}: {:.4f}'.format(self.monitor, self.history[self.monitor][self.best_step]), False\n",
    "        return None, False\n",
    "    \n",
    "    def stop(self):\n",
    "        \"\"\"Delete model from callback.\"\"\"\n",
    "        \n",
    "        self.model = None\n",
    "        torch.cuda.empty_cache()"
   ]
  },
  {
   "cell_type": "markdown",
   "metadata": {},
   "source": [
    "## Training function"
   ]
  },
  {
   "cell_type": "code",
   "execution_count": 17,
   "metadata": {},
   "outputs": [],
   "source": [
    "def train(model, inp, optimizer,\n",
    "          criterion, epochs, print_every, callbacks, lr_scheduler):\n",
    "    \"\"\"Make model prediction on image.\n",
    "    \n",
    "    Args:\n",
    "        model (Model): Model for training.\n",
    "        inp (Tensor): Inpu image.\n",
    "        optimizer (Optimizer): Optimizer. \n",
    "        criterion (callable): Function for loss calculation.\n",
    "        epochs (int): Number of epoches.\n",
    "        print_every (int): Number of iteration for update statusbar.\n",
    "        callbacks (list): List of callbacks\n",
    "    \n",
    "    Returns:\n",
    "        history (dict): Dict of lists with train history.\n",
    "    \"\"\"\n",
    "    \n",
    "    history = {'Train loss':[]}\n",
    "    \n",
    "    if callbacks:\n",
    "        for i in callbacks:\n",
    "            i.start(history, model)\n",
    "    \n",
    "    train_print = ''\n",
    "    state_text_last = ''\n",
    "    bar = tqdm(range(epochs), desc=\"Epoch\", postfix=train_print)\n",
    "    for e in range(epochs):\n",
    "        model.train()\n",
    "\n",
    "        running_loss = 0\n",
    "\n",
    "        stop = False\n",
    "        \n",
    "        steps = 0\n",
    "        \n",
    "        optimizer.zero_grad()\n",
    "        \n",
    "        out = model.forward(inp)\n",
    "            \n",
    "        loss = criterion(out)\n",
    "        if e > PATIENCE:\n",
    "            run[\"training/batch/loss_training\"].log(loss)\n",
    "\n",
    "        loss.backward()\n",
    "                \n",
    "        optimizer.step()\n",
    "            \n",
    "        with torch.no_grad():\n",
    "            running_loss = loss.item()\n",
    "        \n",
    "        if (e + 1) % print_every == 0:\n",
    "            print(f'epoch {e+1}/{epochs}, loss = {running_loss:.4f}')\n",
    "            train_print = \"Train loss: {:.4f}\".format(running_loss) + ', ' + state_text_last\n",
    "            bar.postfix = train_print\n",
    "            model.train()\n",
    "            \n",
    "        \n",
    "        history['Train loss'].append(running_loss)\n",
    "        \n",
    "        if lr_scheduler:\n",
    "            if \"OneCycleLR\" in str(lr_scheduler):\n",
    "                lr_scheduler.step()\n",
    "            else:\n",
    "                lr_scheduler.step(running_loss)\n",
    "        \n",
    "        if callbacks:\n",
    "            for i in callbacks:\n",
    "                state_text, state = i.step()\n",
    "                if state_text:\n",
    "                    state_text_last = state_text\n",
    "                if state:\n",
    "                    stop = True\n",
    "        if stop:\n",
    "            train_print = \"Train loss: {:.4f}\".format(running_loss) + ', ' + state_text_last\n",
    "            bar.postfix = train_print\n",
    "            if callbacks:\n",
    "                for i in callbacks:\n",
    "                    i.stop()\n",
    "            model = None\n",
    "            inputs = None\n",
    "            targets = None\n",
    "            outputs = None\n",
    "            loss = None\n",
    "            sm = None\n",
    "            \n",
    "            torch.cuda.empty_cache()\n",
    "            \n",
    "            break\n",
    "            \n",
    "        if e + 1 != epochs:\n",
    "            bar.update()\n",
    "                        \n",
    "        inputs = None\n",
    "        targets = None\n",
    "        outputs = None\n",
    "        loss = None\n",
    "        sm = None\n",
    "        \n",
    "        torch.cuda.empty_cache()\n",
    "      \n",
    "    bar.update()\n",
    "    bar.close()\n",
    "    \n",
    "    if callbacks:\n",
    "        for i in callbacks:\n",
    "            i.stop()\n",
    "    \n",
    "    model = None\n",
    "    \n",
    "    torch.cuda.empty_cache()\n",
    "    \n",
    "    return history\n",
    "\n",
    "\n",
    "def plot_train_history(history):\n",
    "    \"\"\"Plot train history.\n",
    "    \n",
    "    Args:\n",
    "        history (dict): Dict of lists with train history..\n",
    "    \"\"\"\n",
    "    \n",
    "    fig, ax = plt.subplots(figsize = (FIGSIZE * 2, FIGSIZE))\n",
    "    \n",
    "    ax.plot(history['Train loss'], c = 'r')\n",
    "    ax.set_title('Loss')\n",
    "    ax.set_xlabel('Epochs')\n",
    "    ax.set_ylabel('Loss')\n",
    "    ax.legend(['Train'])\n",
    "    ax.set_yscale('log')\n",
    "    plt.subplots_adjust(left=None, bottom=None, right=None, top=None, wspace=None, hspace=0.3)\n",
    "    plt.show()\n",
    "\n",
    "    \n",
    "def dict2str(dict1):\n",
    "    out = str(dict1).replace(\"}\", \"\")\n",
    "    out = str(out).replace(\"{\", \"\")\n",
    "    out = str(out).replace(\"\\\"\", \"\")\n",
    "    out = str(out).replace(\"\\'\", \"\")\n",
    "    out = str(out).replace(\":\", \"\")\n",
    "    return out"
   ]
  },
  {
   "cell_type": "markdown",
   "metadata": {
    "id": "wOpHVjQdkxS_"
   },
   "source": [
    "# Asymptotic solution: flow between two parallel plates\n",
    "Newtonian fluid flow between 2 parallel plates, the flow domain size is hxL"
   ]
  },
  {
   "cell_type": "code",
   "execution_count": 18,
   "metadata": {
    "colab": {
     "base_uri": "https://localhost:8080/",
     "height": 0
    },
    "id": "fpG0AV2LlF-W",
    "outputId": "9f04cbfb-4b5d-434d-daf0-8c00d296066d"
   },
   "outputs": [
    {
     "name": "stdout",
     "output_type": "stream",
     "text": [
      "h = 0.003 ; L= 0.012 ; (p1-p0) = -2.666666666666667 ; v1max = tensor(0.2500) \n",
      "mu =  0.001 Q =  0.0005 \n",
      "Ext_ex = -0.0013333333333333335 \n",
      "Int = tensor(0.0013, device='cuda:0') \n",
      "Re = tensor(749.9885)\n"
     ]
    },
    {
     "data": {
      "image/png": "[encoded data removed]",
      "text/plain": [
       "<Figure size 720x720 with 5 Axes>"
      ]
     },
     "metadata": {
      "needs_background": "light"
     },
     "output_type": "display_data"
    }
   ],
   "source": [
    "#Exact solution\n",
    "\n",
    "C0 = -12*MU*Q/(h**3)\n",
    "C1 = 6*Q/(h**2)\n",
    "psiex = C0*(X2N**3)*h**3/(6*MU) + C1*(X2N**2/2)*h**2\n",
    "v1ex = C0*(X2N**2)*h**2/(2*MU) + C1*(X2N)*h\n",
    "v1exmax = v1ex[int(SIZE/2)] \n",
    "\n",
    "pressureDrop = C0*L\n",
    "Ext_ex = pressureDrop * Q\n",
    "\n",
    "# From 1D to 2D\n",
    "psiex = psiex * torch.ones(SIZE, SIZE)\n",
    "psiex = psiex.t()\n",
    "\n",
    "v1ex = v1ex * torch.ones(SIZE, SIZE)\n",
    "v1ex = v1ex.t()\n",
    "\n",
    "v2ex = torch.zeros(SIZE, SIZE)\n",
    "\n",
    "#Calculate Internal power to check numerical integration\n",
    "lim1 = [0, L]\n",
    "lim2 = [0, h]\n",
    "\n",
    "xi11, xi12, xi22, EtaEta = TksiDistr(v1ex, v2ex, DX1N, DX2N, lim1, lim2)\n",
    "#Int_ex is a double integral. It's calculation can be done in 2 steps: in 2 single integrations\n",
    "int1EtaEta = torch.trapz(EtaEta)\n",
    "int2EtaEta = torch.trapz(int1EtaEta)\n",
    "ds_ex = DX1N * DX2N * lim1[1] * lim2[1] # elementary surface area\n",
    "Int_ex = MU*ds_ex*int2EtaEta #doublelIntegral\n",
    "\n",
    "Re = RHO*v1ex.max()*h/MU\n",
    "\n",
    "print('h =', h, '; L=', L, '; (p1-p0) =', pressureDrop,'; v1max =', v1exmax, \n",
    "      '\\nmu = ', MU, 'Q = ', Q, \n",
    "      '\\nExt_ex =', Ext_ex, \n",
    "      '\\nInt =', Int_ex,\n",
    "      '\\nRe =', Re)\n",
    "\n",
    "#Visualization\n",
    "nr=2\n",
    "nc=2\n",
    "fig = plt.figure(figsize=(FIGSIZE*nr, FIGSIZE*nc))\n",
    "plt.title('Asymptotic solution: Newtonian flow between 2 parallel plates in the flow domain h x L')\n",
    "plt.subplot(nr,nc,1)\n",
    "plt.imshow(psiex)\n",
    "plt.title('Flow function, Psi_ex')\n",
    "\n",
    "plt.subplot(nr,nc,2)\n",
    "vector_plot(np.meshgrid(X1N,X2N), [np.array(v1ex),np.array(v2ex)],FIGSIZE, 'Velocity, V_ex = [v1_ex, v2_ex]', vps)\n",
    "\n",
    "plt.subplot(nr,nc,3)\n",
    "plt.plot(psiex[:,sp])\n",
    "plt.grid(True)\n",
    "plt.title('Flow function, Psi_ex (vertical slice)')\n",
    "\n",
    "plt.subplot(nr,nc,4)\n",
    "plt.plot(v1ex[:,sp])\n",
    "plt.grid(True)\n",
    "plt.title('v1_ex (vertical slice)')\n",
    "\n",
    "plt.show()\n",
    "    "
   ]
  },
  {
   "cell_type": "code",
   "execution_count": 19,
   "metadata": {},
   "outputs": [
    {
     "data": {
      "text/plain": [
       "0.00075"
      ]
     },
     "execution_count": 19,
     "metadata": {},
     "output_type": "execute_result"
    }
   ],
   "source": [
    "L/16"
   ]
  },
  {
   "cell_type": "code",
   "execution_count": 20,
   "metadata": {},
   "outputs": [
    {
     "data": {
      "image/png": "[encoded data removed]",
      "text/plain": [
       "<Figure size 720x180 with 1 Axes>"
      ]
     },
     "metadata": {
      "needs_background": "light"
     },
     "output_type": "display_data"
    }
   ],
   "source": [
    "# Check the flow rate\n",
    "Qex = torch.trapz(v1ex.t()) * DX1N * h\n",
    "\n",
    "fig = plt.figure(figsize=(FIGSIZE*2, FIGSIZE/2))\n",
    "plt.plot(Qex.cpu())\n",
    "plt.title(f'Flow rate through the vertical slices of the flow domain of size h x L = {h:.4} x {L} \\nshould be equal to Q = {Q}')\n",
    "plt.show()"
   ]
  },
  {
   "cell_type": "code",
   "execution_count": 21,
   "metadata": {},
   "outputs": [
    {
     "name": "stdout",
     "output_type": "stream",
     "text": [
      "tensor(1.7042) tensor(111128.2500)\n"
     ]
    },
    {
     "data": {
      "image/png": "[encoded data removed]",
      "text/plain": [
       "<Figure size 720x180 with 1 Axes>"
      ]
     },
     "metadata": {
      "needs_background": "light"
     },
     "output_type": "display_data"
    }
   ],
   "source": [
    "print (EtaEta.cpu().min(), EtaEta.cpu().max()) \n",
    "\n",
    "fig = plt.figure(figsize=(FIGSIZE*2, FIGSIZE/2))\n",
    "plt.plot(EtaEta.cpu()[:,sp])\n",
    "plt.title('Eta*Eta')\n",
    "plt.show()"
   ]
  },
  {
   "cell_type": "markdown",
   "metadata": {},
   "source": [
    "# Machine learning solution\n",
    "## Flow domain mask"
   ]
  },
  {
   "cell_type": "code",
   "execution_count": 22,
   "metadata": {
    "colab": {
     "base_uri": "https://localhost:8080/",
     "height": 143
    },
    "id": "1hKq9A5gtHzs",
    "outputId": "6b39a1b5-7f5e-4fe7-97e2-c822b1e80554"
   },
   "outputs": [
    {
     "data": {
      "image/png": "[encoded data removed]",
      "text/plain": [
       "<Figure size 720x360 with 2 Axes>"
      ]
     },
     "metadata": {},
     "output_type": "display_data"
    }
   ],
   "source": [
    "labeledImage = Image.open(imgPath/imgList[imgNo]).convert('L') #open image\n",
    "labeledImage = torch.tensor(np.uint8(labeledImage.resize((SIZE,SIZE),resample=3))) #open image\n",
    "\n",
    "flowDomainMask = labeledImage\n",
    "#binarization\n",
    "flowDomainMask[flowDomainMask<255] = 0\n",
    "flowDomainMask[flowDomainMask>0] = 1\n",
    "\n",
    "#Visualization\n",
    "nr=1\n",
    "nc=2\n",
    "fig = plt.figure(figsize=(FIGSIZE*nc, FIGSIZE*nr))\n",
    "plt.subplot(nr,nc,1)\n",
    "plt.imshow(Image.open(imgPath/imgList[imgNo]))\n",
    "plt.xticks([])\n",
    "plt.yticks([])\n",
    "plt.title(imgList[imgNo], color='b')\n",
    "\n",
    "plt.subplot(nr,nc,2)\n",
    "plt.imshow(flowDomainMask*255)\n",
    "plt.xticks([])\n",
    "plt.yticks([])\n",
    "plt.title(\"Flow domain mask\", color='b')\n",
    "\n",
    "plt.show()\n",
    "\n",
    "#print(flowDomainMask[:,0])\n",
    "#print((1-flowDomainMask)[:,0])\n"
   ]
  },
  {
   "cell_type": "markdown",
   "metadata": {
    "id": "XaVb_Ejsmynq"
   },
   "source": [
    "## Kinematic properties\n",
    "The velocity is equal to zero on all the surfaces. The flow rate is given and equal to Q.\n",
    "\n",
    "1. Flow function initialization"
   ]
  },
  {
   "cell_type": "code",
   "execution_count": 23,
   "metadata": {
    "colab": {
     "base_uri": "https://localhost:8080/",
     "height": 232
    },
    "id": "Gb4BFZNWnBsh",
    "outputId": "0dde0211-4908-4885-e6ac-4fc8f130ed54"
   },
   "outputs": [
    {
     "data": {
      "image/png": "[encoded data removed]",
      "text/plain": [
       "<Figure size 720x360 with 2 Axes>"
      ]
     },
     "metadata": {
      "needs_background": "light"
     },
     "output_type": "display_data"
    }
   ],
   "source": [
    "#Initialization\n",
    "#psi0 = (torch.linspace(Q * 4, 0,SIZE, dtype=torch.float32) * torch.ones(SIZE,SIZE)).T - 1.5 * Q #raw Psi0 function\n",
    "\n",
    "psi0 = (torch.linspace(0, Q, SIZE, dtype=torch.float32) * torch.ones(SIZE,SIZE)).T #raw Psi0 function\n",
    "\n",
    "# Fix constant values in NL first and last layers\n",
    "psi0[:NL,:] = 0\n",
    "psi0[-NL:,:] = Q\n",
    "#print(psi0[:,0])\n",
    "psi0_masked = psi0\n",
    "\n",
    "#Visualization\n",
    "nr=1\n",
    "nc=2\n",
    "fig = plt.figure(figsize=(FIGSIZE*nc, FIGSIZE*nr))\n",
    "plt.subplot(nr,nc,1)\n",
    "plt.imshow(psi0)\n",
    "plt.title('(a) Flow function initialization, $\\Psi$')\n",
    "\n",
    "plt.subplot(nr,nc,2)\n",
    "plt.plot(psi0[:,sp])\n",
    "plt.title('(c) Flow funcion slice, $\\Psi$')\n",
    "\n",
    "plt.show()"
   ]
  },
  {
   "cell_type": "markdown",
   "metadata": {
    "id": "XaVb_Ejsmynq"
   },
   "source": [
    "2. Velocity field initialization"
   ]
  },
  {
   "cell_type": "code",
   "execution_count": 24,
   "metadata": {
    "colab": {
     "base_uri": "https://localhost:8080/",
     "height": 234
    },
    "id": "qbVbaBjT3aOd",
    "outputId": "70e136d5-4175-44e2-c96d-24e7e35e5ced"
   },
   "outputs": [
    {
     "data": {
      "image/png": "[encoded data removed]",
      "text/plain": [
       "<Figure size 720x720 with 5 Axes>"
      ]
     },
     "metadata": {
      "needs_background": "light"
     },
     "output_type": "display_data"
    }
   ],
   "source": [
    "v1, v2 = velocityDistr(psi0_masked, DX1N, DX2N, LIM1, LIM2)\n",
    "\n",
    "#Visualization\n",
    "nr=2\n",
    "nc=2\n",
    "fig = plt.figure(figsize=(FIGSIZE*nr, FIGSIZE*nc))\n",
    "plt.subplot(nr,nc,1)\n",
    "plt.imshow(psi0_masked)\n",
    "plt.title('Flow function, Psi')\n",
    "\n",
    "plt.subplot(nr,nc,2)\n",
    "#coordinates are negative in meshgrid for the better visualisation\n",
    "vector_plot(np.meshgrid(-X1N,-X2N), [np.array(v1.cpu()),np.array(v2.cpu())],FIGSIZE, 'Velocity, V = [v1, v2]', vps)\n",
    "plt.xticks([])\n",
    "plt.yticks([])\n",
    "\n",
    "plt.subplot(nr,nc,3)\n",
    "plt.plot(psi0_masked[:,sp])\n",
    "plt.grid(True)\n",
    "plt.title('Flow function, Psi (vertical slice)')\n",
    "\n",
    "plt.subplot(nr,nc,4)\n",
    "plt.plot(v1[:,sp].cpu())\n",
    "plt.grid(True)\n",
    "plt.title('v1 (vertical slice)')\n",
    "\n",
    "plt.show()"
   ]
  },
  {
   "cell_type": "code",
   "execution_count": 25,
   "metadata": {
    "colab": {
     "base_uri": "https://localhost:8080/",
     "height": 282
    },
    "id": "rXz9T9VWA3G5",
    "outputId": "44a0902a-36ce-48f8-c4f9-a46992ff780d"
   },
   "outputs": [
    {
     "data": {
      "image/png": "[encoded data removed]",
      "text/plain": [
       "<Figure size 720x180 with 1 Axes>"
      ]
     },
     "metadata": {
      "needs_background": "light"
     },
     "output_type": "display_data"
    }
   ],
   "source": [
    "# Check the flow rate\n",
    "Qch = torch.trapz(v1.t()) * DX1N * L\n",
    "\n",
    "fig = plt.figure(figsize=(FIGSIZE*2, FIGSIZE/2))\n",
    "plt.plot(Qch.cpu())\n",
    "plt.title(f'Flow rate through the vertical slices of the flow domain of size L x L = {L} x {L} \\nshould be equal to Q = {Q}')\n",
    "plt.show()"
   ]
  },
  {
   "cell_type": "markdown",
   "metadata": {
    "id": "FPeLHoR31p1D"
   },
   "source": [
    "## Create model\n",
    "Unet architecture [2] is used"
   ]
  },
  {
   "cell_type": "code",
   "execution_count": 26,
   "metadata": {
    "id": "PID82zl-cxN4"
   },
   "outputs": [],
   "source": [
    "class UNet(nn.Module):\n",
    "\n",
    "    def __init__(self, in_channels=3, out_channels=1, init_features=4, use_bn=True):\n",
    "        super(UNet, self).__init__()\n",
    "\n",
    "        features = init_features\n",
    "        self.encoder1 = UNet._block(in_channels, features, name=\"enc1\", use_bn=use_bn)\n",
    "        self.pool1 = nn.MaxPool2d(kernel_size=2, stride=2)\n",
    "        self.encoder2 = UNet._block(features, features * 2, name=\"enc2\", use_bn=use_bn)\n",
    "        self.pool2 = nn.MaxPool2d(kernel_size=2, stride=2)\n",
    "        self.encoder3 = UNet._block(features * 2, features * 4, name=\"enc3\", use_bn=use_bn)\n",
    "        self.pool3 = nn.MaxPool2d(kernel_size=2, stride=2)\n",
    "        self.encoder4 = UNet._block(features * 4, features * 8, name=\"enc4\", use_bn=use_bn)\n",
    "        self.pool4 = nn.MaxPool2d(kernel_size=2, stride=2)\n",
    "\n",
    "        self.bottleneck = UNet._block(features * 8, features * 16, name=\"bottleneck\", use_bn=use_bn)\n",
    "\n",
    "        self.upconv4 = nn.ConvTranspose2d(\n",
    "            features * 16, features * 8, kernel_size=2, stride=2\n",
    "        )\n",
    "        self.decoder4 = UNet._block((features * 8) * 2, features * 8, name=\"dec4\", use_bn=use_bn)\n",
    "        self.upconv3 = nn.ConvTranspose2d(\n",
    "            features * 8, features * 4, kernel_size=2, stride=2\n",
    "        )\n",
    "        self.decoder3 = UNet._block((features * 4) * 2, features * 4, name=\"dec3\", use_bn=use_bn)\n",
    "        self.upconv2 = nn.ConvTranspose2d(\n",
    "            features * 4, features * 2, kernel_size=2, stride=2\n",
    "        )\n",
    "        self.decoder2 = UNet._block((features * 2) * 2, features * 2, name=\"dec2\", use_bn=use_bn)\n",
    "        self.upconv1 = nn.ConvTranspose2d(\n",
    "            features * 2, features, kernel_size=2, stride=2\n",
    "        )\n",
    "        self.decoder1 = UNet._block(features * 2, features, name=\"dec1\", use_bn=use_bn)\n",
    "        self.decoder0 = UNet._block(features, features, name=\"dec1\", use_bn=use_bn)\n",
    "        self.conv = nn.Conv2d(\n",
    "            in_channels=features, out_channels=out_channels, kernel_size=1\n",
    "        )\n",
    "\n",
    "    def forward(self, x):\n",
    "        enc1 = self.encoder1(x)\n",
    "        enc2 = self.encoder2(self.pool1(enc1))\n",
    "        enc3 = self.encoder3(self.pool2(enc2))\n",
    "        enc4 = self.encoder4(self.pool3(enc3))\n",
    "\n",
    "        bottleneck = self.bottleneck(self.pool4(enc4))\n",
    "\n",
    "        dec4 = self.upconv4(bottleneck)\n",
    "        dec4 = torch.cat((dec4, enc4), dim=1)\n",
    "        dec4 = self.decoder4(dec4)\n",
    "        dec3 = self.upconv3(dec4)\n",
    "        dec3 = torch.cat((dec3, enc3), dim=1)\n",
    "        dec3 = self.decoder3(dec3)\n",
    "        dec2 = self.upconv2(dec3)\n",
    "        dec2 = torch.cat((dec2, enc2), dim=1)\n",
    "        dec2 = self.decoder2(dec2)\n",
    "        dec1 = self.upconv1(dec2)\n",
    "        dec1 = torch.cat((dec1, enc1), dim=1)\n",
    "        dec1 = self.decoder1(dec1)\n",
    "        dec0 = self.decoder0(dec1)\n",
    "        return torch.sigmoid(self.conv(dec0))*Q\n",
    "\n",
    "    @staticmethod\n",
    "    def _block(in_channels, features, name, use_bn):\n",
    "        return nn.Sequential(\n",
    "            OrderedDict(\n",
    "                [\n",
    "                    (\n",
    "                        name + \"conv1\",\n",
    "                        nn.Conv2d(\n",
    "                            in_channels=in_channels,\n",
    "                            out_channels=features,\n",
    "                            kernel_size=3,\n",
    "                            padding=1,\n",
    "                            bias=False,\n",
    "                        ),\n",
    "                    ),\n",
    "                    *[(name + \"norm1\", nn.BatchNorm2d(num_features=features)),\n",
    "                      (name + \"relu1\", nn.ReLU(inplace=True))][0 if use_bn else 1:],\n",
    "                    (\n",
    "                        name + \"conv2\",\n",
    "                        nn.Conv2d(\n",
    "                            in_channels=features,\n",
    "                            out_channels=features,\n",
    "                            kernel_size=3,\n",
    "                            padding=1,\n",
    "                            bias=False,\n",
    "                        ),\n",
    "                    ),\n",
    "                    *[(name + \"norm2\", nn.BatchNorm2d(num_features=features)),\n",
    "                      (name + \"relu2\", nn.ReLU(inplace=True))][0 if use_bn else 1:],\n",
    "                ]\n",
    "            )\n",
    "        )\n",
    "    \n",
    "def power_loss(psi):\n",
    "    \n",
    "    #Fix psi function on the boundaries\n",
    "    psi[:,:,:NL,:] = 0\n",
    "    psi[:,:,-NL:,:] = Q\n",
    "    psi_masked = psi[0,0,:,:]\n",
    "    \n",
    "    #psi_masked = (psi[0,0,:,:] * flowDomainMask) + (lowerWallMask * Q)\n",
    "    v1,v2 = velocityDistr(psi_masked, DX1N, DX2N, LIM1, LIM2)\n",
    "    \n",
    "    xi11, xi12, xi22, EtaEta = TksiDistr(v1, v2, DX1N, DX2N, LIM1, LIM2)\n",
    "    \n",
    "    #Subintegral expression with masks for fluid and walls, respectively:\n",
    "    subInt = ((0.5*Q0*EtaEta + ((Q1/(Z+1))*EtaEta**((Z+1)*0.5)))*flowDomainMask + \n",
    "              (0.5*Q0W*EtaEta + ((Q1W/(ZW+1))*EtaEta**((ZW+1)*0.5)))*(1-flowDomainMask)) \n",
    "    \n",
    "    int1EtaEta = torch.trapz(subInt)# + v1*Fm[0]+v2*Fm[1])\n",
    "    int2EtaEta = torch.trapz(int1EtaEta)\n",
    "    \n",
    "    #int2EtaEta = int_func_sympson_2d(EtaEta + v1*Fm[0]+v2*Fm[1], DX1N, DX2N)\n",
    "  \n",
    "    out = int2EtaEta*s #doublelIntegral(0.5*mu*EtaEta,lim1,lim2) #loss\n",
    "    \n",
    "    return out #0.5 * MU * s * EtaEta.mean()"
   ]
  },
  {
   "cell_type": "markdown",
   "metadata": {
    "id": "PhZutgNIyYhH"
   },
   "source": [
    "## Training"
   ]
  },
  {
   "cell_type": "code",
   "execution_count": 27,
   "metadata": {},
   "outputs": [],
   "source": [
    "start_time = time.time()"
   ]
  },
  {
   "cell_type": "code",
   "execution_count": 28,
   "metadata": {},
   "outputs": [
    {
     "name": "stdout",
     "output_type": "stream",
     "text": [
      "hyperparams: \n",
      " learning_rate 0.001, scheduler none, scheduler_factor 0.1, scheduler_patience 50, use_bn True, Early_stop_patience 60000, Decay 0.0001\n"
     ]
    },
    {
     "data": {
      "application/vnd.jupyter.widget-view+json": {
       "model_id": "ad745c7645134279b3eb702203929d06",
       "version_major": 2,
       "version_minor": 0
      },
      "text/plain": [
       "Epoch:   0%|          | 0/60000 [00:00<?, ?it/s]"
      ]
     },
     "metadata": {},
     "output_type": "display_data"
    },
    {
     "name": "stderr",
     "output_type": "stream",
     "text": [
      "/opt/conda/lib/python3.7/site-packages/torch/nn/functional.py:718: UserWarning: Named tensors and all their associated APIs are an experimental feature and subject to change. Please do not use them for anything important until they are released as stable. (Triggered internally at  /pytorch/c10/core/TensorImpl.h:1156.)\n",
      "  return torch.max_pool2d(input, kernel_size, stride, padding, dilation, ceil_mode)\n"
     ]
    },
    {
     "name": "stdout",
     "output_type": "stream",
     "text": [
      "epoch 100/60000, loss = 297801.7500\n",
      "epoch 200/60000, loss = 92979.3984\n",
      "epoch 300/60000, loss = 52098.5742\n",
      "epoch 400/60000, loss = 36194.0039\n",
      "epoch 500/60000, loss = 27637.0488\n",
      "epoch 600/60000, loss = 22125.8828\n",
      "epoch 700/60000, loss = 18206.7109\n",
      "epoch 800/60000, loss = 15313.1592\n",
      "epoch 900/60000, loss = 13137.5479\n",
      "epoch 1000/60000, loss = 11449.6348\n",
      "epoch 1100/60000, loss = 10608.5547\n",
      "epoch 1200/60000, loss = 9154.5088\n",
      "epoch 1300/60000, loss = 16452.4902\n",
      "epoch 1400/60000, loss = 8388.5215\n",
      "epoch 1500/60000, loss = 6997.8872\n",
      "epoch 1600/60000, loss = 6656.9746\n",
      "epoch 1700/60000, loss = 5965.7285\n",
      "epoch 1800/60000, loss = 5601.5239\n",
      "epoch 1900/60000, loss = 5285.4106\n",
      "epoch 2000/60000, loss = 5112.8364\n",
      "epoch 2100/60000, loss = 4731.9326\n",
      "epoch 2200/60000, loss = 4788.6064\n",
      "epoch 2300/60000, loss = 4184.0942\n",
      "epoch 2400/60000, loss = 4169.4302\n",
      "epoch 2500/60000, loss = 3747.3787\n",
      "epoch 2600/60000, loss = 4412.1504\n",
      "epoch 2700/60000, loss = 3936.0588\n",
      "epoch 2800/60000, loss = 5183.0645\n",
      "epoch 2900/60000, loss = 3216.0503\n",
      "epoch 3000/60000, loss = 3066.1409\n",
      "epoch 3100/60000, loss = 3163.0967\n",
      "epoch 3200/60000, loss = 2768.7268\n",
      "epoch 3300/60000, loss = 2621.9370\n",
      "epoch 3400/60000, loss = 3905.5310\n",
      "epoch 3500/60000, loss = 2854.2820\n",
      "epoch 3600/60000, loss = 3227.2307\n",
      "epoch 3700/60000, loss = 2131.7549\n",
      "epoch 3800/60000, loss = 2112.1575\n",
      "epoch 3900/60000, loss = 5134.2764\n",
      "epoch 4000/60000, loss = 2308.2290\n",
      "epoch 4100/60000, loss = 2067.8035\n",
      "epoch 4200/60000, loss = 2421.8379\n",
      "epoch 4300/60000, loss = 2132.0076\n",
      "epoch 4400/60000, loss = 2044.9618\n",
      "epoch 4500/60000, loss = 1925.7858\n",
      "epoch 4600/60000, loss = 3478.7065\n",
      "epoch 4700/60000, loss = 1915.4879\n",
      "epoch 4800/60000, loss = 2037.0288\n",
      "epoch 4900/60000, loss = 2048.2214\n",
      "epoch 5000/60000, loss = 1552.6782\n",
      "epoch 5100/60000, loss = 1489.5371\n",
      "epoch 5200/60000, loss = 2507.7485\n",
      "epoch 5300/60000, loss = 1818.4379\n",
      "epoch 5400/60000, loss = 2048.9788\n",
      "epoch 5500/60000, loss = 2189.6616\n",
      "epoch 5600/60000, loss = 1448.1979\n",
      "epoch 5700/60000, loss = 1678.9351\n",
      "epoch 5800/60000, loss = 1541.1581\n",
      "epoch 5900/60000, loss = 1435.7308\n",
      "epoch 6000/60000, loss = 1410.9950\n",
      "epoch 6100/60000, loss = 1857.5166\n",
      "epoch 6200/60000, loss = 1284.8807\n",
      "epoch 6300/60000, loss = 1164.5397\n",
      "epoch 6400/60000, loss = 1629.1387\n",
      "epoch 6500/60000, loss = 1345.3666\n",
      "epoch 6600/60000, loss = 1070.6110\n",
      "epoch 6700/60000, loss = 1244.0598\n",
      "epoch 6800/60000, loss = 2954.3816\n",
      "epoch 6900/60000, loss = 1063.9233\n",
      "epoch 7000/60000, loss = 1182.0369\n",
      "epoch 7100/60000, loss = 1161.4056\n",
      "epoch 7200/60000, loss = 984.9717\n",
      "epoch 7300/60000, loss = 1309.2944\n",
      "epoch 7400/60000, loss = 1059.9639\n",
      "epoch 7500/60000, loss = 1164.6968\n",
      "epoch 7600/60000, loss = 1375.3473\n",
      "epoch 7700/60000, loss = 1025.1522\n",
      "epoch 7800/60000, loss = 895.5433\n",
      "epoch 7900/60000, loss = 1533.6180\n",
      "epoch 8000/60000, loss = 913.9199\n",
      "epoch 8100/60000, loss = 956.2736\n",
      "epoch 8200/60000, loss = 907.5420\n",
      "epoch 8300/60000, loss = 1259.2024\n",
      "epoch 8400/60000, loss = 1241.3423\n",
      "epoch 8500/60000, loss = 793.0532\n",
      "epoch 8600/60000, loss = 1054.5952\n",
      "epoch 8700/60000, loss = 776.9918\n",
      "epoch 8800/60000, loss = 919.0434\n",
      "epoch 8900/60000, loss = 1300.3594\n",
      "epoch 9000/60000, loss = 825.4677\n",
      "epoch 9100/60000, loss = 818.7545\n",
      "epoch 9200/60000, loss = 802.2706\n",
      "epoch 9300/60000, loss = 655.4460\n",
      "epoch 9400/60000, loss = 1271.6804\n",
      "epoch 9500/60000, loss = 1060.7363\n",
      "epoch 9600/60000, loss = 1482.2985\n",
      "epoch 9700/60000, loss = 1512.2297\n",
      "epoch 9800/60000, loss = 719.2618\n",
      "epoch 9900/60000, loss = 605.5496\n",
      "epoch 10000/60000, loss = 751.3986\n",
      "epoch 10100/60000, loss = 681.0648\n",
      "epoch 10200/60000, loss = 729.9111\n",
      "epoch 10300/60000, loss = 802.0575\n",
      "epoch 10400/60000, loss = 5565.1655\n",
      "epoch 10500/60000, loss = 1266.2393\n",
      "epoch 10600/60000, loss = 968.9485\n",
      "epoch 10700/60000, loss = 821.2314\n",
      "epoch 10800/60000, loss = 712.7415\n",
      "epoch 10900/60000, loss = 641.2344\n",
      "epoch 11000/60000, loss = 662.3709\n",
      "epoch 11100/60000, loss = 673.5698\n",
      "epoch 11200/60000, loss = 508.0762\n",
      "epoch 11300/60000, loss = 479.1588\n",
      "epoch 11400/60000, loss = 510.2665\n",
      "epoch 11500/60000, loss = 610.4329\n",
      "epoch 11600/60000, loss = 434.3103\n",
      "epoch 11700/60000, loss = 602.9752\n",
      "epoch 11800/60000, loss = 380.9018\n",
      "epoch 11900/60000, loss = 386.7185\n",
      "epoch 12000/60000, loss = 344.3221\n",
      "epoch 12100/60000, loss = 378.5501\n",
      "epoch 12200/60000, loss = 502.1134\n",
      "epoch 12300/60000, loss = 302.5669\n",
      "epoch 12400/60000, loss = 288.5813\n",
      "epoch 12500/60000, loss = 312.7764\n",
      "epoch 12600/60000, loss = 260.6563\n",
      "epoch 12700/60000, loss = 265.6425\n",
      "epoch 12800/60000, loss = 358.4216\n",
      "epoch 12900/60000, loss = 530.2381\n",
      "epoch 13000/60000, loss = 301.4070\n",
      "epoch 13100/60000, loss = 326.4879\n",
      "epoch 13200/60000, loss = 245.8687\n",
      "epoch 13300/60000, loss = 225.3895\n",
      "epoch 13400/60000, loss = 266.1170\n",
      "epoch 13500/60000, loss = 731.4316\n",
      "epoch 13600/60000, loss = 193.8137\n",
      "epoch 13700/60000, loss = 227.6505\n",
      "epoch 13800/60000, loss = 217.4526\n",
      "epoch 13900/60000, loss = 231.8556\n",
      "epoch 14000/60000, loss = 162.2313\n",
      "epoch 14100/60000, loss = 232.5977\n",
      "epoch 14200/60000, loss = 170.2764\n",
      "epoch 14300/60000, loss = 171.0577\n",
      "epoch 14400/60000, loss = 212.9405\n",
      "epoch 14500/60000, loss = 153.5719\n",
      "epoch 14600/60000, loss = 210.2290\n",
      "epoch 14700/60000, loss = 151.9345\n",
      "epoch 14800/60000, loss = 158.6457\n",
      "epoch 14900/60000, loss = 149.3779\n",
      "epoch 15000/60000, loss = 154.0105\n",
      "epoch 15100/60000, loss = 131.3352\n",
      "epoch 15200/60000, loss = 4142.9751\n",
      "epoch 15300/60000, loss = 246.1098\n",
      "epoch 15400/60000, loss = 183.2756\n",
      "epoch 15500/60000, loss = 127.4172\n",
      "epoch 15600/60000, loss = 108.3152\n",
      "epoch 15700/60000, loss = 173.7544\n",
      "epoch 15800/60000, loss = 185.1763\n",
      "epoch 15900/60000, loss = 98.8479\n",
      "epoch 16000/60000, loss = 105.9674\n",
      "epoch 16100/60000, loss = 154.9897\n",
      "epoch 16200/60000, loss = 95.1173\n",
      "epoch 16300/60000, loss = 71.9471\n",
      "epoch 16400/60000, loss = 101.0987\n",
      "epoch 16500/60000, loss = 86.5593\n",
      "epoch 16600/60000, loss = 73.7716\n",
      "epoch 16700/60000, loss = 111.5359\n",
      "epoch 16800/60000, loss = 69.2357\n",
      "epoch 16900/60000, loss = 60.7736\n",
      "epoch 17000/60000, loss = 61.9980\n",
      "epoch 17100/60000, loss = 117.9170\n",
      "epoch 17200/60000, loss = 71.2840\n",
      "epoch 17300/60000, loss = 826.5175\n",
      "epoch 17400/60000, loss = 128.9650\n",
      "epoch 17500/60000, loss = 88.3153\n",
      "epoch 17600/60000, loss = 69.0518\n",
      "epoch 17700/60000, loss = 58.1903\n",
      "epoch 17800/60000, loss = 51.4614\n",
      "epoch 17900/60000, loss = 53.7391\n",
      "epoch 18000/60000, loss = 49.4087\n",
      "epoch 18100/60000, loss = 44.4333\n",
      "epoch 18200/60000, loss = 38.5677\n",
      "epoch 18300/60000, loss = 36.3246\n",
      "epoch 18400/60000, loss = 35.2672\n",
      "epoch 18500/60000, loss = 34.4937\n",
      "epoch 18600/60000, loss = 32.0372\n",
      "epoch 18700/60000, loss = 36.3473\n",
      "epoch 18800/60000, loss = 32.6866\n",
      "epoch 18900/60000, loss = 35.8283\n",
      "epoch 19000/60000, loss = 32.3027\n",
      "epoch 19100/60000, loss = 30.6421\n",
      "epoch 19200/60000, loss = 33.3809\n",
      "epoch 19300/60000, loss = 78.2064\n",
      "epoch 19400/60000, loss = 28.0547\n",
      "epoch 19500/60000, loss = 51.3381\n",
      "epoch 19600/60000, loss = 25.6174\n",
      "epoch 19700/60000, loss = 34.6835\n",
      "epoch 19800/60000, loss = 25.3625\n",
      "epoch 19900/60000, loss = 52.1905\n",
      "epoch 20000/60000, loss = 29.2891\n",
      "epoch 20100/60000, loss = 50.5412\n",
      "epoch 20200/60000, loss = 23.6518\n",
      "epoch 20300/60000, loss = 26.1179\n",
      "epoch 20400/60000, loss = 27.7583\n",
      "epoch 20500/60000, loss = 19.2884\n",
      "epoch 20600/60000, loss = 16.8715\n",
      "epoch 20700/60000, loss = 19.3997\n",
      "epoch 20800/60000, loss = 19.2101\n",
      "epoch 20900/60000, loss = 29.8286\n",
      "epoch 21000/60000, loss = 14.4426\n",
      "epoch 21100/60000, loss = 15.7087\n",
      "epoch 21200/60000, loss = 26.7614\n",
      "epoch 21300/60000, loss = 47.0215\n",
      "epoch 21400/60000, loss = 13.0670\n",
      "epoch 21500/60000, loss = 12.8888\n",
      "epoch 21600/60000, loss = 15.2450\n",
      "epoch 21700/60000, loss = 12.2654\n",
      "epoch 21800/60000, loss = 10.6533\n",
      "epoch 21900/60000, loss = 18.0400\n",
      "epoch 22000/60000, loss = 15.7500\n",
      "epoch 22100/60000, loss = 9.6147\n",
      "epoch 22200/60000, loss = 14.9718\n",
      "epoch 22300/60000, loss = 11.0958\n",
      "epoch 22400/60000, loss = 10.9858\n",
      "epoch 22500/60000, loss = 6.8705\n",
      "epoch 22600/60000, loss = 6.4640\n",
      "epoch 22700/60000, loss = 7.0244\n",
      "epoch 22800/60000, loss = 6.1188\n",
      "epoch 22900/60000, loss = 6.9145\n",
      "epoch 23000/60000, loss = 5.2202\n",
      "epoch 23100/60000, loss = 5.5187\n",
      "epoch 23200/60000, loss = 5.3006\n",
      "epoch 23300/60000, loss = 6.7317\n",
      "epoch 23400/60000, loss = 5.0218\n",
      "epoch 23500/60000, loss = 4.2688\n",
      "epoch 23600/60000, loss = 6.8257\n",
      "epoch 23700/60000, loss = 13.6317\n",
      "epoch 23800/60000, loss = 4.4898\n",
      "epoch 23900/60000, loss = 2.3907\n",
      "epoch 24000/60000, loss = 1.7834\n",
      "epoch 24100/60000, loss = 1.4409\n",
      "epoch 24200/60000, loss = 1.2104\n",
      "epoch 24300/60000, loss = 1.0371\n",
      "epoch 24400/60000, loss = 0.9030\n",
      "epoch 24500/60000, loss = 0.7972\n",
      "epoch 24600/60000, loss = 0.7139\n",
      "epoch 24700/60000, loss = 0.6459\n",
      "epoch 24800/60000, loss = 0.5891\n",
      "epoch 24900/60000, loss = 0.5445\n",
      "epoch 25000/60000, loss = 0.5001\n",
      "epoch 25100/60000, loss = 0.4660\n",
      "epoch 25200/60000, loss = 0.4299\n",
      "epoch 25300/60000, loss = 0.4006\n",
      "epoch 25400/60000, loss = 0.3749\n",
      "epoch 25500/60000, loss = 0.3516\n",
      "epoch 25600/60000, loss = 0.3305\n",
      "epoch 25700/60000, loss = 0.3117\n",
      "epoch 25800/60000, loss = 0.2983\n",
      "epoch 25900/60000, loss = 0.3018\n",
      "epoch 26000/60000, loss = 0.2683\n",
      "epoch 26100/60000, loss = 0.2521\n",
      "epoch 26200/60000, loss = 0.2394\n",
      "epoch 26300/60000, loss = 0.2660\n",
      "epoch 26400/60000, loss = 0.2177\n",
      "epoch 26500/60000, loss = 0.2052\n",
      "epoch 26600/60000, loss = 0.1963\n",
      "epoch 26700/60000, loss = 0.1870\n",
      "epoch 26800/60000, loss = 0.1804\n",
      "epoch 26900/60000, loss = 0.1748\n",
      "epoch 27000/60000, loss = 0.1679\n",
      "epoch 27100/60000, loss = 0.1640\n",
      "epoch 27200/60000, loss = 0.1543\n",
      "epoch 27300/60000, loss = 0.1497\n",
      "epoch 27400/60000, loss = 0.2070\n",
      "epoch 27500/60000, loss = 0.2112\n",
      "epoch 27600/60000, loss = 0.1287\n",
      "epoch 27700/60000, loss = 0.1633\n",
      "epoch 27800/60000, loss = 0.1203\n",
      "epoch 27900/60000, loss = 0.1546\n",
      "epoch 28000/60000, loss = 0.1118\n",
      "epoch 28100/60000, loss = 0.2647\n",
      "epoch 28200/60000, loss = 0.1050\n",
      "epoch 28300/60000, loss = 0.1511\n",
      "epoch 28400/60000, loss = 0.0972\n",
      "epoch 28500/60000, loss = 0.1792\n",
      "epoch 28600/60000, loss = 0.0861\n",
      "epoch 28700/60000, loss = 0.0818\n",
      "epoch 28800/60000, loss = 0.1445\n",
      "epoch 28900/60000, loss = 0.0765\n",
      "epoch 29000/60000, loss = 0.0723\n",
      "epoch 29100/60000, loss = 0.0968\n",
      "epoch 29200/60000, loss = 0.0686\n",
      "epoch 29300/60000, loss = 0.0675\n",
      "epoch 29400/60000, loss = 0.0707\n",
      "epoch 29500/60000, loss = 0.0957\n",
      "epoch 29600/60000, loss = 0.1106\n",
      "epoch 29700/60000, loss = 0.0560\n",
      "epoch 29800/60000, loss = 0.0522\n",
      "epoch 29900/60000, loss = 0.1615\n",
      "epoch 30000/60000, loss = 0.0870\n",
      "epoch 30100/60000, loss = 0.0682\n",
      "epoch 30200/60000, loss = 0.0588\n",
      "epoch 30300/60000, loss = 0.0531\n",
      "epoch 30400/60000, loss = 0.0528\n",
      "epoch 30500/60000, loss = 0.0540\n",
      "epoch 30600/60000, loss = 0.0402\n",
      "epoch 30700/60000, loss = 0.0409\n",
      "epoch 30800/60000, loss = 0.0368\n",
      "epoch 30900/60000, loss = 0.0348\n",
      "epoch 31000/60000, loss = 0.0290\n",
      "epoch 31100/60000, loss = 0.0285\n",
      "epoch 31200/60000, loss = 0.0260\n",
      "epoch 31300/60000, loss = 0.0240\n",
      "epoch 31400/60000, loss = 0.0236\n",
      "epoch 31500/60000, loss = 0.0306\n",
      "epoch 31600/60000, loss = 0.0261\n",
      "epoch 31700/60000, loss = 0.0200\n",
      "epoch 31800/60000, loss = 0.0257\n",
      "epoch 31900/60000, loss = 0.0211\n",
      "epoch 32000/60000, loss = 0.0175\n",
      "epoch 32100/60000, loss = 0.0190\n",
      "epoch 32200/60000, loss = 0.0247\n",
      "epoch 32300/60000, loss = 0.0151\n",
      "epoch 32400/60000, loss = 0.0181\n",
      "epoch 32500/60000, loss = 0.0137\n",
      "epoch 32600/60000, loss = 0.0142\n",
      "epoch 32700/60000, loss = 0.0129\n",
      "epoch 32800/60000, loss = 0.0123\n",
      "epoch 32900/60000, loss = 0.0128\n",
      "epoch 33000/60000, loss = 0.0116\n",
      "epoch 33100/60000, loss = 0.0186\n",
      "epoch 33200/60000, loss = 0.0102\n",
      "epoch 33300/60000, loss = 0.0101\n",
      "epoch 33400/60000, loss = 0.0100\n",
      "epoch 33500/60000, loss = 0.0093\n",
      "epoch 33600/60000, loss = 0.0090\n",
      "epoch 33700/60000, loss = 0.0152\n",
      "epoch 33800/60000, loss = 0.0099\n",
      "epoch 33900/60000, loss = 0.0098\n",
      "epoch 34000/60000, loss = 0.0075\n",
      "epoch 34100/60000, loss = 0.0073\n",
      "epoch 34200/60000, loss = 0.0070\n",
      "epoch 34300/60000, loss = 0.0077\n",
      "epoch 34400/60000, loss = 0.0063\n",
      "epoch 34500/60000, loss = 0.0066\n",
      "epoch 34600/60000, loss = 0.0064\n",
      "epoch 34700/60000, loss = 0.0075\n",
      "epoch 34800/60000, loss = 0.0054\n",
      "epoch 34900/60000, loss = 0.0055\n",
      "epoch 35000/60000, loss = 0.0070\n",
      "epoch 35100/60000, loss = 0.0062\n",
      "epoch 35200/60000, loss = 0.0043\n",
      "epoch 35300/60000, loss = 0.0064\n",
      "epoch 35400/60000, loss = 0.0088\n",
      "epoch 35500/60000, loss = 0.0041\n",
      "epoch 35600/60000, loss = 0.0037\n",
      "epoch 35700/60000, loss = 0.0037\n",
      "epoch 35800/60000, loss = 0.0037\n",
      "epoch 35900/60000, loss = 0.0049\n",
      "epoch 36000/60000, loss = 0.0036\n",
      "epoch 36100/60000, loss = 0.0035\n",
      "epoch 36200/60000, loss = 456.2998\n",
      "epoch 36300/60000, loss = 115.7192\n",
      "epoch 36400/60000, loss = 69.8194\n",
      "epoch 36500/60000, loss = 48.5724\n",
      "epoch 36600/60000, loss = 36.7218\n",
      "epoch 36700/60000, loss = 28.4329\n",
      "epoch 36800/60000, loss = 20.0174\n",
      "epoch 36900/60000, loss = 16.3863\n",
      "epoch 37000/60000, loss = 14.3888\n",
      "epoch 37100/60000, loss = 12.9187\n",
      "epoch 37200/60000, loss = 11.9098\n",
      "epoch 37300/60000, loss = 11.0843\n",
      "epoch 37400/60000, loss = 10.2859\n",
      "epoch 37500/60000, loss = 9.6182\n",
      "epoch 37600/60000, loss = 9.0168\n",
      "epoch 37700/60000, loss = 8.4616\n",
      "epoch 37800/60000, loss = 7.9446\n",
      "epoch 37900/60000, loss = 7.4624\n",
      "epoch 38000/60000, loss = 7.0151\n",
      "epoch 38100/60000, loss = 6.5629\n",
      "epoch 38200/60000, loss = 6.1331\n",
      "epoch 38300/60000, loss = 5.7392\n",
      "epoch 38400/60000, loss = 5.3909\n",
      "epoch 38500/60000, loss = 4.9883\n",
      "epoch 38600/60000, loss = 4.5753\n",
      "epoch 38700/60000, loss = 4.1942\n",
      "epoch 38800/60000, loss = 3.9098\n",
      "epoch 38900/60000, loss = 3.6077\n",
      "epoch 39000/60000, loss = 3.4003\n",
      "epoch 39100/60000, loss = 3.1675\n",
      "epoch 39200/60000, loss = 2.9707\n",
      "epoch 39300/60000, loss = 2.7917\n",
      "epoch 39400/60000, loss = 2.6303\n",
      "epoch 39500/60000, loss = 2.4641\n",
      "epoch 39600/60000, loss = 2.3228\n",
      "epoch 39700/60000, loss = 2.1904\n",
      "epoch 39800/60000, loss = 2.0689\n",
      "epoch 39900/60000, loss = 1.9481\n",
      "epoch 40000/60000, loss = 1.8410\n",
      "epoch 40100/60000, loss = 1.7446\n",
      "epoch 40200/60000, loss = 1.6506\n",
      "epoch 40300/60000, loss = 1.5766\n",
      "epoch 40400/60000, loss = 1.4967\n",
      "epoch 40500/60000, loss = 1.4230\n",
      "epoch 40600/60000, loss = 1.3502\n",
      "epoch 40700/60000, loss = 1.2847\n",
      "epoch 40800/60000, loss = 1.2278\n",
      "epoch 40900/60000, loss = 1.1760\n",
      "epoch 41000/60000, loss = 1.1226\n",
      "epoch 41100/60000, loss = 1.0698\n",
      "epoch 41200/60000, loss = 1.0254\n",
      "epoch 41300/60000, loss = 0.9783\n",
      "epoch 41400/60000, loss = 0.9092\n",
      "epoch 41500/60000, loss = 0.8649\n",
      "epoch 41600/60000, loss = 0.8211\n",
      "epoch 41700/60000, loss = 0.7883\n",
      "epoch 41800/60000, loss = 0.7510\n",
      "epoch 41900/60000, loss = 0.7057\n",
      "epoch 42000/60000, loss = 0.6720\n",
      "epoch 42100/60000, loss = 0.6475\n",
      "epoch 42200/60000, loss = 0.6215\n",
      "epoch 42300/60000, loss = 0.5770\n",
      "epoch 42400/60000, loss = 0.5483\n",
      "epoch 42500/60000, loss = 0.5185\n",
      "epoch 42600/60000, loss = 0.4907\n",
      "epoch 42700/60000, loss = 0.4683\n",
      "epoch 42800/60000, loss = 0.4404\n",
      "epoch 42900/60000, loss = 0.4206\n",
      "epoch 43000/60000, loss = 0.3989\n",
      "epoch 43100/60000, loss = 0.3756\n",
      "epoch 43200/60000, loss = 0.3573\n",
      "epoch 43300/60000, loss = 0.3352\n",
      "epoch 43400/60000, loss = 0.3167\n",
      "epoch 43500/60000, loss = 0.2965\n",
      "epoch 43600/60000, loss = 0.2825\n",
      "epoch 43700/60000, loss = 0.2656\n",
      "epoch 43800/60000, loss = 0.2483\n",
      "epoch 43900/60000, loss = 0.2352\n",
      "epoch 44000/60000, loss = 0.2235\n",
      "epoch 44100/60000, loss = 0.2124\n",
      "epoch 44200/60000, loss = 0.2021\n",
      "epoch 44300/60000, loss = 0.1920\n",
      "epoch 44400/60000, loss = 0.1746\n",
      "epoch 44500/60000, loss = 0.1653\n",
      "epoch 44600/60000, loss = 0.1567\n",
      "epoch 44700/60000, loss = 0.1519\n",
      "epoch 44800/60000, loss = 0.1438\n",
      "epoch 44900/60000, loss = 0.1294\n",
      "epoch 45000/60000, loss = 0.1262\n",
      "epoch 45100/60000, loss = 0.1159\n",
      "epoch 45200/60000, loss = 0.1118\n",
      "epoch 45300/60000, loss = 0.1063\n",
      "epoch 45400/60000, loss = 0.1021\n",
      "epoch 45500/60000, loss = 0.0946\n",
      "epoch 45600/60000, loss = 0.0901\n",
      "epoch 45700/60000, loss = 0.0905\n",
      "epoch 45800/60000, loss = 0.0831\n",
      "epoch 45900/60000, loss = 0.0779\n",
      "epoch 46000/60000, loss = 0.0740\n",
      "epoch 46100/60000, loss = 0.0719\n",
      "epoch 46200/60000, loss = 0.0672\n",
      "epoch 46300/60000, loss = 0.0658\n",
      "epoch 46400/60000, loss = 0.0697\n",
      "epoch 46500/60000, loss = 0.0594\n",
      "epoch 46600/60000, loss = 0.0566\n",
      "epoch 46700/60000, loss = 0.0543\n",
      "epoch 46800/60000, loss = 0.0516\n",
      "epoch 46900/60000, loss = 0.0514\n",
      "epoch 47000/60000, loss = 0.0504\n",
      "epoch 47100/60000, loss = 0.0459\n",
      "epoch 47200/60000, loss = 0.0486\n",
      "epoch 47300/60000, loss = 0.0415\n",
      "epoch 47400/60000, loss = 0.0402\n",
      "epoch 47500/60000, loss = 0.0396\n",
      "epoch 47600/60000, loss = 0.0401\n",
      "epoch 47700/60000, loss = 0.0358\n",
      "epoch 47800/60000, loss = 0.0383\n",
      "epoch 47900/60000, loss = 0.0333\n",
      "epoch 48000/60000, loss = 0.0314\n",
      "epoch 48100/60000, loss = 0.0303\n",
      "epoch 48200/60000, loss = 0.0298\n",
      "epoch 48300/60000, loss = 0.0281\n",
      "epoch 48400/60000, loss = 0.0285\n",
      "epoch 48500/60000, loss = 0.0305\n",
      "epoch 48600/60000, loss = 0.0252\n",
      "epoch 48700/60000, loss = 0.0247\n",
      "epoch 48800/60000, loss = 0.0234\n",
      "epoch 48900/60000, loss = 0.0229\n",
      "epoch 49000/60000, loss = 0.0229\n",
      "epoch 49100/60000, loss = 0.0221\n",
      "epoch 49200/60000, loss = 0.0218\n",
      "epoch 49300/60000, loss = 0.0194\n",
      "epoch 49400/60000, loss = 0.0216\n",
      "epoch 49500/60000, loss = 0.0190\n",
      "epoch 49600/60000, loss = 0.0232\n",
      "epoch 49700/60000, loss = 0.0172\n",
      "epoch 49800/60000, loss = 0.0175\n",
      "epoch 49900/60000, loss = 0.0166\n",
      "epoch 50000/60000, loss = 0.0156\n",
      "epoch 50100/60000, loss = 0.0153\n",
      "epoch 50200/60000, loss = 0.0154\n",
      "epoch 50300/60000, loss = 0.0149\n",
      "epoch 50400/60000, loss = 0.0158\n",
      "epoch 50500/60000, loss = 0.0162\n",
      "epoch 50600/60000, loss = 0.0140\n",
      "epoch 50700/60000, loss = 0.0134\n",
      "epoch 50800/60000, loss = 0.0134\n",
      "epoch 50900/60000, loss = 0.0120\n",
      "epoch 51000/60000, loss = 0.0111\n",
      "epoch 51100/60000, loss = 0.0111\n",
      "epoch 51200/60000, loss = 0.0105\n",
      "epoch 51300/60000, loss = 0.0098\n",
      "epoch 51400/60000, loss = 0.0100\n",
      "epoch 51500/60000, loss = 0.0104\n",
      "epoch 51600/60000, loss = 0.0092\n",
      "epoch 51700/60000, loss = 0.0139\n",
      "epoch 51800/60000, loss = 0.0100\n",
      "epoch 51900/60000, loss = 0.0095\n",
      "epoch 52000/60000, loss = 0.0084\n",
      "epoch 52100/60000, loss = 0.0081\n",
      "epoch 52200/60000, loss = 0.0137\n",
      "epoch 52300/60000, loss = 0.0086\n",
      "epoch 52400/60000, loss = 0.0073\n",
      "epoch 52500/60000, loss = 0.0070\n",
      "epoch 52600/60000, loss = 0.0110\n",
      "epoch 52700/60000, loss = 0.0069\n",
      "epoch 52800/60000, loss = 0.0068\n",
      "epoch 52900/60000, loss = 0.0072\n",
      "epoch 53000/60000, loss = 0.0063\n",
      "epoch 53100/60000, loss = 0.0065\n",
      "epoch 53200/60000, loss = 0.0076\n",
      "epoch 53300/60000, loss = 0.0083\n",
      "epoch 53400/60000, loss = 0.0069\n",
      "epoch 53500/60000, loss = 0.0068\n",
      "epoch 53600/60000, loss = 0.0059\n",
      "epoch 53700/60000, loss = 0.0060\n",
      "epoch 53800/60000, loss = 0.0056\n",
      "epoch 53900/60000, loss = 0.0053\n",
      "epoch 54000/60000, loss = 0.0052\n",
      "epoch 54100/60000, loss = 0.0056\n",
      "epoch 54200/60000, loss = 0.0049\n",
      "epoch 54300/60000, loss = 0.0047\n",
      "epoch 54400/60000, loss = 0.0052\n",
      "epoch 54500/60000, loss = 0.0049\n",
      "epoch 54600/60000, loss = 0.0048\n",
      "epoch 54700/60000, loss = 0.0045\n",
      "epoch 54800/60000, loss = 0.0044\n",
      "epoch 54900/60000, loss = 0.0044\n",
      "epoch 55000/60000, loss = 0.0040\n",
      "epoch 55100/60000, loss = 0.0040\n",
      "epoch 55200/60000, loss = 0.0041\n",
      "epoch 55300/60000, loss = 0.0130\n",
      "epoch 55400/60000, loss = 0.0087\n",
      "epoch 55500/60000, loss = 0.0070\n",
      "epoch 55600/60000, loss = 0.0062\n",
      "epoch 55700/60000, loss = 0.0057\n",
      "epoch 55800/60000, loss = 0.0051\n",
      "epoch 55900/60000, loss = 0.0048\n",
      "epoch 56000/60000, loss = 0.0048\n",
      "epoch 56100/60000, loss = 0.0042\n",
      "epoch 56200/60000, loss = 0.0045\n",
      "epoch 56300/60000, loss = 0.0040\n",
      "epoch 56400/60000, loss = 0.0041\n",
      "epoch 56500/60000, loss = 0.0036\n",
      "epoch 56600/60000, loss = 0.0036\n",
      "epoch 56700/60000, loss = 0.0034\n",
      "epoch 56800/60000, loss = 0.0033\n",
      "epoch 56900/60000, loss = 0.0034\n",
      "epoch 57000/60000, loss = 0.0031\n",
      "epoch 57100/60000, loss = 0.0032\n",
      "epoch 57200/60000, loss = 0.0031\n",
      "epoch 57300/60000, loss = 0.0029\n",
      "epoch 57400/60000, loss = 0.0028\n",
      "epoch 57500/60000, loss = 0.0028\n",
      "epoch 57600/60000, loss = 0.0029\n",
      "epoch 57700/60000, loss = 0.0047\n",
      "epoch 57800/60000, loss = 0.0027\n",
      "epoch 57900/60000, loss = 0.0026\n",
      "epoch 58000/60000, loss = 0.0028\n",
      "epoch 58100/60000, loss = 0.0025\n",
      "epoch 58200/60000, loss = 0.0026\n",
      "epoch 58300/60000, loss = 0.0028\n",
      "epoch 58400/60000, loss = 0.0023\n",
      "epoch 58500/60000, loss = 0.0023\n",
      "epoch 58600/60000, loss = 0.0022\n",
      "epoch 58700/60000, loss = 0.0021\n",
      "epoch 58800/60000, loss = 0.0023\n",
      "epoch 58900/60000, loss = 0.0028\n",
      "epoch 59000/60000, loss = 0.0021\n",
      "epoch 59100/60000, loss = 0.0020\n",
      "epoch 59200/60000, loss = 0.0029\n",
      "epoch 59300/60000, loss = 0.0027\n",
      "epoch 59400/60000, loss = 0.0018\n",
      "epoch 59500/60000, loss = 0.0020\n",
      "epoch 59600/60000, loss = 0.0018\n",
      "epoch 59700/60000, loss = 0.2638\n",
      "epoch 59800/60000, loss = 0.0047\n",
      "epoch 59900/60000, loss = 0.0036\n",
      "epoch 60000/60000, loss = 0.0030\n",
      "Best Train loss 0.0016\n",
      "Best Train loss: 0.0016, best hyperparams: learning_rate: 0.001, scheduler: none, scheduler_factor: 0.1, scheduler_patience: 50, use_bn: True, Early_stop_patience: 60000, Decay: 0.0001\n"
     ]
    },
    {
     "data": {
      "image/png": "[encoded data removed]",
      "text/plain": [
       "<Figure size 720x360 with 1 Axes>"
      ]
     },
     "metadata": {
      "needs_background": "light"
     },
     "output_type": "display_data"
    },
    {
     "name": "stdout",
     "output_type": "stream",
     "text": [
      "Final loss: 0.002\n",
      "simulation time:139m 9s\n"
     ]
    }
   ],
   "source": [
    "os.makedirs(WORK_DIR + '/models', exist_ok=True)\n",
    "os.makedirs(WORK_DIR + '/history', exist_ok=True)\n",
    "\n",
    "x = torch.ones((1, 1, SIZE, SIZE)) * psi0_masked\n",
    "s = DX1N * DX2N * LIM1[1] * LIM2[1]\n",
    "\n",
    "# Перемещение на GPU\n",
    "x = x.to(DEVICE)\n",
    "flowDomainMask = flowDomainMask.to(DEVICE)\n",
    "#lowerWallMask = lowerWallMask.to(DEVICE)\n",
    "DX1N = DX1N.to(DEVICE)\n",
    "DX2N = DX2N.to(DEVICE)\n",
    "s = s.to(DEVICE)\n",
    "\n",
    "run_record = {}\n",
    "\n",
    "for hyp in HYPS:\n",
    "    print('hyperparams: \\n', dict2str(hyp)) \n",
    "\n",
    "    model_path = (f'{WORK_DIR}/models/{MODEL_NAME}_{dict2str(hyp)}.pth')\n",
    "\n",
    "    callbacks = [SaveBest(f'Train loss', model_path, 'min'),\n",
    "                 EarlyStop(f'Train loss', EARLY_STOP_PATIENCE, 'min')]\n",
    "\n",
    "    model = UNet(in_channels=1, out_channels=1, init_features=NoOfFeatures, use_bn=hyp[\"use_bn\"])\n",
    "    model = model.to(DEVICE)\n",
    "\n",
    "    optimizer = torch.optim.Adam(model.parameters(), lr=hyp[\"learning_rate\"], weight_decay=DECAY)\n",
    "    \n",
    "    criterion = power_loss\n",
    "    \n",
    "    #Log model, criterion, and optimizer\n",
    "    run[\"config/model\"] = type(model).__name__\n",
    "    run[\"config/criterion\"] = type(criterion).__name__\n",
    "    run[\"config/optimizer\"] = type(optimizer).__name__\n",
    "\n",
    "    \n",
    "    if hyp[\"scheduler\"] == \"step\":\n",
    "        lr_scheduler = torch.optim.lr_scheduler.ReduceLROnPlateau(optimizer, mode='min',\n",
    "                                                                  patience=hyp[\"scheduler_patience\"],\n",
    "                                                                  min_lr=1e-6, factor=hyp[\"scheduler_factor\"])\n",
    "    elif hyp[\"scheduler\"] == \"cycle\":\n",
    "        lr_scheduler = scheduler = torch.optim.lr_scheduler.OneCycleLR(optimizer, max_lr=hyp[\"learning_rate\"] * 20,\n",
    "                                                                       steps_per_epoch=1, epochs=EPOCHS,\n",
    "                                                                       pct_start=0.125,\n",
    "                                                                       div_factor=hyp[\"scheduler_factor\"] ** -1,\n",
    "                                                                       final_div_factor=(hyp[\"scheduler_factor\"] ** -1) * 50)\n",
    "    else:\n",
    "        lr_scheduler = None\n",
    "\n",
    "    history = train(model, x, optimizer, power_loss,\n",
    "                    epochs=EPOCHS, print_every=100,\n",
    "                    callbacks=callbacks, lr_scheduler=lr_scheduler)\n",
    "\n",
    "    run_record[model_path] = {'hyperparams': hyp,\n",
    "                              'history': history,\n",
    "                              'final_val_metric': callbacks[1].best_monitor}\n",
    "\n",
    "    print(f\"Best Train loss %4.4f\" % (callbacks[1].best_monitor))\n",
    "\n",
    "    model = None\n",
    "    optimizer = None\n",
    "\n",
    "    torch.cuda.empty_cache()\n",
    "\n",
    "best_val_metric = None\n",
    "best_hyperparams = None\n",
    "best_run = None\n",
    "best_model_path = None\n",
    "\n",
    "for key, train_info in run_record.items():\n",
    "    if best_val_metric is None or best_val_metric > train_info['final_val_metric']:\n",
    "        best_val_metric = train_info['final_val_metric']\n",
    "        best_hyperparams = train_info['hyperparams']\n",
    "        best_run = train_info\n",
    "        best_model_path = key\n",
    "\n",
    "with open(f'{WORK_DIR}/history/{MODEL_NAME}_history.json', 'w') as fp:\n",
    "    json.dump(run_record, fp)\n",
    "\n",
    "best_hyp = str(best_hyperparams).replace(\"}\", \"\")\n",
    "best_hyp = best_hyp.replace(\"{\", \"\")\n",
    "best_hyp = best_hyp.replace(\"'\", \"\")\n",
    "\n",
    "print(f\"Best Train loss: %4.4f, best hyperparams: %s\" % (best_val_metric, best_hyp))\n",
    "\n",
    "model = UNet(in_channels=1, out_channels=1, init_features=NoOfFeatures, use_bn=best_hyperparams[\"use_bn\"])\n",
    "model.load_state_dict(torch.load(best_model_path))\n",
    "torch.save(model.state_dict(), f'{WORK_DIR}/models/{MODEL_NAME}_best.pth')\n",
    "\n",
    "model = model.to(DEVICE)\n",
    "\n",
    "psi = model.forward(x)\n",
    "\n",
    "plot_train_history(best_run['history'])\n",
    "\n",
    "simulation_time = time.time() - start_time\n",
    "print(f'Final loss: {power_loss(psi).cpu().item() :.3f}')\n",
    "print('simulation time:{:.0f}m {:.0f}s'.format(\n",
    "      simulation_time // 60, simulation_time % 60))"
   ]
  },
  {
   "cell_type": "markdown",
   "metadata": {
    "id": "PhZutgNIyYhH"
   },
   "source": [
    "## Results"
   ]
  },
  {
   "cell_type": "code",
   "execution_count": 29,
   "metadata": {},
   "outputs": [
    {
     "data": {
      "image/png": "[encoded data removed]",
      "text/plain": [
       "<Figure size 1080x360 with 3 Axes>"
      ]
     },
     "metadata": {
      "needs_background": "light"
     },
     "output_type": "display_data"
    }
   ],
   "source": [
    "#Output of the network: psi function of the flow\n",
    "\n",
    "psi_masked = psi[0, 0, :, :].clone().detach() #psi[0, 0, :, :].clone().detach() * flowDomainMask) + (lowerWallMask * Q)\n",
    "v1, v2 = velocityDistr(psi_masked, DX1N, DX2N, LIM1, LIM2)\n",
    "xi11ch, xi12ch, xi22ch, EtaEtach = TksiDistr(v1, v2, DX1N, DX2N, LIM1, LIM2)\n",
    "\n",
    "subInt = ((0.5*Q0*EtaEtach + ((Q1/(Z+1))*EtaEtach**((Z+1)*0.5)))*flowDomainMask + \n",
    "              (0.5*Q0W*EtaEtach + ((Q1W/(ZW+1))*EtaEtach**((ZW+1)*0.5)))*(1-flowDomainMask)) \n",
    "int1EtaEta = torch.trapz(subInt)\n",
    "int2EtaEta = torch.trapz(int1EtaEta)\n",
    "outch = int2EtaEta*s\n",
    "\n",
    "#Visualization\n",
    "nr=1\n",
    "nc=3\n",
    "fig = plt.figure(figsize=(FIGSIZE*nc, FIGSIZE*nr))\n",
    "plt.subplot(nr,nc,1)\n",
    "plt.imshow(psi[0, 0, :, :].clone().detach().to('cpu'))\n",
    "plt.title('Flow function, Psi (raw)')\n",
    "\n",
    "plt.subplot(nr,nc,2)\n",
    "plt.imshow(psi_masked.to('cpu'))\n",
    "plt.title('Flow function, Psi')\n",
    "\n",
    "plt.subplot(nr,nc,3)\n",
    "plt.plot(psi_masked[:,sp].to('cpu'))\n",
    "plt.title('Flow funcion, Psi (vertical slice)')\n",
    "\n",
    "plt.show()"
   ]
  },
  {
   "cell_type": "code",
   "execution_count": 30,
   "metadata": {
    "colab": {
     "base_uri": "https://localhost:8080/",
     "height": 234
    },
    "id": "IcEzHkrgcVWx",
    "outputId": "3679348b-c16e-4754-99ef-3040a3a32b9b"
   },
   "outputs": [
    {
     "data": {
      "image/png": "[encoded data removed]",
      "text/plain": [
       "<Figure size 720x720 with 5 Axes>"
      ]
     },
     "metadata": {
      "needs_background": "light"
     },
     "output_type": "display_data"
    },
    {
     "name": "stdout",
     "output_type": "stream",
     "text": [
      "v1_max =  tensor(0.4986, device='cuda:0') v1_min =  tensor(-1.3721e-05, device='cuda:0')\n"
     ]
    }
   ],
   "source": [
    "#Visualization\n",
    "nr=2\n",
    "nc=2\n",
    "fig = plt.figure(figsize=(FIGSIZE*nr, FIGSIZE*nc))\n",
    "plt.subplot(nr,nc,1)\n",
    "plt.imshow(psi_masked.to('cpu'))\n",
    "plt.title('(a) Flow function,$\\Psi$')\n",
    "\n",
    "plt.subplot(nr,nc,2)\n",
    "vector_plot(np.meshgrid(-X1N,-X2N), [np.array(v1.cpu()),np.array(v2.cpu())],FIGSIZE, \n",
    "            '(b) Velocity, $V = [v_1, v_2]$', 10)\n",
    "plt.xticks([])\n",
    "plt.yticks([])\n",
    "\n",
    "plt.subplot(nr,nc,3)\n",
    "plt.plot(psi_masked[:,sp].to('cpu'))\n",
    "plt.grid(True)\n",
    "plt.title('Flow function, $\\Psi$ (vertical slice)')\n",
    "\n",
    "plt.subplot(nr,nc,4)\n",
    "plt.plot(v1.cpu())\n",
    "plt.grid(True)\n",
    "plt.title('v1 (vertical slice)')\n",
    "\n",
    "plt.show()\n",
    "print('v1_max = ', v1.max(), 'v1_min = ', v1.min())"
   ]
  },
  {
   "cell_type": "code",
   "execution_count": 31,
   "metadata": {
    "colab": {
     "base_uri": "https://localhost:8080/",
     "height": 282
    },
    "id": "rXz9T9VWA3G5",
    "outputId": "44a0902a-36ce-48f8-c4f9-a46992ff780d"
   },
   "outputs": [
    {
     "data": {
      "image/png": "[encoded data removed]",
      "text/plain": [
       "<Figure size 720x180 with 1 Axes>"
      ]
     },
     "metadata": {
      "needs_background": "light"
     },
     "output_type": "display_data"
    }
   ],
   "source": [
    "# Check the flow rate\n",
    "Qch = torch.trapz(v1.t()) * DX1N * L\n",
    "\n",
    "fig = plt.figure(figsize=(FIGSIZE*2, FIGSIZE/2))\n",
    "plt.plot(Qch.cpu())\n",
    "plt.title(f'Flow rate through the vertical slices of the flow domain of size L x L = {L} x {L} \\nshould be equal to Q = {Q}')\n",
    "plt.show()"
   ]
  },
  {
   "cell_type": "code",
   "execution_count": 32,
   "metadata": {
    "colab": {
     "base_uri": "https://localhost:8080/",
     "height": 182
    },
    "id": "r3w7q2Y1pIfD",
    "outputId": "b26b5134-c04b-42a6-de69-787c7b966627"
   },
   "outputs": [
    {
     "name": "stdout",
     "output_type": "stream",
     "text": [
      "Q =  0.0004999999655410647 ; Loss =  0.001652551000006497\n"
     ]
    }
   ],
   "source": [
    "print('Q = ', Qch.mean().cpu().item(), '; Loss = ', power_loss(psi).cpu().item())"
   ]
  },
  {
   "cell_type": "code",
   "execution_count": null,
   "metadata": {},
   "outputs": [],
   "source": []
  },
  {
   "cell_type": "code",
   "execution_count": 33,
   "metadata": {},
   "outputs": [
    {
     "name": "stdout",
     "output_type": "stream",
     "text": [
      "tensor(1.7042) tensor(111128.2500) tensor(2.0161e-09) tensor(5024388.)\n",
      "tensor(0.0017, device='cuda:0')\n"
     ]
    }
   ],
   "source": [
    "print (EtaEta.cpu().min(), EtaEta.cpu().max(), EtaEtach.cpu().min(), EtaEtach.cpu().max()) \n",
    "print(outch)\n"
   ]
  },
  {
   "cell_type": "code",
   "execution_count": 34,
   "metadata": {},
   "outputs": [
    {
     "name": "stdout",
     "output_type": "stream",
     "text": [
      "tensor(1.7042) tensor(111128.2500) tensor(3.3382e-08) tensor(222099.1875)\n"
     ]
    },
    {
     "data": {
      "image/png": "[encoded data removed]",
      "text/plain": [
       "<Figure size 720x180 with 1 Axes>"
      ]
     },
     "metadata": {
      "needs_background": "light"
     },
     "output_type": "display_data"
    }
   ],
   "source": [
    "\n",
    "print (EtaEta.cpu().min(), EtaEta.cpu().max(), EtaEtach.cpu()[:,sp].min(), EtaEtach.cpu()[:,sp].max()) \n",
    "fig = plt.figure(figsize=(FIGSIZE*2, FIGSIZE/2))\n",
    "plt.plot(EtaEtach.cpu())\n",
    "plt.title('Eta*Eta')\n",
    "plt.show()"
   ]
  },
  {
   "cell_type": "code",
   "execution_count": 35,
   "metadata": {},
   "outputs": [
    {
     "data": {
      "image/png": "[encoded data removed]",
      "text/plain": [
       "<Figure size 720x180 with 1 Axes>"
      ]
     },
     "metadata": {
      "needs_background": "light"
     },
     "output_type": "display_data"
    }
   ],
   "source": [
    "fig = plt.figure(figsize=(FIGSIZE*2, FIGSIZE/2))\n",
    "plt.plot(v1.cpu()[:,sp])\n",
    "plt.title('v1')\n",
    "plt.show()"
   ]
  },
  {
   "cell_type": "code",
   "execution_count": 36,
   "metadata": {},
   "outputs": [
    {
     "data": {
      "image/png": "[encoded data removed]",
      "text/plain": [
       "<Figure size 720x180 with 1 Axes>"
      ]
     },
     "metadata": {
      "needs_background": "light"
     },
     "output_type": "display_data"
    }
   ],
   "source": [
    "fig = plt.figure(figsize=(FIGSIZE*2, FIGSIZE/2))\n",
    "plt.plot(xi12ch.cpu()[:,sp])\n",
    "plt.title('$\\Xi$')\n",
    "plt.show()\n"
   ]
  },
  {
   "cell_type": "code",
   "execution_count": 37,
   "metadata": {},
   "outputs": [
    {
     "data": {
      "image/png": "[encoded data removed]",
      "text/plain": [
       "<Figure size 720x180 with 1 Axes>"
      ]
     },
     "metadata": {
      "needs_background": "light"
     },
     "output_type": "display_data"
    }
   ],
   "source": [
    "fig = plt.figure(figsize=(FIGSIZE*2, FIGSIZE/2))\n",
    "plt.plot(EtaEtach.cpu()[:,sp])\n",
    "plt.title('$H^2$')\n",
    "plt.show()"
   ]
  },
  {
   "cell_type": "code",
   "execution_count": 38,
   "metadata": {},
   "outputs": [
    {
     "data": {
      "text/plain": [
       "(0.003305102000012994, 0.001333374879322946, -1.4787492634413817)"
      ]
     },
     "execution_count": 38,
     "metadata": {},
     "output_type": "execute_result"
    }
   ],
   "source": [
    " #Check power\n",
    "Intch = power_loss(psi).cpu().item()*2\n",
    "acc_rel_exact = (Int_ex.item()-Intch)/Int_ex.item()\n",
    "Intch, Int_ex.item(), acc_rel_exact"
   ]
  },
  {
   "cell_type": "markdown",
   "metadata": {},
   "source": [
    "## Log results"
   ]
  },
  {
   "cell_type": "code",
   "execution_count": 39,
   "metadata": {},
   "outputs": [],
   "source": [
    "results = {'Internal_power':Intch,\n",
    "           'Internal_power_exact':Int_ex.item(),\n",
    "           'Accuracy (in comparison with analitical solution)': acc_rel_exact}\n",
    "run[\"config/results\"] = results"
   ]
  },
  {
   "cell_type": "markdown",
   "metadata": {},
   "source": [
    "## Stop logging"
   ]
  },
  {
   "cell_type": "code",
   "execution_count": 40,
   "metadata": {},
   "outputs": [
    {
     "name": "stdout",
     "output_type": "stream",
     "text": [
      "Shutting down background jobs, please wait a moment...\n",
      "Done!\n",
      "Waiting for the remaining 44 operations to synchronize with Neptune. Do not kill this process.\n",
      "All 44 operations synced, thanks for waiting!\n",
      "Explore the metadata in the Neptune app:\n",
      "https://app.neptune.ai/avkornaev/PhysicsBasedDL/e/PHYSIC-73\n"
     ]
    }
   ],
   "source": [
    "run.stop()"
   ]
  },
  {
   "cell_type": "markdown",
   "metadata": {
    "id": "rpGo7xQz6cny"
   },
   "source": [
    "# Links\n",
    "\n",
    "[1]. https://github.com/Mechanics-Mechatronics-and-Robotics/Mathematical_modelling/blob/main/Practice_1_by_IStebakov.ipynb\n",
    "\n",
    "[2]. https://github.com/mateuszbuda/brain-segmentation-pytorch"
   ]
  }
 ],
 "metadata": {
  "accelerator": "GPU",
  "colab": {
   "collapsed_sections": [],
   "name": "Main.ipynb",
   "provenance": []
  },
  "kernelspec": {
   "display_name": "Python 3",
   "language": "python",
   "name": "python3"
  },
  "language_info": {
   "codemirror_mode": {
    "name": "ipython",
    "version": 3
   },
   "file_extension": ".py",
   "mimetype": "text/x-python",
   "name": "python",
   "nbconvert_exporter": "python",
   "pygments_lexer": "ipython3",
   "version": "3.7.7"
  },
  "varInspector": {
   "cols": {
    "lenName": 16,
    "lenType": 16,
    "lenVar": 40
   },
   "kernels_config": {
    "python": {
     "delete_cmd_postfix": "",
     "delete_cmd_prefix": "del ",
     "library": "var_list.py",
     "varRefreshCmd": "print(var_dic_list())"
    },
    "r": {
     "delete_cmd_postfix": ") ",
     "delete_cmd_prefix": "rm(",
     "library": "var_list.r",
     "varRefreshCmd": "cat(var_dic_list()) "
    }
   },
   "types_to_exclude": [
    "module",
    "function",
    "builtin_function_or_method",
    "instance",
    "_Feature"
   ],
   "window_display": false
  }
 },
 "nbformat": 4,
 "nbformat_minor": 4
}
