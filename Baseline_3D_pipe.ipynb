{
 "cells": [
  {
   "cell_type": "markdown",
   "metadata": {
    "id": "RJkKJ83igGYb"
   },
   "source": [
    "# **Physics-based loss and machine learing approach in application to fluids flow modelling: 3D flow in a pipe**\n",
    "It is supposed that the Newtonian fluid flows through a cylindrical pipe with radius $R$. The flow is steady, the Reynolds number is smaller than the critical one $Re < Re^* {\\approx} 1100...1400$ and the pipe length is greater than the critical one $L_3 > 0.16RRe$. \n",
    "\n"
   ]
  },
  {
   "cell_type": "markdown",
   "metadata": {
    "id": "ydwhZV95sFoN"
   },
   "source": [
    "# Initialization\n",
    "## Import libraries"
   ]
  },
  {
   "cell_type": "code",
   "execution_count": 1,
   "metadata": {
    "id": "Go3JwW4hICsK"
   },
   "outputs": [],
   "source": [
    "# Pytorch modules\n",
    "import torch\n",
    "from torch import nn\n",
    "\n",
    "# Plotting\n",
    "from matplotlib import pyplot as plt\n",
    "from matplotlib import transforms\n",
    "import numpy as np\n",
    "\n",
    "# Python functions\n",
    "from collections import namedtuple\n",
    "from itertools import product\n",
    "from collections import OrderedDict\n",
    "#from scipy import integrate\n",
    "\n",
    "# Status bar\n",
    "from tqdm.notebook import tqdm\n",
    "from datetime import datetime\n",
    "import time\n",
    "\n",
    "# Work with files and images\n",
    "import json\n",
    "from pathlib import Path\n",
    "import os, fnmatch\n",
    "import re\n",
    "from PIL import Image\n",
    "\n",
    "#Log\n",
    "import neptune.new as neptune\n",
    "from neptune.new.types import File\n",
    "\n",
    "import time"
   ]
  },
  {
   "cell_type": "markdown",
   "metadata": {},
   "source": [
    "## Neptune project"
   ]
  },
  {
   "cell_type": "code",
   "execution_count": 2,
   "metadata": {},
   "outputs": [
    {
     "name": "stderr",
     "output_type": "stream",
     "text": [
      "/opt/conda/lib/python3.7/site-packages/ipykernel_launcher.py:3: NeptuneDeprecationWarning: `init` is deprecated, use `init_run` instead. We'll end support of it in `neptune-client==1.0.0`.\n",
      "  This is separate from the ipykernel package so we can avoid doing imports until\n"
     ]
    },
    {
     "name": "stdout",
     "output_type": "stream",
     "text": [
      "https://app.neptune.ai/avkornaev/PhysicsBasedDL/e/PHYSIC-101\n",
      "Remember to stop your run once you’ve finished logging your metadata (https://docs.neptune.ai/api/run#stop). It will be stopped automatically only when the notebook kernel/interactive console is terminated.\n"
     ]
    }
   ],
   "source": [
    "run = neptune.init(\n",
    "    project=\"avkornaev/PhysicsBasedDL\",\n",
    "    api_token=\"eyJhcGlfYWRkcmVzcyI6Imh0dHBzOi8vYXBwLm5lcHR1bmUuYWkiLCJhcGlfdXJsIjoiaHR0cHM6Ly9hcHAubmVwdHVuZS5haSIsImFwaV9rZXkiOiJiMmRjMGY4Ny1hYTI1LTQxZmEtYjRmZC02YzNkYWZjYzNiNjIifQ==\",\n",
    ")  # your credentials"
   ]
  },
  {
   "cell_type": "markdown",
   "metadata": {
    "id": "nzMpruhsYD38"
   },
   "source": [
    "## Download and preprocess image of the flow domain"
   ]
  },
  {
   "cell_type": "markdown",
   "metadata": {
    "id": "nzMpruhsYD38"
   },
   "source": [
    "## Path"
   ]
  },
  {
   "cell_type": "code",
   "execution_count": 3,
   "metadata": {},
   "outputs": [
    {
     "name": "stdout",
     "output_type": "stream",
     "text": [
      "['pipe_tensor.pt'] 0\n"
     ]
    }
   ],
   "source": [
    "path =  Path('/root/Physics_based_loss')\n",
    "imgPath = path/'ToyDataset'\n",
    "imgList = fnmatch.filter(os.listdir(imgPath), '*.pt') #imgPath.ls()\n",
    "imgList\n",
    "#Image number from the imgList\n",
    "imgNo = 0\n",
    "print(imgList, imgNo)"
   ]
  },
  {
   "cell_type": "markdown",
   "metadata": {},
   "source": [
    "Download 3D image"
   ]
  },
  {
   "cell_type": "code",
   "execution_count": 4,
   "metadata": {},
   "outputs": [
    {
     "name": "stdout",
     "output_type": "stream",
     "text": [
      "image shape: torch.Size([128, 128, 128])\n"
     ]
    }
   ],
   "source": [
    "img = torch.load(os.path.join(imgPath, imgList[imgNo]))\n",
    "imgDim = img.shape[1:]\n",
    "print(f'image shape: {imgDim}')"
   ]
  },
  {
   "cell_type": "markdown",
   "metadata": {
    "id": "nzMpruhsYD38"
   },
   "source": [
    "## Constants"
   ]
  },
  {
   "cell_type": "code",
   "execution_count": 5,
   "metadata": {
    "id": "YsKHT1J2Ibx9"
   },
   "outputs": [],
   "source": [
    "SIZE = imgDim\n",
    "#Training\n",
    "EPOCHS = 50000\n",
    "NoOfFeatures = 32 #32\n",
    "WORK_DIR = '/root/Physics_based_loss'\n",
    "IN_CH = 3 #number of input channels\n",
    "OUT_CH = 3#number of output channels\n",
    "\n",
    "#SCALE_FACTOR = 1 # muliplier for the loss function\n",
    "DEVICE = torch.device(\"cuda\" if torch.cuda.is_available() else \"cpu\")\n",
    "MODEL_NAME = \"unet\"\n",
    "EARLY_STOP_PATIENCE = EPOCHS\n",
    "DECAY = 1e-4\n",
    "PATIENCE = 0\n",
    "\n",
    "parameters = {'image_size':SIZE,\n",
    "             'Epochs':EPOCHS,\n",
    "             'Model':MODEL_NAME,\n",
    "             'No_of_features':NoOfFeatures}\n",
    "\n",
    "HYPS = []\n",
    "\n",
    "hyps = {\"Epochs\":[EPOCHS],\n",
    "        \"learning_rate\": [1e-3],\n",
    "        \"scheduler\": [\"step\"],\n",
    "        \"scheduler_factor\": [0.5],\n",
    "        \"scheduler_patience\": [int(EPOCHS*0.05)],\n",
    "        \"use_bn\": [True],\n",
    "        \"Early_stop_patience\": [EARLY_STOP_PATIENCE],\n",
    "        \"Decay\": [DECAY]} # Use or not batchnorm\n",
    "    \n",
    "for i in product(*[hyps[j] for j in hyps]):\n",
    "    HYPS.append({a:b for a, b in zip(hyps, i)})\n",
    "#\"scheduler\": [\"None\", \"step\", \"cycle\"]\n",
    "#\"use_bn\": [True, False]\n",
    "\n",
    "#Visualization\n",
    "slices = [int(imgDim[0]/2), int(imgDim[1]/2), int(imgDim[2]/2)]\n",
    "vps = 10 #vector plot step \n",
    "FIGSIZE = 5 # figure size"
   ]
  },
  {
   "cell_type": "markdown",
   "metadata": {},
   "source": [
    "## Log parameters"
   ]
  },
  {
   "cell_type": "code",
   "execution_count": 6,
   "metadata": {},
   "outputs": [
    {
     "name": "stderr",
     "output_type": "stream",
     "text": [
      "/opt/conda/lib/python3.7/site-packages/neptune/new/attributes/attribute.py:64: NeptuneDeprecationWarning: The object you're logging will be implicitly cast to a string. We'll end support of this behavior in `neptune-client==1.0.0`. To log the object as a string, use `str(object)` instead.\n",
      "  return self.assign(value, wait)\n"
     ]
    }
   ],
   "source": [
    "run[\"config/parameters\"] = parameters\n",
    "run[\"config/hyperparameters\"] = hyps"
   ]
  },
  {
   "cell_type": "markdown",
   "metadata": {
    "id": "ORhTWZZvVw7c"
   },
   "source": [
    "## Geometry of the flow domain, fluid properties and boundary conditions"
   ]
  },
  {
   "cell_type": "markdown",
   "metadata": {},
   "source": [
    "Geometry\n",
    "\n",
    "It is convenient to present the flow domain $\\Omega$ in the form of a parallelepiped $x_i^- < x_i < x_i^+$ ($\\boldsymbol{L} = [l_i] = [x_i^+ - x_i^-]$, $i = 1,2,3$)."
   ]
  },
  {
   "cell_type": "code",
   "execution_count": 7,
   "metadata": {},
   "outputs": [],
   "source": [
    "# L_1 x L_2 x L_3 flow domain\n",
    "L = [0.012, 0.012, 0.5]#, [m]\n",
    "R = L[0]/2 #, [m]\n",
    "\n",
    "# Normalized coordinates, normalized finite diferences, limits and elementary volume\n",
    "X1N = torch.linspace(0, 1, SIZE[0])\n",
    "X2N = torch.linspace(0, 1, SIZE[1])\n",
    "X3N = torch.linspace(0, 1, SIZE[2])\n",
    "\n",
    "DX1N = X1N[1] - X1N[0]\n",
    "DX2N = X2N[1] - X2N[0]\n",
    "DX3N = X3N[1] - X3N[0]\n",
    "\n",
    "LIM1 = [0, L[0]]\n",
    "LIM2 = [0, L[1]]\n",
    "LIM3 = [0, L[2]]\n",
    "\n",
    "dOmega = DX1N * DX2N * DX3N * L[0] * L[1] * L[2] # elementary volume"
   ]
  },
  {
   "cell_type": "markdown",
   "metadata": {},
   "source": [
    "Boundary conditions\n",
    "1. The values of the flow rates $Q_i(x_i^-)$, $Q_i(x_i^+)$ through the edges $x_i = x_i^-$, $x_i = x_i^+$ of the flow domain are given:"
   ]
  },
  {
   "cell_type": "code",
   "execution_count": 8,
   "metadata": {},
   "outputs": [],
   "source": [
    "#Flow rates Q1-,Q2-,Q3-\n",
    "Qm = [0, 0, -2E-5]\n",
    "\n",
    "#Flow rates Q1+,Q2+,Q3+\n",
    "Qp = [0, 0, 2E-5]"
   ]
  },
  {
   "cell_type": "markdown",
   "metadata": {},
   "source": [
    "2. NL layers have fixed values of the unknown function $\\boldsymbol\\Psi$."
   ]
  },
  {
   "cell_type": "code",
   "execution_count": 9,
   "metadata": {},
   "outputs": [],
   "source": [
    "NL = 5"
   ]
  },
  {
   "cell_type": "markdown",
   "metadata": {},
   "source": [
    "Properties of non-Newtonian fluid and walls that are relatively rigid body.\n",
    "The Herschel-Bulkley law is applied:\n",
    "\\begin{equation}\n",
    "    \\mu(H)=q_0+q_1H^{z-1},\n",
    "\\end{equation}\n",
    "where $q_0$, $q_1$, $z$ are the parameters obtained from rheological tests."
   ]
  },
  {
   "cell_type": "code",
   "execution_count": 10,
   "metadata": {},
   "outputs": [],
   "source": [
    "#Non-Newtonian fluid viscosity\n",
    "Q0 = 1e-2\n",
    "Q1 = 0\n",
    "Z = 1\n",
    "# Fluid density, kg/m**3\n",
    "RHO = 1000\n",
    "#Newtonian fluid analogue\n",
    "MU = Q0\n",
    "\n",
    "#Critical Reynolds number\n",
    "Re_cr = 1100\n",
    "\n",
    "#Walls viscosity\n",
    "Q0W = 1e+3#1e-0#1e+3eye \n",
    "Q1W = 0#1e-0\n",
    "ZW =1#0.5"
   ]
  },
  {
   "cell_type": "markdown",
   "metadata": {
    "id": "Hw2AD3oWsfJb"
   },
   "source": [
    "## Additional functions"
   ]
  },
  {
   "cell_type": "markdown",
   "metadata": {
    "id": "2JAf1YAHtV15"
   },
   "source": [
    "3D numerical derivative"
   ]
  },
  {
   "cell_type": "code",
   "execution_count": 11,
   "metadata": {},
   "outputs": [],
   "source": [
    "def num_diff(f,dx1,dx2,dx3,template='sc'):\n",
    "    '''The following templates are applied:\n",
    "    sc - second-order central difference,\n",
    "    fc - fifth-order central difference.\n",
    "    Indexing:\n",
    "    i - index along x_1,\n",
    "    j - index along x_2,\n",
    "    k - index along x_3.\n",
    "    '''\n",
    "    #Shape\n",
    "    n1, n2, n3 = f.shape\n",
    "    \n",
    "    df_dx1, df_dx2, df_dx3 = torch.zeros(n1, n2, n3), torch.zeros(n1, n2, n3), torch.zeros(n1, n2, n3)\n",
    "    \n",
    "    #Device\n",
    "    if torch.cuda.is_available():\n",
    "        df_dx1 = df_dx1.to('cuda')\n",
    "        df_dx2 = df_dx2.to('cuda')\n",
    "        df_dx3 = df_dx3.to('cuda')\n",
    "    \n",
    "    #Derivatives\n",
    "    if template == 'sc':\n",
    "        # x1 derivative:\n",
    "        df_dx1[1:n1-1,:,:] = (f[2:,:,:] - f[:-2,:,:]) / (2 * dx1)\n",
    "        df_dx1[0,:,:] = (-f[2,:,:] + 4 * f[1,:,:] - 3 * f[0,:,:]) / (2 * dx1)\n",
    "        df_dx1[n1-1,:,:] = (3 * f[n1-1,:,:] - 4 * f[n1-2,:,:] + f[n1-3,:,:]) / (2 * dx1)\n",
    "        # x2 derivative:\n",
    "        df_dx2[:,1:n2-1, :] = (f[:, 2:, :] - f[:, :-2, :]) / (2 * dx2)\n",
    "        df_dx2[:,0, :] = (- f[:,2,:] + 4 * f[:,1,:] - 3 * f[:, 0, :]) / (2 * dx2)\n",
    "        df_dx2[:,n2-1, :] = (3 * f[:, n2 - 1, :] - 4 * f[:, n2 - 2, :] + f[:, n2 - 3, :]) / (2 * dx2)\n",
    "        # x3 derivative:\n",
    "        df_dx3[:, :, 1:n3-1] = (f[:,:,2:] - f[:,:,:-2]) / (2 * dx3)\n",
    "        df_dx3[:, :, 0] = (- f[:, :, 2] + 4 * f[:, :, 1] - 3 * f[:, :, 0]) / (2 * dx3)\n",
    "        df_dx3[:, :, n3-1] = (3 * f[:, :, n3 - 1] - 4 * f[:, :, n3 - 2] + f[:, :, n3 - 3]) / (2 * dx3)\n",
    "    elif template == 'fc':\n",
    "        # x1 derivative\n",
    "        df_dx1[2:n1-2, :, :] = (-f[4:, :,:] + 8 * f[3:n1-1, :, :] - 8 * f[1:n1-3, :, :] + f[:n1-4, :, :]) / (12 * dx1)\n",
    "        df_dx1[0, :, :] = (-3 * f[4, :, :] + 16 * f[3, :, :] - 36 * f[2, :, :] + 48 * f[1, :,:] - 25 * f[0, :, :]) / (12 * dx1)\n",
    "        df_dx1[1, :, :] = (f[4, :, :] - 6 * f[3, :, :] + 18 * f[2, :, :] - 10 * f[1, :, :] - 3 * f[0, :, :]) / (12 * dx1)\n",
    "        df_dx1[n1-2, :, :] = (3 * f[n1-1, :, :] + 10 * f[n1-2, :, :] - 18 * f[n1-3, :, :] + 6 * f[n1-4, :, :] - f[n1-5, :, :]) / (12 * dx1)\n",
    "        df_dx1[n1-1, :, :] = (25 * f[n1-1, :, :] - 48 * f[n1-2, :, :] + 36 * f[n1-3, :, :] - 16 * f[n1-4, :, :] + 3*f[n1-5, :, :]) / (12 * dx1)\n",
    "        \n",
    "        # x2 derivative\n",
    "        df_dx2[:, 2:n2-2, :] = (-f[:, 4:, :] + 8 * f[:, 3:n2-1, :] - 8 * f[:, 1:n2-3, :] + f[:, :n2-4, :]) / (12 * dx2)\n",
    "        df_dx2[:, 0, :] = (-3 * f[:,4, :] + 16 * f[:, 3, :] - 36 * f[:, 2, :] + 48 * f[:, 1, :] - 25 * f[:, 0, :]) / (12*dx2)\n",
    "        df_dx2[:, 1, :] = (f[:, 4, :] - 6 * f[:, 3, :] + 18 * f[:, 2, :] - 10 * f[:, 1, :] - 3 * f[:, 0, :]) / (12*dx2)\n",
    "        df_dx2[:, n2-2, :] = (3 * f[:, n2-1, :] + 10 * f[:, n2-2, :] - 18 * f[:, n2-3, :] + 6 * f[:, n2-4, :] - f[:, n2-5, :]) / (12*dx2)\n",
    "        df_dx2[:, n2-1, :] = (25 * f[:, n2-1, :] - 48 * f[:, n2-2, :] + 36 * f[:, n2-3, :] - 16 * f[:, n2-4, :] + 3 * f[:,n2-5, :]) / (12*dx2)       \n",
    "        # x3 derivative\n",
    "        df_dx3[:, :, 2:n3-2] = (-f[:, :, 4:] + 8 * f[:, :, 3:n3-1] - 8 * f[:, :, 1:n3-3] + f[:, :, :n3-4]) / (12 * dx3)\n",
    "        df_dx3[:, :, 0] = (-3 * f[:, :, 4] + 16 * f[:, :, 3] - 36 * f[:, :, 2] + 48 * f[:, :, 1] - 25 * f[:, :, 0]) / (12 * dx3)\n",
    "        df_dx3[:, :, 1] = (f[:, :, 4] - 6 * f[:, :, 3] + 18 * f[:, :, 2] - 10 * f[:, :, 1] - 3 * f[:, :, 0]) / (12 * dx3)\n",
    "        df_dx3[:, :, n3-2] = (3 * f[:, :, n3-1] + 10 * f[:, :, n3-2] - 18 * f[:, :, n3-3] + 6 * f[:,:,n3-4] - f[:, :, n3-5]) / (12 * dx3)\n",
    "        df_dx3[:, :, n3-1] = (25 * f[:,:, n3-1] - 48 * f[:,:, n3-2] + 36 * f[:,:, n3-3] - 16 * f[:,:, n3-4] + 3*f[:,:, n3-5]) / (12 * dx3)\n",
    "    \n",
    "    return df_dx1, df_dx2, df_dx3"
   ]
  },
  {
   "cell_type": "code",
   "execution_count": 12,
   "metadata": {},
   "outputs": [],
   "source": [
    "def num_diff2D(f,dx1,dx2,template='fc'):\n",
    "    '''The following templates are applied:\n",
    "    sc - second-order central difference,\n",
    "    fc - fifth-order central difference.\n",
    "    Indexing:\n",
    "    i - index along x_1,\n",
    "    j - index along x_2.\n",
    "    '''\n",
    "    #Shape\n",
    "    n1, n2 = f.shape\n",
    "    \n",
    "    df_dx1, df_dx2 = torch.zeros(n1, n2), torch.zeros(n1, n2)\n",
    "    \n",
    "    #Device\n",
    "    if torch.cuda.is_available():\n",
    "        df_dx1 = df_dx1.to('cuda')\n",
    "        df_dx2 = df_dx2.to('cuda')\n",
    "            \n",
    "    #Derivatives\n",
    "    if template == 'sc':\n",
    "        # x1 derivative:\n",
    "        df_dx1[1:n1-1,:] = (f[2:,:] - f[:-2,:]) / (2 * dx1)\n",
    "        df_dx1[0,:] = (-f[2,:] + 4 * f[1,:] - 3 * f[0,:]) / (2 * dx1)\n",
    "        df_dx1[n1-1,:] = (3 * f[n1-1,:] - 4 * f[n1-2,:] + f[n1-3,:]) / (2 * dx1)\n",
    "        # x2 derivative:\n",
    "        df_dx2[:,1:n2-1] = (f[:, 2:] - f[:, :-2]) / (2 * dx2)\n",
    "        df_dx2[:,0] = (- f[:,2] + 4 * f[:,1] - 3 * f[:, 0]) / (2 * dx2)\n",
    "        df_dx2[:,n2-1] = (3 * f[:, n2 - 1] - 4 * f[:, n2 - 2] + f[:, n2 - 3]) / (2 * dx2)\n",
    "    elif template == 'fc':\n",
    "        # 1st order x1 derivative:\n",
    "        df_dx1[:, 2:n2-2] = (-f[:, 4:] + 8 * f[:, 3:n2-1] - 8 * f[:, 1:n2-3] + f[:, :n2-4]) / (12 * dx1)\n",
    "        df_dx1[:, 0] = (-3 * f[:,4] + 16 * f[:, 3] - 36 * f[:, 2] + 48 * f[:, 1] - 25 * f[:,0]) / (12*dx1)\n",
    "        df_dx1[:, 1] = (f[:,4] - 6 * f[:, 3] + 18 * f[:, 2] - 10 * f[:, 1] - 3 * f[:,0]) / (12*dx1)\n",
    "        df_dx1[:, n2-2] = (3 * f[:, n2-1] + 10 * f[:, n2-2] - 18 * f[:, n2-3] + 6 * f[:, n2-4] - f[:,n2-5]) / (12*dx1)\n",
    "        df_dx1[:, n2-1] = (25 * f[:, n2-1] - 48 * f[:, n2-2] + 36 * f[:, n2-3] - 16 * f[:, n2-4] + 3 * f[:,n2-5]) / (12*dx1)\n",
    "      \n",
    "        # 1st order x2 derivative:\n",
    "        df_dx2[2:n1-2, :] = (-f[4:, :] + 8 * f[3:n1-1, :] - 8 * f[1:n1-3, :] + f[:n1-4, :]) / (12 * dx2)\n",
    "        df_dx2[0, :] = (-3 * f[4, :] + 16 * f[3, :] - 36 * f[2, :] + 48 * f[1, :] - 25 * f[0, :]) / (12 * dx2)\n",
    "        df_dx2[1, :] = (f[4, :] - 6 * f[3, :] + 18 * f[2, :] - 10 * f[1, :] - 3 * f[0, :]) / (12 * dx2)\n",
    "        df_dx2[n1-2, :] = (3 * f[n1-1, :] + 10 * f[n1-2, :] - 18 * f[n1-3, :] + 6 * f[n1-4, :] - f[n1-5, :]) / (12 * dx2)\n",
    "        df_dx2[n1-1, :] = (25 * f[n1-1, :] - 48 * f[n1-2, :] + 36 * f[n1-3, :] - 16 * f[n1-4, :] + 3*f[n1-5, :]) / (12 * dx2)     \n",
    "    \n",
    "    return df_dx1, df_dx2"
   ]
  },
  {
   "cell_type": "markdown",
   "metadata": {},
   "source": [
    "Check diff"
   ]
  },
  {
   "cell_type": "code",
   "execution_count": 13,
   "metadata": {},
   "outputs": [],
   "source": [
    "# x1 = torch.linspace(1, 2, 5)\n",
    "# x2 = torch.linspace(1, 2, 5)\n",
    "# x3 = torch.linspace(1, 2, 5)\n",
    "\n",
    "# dx = x1[1]-x1[0]\n",
    "# x1,x2,x3 = torch.meshgrid(x1,x2,x3)\n",
    "\n",
    "# v = (x1**2+ x2**3 + x3**4)\n",
    "\n",
    "# gradv = num_diff(v,dx,dx,dx,template='fc')\n",
    "# gradv"
   ]
  },
  {
   "cell_type": "markdown",
   "metadata": {},
   "source": [
    "Check diff2D"
   ]
  },
  {
   "cell_type": "code",
   "execution_count": 14,
   "metadata": {},
   "outputs": [],
   "source": [
    "# xx = torch.linspace(0, 1, 100)\n",
    "# xx, yy = torch.meshgrid(xx, xx)\n",
    "\n",
    "# dxx = xx[1][0]-xx[0][0]\n",
    "# zz = xx**3 + yy**3\n",
    "\n",
    "# diffzz = 3*xx**2 + 3*yy**2\n",
    "# diff1, diff2 = num_diff2D(zz, dxx, dxx) \n",
    "# diffzz_= diff1 + diff2\n",
    "\n",
    "# intzz1 = torch.trapz(diffzz)*dxx\n",
    "# intzz2 = torch.trapz(intzz1)*dxx\n",
    "\n",
    "# intzz1_ = torch.trapz(diffzz_)*dxx\n",
    "# intzz2_ = torch.trapz(intzz1_)*dxx\n",
    "\n",
    "# print(f'exact solution {intzz2}, approximate solution {intzz2_}')"
   ]
  },
  {
   "cell_type": "markdown",
   "metadata": {},
   "source": [
    "Visualization"
   ]
  },
  {
   "cell_type": "code",
   "execution_count": 15,
   "metadata": {},
   "outputs": [],
   "source": [
    "def vector_plot(arg, vec, FIGSIZE, vptitle='vector_plot',step=10):\n",
    "    gradmag = np.sqrt(vec[0]**2+vec[1]**2)\n",
    "    plt.pcolor(arg[0], arg[1], gradmag, cmap='rainbow')\n",
    "    plt.colorbar()\n",
    "    plt.quiver(arg[0][::step,::step], arg[1][::step,::step], vec[0][::step,::step], vec[1][::step,::step])\n",
    "    plt.title(vptitle)\n",
    " "
   ]
  },
  {
   "cell_type": "markdown",
   "metadata": {
    "id": "mH8zURs8A1Sr"
   },
   "source": [
    "## Major functions\n",
    "\n",
    "For any given function $\\boldsymbol\\Psi = [\\psi_i]$ that has fixed values on the boundaries of the flow domain together with its first, second, and third derivatives, the velocity distribution can be expressed in compact or in expanded form, respectively:\n",
    "\\begin{equation} \n",
    "    \\boldsymbol{V} = \n",
    "    \\begin{bmatrix}\n",
    "    \\epsilon_{ijk}\n",
    "    \\frac{\\partial \\psi_k(x_i,x_j)}{\\partial x_j}\n",
    "    \\end{bmatrix},\n",
    "\\end{equation}\n",
    "where $\\epsilon_{ijk}$ is the Levi-Civita symbol,\n",
    "\n",
    "\\begin{equation} \n",
    "    \\boldsymbol{V} = \n",
    "    \\begin{bmatrix}\n",
    "    \\frac{\\partial \\psi_3}{\\partial x_2} - \\frac{\\partial \\psi_2}{\\partial x_3}, &\n",
    "    \\frac{\\partial \\psi_1}{\\partial x_3} - \\frac{\\partial \\psi_3}{\\partial x_1}, &\n",
    "    \\frac{\\partial \\psi_2}{\\partial x_1} - \\frac{\\partial \\psi_1}{\\partial x_2}\n",
    "    \\end{bmatrix}.\n",
    "\\end{equation} "
   ]
  },
  {
   "cell_type": "code",
   "execution_count": 16,
   "metadata": {
    "id": "WMUIipgs5t3Q"
   },
   "outputs": [],
   "source": [
    "def velocityDistr(psi1,psi2,psi3,dx1n,dx2n,dx3n,deltax1,deltax2,deltax3):\n",
    "    '''Velocity distribution [v_i] in the flow domain\n",
    "    '''\n",
    "    \n",
    "    #Psi function and it's partial derivatives are 2D functions\n",
    "    dpsi1dx2, dpsi1dx3 = num_diff2D(psi1, dx1n, dx3n)\n",
    "    dpsi2dx1, dpsi2dx3 = num_diff2D(psi2, dx1n, dx3n)\n",
    "    dpsi3dx1, dpsi3dx2 = num_diff2D(psi3, dx1n, dx2n)\n",
    "    \n",
    "    #Expand into 3D, then calculate the velocity distribution\n",
    "    dpsi1dx2 = torch.unsqueeze(dpsi1dx2,0)\n",
    "    dpsi1dx3 = torch.unsqueeze(dpsi1dx3,0)\n",
    "    \n",
    "    dpsi2dx1 = torch.unsqueeze(dpsi2dx1,1)\n",
    "    dpsi2dx3 = torch.unsqueeze(dpsi2dx3,1)\n",
    "    \n",
    "    dpsi3dx1 = torch.unsqueeze(dpsi3dx1,2)\n",
    "    dpsi3dx2 = torch.unsqueeze(dpsi3dx2,2)\n",
    "    \n",
    "    v1 = (dpsi3dx2.expand(-1,-1,SIZE[2]) / deltax2) - (dpsi2dx3.expand(-1,SIZE[1],-1) / deltax3)\n",
    "    v2 = (dpsi1dx3.expand(SIZE[0],-1,-1) / deltax3) - (dpsi3dx1.expand(-1,-1,SIZE[2]) / deltax1)\n",
    "    v3 = (dpsi2dx1.expand(-1,SIZE[1],-1) / deltax1) - (dpsi1dx2.expand(SIZE[0],-1,-1) / deltax2)\n",
    "    \n",
    "    return v1, v2, v3"
   ]
  },
  {
   "cell_type": "markdown",
   "metadata": {},
   "source": [
    "Taking into account the symmetry of the shear rate tensor $\\xi_{i,j}=\\xi_{i,j}$, the tensor has the following form:\n",
    "\n",
    "\\begin{equation}\n",
    "    \\boldsymbol{T}_\\xi= \\frac{1}{2}   \n",
    "    \\begin{bmatrix}\n",
    "    2\\frac{\\partial v_1}{\\partial x_1}, & \\frac{\\partial v_1}{\\partial x_2} - \\frac{\\partial v_2}{\\partial x_1}, & \\frac{\\partial v_1}{\\partial x_3} - \\frac{\\partial v_3}{\\partial x_1} \\\\\n",
    "     \\frac{\\partial v_1}{\\partial x_2} - \\frac{\\partial v_2}{\\partial x_1}, & 2\\frac{\\partial v_2}{\\partial x_2}, & \\frac{\\partial v_2}{\\partial x_3} - \\frac{\\partial v_3}{\\partial x_2}  \\\\\n",
    "    \\frac{\\partial v_1}{\\partial x_3} - \\frac{\\partial v_3}{\\partial x_1}, & \\frac{\\partial v_2}{\\partial x_3} - \\frac{\\partial v_3}{\\partial x_2},  & 2\\frac{\\partial v_3}{\\partial x_3}  \\\\\n",
    "    \\end{bmatrix}.\n",
    "\\end{equation}\n",
    "\n",
    "In the general case of a three dimensional flow the shear strain rate intensity $H$ depends on all the components of the shear rate tensor:\n",
    "\\begin{equation}\n",
    "    H =\\sqrt{2(\\xi_{11}^2 + \\xi_{22}^2 + \\xi_{33}^2 + 2\\xi_{12}^2 + 2\\xi_{13}^2 + 2\\xi_{23}^2)}. \n",
    "\\end{equation}"
   ]
  },
  {
   "cell_type": "code",
   "execution_count": 17,
   "metadata": {
    "id": "716qlRJoNglx"
   },
   "outputs": [],
   "source": [
    "def TksiDistr(v1,v2,v3,dx1n,dx2n,dx3n,deltax1,deltax2,deltax3):\n",
    "    '''Strain rate tensor Txi and the shear rate intensity Eta squared\n",
    "    '''    \n",
    "    \n",
    "    dv1dx1, dv1dx2, dv1dx3 = num_diff(v1, dx1n, dx2n, dx3n)\n",
    "    dv2dx1, dv2dx2, dv2dx3 = num_diff(v2, dx1n, dx2n, dx3n)\n",
    "    dv3dx1, dv3dx2, dv3dx3 = num_diff(v3, dx1n, dx2n, dx3n)\n",
    "    \n",
    "    #Txi\n",
    "    xi11 = dv1dx1 / deltax1\n",
    "    xi12 = 0.5 * ((dv1dx2 / deltax2) + (dv2dx1 / deltax1))\n",
    "    xi13 = 0.5 * ((dv1dx3 / deltax3) + (dv3dx1 / deltax1))\n",
    "    \n",
    "    xi22 = dv2dx2 / deltax2\n",
    "    xi23 = 0.5 * ((dv2dx3 / deltax3) + (dv3dx2 / deltax2))\n",
    "    \n",
    "    xi33 = dv3dx3 / deltax3\n",
    "    \n",
    "    #Eta^2    \n",
    "    EtaEta = (2 * (xi11 * xi11 + xi22 * xi22 + xi33 * xi33 + \n",
    "                   2 * (xi12 * xi12 + xi13 * xi13 + xi23 * xi23)))\n",
    "  \n",
    "    return xi11, xi12, xi22, EtaEta"
   ]
  },
  {
   "cell_type": "markdown",
   "metadata": {},
   "source": [
    "## Callbacks"
   ]
  },
  {
   "cell_type": "code",
   "execution_count": 18,
   "metadata": {},
   "outputs": [],
   "source": [
    "class EarlyStop():\n",
    "    \"\"\"Callback for early stop train process.\n",
    "    \n",
    "    Args:\n",
    "        monitor (str): value for monitoring.\n",
    "        patience (int): Number of epochs with no improvement after which training will be stopped.\n",
    "        mode (str): One of {\"min\", \"max\"}. In min mode, training will stop when the quantity monitored has stopped decreasing.\n",
    "            In \"max\" mode it will stop when the quantity monitored has stopped increasing.\n",
    "    \n",
    "    Attributes:\n",
    "        history (dict): Dict of lists with train history. Key \"monitor\" contains list of monitoring values. \n",
    "        steps (int): Number of passed epoches. \n",
    "        best_step (int): Number of best epoch. \n",
    "        best_monitor (float): Best of monitoring value.\n",
    "        model (Model): Training model\n",
    "    \"\"\"\n",
    "    \n",
    "    def __init__(self, monitor, patience, mode):\n",
    "        self.monitor = monitor\n",
    "        self.patience = patience\n",
    "        self.mode = mode\n",
    "        self.history = None\n",
    "        self.steps = -1\n",
    "        self.best_step = -1\n",
    "        if self.mode == 'max':\n",
    "            self.best_monitor = 0\n",
    "        elif self.mode == 'min':\n",
    "            self.best_monitor = 1e99999\n",
    "            \n",
    "    def start(self, history, model):\n",
    "        \"\"\"Start and init callback.\n",
    "        \n",
    "        Args:\n",
    "            history (dict): Dict of lists with train history. Key \"monitor\" contains list of monitoring values. \n",
    "            model (Model): Training model.\n",
    "        \"\"\"\n",
    "        \n",
    "        self.history = history\n",
    "        self.model = model\n",
    "        \n",
    "    def step(self):\n",
    "        \"\"\"Make a step of callback.\n",
    "        \n",
    "        Returns:\n",
    "            tuple: (event, stop):\n",
    "                event (str): Decription of event. If event not did not happen then event = ''.\n",
    "                stop (bool): Flag of stopping train process.\n",
    "        \"\"\"\n",
    "        \n",
    "        self.steps += 1\n",
    "        \n",
    "        if self.mode == 'max':\n",
    "            if self.history[self.monitor][-1] > self.best_monitor:\n",
    "                self.best_monitor = self.history[self.monitor][-1]\n",
    "                self.best_step = self.steps\n",
    "        elif self.mode == 'min':\n",
    "            if self.history[self.monitor][-1] < self.best_monitor:\n",
    "                self.best_monitor = self.history[self.monitor][-1]\n",
    "                self.best_step = self.steps\n",
    "        \n",
    "        if self.steps - self.best_step > self.patience:\n",
    "            return 'Early stop with {}: {:.4f}'.format(self.monitor, self.history[self.monitor][self.best_step]), True\n",
    "        return None, False\n",
    "    \n",
    "    def stop(self):\n",
    "        \"\"\"Delete model from callback.\"\"\"\n",
    "        \n",
    "        self.model = None\n",
    "        torch.cuda.empty_cache()\n",
    "\n",
    "\n",
    "class SaveBest():\n",
    "    \"\"\"Callback for save model if there is an improvement.\n",
    "    \n",
    "    Args:\n",
    "        monitor (str): value for monitoring.\n",
    "        model_path (str): Path for saving model.\n",
    "        mode (str): One of {\"min\", \"max\"}. In min mode, training will stop when the quantity monitored has stopped decreasing.\n",
    "            In \"max\" mode it will stop when the quantity monitored has stopped increasing.\n",
    "    \n",
    "    Attributes:\n",
    "        history (dict): Dict of lists with train history. Key \"monitor\" contains list of monitoring values. \n",
    "        steps (int): Number of passed epoches. \n",
    "        best_step (int): Number of best epoch. \n",
    "        best_monitor (float): Best of monitoring value.\n",
    "        model (Model): Training model\n",
    "    \"\"\"\n",
    "    \n",
    "    def __init__(self, monitor, model_path, mode):\n",
    "        self.monitor = monitor\n",
    "        self.model_path = model_path\n",
    "        self.mode = mode\n",
    "        self.history = None\n",
    "        self.steps = -1\n",
    "        self.best_step = -1\n",
    "        if self.mode == 'max':\n",
    "            self.best_monitor = 0\n",
    "        elif self.mode == 'min':\n",
    "            self.best_monitor = 1e99999\n",
    "    \n",
    "    def start(self, history, model):\n",
    "        \"\"\"Start and init callback. Save first version of model.\n",
    "        \n",
    "        Args:\n",
    "            history (dict): Dict of lists with train history. Key \"monitor\" contains list of monitoring values. \n",
    "            model (Model): Training model\n",
    "        \"\"\"\n",
    "        \n",
    "        self.history = history\n",
    "        self.model = model\n",
    "        torch.save(self.model.state_dict(), self.model_path)\n",
    "    \n",
    "    def step(self):\n",
    "        \"\"\"Make a step of callback.\n",
    "        \n",
    "        Returns:\n",
    "            tuple: (event, stop):\n",
    "                event (str): Decription of event. If event not did not happen then event = ''.\n",
    "                stop (bool): Flag of stopping train process.\n",
    "        \"\"\"\n",
    "        \n",
    "        self.steps += 1\n",
    "        \n",
    "        if self.mode == 'max':\n",
    "            if self.history[self.monitor][-1] > self.best_monitor:\n",
    "                self.best_monitor = self.history[self.monitor][-1]\n",
    "                self.best_step = self.steps\n",
    "        elif self.mode == 'min':\n",
    "            if self.history[self.monitor][-1] < self.best_monitor:\n",
    "                self.best_monitor = self.history[self.monitor][-1]\n",
    "                self.best_step = self.steps\n",
    "        \n",
    "        if self.steps == self.best_step:\n",
    "            torch.save(self.model.state_dict(), self.model_path)\n",
    "            return 'Save model with {}: {:.4f}'.format(self.monitor, self.history[self.monitor][self.best_step]), False\n",
    "        return None, False\n",
    "    \n",
    "    def stop(self):\n",
    "        \"\"\"Delete model from callback.\"\"\"\n",
    "        \n",
    "        self.model = None\n",
    "        torch.cuda.empty_cache()"
   ]
  },
  {
   "cell_type": "markdown",
   "metadata": {},
   "source": [
    "## Training function"
   ]
  },
  {
   "cell_type": "code",
   "execution_count": 19,
   "metadata": {},
   "outputs": [],
   "source": [
    "def train(model, inp, optimizer,\n",
    "          criterion, epochs, print_every, callbacks, lr_scheduler):\n",
    "    \"\"\"Make model prediction on image.\n",
    "    \n",
    "    Args:\n",
    "        model (Model): Model for training.\n",
    "        inp (Tensor): Inpu image.\n",
    "        optimizer (Optimizer): Optimizer. \n",
    "        criterion (callable): Function for loss calculation.\n",
    "        epochs (int): Number of epoches.\n",
    "        print_every (int): Number of iteration for update statusbar.\n",
    "        callbacks (list): List of callbacks\n",
    "    \n",
    "    Returns:\n",
    "        history (dict): Dict of lists with train history.\n",
    "    \"\"\"\n",
    "    \n",
    "    history = {'Train loss':[]}\n",
    "    \n",
    "    if callbacks:\n",
    "        for i in callbacks:\n",
    "            i.start(history, model)\n",
    "    \n",
    "    train_print = ''\n",
    "    state_text_last = ''\n",
    "    bar = tqdm(range(epochs), desc=\"Epoch\", postfix=train_print)\n",
    "    for e in range(epochs):\n",
    "        model.train()\n",
    "\n",
    "        running_loss = 0\n",
    "\n",
    "        stop = False\n",
    "        \n",
    "        steps = 0\n",
    "        \n",
    "        optimizer.zero_grad()\n",
    "        \n",
    "        out = model.forward(inp)\n",
    "            \n",
    "        loss = criterion(out)\n",
    "        if e > PATIENCE:\n",
    "            run[\"training/batch/loss_training\"].log(loss)\n",
    "\n",
    "        loss.backward()\n",
    "                \n",
    "        optimizer.step()\n",
    "            \n",
    "        with torch.no_grad():\n",
    "            running_loss = loss.item()\n",
    "        \n",
    "        if (e + 1) % print_every == 0:\n",
    "            print(f'epoch {e+1}/{epochs}, loss = {running_loss:.4f}')\n",
    "            train_print = \"Train loss: {:.4f}\".format(running_loss) + ', ' + state_text_last\n",
    "            bar.postfix = train_print\n",
    "            model.train()\n",
    "            \n",
    "        \n",
    "        history['Train loss'].append(running_loss)\n",
    "        \n",
    "        if lr_scheduler:\n",
    "            if \"OneCycleLR\" in str(lr_scheduler):\n",
    "                lr_scheduler.step()\n",
    "            else:\n",
    "                lr_scheduler.step(running_loss)\n",
    "        \n",
    "        if callbacks:\n",
    "            for i in callbacks:\n",
    "                state_text, state = i.step()\n",
    "                if state_text:\n",
    "                    state_text_last = state_text\n",
    "                if state:\n",
    "                    stop = True\n",
    "        if stop:\n",
    "            train_print = \"Train loss: {:.4f}\".format(running_loss) + ', ' + state_text_last\n",
    "            bar.postfix = train_print\n",
    "            if callbacks:\n",
    "                for i in callbacks:\n",
    "                    i.stop()\n",
    "            model = None\n",
    "            inputs = None\n",
    "            targets = None\n",
    "            outputs = None\n",
    "            loss = None\n",
    "            sm = None\n",
    "            \n",
    "            torch.cuda.empty_cache()\n",
    "            \n",
    "            break\n",
    "            \n",
    "        if e + 1 != epochs:\n",
    "            bar.update()\n",
    "                        \n",
    "        inputs = None\n",
    "        targets = None\n",
    "        outputs = None\n",
    "        loss = None\n",
    "        sm = None\n",
    "        \n",
    "        torch.cuda.empty_cache()\n",
    "      \n",
    "    bar.update()\n",
    "    bar.close()\n",
    "    \n",
    "    if callbacks:\n",
    "        for i in callbacks:\n",
    "            i.stop()\n",
    "    \n",
    "    model = None\n",
    "    \n",
    "    torch.cuda.empty_cache()\n",
    "    \n",
    "    return history\n",
    "\n",
    "\n",
    "def plot_train_history(history):\n",
    "    \"\"\"Plot train history.\n",
    "    \n",
    "    Args:\n",
    "        history (dict): Dict of lists with train history..\n",
    "    \"\"\"\n",
    "    \n",
    "    fig, ax = plt.subplots(figsize = (FIGSIZE * 2, FIGSIZE))\n",
    "    \n",
    "    ax.plot(history['Train loss'], c = 'r')\n",
    "    ax.set_title('Loss')\n",
    "    ax.set_xlabel('Epochs')\n",
    "    ax.set_ylabel('Loss')\n",
    "    ax.legend(['Train'])\n",
    "    ax.set_yscale('log')\n",
    "    plt.subplots_adjust(left=None, bottom=None, right=None, top=None, wspace=None, hspace=0.3)\n",
    "    plt.show()\n",
    "\n",
    "    \n",
    "def dict2str(dict1):\n",
    "    out = str(dict1).replace(\"}\", \"\")\n",
    "    out = str(out).replace(\"{\", \"\")\n",
    "    out = str(out).replace(\"\\\"\", \"\")\n",
    "    out = str(out).replace(\"\\'\", \"\")\n",
    "    out = str(out).replace(\":\", \"\")\n",
    "    return out"
   ]
  },
  {
   "cell_type": "markdown",
   "metadata": {},
   "source": [
    "# Analytical solution in case if the fluid is Newtonian\n",
    "\n",
    "The task of fluid flow through a pipe is known as Poiseuille flow and it has a simple analytical solution given in **cylindrical coordinates** $[\\rho, \\theta, x_3]$:\n",
    "\n",
    "\\begin{equation}\n",
    "    {v_3} = - \\frac{1}{4\\mu}\\frac{\\partial p}{\\partial x_3}(R^2 - \\rho^2),\n",
    "\\end{equation}\n",
    "where ${\\partial p}/{\\partial x_3}$ is the pressure drop along the axis of the cylinder.\n",
    "\n",
    "The flow rate trough the pipe cross section (surface $S_3$) is equal to:\n",
    "\n",
    "\\begin{equation}\n",
    "    {Q_3} = \\iint_{S_3} v_3 \\rho\\,d\\rho\\,d\\theta =  - \\frac{\\pi}{8}\\frac{\\partial p}{\\partial x_3}\\frac{R^4}{\\mu}.\n",
    "\\end{equation}\n",
    "\n",
    "Given data"
   ]
  },
  {
   "cell_type": "code",
   "execution_count": 20,
   "metadata": {},
   "outputs": [
    {
     "name": "stdout",
     "output_type": "stream",
     "text": [
      "fluid viscosity: mu = 0.01,\n",
      "flow rate along x_3 axis: Q3 = 2e-05.\n"
     ]
    }
   ],
   "source": [
    "print(f'fluid viscosity: mu = {MU},')\n",
    "print(f'flow rate along x_3 axis: Q3 = {Qp[2]}.')"
   ]
  },
  {
   "cell_type": "markdown",
   "metadata": {},
   "source": [
    "Simulation results"
   ]
  },
  {
   "cell_type": "code",
   "execution_count": 21,
   "metadata": {},
   "outputs": [
    {
     "name": "stdout",
     "output_type": "stream",
     "text": [
      "pressure drop along x_3 axis: dpdx3 = -392.97516812813666,\n",
      "maximum velocity: v3 = 0.35367765131532297,\n",
      "internal power: Int = 0,\n",
      "Reynolds number Re = 424.41318157838754 is smaller than critical Re < 1100: True\n",
      "Pipe length L_3 = 0.5 is longer than critical L_cr = 0.40743665431525206: True\n"
     ]
    }
   ],
   "source": [
    "dpdx3a = - Qp[2]*8*MU/(np.pi*(R**4))\n",
    "v3amax = -1/(4*MU)*dpdx3a*(R**2)\n",
    "Int = 0\n",
    "\n",
    "Re = RHO*v3amax*2*R/MU\n",
    "Lcr = 0.16*R*Re\n",
    "\n",
    "#v3a = -1/(4*mu)*dpdx_3*(R**2 - x_1**2 - x_2**2)\n",
    "\n",
    "print(f'pressure drop along x_3 axis: dpdx3 = {dpdx3a},')\n",
    "print(f'maximum velocity: v3 = {v3amax},')\n",
    "print(f'internal power: Int = {Int},')\n",
    "print(f'Reynolds number Re = {Re} is smaller than critical Re < {Re_cr}: {Re<Re_cr}')\n",
    "print(f'Pipe length L_3 = {L[2]} is longer than critical L_cr = {Lcr}: {L[2]>Lcr}')\n"
   ]
  },
  {
   "cell_type": "markdown",
   "metadata": {},
   "source": [
    "# Machine learning solution\n",
    "## Flow domain visualization"
   ]
  },
  {
   "cell_type": "code",
   "execution_count": 22,
   "metadata": {},
   "outputs": [
    {
     "data": {
      "image/png": "[encoded data removed]",
      "text/plain": [
       "<Figure size 1080x360 with 3 Axes>"
      ]
     },
     "metadata": {
      "needs_background": "light"
     },
     "output_type": "display_data"
    }
   ],
   "source": [
    "nr=1\n",
    "nc=len(SIZE)\n",
    "\n",
    "plt.figure(figsize=(nc*FIGSIZE,nr*FIGSIZE))\n",
    "\n",
    "plt.subplot(nr,nc,1)\n",
    "plt.contourf(img[0,slices[0],:,:])\n",
    "plt.title('$x_1 = const$')\n",
    "\n",
    "plt.subplot(nr,nc,2)\n",
    "plt.contourf(img[0,:,slices[1],:])\n",
    "plt.title('$x_2 = const$')\n",
    "\n",
    "plt.subplot(nr,nc,3)\n",
    "plt.contourf(img[0,:,:,slices[2]])\n",
    "plt.title('$x_3 = const$')\n",
    "\n",
    "plt.show()"
   ]
  },
  {
   "cell_type": "code",
   "execution_count": 23,
   "metadata": {},
   "outputs": [
    {
     "data": {
      "text/plain": [
       "(tensor(0.), tensor(1.))"
      ]
     },
     "execution_count": 23,
     "metadata": {},
     "output_type": "execute_result"
    }
   ],
   "source": [
    "img.min(),img.max()"
   ]
  },
  {
   "cell_type": "markdown",
   "metadata": {
    "id": "XaVb_Ejsmynq"
   },
   "source": [
    "## Kinematic properties\n",
    "The flow rate through a cross-section $x_i = const$ can be expressed as follows:\n",
    "\n",
    "\\begin{equation} \n",
    "    \\label{eq:flowRate}\n",
    "    Q_i(x_i) = -\\epsilon_{ijk}(\\psi_j(x_i,x_k^+) - \\psi_j(x_i,x_k^-))l_j,\n",
    "\\end{equation}\n",
    "where $\\epsilon_{ijk}$ is the Levi-Civita symbol, $l_j = (x_j^+ - x_j^-)$.\n",
    "\n",
    "The array of right-side parts and the matrix of coefficeints. "
   ]
  },
  {
   "cell_type": "code",
   "execution_count": 24,
   "metadata": {},
   "outputs": [],
   "source": [
    "#Array of right-side parts\n",
    "b = np.concatenate((np.zeros(6), np.asarray(Qm + Qp)), axis=0) \n",
    "\n",
    "#Matrix of coefficients\n",
    "Lambda = np.array([[ 1,-1, 0, 0, 0, 0, 0, 0, 0, 0, 0, 0],\n",
    "                   [ 0, 0, 1,-1, 0, 0, 0, 0, 0, 0, 0, 0],\n",
    "                   [ 0, 0, 0, 0, 1,-1, 0, 0, 0, 0, 0, 0],\n",
    "                   [ 0, 0, 0, 0, 0, 0, 1,-1, 0, 0, 0, 0],\n",
    "                   [ 0, 0, 0, 0, 0, 0, 0, 0, 1,-1, 0, 0],\n",
    "                   [ 0, 0, 0, 0, 0, 0, 0, 0, 0, 0, 1,-1],\n",
    "                   [    0,    0,    0,    0, L[1],-L[1],    0,    0,-L[2], L[2],    0,    0],\n",
    "                   [-L[0], L[0],    0,    0,    0,    0,    0,    0,-L[2],    0,-L[2],    0],\n",
    "                   [ L[0],    0,-L[0],    0,-L[1],    0, L[1],    0,    0,    0,    0,    0],\n",
    "                   [    0,    0,    0,    0,    0,    0, L[1],-L[1],    0,    0,-L[2], L[2]],\n",
    "                   [    0,    0,-L[0], L[0],    0,    0,    0,    0,    0, L[2],    0,-L[2]],\n",
    "                   [    0, L[0],    0,-L[0],    0,-L[1],    0, L[1],    0,    0,    0,    0]])"
   ]
  },
  {
   "cell_type": "code",
   "execution_count": 25,
   "metadata": {},
   "outputs": [
    {
     "data": {
      "text/plain": [
       "0.0"
      ]
     },
     "execution_count": 25,
     "metadata": {},
     "output_type": "execute_result"
    }
   ],
   "source": [
    "np.linalg.det(Lambda)"
   ]
  },
  {
   "cell_type": "markdown",
   "metadata": {},
   "source": [
    "Array of unknowns $y$:\n",
    "\\begin{equation}\n",
    "    \\begin{bmatrix}\n",
    "    \\psi_1^{--}, & \\psi_1^{-+}, & \\psi_1^{+-}, & \\psi_1^{++}, & \\psi_2^{--}, & \\psi_2^{-+}, & \\psi_2^{+-}, & \\psi_2^{++}, & \\psi_3^{--}, & \\psi_3^{-+}, & \\psi_3^{+-}, & \\psi_3^{++}\n",
    "    \\end{bmatrix}.\n",
    "\\end{equation}\n",
    "\n",
    "Solution of the system of linear equations $\\boldsymbol\\Lambda \\cdot y = b$. DOESN'T WORK SO FAR"
   ]
  },
  {
   "cell_type": "code",
   "execution_count": 26,
   "metadata": {},
   "outputs": [],
   "source": [
    "# y = np.linalg.solve(Lambda, b)\n",
    "# y"
   ]
  },
  {
   "cell_type": "code",
   "execution_count": 27,
   "metadata": {},
   "outputs": [],
   "source": [
    "psimm = torch.tensor([0, 0, 0])\n",
    "psipp = torch.tensor([- Qp[2]/(L[0]+L[1]), Qp[2]/(L[0]+L[1]), 0])"
   ]
  },
  {
   "cell_type": "code",
   "execution_count": 50,
   "metadata": {
    "colab": {
     "base_uri": "https://localhost:8080/",
     "height": 232
    },
    "id": "Gb4BFZNWnBsh",
    "outputId": "0dde0211-4908-4885-e6ac-4fc8f130ed54"
   },
   "outputs": [
    {
     "data": {
      "image/png": "[encoded data removed]",
      "text/plain": [
       "<Figure size 1080x720 with 6 Axes>"
      ]
     },
     "metadata": {
      "needs_background": "light"
     },
     "output_type": "display_data"
    },
    {
     "name": "stdout",
     "output_type": "stream",
     "text": [
      "tensor(-0.0008) tensor(0.0008) tensor(0.)\n",
      "Q1+ = 0.0\n",
      "Q2+ = 0.0\n",
      "Q3+ = 2.0000001313746907e-05\n"
     ]
    }
   ],
   "source": [
    "#Initialization\n",
    "psi1 = (torch.linspace(psimm[0], psipp[0], SIZE[1], dtype=torch.float32) * torch.ones(SIZE[1],SIZE[2])).T\n",
    "psi2 = (torch.linspace(psimm[1], psipp[1], SIZE[1], dtype=torch.float32) * torch.ones(SIZE[0],SIZE[2])).T\n",
    "psi3 = (torch.linspace(psimm[2], psipp[2], SIZE[1], dtype=torch.float32) * torch.ones(SIZE[0],SIZE[1])).T\n",
    "\n",
    "psi = [psi1, psi2, psi3]\n",
    "\n",
    "#Convert psi into tensor 1 x 3 x SIZE[0] x SIZE[1}\n",
    "psi = torch.stack(psi)\n",
    "psi = torch.unsqueeze(psi,0)\n",
    "psi.size()\n",
    "\n",
    "# Fix constant values in NL first and last layers and set the boundary conditions (set flow rates)\n",
    "for i in range(len(SIZE)):\n",
    "    psi[0,i,:NL,:]  = psimm[i]\n",
    "    psi[0,i,-NL:,:] = psipp[i]\n",
    "\n",
    "nr=2\n",
    "nc=len(SIZE)\n",
    "#Visualization\n",
    "fig = plt.figure(figsize=(FIGSIZE*nc, FIGSIZE*nr))\n",
    "for i in range(len(SIZE)):\n",
    "    plt.subplot(nr,nc,i+1)\n",
    "    plt.imshow(psi[0,i,::])\n",
    "    plt.title(f'$\\psi_{i+1}$')\n",
    "    plt.subplot(nr,nc,i+1+nc)\n",
    "    plt.plot(psi[0,i,:,slices[i]])\n",
    "    plt.grid()\n",
    "plt.show()\n",
    "\n",
    "#Check flow rates\n",
    "print(psi1[-1,-1], psi2[-1,-1], psi3[-1,-1])\n",
    "print(f'Q1+ = {- (psi[0,1,-1,-1] - psi[0,1,-1,0])*L[1] + (psi[0,2,-1,-1] - psi[0,2,-1,0])*L[2]}')\n",
    "print(f'Q2+ = {- (psi[0,2,-1,-1] - psi[0,2,0,-1])*L[2] + (psi[0,0,-1,-1] - psi[0,0,-1,0])*L[0]}')\n",
    "print(f'Q3+ = {- (psi[0,0,-1,-1] - psi[0,0,0,-1])*L[0] + (psi[0,1,-1,-1] - psi[0,1,0,-1])*L[1]}')"
   ]
  },
  {
   "cell_type": "markdown",
   "metadata": {},
   "source": [
    "Convert psi into tensor 1 x 3 x SIZE[0] x SIZE[1}"
   ]
  },
  {
   "cell_type": "code",
   "execution_count": 29,
   "metadata": {},
   "outputs": [
    {
     "data": {
      "text/plain": [
       "torch.Size([1, 3, 128, 128])"
      ]
     },
     "execution_count": 29,
     "metadata": {},
     "output_type": "execute_result"
    }
   ],
   "source": [
    "# psi = torch.stack(psi)\n",
    "# psi = torch.unsqueeze(psi,0)\n",
    "# psi.size()"
   ]
  },
  {
   "cell_type": "markdown",
   "metadata": {
    "id": "FPeLHoR31p1D"
   },
   "source": [
    "## Create model\n",
    "Unet architecture [2] is used"
   ]
  },
  {
   "cell_type": "code",
   "execution_count": 30,
   "metadata": {
    "id": "PID82zl-cxN4"
   },
   "outputs": [],
   "source": [
    "class UNet(nn.Module):\n",
    "\n",
    "    def __init__(self, in_channels=3, out_channels=1, init_features=4, use_bn=True):\n",
    "        super(UNet, self).__init__()\n",
    "\n",
    "        features = init_features\n",
    "        self.encoder1 = UNet._block(in_channels, features, name=\"enc1\", use_bn=use_bn)\n",
    "        self.pool1 = nn.MaxPool2d(kernel_size=2, stride=2)\n",
    "        self.encoder2 = UNet._block(features, features * 2, name=\"enc2\", use_bn=use_bn)\n",
    "        self.pool2 = nn.MaxPool2d(kernel_size=2, stride=2)\n",
    "        self.encoder3 = UNet._block(features * 2, features * 4, name=\"enc3\", use_bn=use_bn)\n",
    "        self.pool3 = nn.MaxPool2d(kernel_size=2, stride=2)\n",
    "        self.encoder4 = UNet._block(features * 4, features * 8, name=\"enc4\", use_bn=use_bn)\n",
    "        self.pool4 = nn.MaxPool2d(kernel_size=2, stride=2)\n",
    "\n",
    "        self.bottleneck = UNet._block(features * 8, features * 16, name=\"bottleneck\", use_bn=use_bn)\n",
    "\n",
    "        self.upconv4 = nn.ConvTranspose2d(\n",
    "            features * 16, features * 8, kernel_size=2, stride=2\n",
    "        )\n",
    "        self.decoder4 = UNet._block((features * 8) * 2, features * 8, name=\"dec4\", use_bn=use_bn)\n",
    "        self.upconv3 = nn.ConvTranspose2d(\n",
    "            features * 8, features * 4, kernel_size=2, stride=2\n",
    "        )\n",
    "        self.decoder3 = UNet._block((features * 4) * 2, features * 4, name=\"dec3\", use_bn=use_bn)\n",
    "        self.upconv2 = nn.ConvTranspose2d(\n",
    "            features * 4, features * 2, kernel_size=2, stride=2\n",
    "        )\n",
    "        self.decoder2 = UNet._block((features * 2) * 2, features * 2, name=\"dec2\", use_bn=use_bn)\n",
    "        self.upconv1 = nn.ConvTranspose2d(\n",
    "            features * 2, features, kernel_size=2, stride=2\n",
    "        )\n",
    "        self.decoder1 = UNet._block(features * 2, features, name=\"dec1\", use_bn=use_bn)\n",
    "        self.decoder0 = UNet._block(features, features, name=\"dec1\", use_bn=use_bn)\n",
    "        self.conv = nn.Conv2d(\n",
    "            in_channels=features, out_channels=out_channels, kernel_size=1\n",
    "        )\n",
    "\n",
    "    def forward(self, x):\n",
    "        enc1 = self.encoder1(x)\n",
    "        enc2 = self.encoder2(self.pool1(enc1))\n",
    "        enc3 = self.encoder3(self.pool2(enc2))\n",
    "        enc4 = self.encoder4(self.pool3(enc3))\n",
    "\n",
    "        bottleneck = self.bottleneck(self.pool4(enc4))\n",
    "\n",
    "        dec4 = self.upconv4(bottleneck)\n",
    "        dec4 = torch.cat((dec4, enc4), dim=1)\n",
    "        dec4 = self.decoder4(dec4)\n",
    "        dec3 = self.upconv3(dec4)\n",
    "        dec3 = torch.cat((dec3, enc3), dim=1)\n",
    "        dec3 = self.decoder3(dec3)\n",
    "        dec2 = self.upconv2(dec3)\n",
    "        dec2 = torch.cat((dec2, enc2), dim=1)\n",
    "        dec2 = self.decoder2(dec2)\n",
    "        dec1 = self.upconv1(dec2)\n",
    "        dec1 = torch.cat((dec1, enc1), dim=1)\n",
    "        dec1 = self.decoder1(dec1)\n",
    "        dec0 = self.decoder0(dec1)\n",
    "        return torch.sigmoid(self.conv(dec0))*psipp.max()\n",
    "\n",
    "    @staticmethod\n",
    "    def _block(in_channels, features, name, use_bn):\n",
    "        return nn.Sequential(\n",
    "            OrderedDict(\n",
    "                [\n",
    "                    (\n",
    "                        name + \"conv1\",\n",
    "                        nn.Conv2d(\n",
    "                            in_channels=in_channels,\n",
    "                            out_channels=features,\n",
    "                            kernel_size=3,\n",
    "                            padding=1,\n",
    "                            bias=False,\n",
    "                        ),\n",
    "                    ),\n",
    "                    *[(name + \"norm1\", nn.BatchNorm2d(num_features=features)),\n",
    "                      (name + \"relu1\", nn.ReLU(inplace=True))][0 if use_bn else 1:],\n",
    "                    (\n",
    "                        name + \"conv2\",\n",
    "                        nn.Conv2d(\n",
    "                            in_channels=features,\n",
    "                            out_channels=features,\n",
    "                            kernel_size=3,\n",
    "                            padding=1,\n",
    "                            bias=False,\n",
    "                        ),\n",
    "                    ),\n",
    "                    *[(name + \"norm2\", nn.BatchNorm2d(num_features=features)),\n",
    "                      (name + \"relu2\", nn.ReLU(inplace=True))][0 if use_bn else 1:],\n",
    "                ]\n",
    "            )\n",
    "        )\n",
    "    \n",
    "def power_loss(psi):\n",
    "    \n",
    "    #Fix psi function on the boundaries\n",
    "    psi_masked = psi.clone()\n",
    "    for i in range(len(SIZE)):\n",
    "        psi_masked[:,i,:NL,:]   = psimm[i]\n",
    "        psi_masked[:,i,:-NL:,:] = psipp[i]\n",
    "\n",
    "    v1, v2, v3 = velocityDistr(psi_masked[0,0,:,:], psi_masked[0,1,:,:], psi_masked[0,2,:,:], DX1N, DX2N, DX3N, L[0], L[1], L[2])\n",
    "    \n",
    "    xi11, xi12, xi22, EtaEta = TksiDistr(v1, v2, v3, DX1N, DX2N, DX3N, L[0], L[1], L[2])\n",
    "    \n",
    "    #Subintegral expression with masks for fluid and walls, respectively:\n",
    "    subInt = ((0.5*Q0*EtaEta + ((Q1/(Z+1))*EtaEta**((Z+1)*0.5)))*img[0,:,:,:] + \n",
    "              (0.5*Q0W*EtaEta + ((Q1W/(ZW+1))*EtaEta**((ZW+1)*0.5)))*(1-img[0,:,:,:])) \n",
    "    \n",
    "    #Integral\n",
    "    int1 = torch.trapz(subInt)\n",
    "    int2 = torch.trapz(int1)\n",
    "    int3 = torch.trapz(int2)\n",
    "    \n",
    "    out = int3*dOmega #loss\n",
    "    \n",
    "    return out"
   ]
  },
  {
   "cell_type": "markdown",
   "metadata": {
    "id": "PhZutgNIyYhH"
   },
   "source": [
    "## Training"
   ]
  },
  {
   "cell_type": "code",
   "execution_count": 31,
   "metadata": {},
   "outputs": [],
   "source": [
    "start_time = time.time()"
   ]
  },
  {
   "cell_type": "code",
   "execution_count": 32,
   "metadata": {
    "collapsed": true,
    "jupyter": {
     "outputs_hidden": true
    }
   },
   "outputs": [
    {
     "name": "stdout",
     "output_type": "stream",
     "text": [
      "hyperparams: \n",
      " Epochs 50000, learning_rate 0.001, scheduler step, scheduler_factor 0.5, scheduler_patience 2500, use_bn True, Early_stop_patience 50000, Decay 0.0001\n"
     ]
    },
    {
     "data": {
      "application/vnd.jupyter.widget-view+json": {
       "model_id": "d4f29786b95a4f57bd3355b454d5adfa",
       "version_major": 2,
       "version_minor": 0
      },
      "text/plain": [
       "Epoch:   0%|          | 0/50000 [00:00<?, ?it/s]"
      ]
     },
     "metadata": {},
     "output_type": "display_data"
    },
    {
     "name": "stderr",
     "output_type": "stream",
     "text": [
      "/opt/conda/lib/python3.7/site-packages/torch/nn/functional.py:718: UserWarning: Named tensors and all their associated APIs are an experimental feature and subject to change. Please do not use them for anything important until they are released as stable. (Triggered internally at  /pytorch/c10/core/TensorImpl.h:1156.)\n",
      "  return torch.max_pool2d(input, kernel_size, stride, padding, dilation, ceil_mode)\n"
     ]
    },
    {
     "name": "stdout",
     "output_type": "stream",
     "text": [
      "epoch 100/50000, loss = 15225.1533\n",
      "epoch 200/50000, loss = 8900.5430\n",
      "epoch 300/50000, loss = 6460.7896\n",
      "epoch 400/50000, loss = 5011.3286\n",
      "epoch 500/50000, loss = 4058.4805\n",
      "epoch 600/50000, loss = 3370.8572\n",
      "epoch 700/50000, loss = 2881.3674\n",
      "epoch 800/50000, loss = 2519.7583\n",
      "epoch 900/50000, loss = 2247.7002\n",
      "epoch 1000/50000, loss = 2048.9634\n",
      "epoch 1100/50000, loss = 1893.9758\n",
      "epoch 1200/50000, loss = 1773.8585\n",
      "epoch 1300/50000, loss = 1679.3170\n",
      "epoch 1400/50000, loss = 1603.0176\n",
      "epoch 1500/50000, loss = 1539.7451\n",
      "epoch 1600/50000, loss = 1486.7400\n",
      "epoch 1700/50000, loss = 1441.9072\n",
      "epoch 1800/50000, loss = 1403.6504\n",
      "epoch 1900/50000, loss = 1371.5970\n",
      "epoch 2000/50000, loss = 1344.0447\n",
      "epoch 2100/50000, loss = 1320.0562\n",
      "epoch 2200/50000, loss = 1299.6439\n",
      "epoch 2300/50000, loss = 1282.2169\n",
      "epoch 2400/50000, loss = 1267.2820\n",
      "epoch 2500/50000, loss = 1253.9026\n",
      "epoch 2600/50000, loss = 1242.1862\n",
      "epoch 2700/50000, loss = 1231.9918\n",
      "epoch 2800/50000, loss = 1222.9518\n",
      "epoch 2900/50000, loss = 1214.9968\n",
      "epoch 3000/50000, loss = 1207.8260\n",
      "epoch 3100/50000, loss = 1201.4430\n",
      "epoch 3200/50000, loss = 1195.8279\n",
      "epoch 3300/50000, loss = 1190.7516\n",
      "epoch 3400/50000, loss = 1186.1675\n",
      "epoch 3500/50000, loss = 1181.9357\n",
      "epoch 3600/50000, loss = 1177.8268\n",
      "epoch 3700/50000, loss = 1174.0460\n",
      "epoch 3800/50000, loss = 1170.6603\n",
      "epoch 3900/50000, loss = 1167.5770\n",
      "epoch 4000/50000, loss = 1164.7816\n",
      "epoch 4100/50000, loss = 1162.2679\n",
      "epoch 4200/50000, loss = 1159.9786\n",
      "epoch 4300/50000, loss = 1157.8682\n",
      "epoch 4400/50000, loss = 1155.9076\n",
      "epoch 4500/50000, loss = 1154.0764\n",
      "epoch 4600/50000, loss = 1152.3673\n",
      "epoch 4700/50000, loss = 1150.7709\n",
      "epoch 4800/50000, loss = 1149.2649\n",
      "epoch 4900/50000, loss = 1147.8627\n",
      "epoch 5000/50000, loss = 1146.5436\n",
      "epoch 5100/50000, loss = 1145.3038\n",
      "epoch 5200/50000, loss = 1144.1300\n",
      "epoch 5300/50000, loss = 1143.0115\n",
      "epoch 5400/50000, loss = 1141.9476\n",
      "epoch 5500/50000, loss = 1140.9272\n",
      "epoch 5600/50000, loss = 1139.9526\n",
      "epoch 5700/50000, loss = 1139.0247\n",
      "epoch 5800/50000, loss = 1138.1256\n",
      "epoch 5900/50000, loss = 1137.2511\n",
      "epoch 6000/50000, loss = 1136.4065\n",
      "epoch 6100/50000, loss = 1135.5803\n",
      "epoch 6200/50000, loss = 1134.7723\n",
      "epoch 6300/50000, loss = 1133.9694\n",
      "epoch 6400/50000, loss = 1133.1631\n",
      "epoch 6500/50000, loss = 1132.3365\n",
      "epoch 6600/50000, loss = 1131.4998\n",
      "epoch 6700/50000, loss = 1130.6400\n",
      "epoch 6800/50000, loss = 1129.6943\n",
      "epoch 6900/50000, loss = 1128.6360\n",
      "epoch 7000/50000, loss = 1127.4966\n",
      "epoch 7100/50000, loss = 1126.2654\n",
      "epoch 7200/50000, loss = 1124.9208\n",
      "epoch 7300/50000, loss = 1123.3315\n",
      "epoch 7400/50000, loss = 1121.4343\n",
      "epoch 7500/50000, loss = 1119.3535\n",
      "epoch 7600/50000, loss = 1117.2791\n",
      "epoch 7700/50000, loss = 1115.3634\n",
      "epoch 7800/50000, loss = 1113.4619\n",
      "epoch 7900/50000, loss = 1111.6742\n",
      "epoch 8000/50000, loss = 1109.8278\n",
      "epoch 8100/50000, loss = 1108.1855\n",
      "epoch 8200/50000, loss = 1106.6779\n",
      "epoch 8300/50000, loss = 1105.2892\n",
      "epoch 8400/50000, loss = 1103.9956\n",
      "epoch 8500/50000, loss = 1102.7834\n",
      "epoch 8600/50000, loss = 1101.6370\n",
      "epoch 8700/50000, loss = 1100.5516\n",
      "epoch 8800/50000, loss = 1099.6471\n",
      "epoch 8900/50000, loss = 1098.8827\n",
      "epoch 9000/50000, loss = 1098.2299\n",
      "epoch 9100/50000, loss = 1097.6532\n",
      "epoch 9200/50000, loss = 1097.1478\n",
      "epoch 9300/50000, loss = 1096.6960\n",
      "epoch 9400/50000, loss = 1096.2909\n",
      "epoch 9500/50000, loss = 1095.9512\n",
      "epoch 9600/50000, loss = 1095.6620\n",
      "epoch 9700/50000, loss = 1095.4097\n",
      "epoch 9800/50000, loss = 1095.1868\n",
      "epoch 9900/50000, loss = 1094.9879\n",
      "epoch 10000/50000, loss = 1094.8076\n",
      "epoch 10100/50000, loss = 1094.6426\n",
      "epoch 10200/50000, loss = 1094.4900\n",
      "epoch 10300/50000, loss = 1094.3401\n",
      "epoch 10400/50000, loss = 1094.1854\n",
      "epoch 10500/50000, loss = 1094.0443\n",
      "epoch 10600/50000, loss = 1093.9219\n",
      "epoch 10700/50000, loss = 1093.8112\n",
      "epoch 10800/50000, loss = 1093.7075\n",
      "epoch 10900/50000, loss = 1093.6096\n",
      "epoch 11000/50000, loss = 1093.5166\n",
      "epoch 11100/50000, loss = 1093.4269\n",
      "epoch 11200/50000, loss = 1093.3394\n",
      "epoch 11300/50000, loss = 1093.2473\n",
      "epoch 11400/50000, loss = 1093.1544\n",
      "epoch 11500/50000, loss = 1093.1182\n",
      "epoch 11600/50000, loss = 1093.1439\n",
      "epoch 11700/50000, loss = 1092.9491\n",
      "epoch 11800/50000, loss = 1092.9844\n",
      "epoch 11900/50000, loss = 1092.8882\n",
      "epoch 12000/50000, loss = 1092.7080\n",
      "epoch 12100/50000, loss = 1092.6372\n",
      "epoch 12200/50000, loss = 1093.2146\n",
      "epoch 12300/50000, loss = 1093.1249\n",
      "epoch 12400/50000, loss = 1092.8293\n",
      "epoch 12500/50000, loss = 1092.5433\n",
      "epoch 12600/50000, loss = 1092.4788\n",
      "epoch 12700/50000, loss = 1096.0281\n",
      "epoch 12800/50000, loss = 1092.7421\n",
      "epoch 12900/50000, loss = 1092.6270\n",
      "epoch 13000/50000, loss = 1092.8904\n",
      "epoch 13100/50000, loss = 1092.4917\n",
      "epoch 13200/50000, loss = 1092.4231\n",
      "epoch 13300/50000, loss = 1092.3658\n",
      "epoch 13400/50000, loss = 1092.6572\n",
      "epoch 13500/50000, loss = 1092.2153\n",
      "epoch 13600/50000, loss = 1092.4901\n",
      "epoch 13700/50000, loss = 1093.1119\n",
      "epoch 13800/50000, loss = 1093.6779\n",
      "epoch 13900/50000, loss = 1092.1199\n",
      "epoch 14000/50000, loss = 1092.0496\n",
      "epoch 14100/50000, loss = 1092.0095\n",
      "epoch 14200/50000, loss = 1091.9835\n",
      "epoch 14300/50000, loss = 1091.5752\n",
      "epoch 14400/50000, loss = 1093.3969\n",
      "epoch 14500/50000, loss = 1003.4039\n",
      "epoch 14600/50000, loss = 971.4731\n",
      "epoch 14700/50000, loss = 805.3733\n",
      "epoch 14800/50000, loss = 747.2032\n",
      "epoch 14900/50000, loss = 709.4945\n",
      "epoch 15000/50000, loss = 719.9963\n",
      "epoch 15100/50000, loss = 707.5883\n",
      "epoch 15200/50000, loss = 710.1298\n",
      "epoch 15300/50000, loss = 703.1183\n",
      "epoch 15400/50000, loss = 703.0785\n",
      "epoch 15500/50000, loss = 702.9072\n",
      "epoch 15600/50000, loss = 702.8024\n",
      "epoch 15700/50000, loss = 709.0742\n",
      "epoch 15800/50000, loss = 716.8678\n",
      "epoch 15900/50000, loss = 717.5696\n",
      "epoch 16000/50000, loss = 701.3654\n",
      "epoch 16100/50000, loss = 705.3488\n",
      "epoch 16200/50000, loss = 700.7876\n",
      "epoch 16300/50000, loss = 707.1182\n",
      "epoch 16400/50000, loss = 700.4895\n",
      "epoch 16500/50000, loss = 701.0240\n",
      "epoch 16600/50000, loss = 703.1044\n",
      "epoch 16700/50000, loss = 710.8273\n",
      "epoch 16800/50000, loss = 700.9332\n",
      "epoch 16900/50000, loss = 701.6182\n",
      "epoch 17000/50000, loss = 705.9749\n",
      "epoch 17100/50000, loss = 700.1666\n",
      "epoch 17200/50000, loss = 701.4531\n",
      "epoch 17300/50000, loss = 700.0959\n",
      "epoch 17400/50000, loss = 700.5356\n",
      "epoch 17500/50000, loss = 712.8752\n",
      "epoch 17600/50000, loss = 701.5750\n",
      "epoch 17700/50000, loss = 700.3381\n",
      "epoch 17800/50000, loss = 700.3055\n",
      "epoch 17900/50000, loss = 701.3706\n",
      "epoch 18000/50000, loss = 699.9205\n",
      "epoch 18100/50000, loss = 188550.1250\n",
      "epoch 18200/50000, loss = 777.8425\n",
      "epoch 18300/50000, loss = 743.7361\n",
      "epoch 18400/50000, loss = 733.3921\n",
      "epoch 18500/50000, loss = 729.1227\n",
      "epoch 18600/50000, loss = 729.0723\n",
      "epoch 18700/50000, loss = 725.1158\n",
      "epoch 18800/50000, loss = 724.8556\n",
      "epoch 18900/50000, loss = 723.0265\n",
      "epoch 19000/50000, loss = 722.9808\n",
      "epoch 19100/50000, loss = 723.8279\n",
      "epoch 19200/50000, loss = 726.0767\n",
      "epoch 19300/50000, loss = 721.3223\n",
      "epoch 19400/50000, loss = 721.0073\n",
      "epoch 19500/50000, loss = 721.4217\n",
      "epoch 19600/50000, loss = 720.7561\n",
      "epoch 19700/50000, loss = 720.8981\n",
      "epoch 19800/50000, loss = 720.1396\n",
      "epoch 19900/50000, loss = 720.0258\n",
      "epoch 20000/50000, loss = 724.1478\n",
      "epoch 20100/50000, loss = 720.1646\n",
      "epoch 20200/50000, loss = 719.6661\n",
      "epoch 20300/50000, loss = 720.3502\n",
      "epoch 20400/50000, loss = 719.4910\n",
      "epoch 20500/50000, loss = 719.5394\n",
      "epoch 20600/50000, loss = 719.3072\n",
      "epoch 20700/50000, loss = 719.2236\n",
      "epoch 20800/50000, loss = 719.1530\n",
      "epoch 20900/50000, loss = 719.0923\n",
      "epoch 21000/50000, loss = 719.0403\n",
      "epoch 21100/50000, loss = 718.9942\n",
      "epoch 21200/50000, loss = 718.9525\n",
      "epoch 21300/50000, loss = 718.9147\n",
      "epoch 21400/50000, loss = 720.9604\n",
      "epoch 21500/50000, loss = 718.9279\n",
      "epoch 21600/50000, loss = 718.8607\n",
      "epoch 21700/50000, loss = 718.9550\n",
      "epoch 21800/50000, loss = 718.8464\n",
      "epoch 21900/50000, loss = 718.9528\n",
      "epoch 22000/50000, loss = 718.8437\n",
      "epoch 22100/50000, loss = 719.2018\n",
      "epoch 22200/50000, loss = 718.8810\n",
      "epoch 22300/50000, loss = 719.9012\n",
      "epoch 22400/50000, loss = 718.8669\n",
      "epoch 22500/50000, loss = 718.9971\n",
      "epoch 22600/50000, loss = 719.7065\n",
      "epoch 22700/50000, loss = 718.8689\n",
      "epoch 22800/50000, loss = 719.0659\n",
      "epoch 22900/50000, loss = 728.6479\n",
      "epoch 23000/50000, loss = 725.9857\n",
      "epoch 23100/50000, loss = 718.8768\n",
      "epoch 23200/50000, loss = 718.8118\n",
      "epoch 23300/50000, loss = 718.7775\n",
      "epoch 23400/50000, loss = 718.7487\n",
      "epoch 23500/50000, loss = 718.7245\n",
      "epoch 23600/50000, loss = 718.7043\n",
      "epoch 23700/50000, loss = 718.6860\n",
      "epoch 23800/50000, loss = 718.6692\n",
      "epoch 23900/50000, loss = 718.8147\n",
      "epoch 24000/50000, loss = 718.6439\n",
      "epoch 24100/50000, loss = 718.6557\n",
      "epoch 24200/50000, loss = 718.6301\n",
      "epoch 24300/50000, loss = 718.6387\n",
      "epoch 24400/50000, loss = 718.7840\n",
      "epoch 24500/50000, loss = 718.6306\n",
      "epoch 24600/50000, loss = 718.6773\n",
      "epoch 24700/50000, loss = 718.9470\n",
      "epoch 24800/50000, loss = 718.6169\n",
      "epoch 24900/50000, loss = 718.6594\n",
      "epoch 25000/50000, loss = 718.6113\n",
      "epoch 25100/50000, loss = 718.6457\n",
      "epoch 25200/50000, loss = 739.3111\n",
      "epoch 25300/50000, loss = 718.6583\n",
      "epoch 25400/50000, loss = 718.7501\n",
      "epoch 25500/50000, loss = 718.6299\n",
      "epoch 25600/50000, loss = 718.6288\n",
      "epoch 25700/50000, loss = 718.6086\n",
      "epoch 25800/50000, loss = 718.5939\n",
      "epoch 25900/50000, loss = 718.5819\n",
      "epoch 26000/50000, loss = 718.5714\n",
      "epoch 26100/50000, loss = 718.5618\n",
      "epoch 26200/50000, loss = 718.5536\n",
      "epoch 26300/50000, loss = 718.5461\n",
      "epoch 26400/50000, loss = 718.6337\n",
      "epoch 26500/50000, loss = 718.5355\n",
      "epoch 26600/50000, loss = 718.5442\n",
      "epoch 26700/50000, loss = 718.5287\n",
      "epoch 26800/50000, loss = 718.6038\n",
      "epoch 26900/50000, loss = 718.5308\n",
      "epoch 27000/50000, loss = 718.7512\n",
      "epoch 27100/50000, loss = 718.5404\n",
      "epoch 27200/50000, loss = 718.5225\n",
      "epoch 27300/50000, loss = 718.6061\n",
      "epoch 27400/50000, loss = 718.5184\n",
      "epoch 27500/50000, loss = 718.6152\n",
      "epoch 27600/50000, loss = 718.5215\n",
      "epoch 27700/50000, loss = 719.8867\n",
      "epoch 27800/50000, loss = 718.5189\n",
      "epoch 27900/50000, loss = 718.6516\n",
      "epoch 28000/50000, loss = 718.5095\n",
      "epoch 28100/50000, loss = 718.5205\n",
      "epoch 28200/50000, loss = 718.5098\n",
      "epoch 28300/50000, loss = 718.5033\n",
      "epoch 28400/50000, loss = 718.4979\n",
      "epoch 28500/50000, loss = 718.4937\n",
      "epoch 28600/50000, loss = 718.4897\n",
      "epoch 28700/50000, loss = 718.4862\n",
      "epoch 28800/50000, loss = 718.4829\n",
      "epoch 28900/50000, loss = 718.4797\n",
      "epoch 29000/50000, loss = 718.4767\n",
      "epoch 29100/50000, loss = 718.4756\n",
      "epoch 29200/50000, loss = 718.5457\n",
      "epoch 29300/50000, loss = 718.4729\n",
      "epoch 29400/50000, loss = 718.4750\n",
      "epoch 29500/50000, loss = 718.5661\n",
      "epoch 29600/50000, loss = 718.6057\n",
      "epoch 29700/50000, loss = 718.4889\n",
      "epoch 29800/50000, loss = 718.4642\n",
      "epoch 29900/50000, loss = 718.4659\n",
      "epoch 30000/50000, loss = 718.5037\n",
      "epoch 30100/50000, loss = 718.4741\n",
      "epoch 30200/50000, loss = 718.4705\n",
      "epoch 30300/50000, loss = 718.4670\n",
      "epoch 30400/50000, loss = 718.4587\n",
      "epoch 30500/50000, loss = 718.4589\n",
      "epoch 30600/50000, loss = 718.4614\n",
      "epoch 30700/50000, loss = 718.4541\n",
      "epoch 30800/50000, loss = 718.4522\n",
      "epoch 30900/50000, loss = 718.4504\n",
      "epoch 31000/50000, loss = 718.4490\n",
      "epoch 31100/50000, loss = 718.4474\n",
      "epoch 31200/50000, loss = 718.4462\n",
      "epoch 31300/50000, loss = 718.4449\n",
      "epoch 31400/50000, loss = 718.4437\n",
      "epoch 31500/50000, loss = 718.4490\n",
      "epoch 31600/50000, loss = 718.4468\n",
      "epoch 31700/50000, loss = 718.4405\n",
      "epoch 31800/50000, loss = 718.4409\n",
      "epoch 31900/50000, loss = 718.4396\n",
      "epoch 32000/50000, loss = 718.4589\n",
      "epoch 32100/50000, loss = 718.4612\n",
      "epoch 32200/50000, loss = 718.4373\n",
      "epoch 32300/50000, loss = 718.4387\n",
      "epoch 32400/50000, loss = 718.4392\n",
      "epoch 32500/50000, loss = 718.4357\n",
      "epoch 32600/50000, loss = 718.4502\n",
      "epoch 32700/50000, loss = 718.5159\n",
      "epoch 32800/50000, loss = 718.5795\n",
      "epoch 32900/50000, loss = 718.4330\n",
      "epoch 33000/50000, loss = 718.4308\n",
      "epoch 33100/50000, loss = 718.4325\n",
      "epoch 33200/50000, loss = 718.4302\n",
      "epoch 33300/50000, loss = 718.4296\n",
      "epoch 33400/50000, loss = 718.4288\n",
      "epoch 33500/50000, loss = 718.4282\n",
      "epoch 33600/50000, loss = 718.4277\n",
      "epoch 33700/50000, loss = 718.4271\n",
      "epoch 33800/50000, loss = 718.4265\n",
      "epoch 33900/50000, loss = 718.4261\n",
      "epoch 34000/50000, loss = 718.4255\n",
      "epoch 34100/50000, loss = 718.4250\n",
      "epoch 34200/50000, loss = 718.4266\n",
      "epoch 34300/50000, loss = 718.4239\n",
      "epoch 34400/50000, loss = 718.4244\n",
      "epoch 34500/50000, loss = 718.4232\n",
      "epoch 34600/50000, loss = 718.4223\n",
      "epoch 34700/50000, loss = 718.4221\n",
      "epoch 34800/50000, loss = 718.4229\n",
      "epoch 34900/50000, loss = 718.4222\n",
      "epoch 35000/50000, loss = 718.4246\n",
      "epoch 35100/50000, loss = 718.4240\n",
      "epoch 35200/50000, loss = 718.4191\n",
      "epoch 35300/50000, loss = 718.4185\n",
      "epoch 35400/50000, loss = 718.4180\n",
      "epoch 35500/50000, loss = 718.4180\n",
      "epoch 35600/50000, loss = 718.4172\n",
      "epoch 35700/50000, loss = 718.4166\n",
      "epoch 35800/50000, loss = 718.4163\n",
      "epoch 35900/50000, loss = 718.4159\n",
      "epoch 36000/50000, loss = 718.4156\n",
      "epoch 36100/50000, loss = 718.4152\n",
      "epoch 36200/50000, loss = 718.4149\n",
      "epoch 36300/50000, loss = 718.4145\n",
      "epoch 36400/50000, loss = 718.4141\n",
      "epoch 36500/50000, loss = 718.4135\n",
      "epoch 36600/50000, loss = 718.4131\n",
      "epoch 36700/50000, loss = 718.4127\n",
      "epoch 36800/50000, loss = 718.4124\n",
      "epoch 36900/50000, loss = 718.4117\n",
      "epoch 37000/50000, loss = 718.4113\n",
      "epoch 37100/50000, loss = 718.4110\n",
      "epoch 37200/50000, loss = 718.4115\n",
      "epoch 37300/50000, loss = 718.4117\n",
      "epoch 37400/50000, loss = 718.4097\n",
      "epoch 37500/50000, loss = 718.4094\n",
      "epoch 37600/50000, loss = 718.4111\n",
      "epoch 37700/50000, loss = 718.4202\n",
      "epoch 37800/50000, loss = 718.4117\n",
      "epoch 37900/50000, loss = 718.4091\n",
      "epoch 38000/50000, loss = 718.4075\n",
      "epoch 38100/50000, loss = 718.4071\n",
      "epoch 38200/50000, loss = 718.4070\n",
      "epoch 38300/50000, loss = 718.4067\n",
      "epoch 38400/50000, loss = 718.4066\n",
      "epoch 38500/50000, loss = 718.4063\n",
      "epoch 38600/50000, loss = 718.4062\n",
      "epoch 38700/50000, loss = 718.4059\n",
      "epoch 38800/50000, loss = 718.4057\n",
      "epoch 38900/50000, loss = 718.4055\n",
      "epoch 39000/50000, loss = 718.4052\n",
      "epoch 39100/50000, loss = 718.4049\n",
      "epoch 39200/50000, loss = 718.4048\n",
      "epoch 39300/50000, loss = 718.4045\n",
      "epoch 39400/50000, loss = 718.4042\n",
      "epoch 39500/50000, loss = 718.4039\n",
      "epoch 39600/50000, loss = 718.4039\n",
      "epoch 39700/50000, loss = 718.4036\n",
      "epoch 39800/50000, loss = 718.4033\n",
      "epoch 39900/50000, loss = 718.4031\n",
      "epoch 40000/50000, loss = 718.4028\n",
      "epoch 40100/50000, loss = 718.4025\n",
      "epoch 40200/50000, loss = 718.4023\n",
      "epoch 40300/50000, loss = 718.4036\n",
      "epoch 40400/50000, loss = 718.4018\n",
      "epoch 40500/50000, loss = 718.4016\n",
      "epoch 40600/50000, loss = 718.4013\n",
      "epoch 40700/50000, loss = 718.4012\n",
      "epoch 40800/50000, loss = 718.4010\n",
      "epoch 40900/50000, loss = 718.4009\n",
      "epoch 41000/50000, loss = 718.4008\n",
      "epoch 41100/50000, loss = 718.4006\n",
      "epoch 41200/50000, loss = 718.4005\n",
      "epoch 41300/50000, loss = 718.4004\n",
      "epoch 41400/50000, loss = 718.4002\n",
      "epoch 41500/50000, loss = 718.4000\n",
      "epoch 41600/50000, loss = 718.3999\n",
      "epoch 41700/50000, loss = 718.3997\n",
      "epoch 41800/50000, loss = 718.3994\n",
      "epoch 41900/50000, loss = 718.3992\n",
      "epoch 42000/50000, loss = 718.3992\n",
      "epoch 42100/50000, loss = 718.3998\n",
      "epoch 42200/50000, loss = 718.3987\n",
      "epoch 42300/50000, loss = 718.3986\n",
      "epoch 42400/50000, loss = 718.3984\n",
      "epoch 42500/50000, loss = 718.3982\n",
      "epoch 42600/50000, loss = 718.3980\n",
      "epoch 42700/50000, loss = 718.3984\n",
      "epoch 42800/50000, loss = 718.3979\n",
      "epoch 42900/50000, loss = 718.3977\n",
      "epoch 43000/50000, loss = 718.3974\n",
      "epoch 43100/50000, loss = 718.3973\n",
      "epoch 43200/50000, loss = 718.3972\n",
      "epoch 43300/50000, loss = 718.3970\n",
      "epoch 43400/50000, loss = 718.3969\n",
      "epoch 43500/50000, loss = 718.3969\n",
      "epoch 43600/50000, loss = 718.3967\n",
      "epoch 43700/50000, loss = 718.3966\n",
      "epoch 43800/50000, loss = 718.3965\n",
      "epoch 43900/50000, loss = 718.3964\n",
      "epoch 44000/50000, loss = 718.3964\n",
      "epoch 44100/50000, loss = 718.3962\n",
      "epoch 44200/50000, loss = 718.3961\n",
      "epoch 44300/50000, loss = 718.3959\n",
      "epoch 44400/50000, loss = 718.3958\n",
      "epoch 44500/50000, loss = 718.3956\n",
      "epoch 44600/50000, loss = 718.3956\n",
      "epoch 44700/50000, loss = 718.3955\n",
      "epoch 44800/50000, loss = 718.3954\n",
      "epoch 44900/50000, loss = 718.3951\n",
      "epoch 45000/50000, loss = 718.3948\n",
      "epoch 45100/50000, loss = 718.3948\n",
      "epoch 45200/50000, loss = 718.3948\n",
      "epoch 45300/50000, loss = 718.3946\n",
      "epoch 45400/50000, loss = 718.3945\n",
      "epoch 45500/50000, loss = 718.3943\n",
      "epoch 45600/50000, loss = 718.3946\n",
      "epoch 45700/50000, loss = 718.3942\n",
      "epoch 45800/50000, loss = 718.3939\n",
      "epoch 45900/50000, loss = 718.3938\n",
      "epoch 46000/50000, loss = 718.3938\n",
      "epoch 46100/50000, loss = 718.3935\n",
      "epoch 46200/50000, loss = 718.3934\n",
      "epoch 46300/50000, loss = 718.3934\n",
      "epoch 46400/50000, loss = 718.3932\n",
      "epoch 46500/50000, loss = 718.3929\n",
      "epoch 46600/50000, loss = 718.3929\n",
      "epoch 46700/50000, loss = 718.3927\n",
      "epoch 46800/50000, loss = 718.3928\n",
      "epoch 46900/50000, loss = 718.3929\n",
      "epoch 47000/50000, loss = 718.3925\n",
      "epoch 47100/50000, loss = 718.3923\n",
      "epoch 47200/50000, loss = 718.3931\n",
      "epoch 47300/50000, loss = 718.3920\n",
      "epoch 47400/50000, loss = 718.3920\n",
      "epoch 47500/50000, loss = 718.3920\n",
      "epoch 47600/50000, loss = 718.3918\n",
      "epoch 47700/50000, loss = 718.3920\n",
      "epoch 47800/50000, loss = 718.3915\n",
      "epoch 47900/50000, loss = 718.3918\n",
      "epoch 48000/50000, loss = 718.3913\n",
      "epoch 48100/50000, loss = 718.3913\n",
      "epoch 48200/50000, loss = 718.3918\n",
      "epoch 48300/50000, loss = 718.3911\n",
      "epoch 48400/50000, loss = 718.3910\n",
      "epoch 48500/50000, loss = 718.3907\n",
      "epoch 48600/50000, loss = 718.3907\n",
      "epoch 48700/50000, loss = 718.3907\n",
      "epoch 48800/50000, loss = 718.3911\n",
      "epoch 48900/50000, loss = 718.3904\n",
      "epoch 49000/50000, loss = 718.3903\n",
      "epoch 49100/50000, loss = 718.3903\n",
      "epoch 49200/50000, loss = 718.3902\n",
      "epoch 49300/50000, loss = 718.3901\n",
      "epoch 49400/50000, loss = 718.3900\n",
      "epoch 49500/50000, loss = 718.3899\n",
      "epoch 49600/50000, loss = 718.3899\n",
      "epoch 49700/50000, loss = 718.3898\n",
      "epoch 49800/50000, loss = 718.3895\n",
      "epoch 49900/50000, loss = 718.3895\n",
      "epoch 50000/50000, loss = 718.3893\n",
      "Best Train loss 699.7283\n",
      "Best Train loss: 699.7283, best hyperparams: Epochs: 50000, learning_rate: 0.001, scheduler: step, scheduler_factor: 0.5, scheduler_patience: 2500, use_bn: True, Early_stop_patience: 50000, Decay: 0.0001\n"
     ]
    },
    {
     "data": {
      "image/png": "[encoded data removed]",
      "text/plain": [
       "<Figure size 720x360 with 1 Axes>"
      ]
     },
     "metadata": {
      "needs_background": "light"
     },
     "output_type": "display_data"
    },
    {
     "name": "stdout",
     "output_type": "stream",
     "text": [
      "Final loss: 699.736\n",
      "simulation time:202m 51s\n"
     ]
    }
   ],
   "source": [
    "os.makedirs(WORK_DIR + '/models', exist_ok=True)\n",
    "os.makedirs(WORK_DIR + '/history', exist_ok=True)\n",
    "\n",
    "x = psi\n",
    "\n",
    "# Перемещение на GPU\n",
    "x = x.to(DEVICE)\n",
    "dOmega = dOmega.to(DEVICE)\n",
    "\n",
    "psimm = psimm.to(DEVICE)\n",
    "psipp = psipp.to(DEVICE)\n",
    "\n",
    "img = img.to(DEVICE)\n",
    "\n",
    "DX1N = DX1N.to(DEVICE)\n",
    "DX2N = DX2N.to(DEVICE)\n",
    "DX3N = DX3N.to(DEVICE)\n",
    "\n",
    "run_record = {}\n",
    "\n",
    "for hyp in HYPS:\n",
    "    print('hyperparams: \\n', dict2str(hyp)) \n",
    "\n",
    "    model_path = (f'{WORK_DIR}/models/{MODEL_NAME}_{dict2str(hyp)}.pth')\n",
    "\n",
    "    callbacks = [SaveBest(f'Train loss', model_path, 'min'),\n",
    "                 EarlyStop(f'Train loss', EARLY_STOP_PATIENCE, 'min')]\n",
    "\n",
    "    model = UNet(in_channels=IN_CH, out_channels=OUT_CH, init_features=NoOfFeatures, use_bn=hyp[\"use_bn\"])\n",
    "    model = model.to(DEVICE)\n",
    "\n",
    "    optimizer = torch.optim.Adam(model.parameters(), lr=hyp[\"learning_rate\"], weight_decay=DECAY)\n",
    "    \n",
    "    criterion = power_loss\n",
    "    \n",
    "    #Log model, criterion, and optimizer\n",
    "    run[\"config/model\"] = type(model).__name__\n",
    "    run[\"config/criterion\"] = type(criterion).__name__\n",
    "    run[\"config/optimizer\"] = type(optimizer).__name__\n",
    "\n",
    "    \n",
    "    if hyp[\"scheduler\"] == \"step\":\n",
    "        lr_scheduler = torch.optim.lr_scheduler.ReduceLROnPlateau(optimizer, mode='min',\n",
    "                                                                  patience=hyp[\"scheduler_patience\"],\n",
    "                                                                  min_lr=1e-6, factor=hyp[\"scheduler_factor\"])\n",
    "    elif hyp[\"scheduler\"] == \"cycle\":\n",
    "        lr_scheduler = scheduler = torch.optim.lr_scheduler.OneCycleLR(optimizer, max_lr=hyp[\"learning_rate\"] * 20,\n",
    "                                                                       steps_per_epoch=1, epochs=EPOCHS,\n",
    "                                                                       pct_start=0.125,\n",
    "                                                                       div_factor=hyp[\"scheduler_factor\"] ** -1,\n",
    "                                                                       final_div_factor=(hyp[\"scheduler_factor\"] ** -1) * 50)\n",
    "    else:\n",
    "        lr_scheduler = None\n",
    "\n",
    "    history = train(model, x, optimizer, power_loss,\n",
    "                    epochs=EPOCHS, print_every=100,\n",
    "                    callbacks=callbacks, lr_scheduler=lr_scheduler)\n",
    "\n",
    "    run_record[model_path] = {'hyperparams': hyp,\n",
    "                              'history': history,\n",
    "                              'final_val_metric': callbacks[1].best_monitor}\n",
    "\n",
    "    print(f\"Best Train loss %4.4f\" % (callbacks[1].best_monitor))\n",
    "\n",
    "    model = None\n",
    "    optimizer = None\n",
    "\n",
    "    torch.cuda.empty_cache()\n",
    "\n",
    "best_val_metric = None\n",
    "best_hyperparams = None\n",
    "best_run = None\n",
    "best_model_path = None\n",
    "\n",
    "for key, train_info in run_record.items():\n",
    "    if best_val_metric is None or best_val_metric > train_info['final_val_metric']:\n",
    "        best_val_metric = train_info['final_val_metric']\n",
    "        best_hyperparams = train_info['hyperparams']\n",
    "        best_run = train_info\n",
    "        best_model_path = key\n",
    "\n",
    "with open(f'{WORK_DIR}/history/{MODEL_NAME}_history.json', 'w') as fp:\n",
    "    json.dump(run_record, fp)\n",
    "\n",
    "best_hyp = str(best_hyperparams).replace(\"}\", \"\")\n",
    "best_hyp = best_hyp.replace(\"{\", \"\")\n",
    "best_hyp = best_hyp.replace(\"'\", \"\")\n",
    "\n",
    "print(f\"Best Train loss: %4.4f, best hyperparams: %s\" % (best_val_metric, best_hyp))\n",
    "\n",
    "model = UNet(in_channels=IN_CH, out_channels=OUT_CH, init_features=NoOfFeatures, use_bn=best_hyperparams[\"use_bn\"])\n",
    "model.load_state_dict(torch.load(best_model_path))\n",
    "torch.save(model.state_dict(), f'{WORK_DIR}/models/{MODEL_NAME}_best.pth')\n",
    "\n",
    "model = model.to(DEVICE)\n",
    "\n",
    "psi = model.forward(x)\n",
    "\n",
    "plot_train_history(best_run['history'])\n",
    "\n",
    "simulation_time = time.time() - start_time\n",
    "print(f'Final loss: {power_loss(psi).cpu().item() :.3f}')\n",
    "print('simulation time:{:.0f}m {:.0f}s'.format(\n",
    "      simulation_time // 60, simulation_time % 60))"
   ]
  },
  {
   "cell_type": "markdown",
   "metadata": {
    "id": "PhZutgNIyYhH"
   },
   "source": [
    "## Results"
   ]
  },
  {
   "cell_type": "code",
   "execution_count": 52,
   "metadata": {},
   "outputs": [
    {
     "data": {
      "text/plain": [
       "<All keys matched successfully>"
      ]
     },
     "execution_count": 52,
     "metadata": {},
     "output_type": "execute_result"
    }
   ],
   "source": [
    "# model = UNet(in_channels=IN_CH, out_channels=OUT_CH, init_features=NoOfFeatures, use_bn=best_hyperparams[\"use_bn\"])\n",
    "# model.load_state_dict(torch.load(best_model_path))\n",
    "# model.to(DEVICE)"
   ]
  },
  {
   "cell_type": "code",
   "execution_count": 57,
   "metadata": {},
   "outputs": [],
   "source": [
    "psi = model.forward(x)"
   ]
  },
  {
   "cell_type": "code",
   "execution_count": 58,
   "metadata": {},
   "outputs": [
    {
     "ename": "TypeError",
     "evalue": "stack() takes from 1 to 2 positional arguments but 3 were given",
     "output_type": "error",
     "traceback": [
      "\u001b[0;31m---------------------------------------------------------------------------\u001b[0m",
      "\u001b[0;31mTypeError\u001b[0m                                 Traceback (most recent call last)",
      "\u001b[0;32m<ipython-input-58-f4f9e040b996>\u001b[0m in \u001b[0;36m<module>\u001b[0;34m\u001b[0m\n\u001b[1;32m      6\u001b[0m \u001b[0;34m\u001b[0m\u001b[0m\n\u001b[1;32m      7\u001b[0m \u001b[0mv1\u001b[0m\u001b[0;34m,\u001b[0m \u001b[0mv2\u001b[0m\u001b[0;34m,\u001b[0m \u001b[0mv3\u001b[0m \u001b[0;34m=\u001b[0m \u001b[0mvelocityDistr\u001b[0m\u001b[0;34m(\u001b[0m\u001b[0mpsi_masked\u001b[0m\u001b[0;34m[\u001b[0m\u001b[0;36m0\u001b[0m\u001b[0;34m,\u001b[0m\u001b[0;36m0\u001b[0m\u001b[0;34m,\u001b[0m\u001b[0;34m:\u001b[0m\u001b[0;34m,\u001b[0m\u001b[0;34m:\u001b[0m\u001b[0;34m]\u001b[0m\u001b[0;34m,\u001b[0m \u001b[0mpsi_masked\u001b[0m\u001b[0;34m[\u001b[0m\u001b[0;36m0\u001b[0m\u001b[0;34m,\u001b[0m\u001b[0;36m1\u001b[0m\u001b[0;34m,\u001b[0m\u001b[0;34m:\u001b[0m\u001b[0;34m,\u001b[0m\u001b[0;34m:\u001b[0m\u001b[0;34m]\u001b[0m\u001b[0;34m,\u001b[0m \u001b[0mpsi_masked\u001b[0m\u001b[0;34m[\u001b[0m\u001b[0;36m0\u001b[0m\u001b[0;34m,\u001b[0m\u001b[0;36m2\u001b[0m\u001b[0;34m,\u001b[0m\u001b[0;34m:\u001b[0m\u001b[0;34m,\u001b[0m\u001b[0;34m:\u001b[0m\u001b[0;34m]\u001b[0m\u001b[0;34m,\u001b[0m \u001b[0mDX1N\u001b[0m\u001b[0;34m,\u001b[0m \u001b[0mDX2N\u001b[0m\u001b[0;34m,\u001b[0m \u001b[0mDX3N\u001b[0m\u001b[0;34m,\u001b[0m \u001b[0mL\u001b[0m\u001b[0;34m[\u001b[0m\u001b[0;36m0\u001b[0m\u001b[0;34m]\u001b[0m\u001b[0;34m,\u001b[0m \u001b[0mL\u001b[0m\u001b[0;34m[\u001b[0m\u001b[0;36m1\u001b[0m\u001b[0;34m]\u001b[0m\u001b[0;34m,\u001b[0m \u001b[0mL\u001b[0m\u001b[0;34m[\u001b[0m\u001b[0;36m2\u001b[0m\u001b[0;34m]\u001b[0m\u001b[0;34m)\u001b[0m\u001b[0;34m\u001b[0m\u001b[0;34m\u001b[0m\u001b[0m\n\u001b[0;32m----> 8\u001b[0;31m \u001b[0mV\u001b[0m \u001b[0;34m=\u001b[0m \u001b[0mtorch\u001b[0m\u001b[0;34m.\u001b[0m\u001b[0mstack\u001b[0m\u001b[0;34m(\u001b[0m\u001b[0mv1\u001b[0m\u001b[0;34m,\u001b[0m\u001b[0mv2\u001b[0m\u001b[0;34m,\u001b[0m\u001b[0mv3\u001b[0m\u001b[0;34m)\u001b[0m\u001b[0;34m\u001b[0m\u001b[0;34m\u001b[0m\u001b[0m\n\u001b[0m\u001b[1;32m      9\u001b[0m \u001b[0mVabs\u001b[0m \u001b[0;34m=\u001b[0m \u001b[0mtorch\u001b[0m\u001b[0;34m.\u001b[0m\u001b[0msqrt\u001b[0m\u001b[0;34m(\u001b[0m\u001b[0mv1\u001b[0m\u001b[0;34m**\u001b[0m\u001b[0;36m2\u001b[0m \u001b[0;34m+\u001b[0m \u001b[0mv2\u001b[0m\u001b[0;34m**\u001b[0m\u001b[0;36m2\u001b[0m \u001b[0;34m+\u001b[0m \u001b[0mv3\u001b[0m\u001b[0;34m**\u001b[0m\u001b[0;36m2\u001b[0m\u001b[0;34m)\u001b[0m\u001b[0;34m\u001b[0m\u001b[0;34m\u001b[0m\u001b[0m\n\u001b[1;32m     10\u001b[0m \u001b[0mxi11\u001b[0m\u001b[0;34m,\u001b[0m \u001b[0mxi12\u001b[0m\u001b[0;34m,\u001b[0m \u001b[0mxi22\u001b[0m\u001b[0;34m,\u001b[0m \u001b[0mEtaEta\u001b[0m \u001b[0;34m=\u001b[0m \u001b[0mTksiDistr\u001b[0m\u001b[0;34m(\u001b[0m\u001b[0mv1\u001b[0m\u001b[0;34m,\u001b[0m \u001b[0mv2\u001b[0m\u001b[0;34m,\u001b[0m \u001b[0mv3\u001b[0m\u001b[0;34m,\u001b[0m \u001b[0mDX1N\u001b[0m\u001b[0;34m,\u001b[0m \u001b[0mDX2N\u001b[0m\u001b[0;34m,\u001b[0m \u001b[0mDX3N\u001b[0m\u001b[0;34m,\u001b[0m \u001b[0mL\u001b[0m\u001b[0;34m[\u001b[0m\u001b[0;36m0\u001b[0m\u001b[0;34m]\u001b[0m\u001b[0;34m,\u001b[0m \u001b[0mL\u001b[0m\u001b[0;34m[\u001b[0m\u001b[0;36m1\u001b[0m\u001b[0;34m]\u001b[0m\u001b[0;34m,\u001b[0m \u001b[0mL\u001b[0m\u001b[0;34m[\u001b[0m\u001b[0;36m2\u001b[0m\u001b[0;34m]\u001b[0m\u001b[0;34m)\u001b[0m\u001b[0;34m\u001b[0m\u001b[0;34m\u001b[0m\u001b[0m\n",
      "\u001b[0;31mTypeError\u001b[0m: stack() takes from 1 to 2 positional arguments but 3 were given"
     ]
    }
   ],
   "source": [
    "#Fix psi function on the boundaries\n",
    "psi_masked = psi.clone().detach()\n",
    "for i in range(len(SIZE)):\n",
    "    psi_masked[:,i,:NL,:]   = psimm[i].to('cpu')\n",
    "    psi_masked[:,i,:-NL:,:] = psipp[i].to('cpu')\n",
    "    \n",
    "v1, v2, v3 = velocityDistr(psi_masked[0,0,:,:], psi_masked[0,1,:,:], psi_masked[0,2,:,:], DX1N, DX2N, DX3N, L[0], L[1], L[2])\n",
    "V = torch.stack(v1,v2,v3)\n",
    "Vabs = torch.sqrt(v1**2 + v2**2 + v3**2)\n",
    "xi11, xi12, xi22, EtaEta = TksiDistr(v1, v2, v3, DX1N, DX2N, DX3N, L[0], L[1], L[2])\n",
    "    \n",
    "#Subintegral expression with masks for fluid and walls, respectively:\n",
    "subInt = ((0.5*Q0*EtaEta + ((Q1/(Z+1))*EtaEta**((Z+1)*0.5)))*img[0,:,:,:] +\n",
    "          (0.5*Q0W*EtaEta + ((Q1W/(ZW+1))*EtaEta**((ZW+1)*0.5)))*(1-img[0,:,:,:])) \n",
    "#Integral\n",
    "int1 = torch.trapz(subInt)\n",
    "int2 = torch.trapz(int1)\n",
    "int3 = torch.trapz(int2)\n",
    "out = int3*dOmega #loss\n",
    "\n",
    "print(f'absolute velocity: < abs(V) < {vabs.max()},')\n",
    "print(f'maximum velocity: v3 = {v3amax},')\n",
    "print(f'internal power: Int = {Int},')\n",
    "print(f'Reynolds number Re = {Re} is smaller than critical Re < {Re_cr}: {Re<Re_cr}')\n",
    "print(f'Pipe length L_3 = {L[2]} is longer than critical L_cr = {Lcr}: {L[2]>Lcr}')\n"
   ]
  },
  {
   "cell_type": "code",
   "execution_count": 60,
   "metadata": {},
   "outputs": [
    {
     "data": {
      "text/plain": [
       "(tensor([0, 0, 0]), tensor([-0.0008,  0.0008,  0.0000]))"
      ]
     },
     "execution_count": 60,
     "metadata": {},
     "output_type": "execute_result"
    }
   ],
   "source": [
    "psimm.to('cpu'), psipp.to('cpu')"
   ]
  },
  {
   "cell_type": "markdown",
   "metadata": {},
   "source": [
    "Visualization"
   ]
  },
  {
   "cell_type": "code",
   "execution_count": 47,
   "metadata": {},
   "outputs": [
    {
     "data": {
      "image/png": "[encoded data removed]",
      "text/plain": [
       "<Figure size 1080x720 with 6 Axes>"
      ]
     },
     "metadata": {
      "needs_background": "light"
     },
     "output_type": "display_data"
    },
    {
     "name": "stdout",
     "output_type": "stream",
     "text": [
      "Q1+ = 7.860425284889061e-06\n",
      "Q2+ = 0.00017263634072151035\n",
      "Q3+ = -1.0486753581062658e-06\n"
     ]
    }
   ],
   "source": [
    "nr=4\n",
    "nc=len(SIZE)\n",
    "\n",
    "fig = plt.figure(figsize=(FIGSIZE*nc, FIGSIZE*nr))\n",
    "for i in range(len(SIZE)):\n",
    "    plt.subplot(nr,nc,i+1)\n",
    "    plt.imshow(psi_masked[0,i,:,:].to('cpu'))\n",
    "    plt.title(f'$\\psi_{i+1}$')\n",
    "    plt.subplot(nr,nc,i+1+nc)\n",
    "    plt.plot(psi_masked[0,i,:,slices[i]].to('cpu'))\n",
    "    plt.grid()\n",
    "\n",
    "    plt.subplot(nr,nc,i+1+2*nc)\n",
    "    plt.imshow(v1psi_masked[0,i,:,:].to('cpu'))\n",
    "    plt.title(f'$\\psi_{i+1}$')\n",
    "    plt.subplot(nr,nc,i+1+nc)\n",
    "    plt.plot(psi_masked[0,i,:,slices[i]].to('cpu'))\n",
    "    plt.grid()\n",
    "    \n",
    "    \n",
    "plt.show()\n",
    "\n",
    "#Check flow rates\n",
    "\n",
    "print(f'Q1+ = {- (psi[0,1,-1,-1] - psi[0,1,-1,0])*L[1] + (psi[0,2,-1,-1] - psi[0,2,-1,0])*L[2]}')\n",
    "print(f'Q2+ = {- (psi[0,2,-1,-1] - psi[0,2,0,-1])*L[2] + (psi[0,0,-1,-1] - psi[0,0,-1,0])*L[0]}')\n",
    "print(f'Q3+ = {- (psi[0,0,-1,-1] - psi[0,0,0,-1])*L[0] + (psi[0,1,-1,-1] - psi[0,1,0,-1])*L[1]}')"
   ]
  },
  {
   "cell_type": "code",
   "execution_count": null,
   "metadata": {},
   "outputs": [],
   "source": []
  },
  {
   "cell_type": "code",
   "execution_count": null,
   "metadata": {},
   "outputs": [],
   "source": []
  },
  {
   "cell_type": "code",
   "execution_count": 33,
   "metadata": {},
   "outputs": [],
   "source": [
    "# #Output of the network: psi function of the flow\n",
    "\n",
    "# psi_masked = psi[0, 0, :, :].clone().detach() #psi[0, 0, :, :].clone().detach() * flowDomainMask) + (lowerWallMask * Q)\n",
    "# v1, v2 = velocityDistr(psi_masked, DX1N, DX2N, LIM1, LIM2)\n",
    "# xi11ch, xi12ch, xi22ch, EtaEtach = TksiDistr(v1, v2, DX1N, DX2N, LIM1, LIM2)\n",
    "\n",
    "# subInt = ((0.5*Q0*EtaEtach + ((Q1/(Z+1))*EtaEtach**((Z+1)*0.5)))*flowDomainMask + \n",
    "#               (0.5*Q0W*EtaEtach + ((Q1W/(ZW+1))*EtaEtach**((ZW+1)*0.5)))*(1-flowDomainMask)) \n",
    "# int1EtaEta = torch.trapz(subInt)\n",
    "# int2EtaEta = torch.trapz(int1EtaEta)\n",
    "# outch = int2EtaEta*s\n",
    "\n",
    "# #Visualization\n",
    "# nr=1\n",
    "# nc=3\n",
    "# fig = plt.figure(figsize=(FIGSIZE*nc, FIGSIZE*nr))\n",
    "# plt.subplot(nr,nc,1)\n",
    "# plt.imshow(psi[0, 0, :, :].clone().detach().to('cpu'))\n",
    "# plt.title('Flow function, Psi (raw)')\n",
    "\n",
    "# plt.subplot(nr,nc,2)\n",
    "# plt.imshow(psi_masked.to('cpu'))\n",
    "# plt.title('Flow function, Psi')\n",
    "\n",
    "# plt.subplot(nr,nc,3)\n",
    "# plt.plot(psi_masked[:,sp].to('cpu'))\n",
    "# plt.title('Flow funcion, Psi (vertical slice)')\n",
    "\n",
    "# plt.show()"
   ]
  },
  {
   "cell_type": "code",
   "execution_count": 34,
   "metadata": {
    "colab": {
     "base_uri": "https://localhost:8080/",
     "height": 234
    },
    "id": "IcEzHkrgcVWx",
    "outputId": "3679348b-c16e-4754-99ef-3040a3a32b9b"
   },
   "outputs": [],
   "source": [
    "# #Visualization\n",
    "# nr=2\n",
    "# nc=2\n",
    "# fig = plt.figure(figsize=(FIGSIZE*nr, FIGSIZE*nc))\n",
    "# plt.subplot(nr,nc,1)\n",
    "# plt.imshow(psi_masked.to('cpu'))\n",
    "# plt.title('(a) Flow function,$\\Psi$')\n",
    "\n",
    "# plt.subplot(nr,nc,2)\n",
    "# vector_plot(np.meshgrid(-X1N,-X2N), [np.array(v1.cpu()),np.array(v2.cpu())],FIGSIZE, \n",
    "#             '(b) Velocity, $V = [v_1, v_2]$', 10)\n",
    "# plt.xticks([])\n",
    "# plt.yticks([])\n",
    "\n",
    "# plt.subplot(nr,nc,3)\n",
    "# plt.plot(psi_masked[:,sp].to('cpu'))\n",
    "# plt.grid(True)\n",
    "# plt.title('Flow function, $\\Psi$ (vertical slice)')\n",
    "\n",
    "# plt.subplot(nr,nc,4)\n",
    "# plt.plot(v1.cpu())\n",
    "# plt.grid(True)\n",
    "# plt.title('v1 (vertical slice)')\n",
    "\n",
    "# plt.show()\n",
    "# print('v1_max = ', v1.max(), 'v1_min = ', v1.min())"
   ]
  },
  {
   "cell_type": "code",
   "execution_count": 35,
   "metadata": {
    "colab": {
     "base_uri": "https://localhost:8080/",
     "height": 282
    },
    "id": "rXz9T9VWA3G5",
    "outputId": "44a0902a-36ce-48f8-c4f9-a46992ff780d"
   },
   "outputs": [],
   "source": [
    "# # Check the flow rate\n",
    "# Qch = torch.trapz(v1.t()) * DX1N * L\n",
    "\n",
    "# fig = plt.figure(figsize=(FIGSIZE*2, FIGSIZE/2))\n",
    "# plt.plot(Qch.cpu())\n",
    "# plt.title(f'Flow rate through the vertical slices of the flow domain of size L x L = {L} x {L} \\nshould be equal to Q = {Q}')\n",
    "# plt.show()"
   ]
  },
  {
   "cell_type": "code",
   "execution_count": 36,
   "metadata": {
    "colab": {
     "base_uri": "https://localhost:8080/",
     "height": 182
    },
    "id": "r3w7q2Y1pIfD",
    "outputId": "b26b5134-c04b-42a6-de69-787c7b966627"
   },
   "outputs": [],
   "source": [
    "# print('Q = ', Qch.mean().cpu().item(), '; Loss = ', power_loss(psi).cpu().item())"
   ]
  },
  {
   "cell_type": "code",
   "execution_count": null,
   "metadata": {},
   "outputs": [],
   "source": []
  },
  {
   "cell_type": "code",
   "execution_count": 37,
   "metadata": {},
   "outputs": [],
   "source": [
    "# print (EtaEta.cpu().min(), EtaEta.cpu().max(), EtaEtach.cpu().min(), EtaEtach.cpu().max()) \n",
    "# print(outch)\n"
   ]
  },
  {
   "cell_type": "code",
   "execution_count": 38,
   "metadata": {},
   "outputs": [],
   "source": [
    "\n",
    "# print (EtaEta.cpu().min(), EtaEta.cpu().max(), EtaEtach.cpu()[:,sp].min(), EtaEtach.cpu()[:,sp].max()) \n",
    "# fig = plt.figure(figsize=(FIGSIZE*2, FIGSIZE/2))\n",
    "# plt.plot(EtaEtach.cpu())\n",
    "# plt.title('Eta*Eta')\n",
    "# plt.show()"
   ]
  },
  {
   "cell_type": "code",
   "execution_count": 39,
   "metadata": {},
   "outputs": [],
   "source": [
    "# fig = plt.figure(figsize=(FIGSIZE*2, FIGSIZE/2))\n",
    "# plt.plot(v1.cpu()[:,sp])\n",
    "# plt.title('v1')\n",
    "# plt.show()"
   ]
  },
  {
   "cell_type": "code",
   "execution_count": 40,
   "metadata": {},
   "outputs": [],
   "source": [
    "# fig = plt.figure(figsize=(FIGSIZE*2, FIGSIZE/2))\n",
    "# plt.plot(xi12ch.cpu()[:,sp])\n",
    "# plt.title('$\\Xi$')\n",
    "# plt.show()\n"
   ]
  },
  {
   "cell_type": "code",
   "execution_count": 41,
   "metadata": {},
   "outputs": [],
   "source": [
    "# fig = plt.figure(figsize=(FIGSIZE*2, FIGSIZE/2))\n",
    "# plt.plot(EtaEtach.cpu()[:,sp])\n",
    "# plt.title('$H^2$')\n",
    "# plt.show()"
   ]
  },
  {
   "cell_type": "code",
   "execution_count": 42,
   "metadata": {},
   "outputs": [],
   "source": [
    "#  #Check power\n",
    "# Intch = power_loss(psi).cpu().item()*2\n",
    "# acc_rel_exact = (Int_ex.item()-Intch)/Int_ex.item()*100\n",
    "# Intch, Int_ex.item(), acc_rel_exact"
   ]
  },
  {
   "cell_type": "markdown",
   "metadata": {},
   "source": [
    "## Log results"
   ]
  },
  {
   "cell_type": "code",
   "execution_count": 43,
   "metadata": {},
   "outputs": [
    {
     "ename": "NameError",
     "evalue": "name 'Intch' is not defined",
     "output_type": "error",
     "traceback": [
      "\u001b[0;31m---------------------------------------------------------------------------\u001b[0m",
      "\u001b[0;31mNameError\u001b[0m                                 Traceback (most recent call last)",
      "\u001b[0;32m<ipython-input-43-1d6c1128a50d>\u001b[0m in \u001b[0;36m<module>\u001b[0;34m\u001b[0m\n\u001b[0;32m----> 1\u001b[0;31m results = {'Internal_power':Intch,\n\u001b[0m\u001b[1;32m      2\u001b[0m            \u001b[0;34m'Internal_power_exact'\u001b[0m\u001b[0;34m:\u001b[0m\u001b[0mInt_ex\u001b[0m\u001b[0;34m.\u001b[0m\u001b[0mitem\u001b[0m\u001b[0;34m(\u001b[0m\u001b[0;34m)\u001b[0m\u001b[0;34m,\u001b[0m\u001b[0;34m\u001b[0m\u001b[0;34m\u001b[0m\u001b[0m\n\u001b[1;32m      3\u001b[0m            'Accuracy (in comparison with analitical solution)': acc_rel_exact}\n\u001b[1;32m      4\u001b[0m \u001b[0mrun\u001b[0m\u001b[0;34m[\u001b[0m\u001b[0;34m\"config/results\"\u001b[0m\u001b[0;34m]\u001b[0m \u001b[0;34m=\u001b[0m \u001b[0mresults\u001b[0m\u001b[0;34m\u001b[0m\u001b[0;34m\u001b[0m\u001b[0m\n",
      "\u001b[0;31mNameError\u001b[0m: name 'Intch' is not defined"
     ]
    }
   ],
   "source": [
    "results = {'Internal_power':Intch,\n",
    "           'Internal_power_exact':Int_ex.item(),\n",
    "           'Accuracy (in comparison with analitical solution)': acc_rel_exact}\n",
    "run[\"config/results\"] = results"
   ]
  },
  {
   "cell_type": "markdown",
   "metadata": {},
   "source": [
    "## Stop logging"
   ]
  },
  {
   "cell_type": "code",
   "execution_count": null,
   "metadata": {},
   "outputs": [],
   "source": [
    "run.stop()"
   ]
  },
  {
   "cell_type": "markdown",
   "metadata": {
    "id": "rpGo7xQz6cny"
   },
   "source": [
    "# Links\n",
    "\n",
    "[1]. https://github.com/Mechanics-Mechatronics-and-Robotics/Mathematical_modelling/blob/main/Practice_1_by_IStebakov.ipynb\n",
    "\n",
    "[2]. https://github.com/mateuszbuda/brain-segmentation-pytorch"
   ]
  }
 ],
 "metadata": {
  "accelerator": "GPU",
  "colab": {
   "collapsed_sections": [],
   "name": "Main.ipynb",
   "provenance": []
  },
  "kernelspec": {
   "display_name": "Python 3",
   "language": "python",
   "name": "python3"
  },
  "language_info": {
   "codemirror_mode": {
    "name": "ipython",
    "version": 3
   },
   "file_extension": ".py",
   "mimetype": "text/x-python",
   "name": "python",
   "nbconvert_exporter": "python",
   "pygments_lexer": "ipython3",
   "version": "3.7.7"
  },
  "varInspector": {
   "cols": {
    "lenName": 16,
    "lenType": 16,
    "lenVar": 40
   },
   "kernels_config": {
    "python": {
     "delete_cmd_postfix": "",
     "delete_cmd_prefix": "del ",
     "library": "var_list.py",
     "varRefreshCmd": "print(var_dic_list())"
    },
    "r": {
     "delete_cmd_postfix": ") ",
     "delete_cmd_prefix": "rm(",
     "library": "var_list.r",
     "varRefreshCmd": "cat(var_dic_list()) "
    }
   },
   "types_to_exclude": [
    "module",
    "function",
    "builtin_function_or_method",
    "instance",
    "_Feature"
   ],
   "window_display": false
  }
 },
 "nbformat": 4,
 "nbformat_minor": 4
}
