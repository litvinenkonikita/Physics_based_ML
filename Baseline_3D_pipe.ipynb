{
 "cells": [
  {
   "cell_type": "markdown",
   "metadata": {
    "id": "RJkKJ83igGYb"
   },
   "source": [
    "# **Physics-based loss and machine learing approach in application to fluids flow modelling: 3D flow in a pipe**\n",
    "It is supposed that the Newtonian fluid flows through a cylindrical pipe with radius $R$. The flow is steady, the Reynolds number is smaller than the critical one $Re < Re^* {\\approx} 1100...1400$ and the pipe length is greater than the critical one $L_3 > 0.16RRe$. \n",
    "\n"
   ]
  },
  {
   "cell_type": "markdown",
   "metadata": {
    "id": "ydwhZV95sFoN"
   },
   "source": [
    "# Initialization\n",
    "## Import libraries"
   ]
  },
  {
   "cell_type": "code",
   "execution_count": 230,
   "metadata": {
    "id": "Go3JwW4hICsK"
   },
   "outputs": [],
   "source": [
    "# Pytorch modules\n",
    "import torch\n",
    "from torch import nn\n",
    "\n",
    "# Plotting\n",
    "from matplotlib import pyplot as plt\n",
    "from matplotlib import transforms\n",
    "import numpy as np\n",
    "\n",
    "# Python functions\n",
    "from collections import namedtuple\n",
    "from itertools import product\n",
    "from collections import OrderedDict\n",
    "#from scipy import integrate\n",
    "\n",
    "# Status bar\n",
    "from tqdm.notebook import tqdm\n",
    "from datetime import datetime\n",
    "import time\n",
    "\n",
    "# Work with files and images\n",
    "import json\n",
    "from pathlib import Path\n",
    "import os, fnmatch\n",
    "import re\n",
    "from PIL import Image\n",
    "\n",
    "#Log\n",
    "import neptune.new as neptune\n",
    "from neptune.new.types import File\n",
    "\n",
    "import time"
   ]
  },
  {
   "cell_type": "markdown",
   "metadata": {},
   "source": [
    "## Neptune project"
   ]
  },
  {
   "cell_type": "code",
   "execution_count": 2,
   "metadata": {},
   "outputs": [
    {
     "name": "stderr",
     "output_type": "stream",
     "text": [
      "/opt/conda/lib/python3.7/site-packages/ipykernel_launcher.py:3: NeptuneDeprecationWarning: `init` is deprecated, use `init_run` instead. We'll end support of it in `neptune-client==1.0.0`.\n",
      "  This is separate from the ipykernel package so we can avoid doing imports until\n"
     ]
    },
    {
     "name": "stdout",
     "output_type": "stream",
     "text": [
      "https://app.neptune.ai/avkornaev/PhysicsBasedDL/e/PHYSIC-80\n",
      "Remember to stop your run once you’ve finished logging your metadata (https://docs.neptune.ai/api/run#stop). It will be stopped automatically only when the notebook kernel/interactive console is terminated.\n"
     ]
    }
   ],
   "source": [
    "run = neptune.init(\n",
    "    project=\"avkornaev/PhysicsBasedDL\",\n",
    "    api_token=\"eyJhcGlfYWRkcmVzcyI6Imh0dHBzOi8vYXBwLm5lcHR1bmUuYWkiLCJhcGlfdXJsIjoiaHR0cHM6Ly9hcHAubmVwdHVuZS5haSIsImFwaV9rZXkiOiJiMmRjMGY4Ny1hYTI1LTQxZmEtYjRmZC02YzNkYWZjYzNiNjIifQ==\",\n",
    ")  # your credentials"
   ]
  },
  {
   "cell_type": "markdown",
   "metadata": {
    "id": "nzMpruhsYD38"
   },
   "source": [
    "## Download and preprocess image of the flow domain"
   ]
  },
  {
   "cell_type": "markdown",
   "metadata": {
    "id": "nzMpruhsYD38"
   },
   "source": [
    "## Path"
   ]
  },
  {
   "cell_type": "code",
   "execution_count": 276,
   "metadata": {},
   "outputs": [
    {
     "name": "stdout",
     "output_type": "stream",
     "text": [
      "['pipe_tensor.pt'] 0\n"
     ]
    }
   ],
   "source": [
    "path =  Path('/root/Physics_based_loss')\n",
    "imgPath = path/'ToyDataset'\n",
    "imgList = fnmatch.filter(os.listdir(imgPath), '*.pt') #imgPath.ls()\n",
    "imgList\n",
    "#Image number from the imgList\n",
    "imgNo = 0\n",
    "print(imgList, imgNo)"
   ]
  },
  {
   "cell_type": "markdown",
   "metadata": {},
   "source": [
    "Download 3D image"
   ]
  },
  {
   "cell_type": "code",
   "execution_count": 277,
   "metadata": {},
   "outputs": [
    {
     "name": "stdout",
     "output_type": "stream",
     "text": [
      "image shape: torch.Size([256, 256, 256])\n"
     ]
    }
   ],
   "source": [
    "img = torch.load(os.path.join(imgPath, imgList[imgNo]))\n",
    "imgDim = img.shape[1:]\n",
    "print(f'image shape: {imgDim}')"
   ]
  },
  {
   "cell_type": "markdown",
   "metadata": {
    "id": "nzMpruhsYD38"
   },
   "source": [
    "## Constants"
   ]
  },
  {
   "cell_type": "code",
   "execution_count": 278,
   "metadata": {
    "id": "YsKHT1J2Ibx9"
   },
   "outputs": [],
   "source": [
    "#Training\n",
    "EPOCHS = 1000\n",
    "NoOfFeatures = 32 #32\n",
    "WORK_DIR = '/root/Physics_based_loss'\n",
    "#SCALE_FACTOR = 1 # muliplier for the loss function\n",
    "DEVICE = torch.device(\"cuda\" if torch.cuda.is_available() else \"cpu\")\n",
    "MODEL_NAME = \"unet\"\n",
    "EARLY_STOP_PATIENCE = EPOCHS\n",
    "DECAY = 1e-4\n",
    "PATIENCE = 0\n",
    "\n",
    "parameters = {'image_size':SIZE,\n",
    "             'Epochs':EPOCHS,\n",
    "             'Model':MODEL_NAME,\n",
    "             'No_of_features':NoOfFeatures}\n",
    "\n",
    "HYPS = []\n",
    "\n",
    "hyps = {\"Epochs\":[EPOCHS],\n",
    "        \"learning_rate\": [1e-3],\n",
    "        \"scheduler\": [\"none\"],\n",
    "        \"scheduler_factor\": [0.1],\n",
    "        \"scheduler_patience\": [50],\n",
    "        \"use_bn\": [True],\n",
    "        \"Early_stop_patience\": [EARLY_STOP_PATIENCE],\n",
    "        \"Decay\": [DECAY]} # Use or not batchnorm\n",
    "    \n",
    "for i in product(*[hyps[j] for j in hyps]):\n",
    "    HYPS.append({a:b for a, b in zip(hyps, i)})\n",
    "#\"scheduler\": [\"None\", \"step\", \"cycle\"]\n",
    "#\"use_bn\": [True, False]\n",
    "\n",
    "#Visualization\n",
    "slices = [int(imgDim[0]/2), int(imgDim[1]/2), int(imgDim[2]/2)]\n",
    "vps = 10 #vector plot step \n",
    "FIGSIZE = 5 # figure size"
   ]
  },
  {
   "cell_type": "markdown",
   "metadata": {},
   "source": [
    "## Log parameters"
   ]
  },
  {
   "cell_type": "code",
   "execution_count": 5,
   "metadata": {},
   "outputs": [
    {
     "name": "stderr",
     "output_type": "stream",
     "text": [
      "/opt/conda/lib/python3.7/site-packages/neptune/new/attributes/attribute.py:64: NeptuneDeprecationWarning: The object you're logging will be implicitly cast to a string. We'll end support of this behavior in `neptune-client==1.0.0`. To log the object as a string, use `str(object)` instead.\n",
      "  return self.assign(value, wait)\n"
     ]
    }
   ],
   "source": [
    "run[\"config/parameters\"] = parameters\n",
    "run[\"config/hyperparameters\"] = hyps"
   ]
  },
  {
   "cell_type": "markdown",
   "metadata": {
    "id": "ORhTWZZvVw7c"
   },
   "source": [
    "## Geometry of the flow domain, fluid properties and boundary conditions"
   ]
  },
  {
   "cell_type": "markdown",
   "metadata": {},
   "source": [
    "Geometry\n",
    "\n",
    "It is convenient to present the flow domain $\\Omega$ in the form of a parallelepiped $x_i^- < x_i < x_i^+$, $(\\boldsymbol{L} = [l_i] = [x_i^+ - x_i^-])$."
   ]
  },
  {
   "cell_type": "code",
   "execution_count": 279,
   "metadata": {},
   "outputs": [],
   "source": [
    "# L_1 x L_2 x L_3 flow domain\n",
    "L = [0.012, 0.012, 0.5]#, [m]\n",
    "R = L[0]/2 #, [m]\n",
    "\n",
    "# Normalized coordinates, finite diferences, limits and elementary surface area\n",
    "X1N = torch.linspace(0, 1, SIZE)\n",
    "X2N = torch.linspace(0, 1, SIZE)\n",
    "X3N = torch.linspace(0, 1, SIZE)\n",
    "\n",
    "DX1N = X1N[1] - X1N[0]\n",
    "DX2N = X2N[1] - X2N[0]\n",
    "DX3N = X3N[1] - X3N[0]\n",
    "\n",
    "LIM1 = [0, L[0]]\n",
    "LIM2 = [0, L[1]]\n",
    "LIM3 = [0, L[2]]\n",
    "\n",
    "#dOmega = DX1N * DX2N * DX3N * DELTAX1 * DELTAX2 * DELTAX3 # elementary volume"
   ]
  },
  {
   "cell_type": "markdown",
   "metadata": {},
   "source": [
    "Boundary conditions: flow rates [$m^3/s$] through the edges $S_i^+$ ($i = 1,2,3$) of the flow domain $\\Omega$, and number of the boundary layers with the fixed values of the unknown function $\\boldsymbol\\Psi$."
   ]
  },
  {
   "cell_type": "code",
   "execution_count": 194,
   "metadata": {},
   "outputs": [],
   "source": [
    "#Flow rates Q1,Q2,Q3\n",
    "Q = [0, 0, 2E-5]\n",
    "\n",
    "#Number of layers with fixed values of the unknown Psi function\n",
    "NL = 5"
   ]
  },
  {
   "cell_type": "markdown",
   "metadata": {},
   "source": [
    "Properties of non-Newtonian fluid and walls that are relatively rigid body.\n",
    "The Herschel-Bulkley law is applied:\n",
    "\\begin{equation}\n",
    "    \\mu(H)=q_0+q_1H^{z-1},\n",
    "\\end{equation}\n",
    "where $q_0$, $q_1$, $z$ are the parameters obtained from rheological tests."
   ]
  },
  {
   "cell_type": "code",
   "execution_count": 195,
   "metadata": {},
   "outputs": [],
   "source": [
    "#Non-Newtonian fluid viscosity\n",
    "Q0 = 1e-3\n",
    "Q1 = 0\n",
    "Z = 1\n",
    "# Fluid density, kg/m**3\n",
    "RHO = 1000\n",
    "#Newtonian fluid analogue\n",
    "MU = 1e-2\n",
    "\n",
    "#Critical Reynolds number\n",
    "Re_cr = 1100\n",
    "\n",
    "#Walls viscosity\n",
    "Q0W = 1e+3#1e-0#1e+3eye \n",
    "Q1W = 0#1e-0\n",
    "ZW =1#0.5"
   ]
  },
  {
   "cell_type": "markdown",
   "metadata": {
    "id": "Hw2AD3oWsfJb"
   },
   "source": [
    "## Additional functions"
   ]
  },
  {
   "cell_type": "markdown",
   "metadata": {
    "id": "2JAf1YAHtV15"
   },
   "source": [
    "Numerical derivative"
   ]
  },
  {
   "cell_type": "code",
   "execution_count": 196,
   "metadata": {},
   "outputs": [],
   "source": [
    "def num_diff(f,dx1,dx2,dx3,template='fc'):\n",
    "    '''The following templates are applied:\n",
    "    sc - second-order central difference,\n",
    "    fc - fifth-order central difference.\n",
    "    Indexing:\n",
    "    i - index along x_1,\n",
    "    j - index along x_2,\n",
    "    k - index along x_3.\n",
    "    '''\n",
    "    #Shape\n",
    "    n1, n2, n3 = f.shape\n",
    "    print(f.shape)\n",
    "    df_dx1, df_dx2, df_dx3 = torch.zeros(n1, n2, n3), torch.zeros(n1, n2, n3), torch.zeros(n1, n2, n3)\n",
    "    \n",
    "    #Device\n",
    "    if torch.cuda.is_available():\n",
    "        df_dx1 = df_dx1.to('cuda')\n",
    "        df_dx2 = df_dx2.to('cuda')\n",
    "        df_dx3 = df_dx3.to('cuda')\n",
    "    \n",
    "    #Derivatives\n",
    "    if template == 'sc':\n",
    "        # x1 derivative:\n",
    "        df_dx1[1:n1-1,:,:] = (f[2:,:,:] - f[:-2,:,:]) / (2 * dx1)\n",
    "        df_dx1[0,:,:] = (-f[2,:,:] + 4 * f[1,:,:] - 3 * f[0,:,:]) / (2 * dx1)\n",
    "        df_dx1[n1-1,:,:] = (3 * f[n1-1,:,:] - 4 * f[n1-2,:,:] + f[n1-3,:,:]) / (2 * dx1)\n",
    "        # x2 derivative:\n",
    "        df_dx2[:,1:n2-1, :] = (f[:, 2:, :] - f[:, :-2, :]) / (2 * dx2)\n",
    "        df_dx2[:,0, :] = (- f[:,2,:] + 4 * f[:,1,:] - 3 * f[:, 0, :]) / (2 * dx2)\n",
    "        df_dx2[:,n2-1, :] = (3 * f[:, n2 - 1, :] - 4 * f[:, n2 - 2, :] + f[:, n2 - 3, :]) / (2 * dx2)\n",
    "        # x3 derivative:\n",
    "        df_dx3[:, :, 1:n3-1] = (f[:,:,2:] - f[:,:,:-2]) / (2 * dx3)\n",
    "        df_dx3[:, :, 0] = (- f[:, :, 2] + 4 * f[:, :, 1] - 3 * f[:, :, 0]) / (2 * dx3)\n",
    "        df_dx3[:, :, n3-1] = (3 * f[:, :, n3 - 1] - 4 * f[:, :, n3 - 2] + f[:, :, n3 - 3]) / (2 * dx3)\n",
    "    elif template == 'fc':\n",
    "        # x1 derivative\n",
    "        df_dx1[2:n1-2, :, :] = (-f[4:, :,:] + 8 * f[3:n1-1, :, :] - 8 * f[1:n1-3, :, :] + f[:n1-4, :, :]) / (12 * dx1)\n",
    "        df_dx1[0, :, :] = (-3 * f[4, :, :] + 16 * f[3, :, :] - 36 * f[2, :, :] + 48 * f[1, :,:] - 25 * f[0, :, :]) / (12 * dx1)\n",
    "        df_dx1[1, :, :] = (f[4, :, :] - 6 * f[3, :, :] + 18 * f[2, :, :] - 10 * f[1, :, :] - 3 * f[0, :, :]) / (12 * dx1)\n",
    "        df_dx1[n1-2, :, :] = (3 * f[n1-1, :, :] + 10 * f[n1-2, :, :] - 18 * f[n1-3, :, :] + 6 * f[n1-4, :, :] - f[n1-5, :, :]) / (12 * dx1)\n",
    "        df_dx1[n1-1, :, :] = (25 * f[n1-1, :, :] - 48 * f[n1-2, :, :] + 36 * f[n1-3, :, :] - 16 * f[n1-4, :, :] + 3*f[n1-5, :, :]) / (12 * dx1)\n",
    "        \n",
    "        # x2 derivative\n",
    "        df_dx2[:, 2:n2-2, :] = (-f[:, 4:, :] + 8 * f[:, 3:n2-1, :] - 8 * f[:, 1:n2-3, :] + f[:, :n2-4, :]) / (12 * dx2)\n",
    "        df_dx2[:, 0, :] = (-3 * f[:,4, :] + 16 * f[:, 3, :] - 36 * f[:, 2, :] + 48 * f[:, 1, :] - 25 * f[:, 0, :]) / (12*dx2)\n",
    "        df_dx2[:, 1, :] = (f[:, 4, :] - 6 * f[:, 3, :] + 18 * f[:, 2, :] - 10 * f[:, 1, :] - 3 * f[:, 0, :]) / (12*dx2)\n",
    "        df_dx2[:, n2-2, :] = (3 * f[:, n2-1, :] + 10 * f[:, n2-2, :] - 18 * f[:, n2-3, :] + 6 * f[:, n2-4, :] - f[:, n2-5, :]) / (12*dx2)\n",
    "        df_dx2[:, n2-1, :] = (25 * f[:, n2-1, :] - 48 * f[:, n2-2, :] + 36 * f[:, n2-3, :] - 16 * f[:, n2-4, :] + 3 * f[:,n2-5, :]) / (12*dx2)       \n",
    "        # x3 derivative\n",
    "        df_dx3[:, :, 2:n3-2] = (-f[:, :, 4:] + 8 * f[:, :, 3:n3-1] - 8 * f[:, :, 1:n3-3] + f[:, :, :n3-4]) / (12 * dx3)\n",
    "        df_dx3[:, :, 0] = (-3 * f[:, :, 4] + 16 * f[:, :, 3] - 36 * f[:, :, 2] + 48 * f[:, :, 1] - 25 * f[:, :, 0]) / (12 * dx3)\n",
    "        df_dx3[:, :, 1] = (f[:, :, 4] - 6 * f[:, :, 3] + 18 * f[:, :, 2] - 10 * f[:, :, 1] - 3 * f[:, :, 0]) / (12 * dx3)\n",
    "        df_dx3[:, :, n3-2] = (3 * f[:, :, n3-1] + 10 * f[:, :, n3-2] - 18 * f[:, :, n3-3] + 6 * f[:,:,n3-4] - f[:, :, n3-5]) / (12 * dx3)\n",
    "        df_dx3[:, :, n3-1] = (25 * f[:,:, n3-1] - 48 * f[:,:, n3-2] + 36 * f[:,:, n3-3] - 16 * f[:,:, n3-4] + 3*f[:,:, n3-5]) / (12 * dx3)\n",
    "    \n",
    "    return df_dx1, df_dx2, df_dx3"
   ]
  },
  {
   "cell_type": "markdown",
   "metadata": {},
   "source": [
    "Check diff"
   ]
  },
  {
   "cell_type": "code",
   "execution_count": 197,
   "metadata": {},
   "outputs": [],
   "source": [
    "# x1 = torch.linspace(1, 2, 5)\n",
    "# x2 = torch.linspace(1, 2, 5)\n",
    "# x3 = torch.linspace(1, 2, 5)\n",
    "\n",
    "# dx = x[1]-x[0]\n",
    "# x1,x2,x3 = torch.meshgrid(x1,x2,x3)\n",
    "\n",
    "# v = (x1**2+ x2**3 + x3**4)\n",
    "\n",
    "# gradv = num_diff(v,dx,dx,dx,template='fc')\n",
    "# gradv"
   ]
  },
  {
   "cell_type": "markdown",
   "metadata": {},
   "source": [
    "Visualization"
   ]
  },
  {
   "cell_type": "code",
   "execution_count": 198,
   "metadata": {},
   "outputs": [],
   "source": [
    "def vector_plot(arg, vec, FIGSIZE, vptitle='vector_plot',step=10):\n",
    "    gradmag = np.sqrt(vec[0]**2+vec[1]**2)\n",
    "    plt.pcolor(arg[0], arg[1], gradmag, cmap='rainbow')\n",
    "    plt.colorbar()\n",
    "    plt.quiver(arg[0][::step,::step], arg[1][::step,::step], vec[0][::step,::step], vec[1][::step,::step])\n",
    "    plt.title(vptitle)\n",
    " "
   ]
  },
  {
   "cell_type": "markdown",
   "metadata": {
    "id": "mH8zURs8A1Sr"
   },
   "source": [
    "## Major functions\n",
    "\n",
    "For any given function $\\boldsymbol\\Psi = [\\psi_i]$ that has fixed values on the boundaries of the flow domain together with its first, second, and third derivatives, the velocity distribution can be expressed in compact or in expanded form, respectively:\n",
    "\\begin{equation} \n",
    "    \\boldsymbol{V} = \\epsilon_{ijk}\n",
    "    \\begin{bmatrix}\n",
    "    \\frac{\\partial \\psi_k(x_i,x_j)}{\\partial x_j}\n",
    "    \\end{bmatrix},\n",
    "\\end{equation}\n",
    "where $\\epsilon_{ijk}$ is the Levi-Civita symbol,\n",
    "\n",
    "\\begin{equation} \n",
    "    \\boldsymbol{V} = \n",
    "    \\begin{bmatrix}\n",
    "    \\frac{\\partial \\psi_3}{\\partial x_2} - \\frac{\\partial \\psi_2}{\\partial x_3}, &\n",
    "    \\frac{\\partial \\psi_1}{\\partial x_3} - \\frac{\\partial \\psi_3}{\\partial x_1}, &\n",
    "    \\frac{\\partial \\psi_2}{\\partial x_1} - \\frac{\\partial \\psi_1}{\\partial x_2}\n",
    "    \\end{bmatrix}.\n",
    "\\end{equation} "
   ]
  },
  {
   "cell_type": "code",
   "execution_count": 199,
   "metadata": {
    "id": "WMUIipgs5t3Q"
   },
   "outputs": [],
   "source": [
    "def velocityDistr(psi1,psi2,psi3,dx1n,dx2n,dx3n,deltax1,deltax2,deltax3):\n",
    "    '''Velocity distribution [v_i] in the flow domain\n",
    "    '''\n",
    "#     v1 = 0\n",
    "#     v2 = 0\n",
    "#     v3 = 0\n",
    "    \n",
    "#     dpsi1dx1 = 0\n",
    "#     dpsi1dx2 = 0\n",
    "#     dpsi1dx3 = 0\n",
    "    \n",
    "#     dpsi2dx1 = 0\n",
    "#     dpsi2dx2 = 0\n",
    "#     dpsi2dx3 = 0\n",
    "    \n",
    "#     dpsi3dx1 = 0\n",
    "#     dpsi3dx2 = 0\n",
    "#     dpsi3dx3 = 0\n",
    "           \n",
    "    dpsi1dx1, dpsi1dx2, dpsi1dx3 = num_diff(psi1, dx1n, dx2n, dx3n)\n",
    "    dpsi2dx1, dpsi2dx2, dpsi2dx3 = num_diff(psi2, dx1n, dx2n, dx3n)\n",
    "    dpsi3dx1, dpsi3dx2, dpsi3dx3 = num_diff(psi3, dx1n, dx2n, dx3n)\n",
    "    \n",
    "    v1 = (dpsi3dx2 / deltax2) - (dpsi2dx3 / deltax3)\n",
    "    v2 = (dpsi1dx3 / deltax3) - (dpsi3dx1 / deltax1)\n",
    "    v3 = (dpsi2dx1 / deltax1) - (dpsi1dx2 / deltax2)\n",
    "    \n",
    "    return v1, v2, v3"
   ]
  },
  {
   "cell_type": "markdown",
   "metadata": {},
   "source": [
    "Taking into account the symmetry of the shear rate tensor $\\xi_{i,j}=\\xi_{i,j}$, the tensor has the following form:\n",
    "\n",
    "\\begin{equation}\n",
    "    \\boldsymbol{T}_\\xi= \\frac{1}{2}   \n",
    "    \\begin{bmatrix}\n",
    "    2\\frac{\\partial v_1}{\\partial x_1}, & \\frac{\\partial v_1}{\\partial x_2} - \\frac{\\partial v_2}{\\partial x_1}, & \\frac{\\partial v_1}{\\partial x_3} - \\frac{\\partial v_3}{\\partial x_1} \\\\\n",
    "     \\frac{\\partial v_1}{\\partial x_2} - \\frac{\\partial v_2}{\\partial x_1}, & 2\\frac{\\partial v_2}{\\partial x_2}, & \\frac{\\partial v_2}{\\partial x_3} - \\frac{\\partial v_3}{\\partial x_2}  \\\\\n",
    "    \\frac{\\partial v_1}{\\partial x_3} - \\frac{\\partial v_3}{\\partial x_1}, & \\frac{\\partial v_2}{\\partial x_3} - \\frac{\\partial v_3}{\\partial x_2},  & 2\\frac{\\partial v_3}{\\partial x_3}  \\\\\n",
    "    \\end{bmatrix}.\n",
    "\\end{equation}\n",
    "\n",
    "In the general case of a three dimensional flow the shear strain rate intensity $H$ depends on all the components of the shear rate tensor:\n",
    "\\begin{equation}\n",
    "    H =\\sqrt{2(\\xi_{11}^2 + \\xi_{22}^2 + \\xi_{33}^2 + 2\\xi_{12}^2 + 2\\xi_{13}^2 + 2\\xi_{23}^2)}. \n",
    "\\end{equation}"
   ]
  },
  {
   "cell_type": "code",
   "execution_count": 200,
   "metadata": {
    "id": "716qlRJoNglx"
   },
   "outputs": [],
   "source": [
    "def TksiDistr(v1,v2,v3,dx1n,dx2n,dx3n,deltax1,deltax2,deltax3):\n",
    "    '''Strain rate tensor Txi and the shear rate intensity Eta squared\n",
    "    '''    \n",
    "#     xi11 = 0\n",
    "#     xi12 = 0\n",
    "#     xi13 = 0\n",
    "    \n",
    "#     xi22 = 0\n",
    "#     xi23 = 0\n",
    "    \n",
    "#     xi33 = 0\n",
    "    \n",
    "#     dv1dx1 = 0\n",
    "#     dv1dx2 = 0\n",
    "#     dv1dx3 = 0\n",
    "    \n",
    "#     dv2dx1 = 0\n",
    "#     dv2dx2 = 0\n",
    "#     dv2dx3 = 0\n",
    "    \n",
    "#     dv3dx1 = 0\n",
    "#     dv3dx2 = 0\n",
    "#     dv3dx3 = 0\n",
    "    \n",
    "    dv1dx1, dv1dx2, dv1dx3 = num_diff(v1, dx1n, dx2n, dx3n)\n",
    "    dv2dx1, dv2dx2, dv2dx3 = num_diff(v2, dx1n, dx2n, dx3n)\n",
    "    dv3dx1, dv3dx2, dv3dx3 = num_diff(v3, dx1n, dx2n, dx3n)\n",
    "    \n",
    "    #Txi\n",
    "    xi11 = dv1dx1 / deltax1\n",
    "    xi12 = 0.5 * ((dv1dx2 / deltax2) + (dv2dx1 / deltax1))\n",
    "    xi13 = 0.5 * ((dv1dx3 / deltax3) + (dv3dx1 / deltax1))\n",
    "    \n",
    "    xi22 = dv2dx2 / deltax2\n",
    "    xi23 = 0.5 * ((dv2dx3 / deltax3) + (dv3dx2 / deltax2))\n",
    "    \n",
    "    xi33 = dv3dx3 / deltax3\n",
    "    \n",
    "    #Eta^2    \n",
    "    EtaEta = (2 * (xi11 * xi11 + xi22 * xi22 + xi33 * xi33 + \n",
    "                   2 * (xi12 * xi12 + xi13 * xi13 + xi23 * xi23)))\n",
    "  \n",
    "    return xi11, xi12, xi22, EtaEta"
   ]
  },
  {
   "cell_type": "markdown",
   "metadata": {},
   "source": [
    "## Callbacks"
   ]
  },
  {
   "cell_type": "code",
   "execution_count": 201,
   "metadata": {},
   "outputs": [],
   "source": [
    "class EarlyStop():\n",
    "    \"\"\"Callback for early stop train process.\n",
    "    \n",
    "    Args:\n",
    "        monitor (str): value for monitoring.\n",
    "        patience (int): Number of epochs with no improvement after which training will be stopped.\n",
    "        mode (str): One of {\"min\", \"max\"}. In min mode, training will stop when the quantity monitored has stopped decreasing.\n",
    "            In \"max\" mode it will stop when the quantity monitored has stopped increasing.\n",
    "    \n",
    "    Attributes:\n",
    "        history (dict): Dict of lists with train history. Key \"monitor\" contains list of monitoring values. \n",
    "        steps (int): Number of passed epoches. \n",
    "        best_step (int): Number of best epoch. \n",
    "        best_monitor (float): Best of monitoring value.\n",
    "        model (Model): Training model\n",
    "    \"\"\"\n",
    "    \n",
    "    def __init__(self, monitor, patience, mode):\n",
    "        self.monitor = monitor\n",
    "        self.patience = patience\n",
    "        self.mode = mode\n",
    "        self.history = None\n",
    "        self.steps = -1\n",
    "        self.best_step = -1\n",
    "        if self.mode == 'max':\n",
    "            self.best_monitor = 0\n",
    "        elif self.mode == 'min':\n",
    "            self.best_monitor = 1e99999\n",
    "            \n",
    "    def start(self, history, model):\n",
    "        \"\"\"Start and init callback.\n",
    "        \n",
    "        Args:\n",
    "            history (dict): Dict of lists with train history. Key \"monitor\" contains list of monitoring values. \n",
    "            model (Model): Training model.\n",
    "        \"\"\"\n",
    "        \n",
    "        self.history = history\n",
    "        self.model = model\n",
    "        \n",
    "    def step(self):\n",
    "        \"\"\"Make a step of callback.\n",
    "        \n",
    "        Returns:\n",
    "            tuple: (event, stop):\n",
    "                event (str): Decription of event. If event not did not happen then event = ''.\n",
    "                stop (bool): Flag of stopping train process.\n",
    "        \"\"\"\n",
    "        \n",
    "        self.steps += 1\n",
    "        \n",
    "        if self.mode == 'max':\n",
    "            if self.history[self.monitor][-1] > self.best_monitor:\n",
    "                self.best_monitor = self.history[self.monitor][-1]\n",
    "                self.best_step = self.steps\n",
    "        elif self.mode == 'min':\n",
    "            if self.history[self.monitor][-1] < self.best_monitor:\n",
    "                self.best_monitor = self.history[self.monitor][-1]\n",
    "                self.best_step = self.steps\n",
    "        \n",
    "        if self.steps - self.best_step > self.patience:\n",
    "            return 'Early stop with {}: {:.4f}'.format(self.monitor, self.history[self.monitor][self.best_step]), True\n",
    "        return None, False\n",
    "    \n",
    "    def stop(self):\n",
    "        \"\"\"Delete model from callback.\"\"\"\n",
    "        \n",
    "        self.model = None\n",
    "        torch.cuda.empty_cache()\n",
    "\n",
    "\n",
    "class SaveBest():\n",
    "    \"\"\"Callback for save model if there is an improvement.\n",
    "    \n",
    "    Args:\n",
    "        monitor (str): value for monitoring.\n",
    "        model_path (str): Path for saving model.\n",
    "        mode (str): One of {\"min\", \"max\"}. In min mode, training will stop when the quantity monitored has stopped decreasing.\n",
    "            In \"max\" mode it will stop when the quantity monitored has stopped increasing.\n",
    "    \n",
    "    Attributes:\n",
    "        history (dict): Dict of lists with train history. Key \"monitor\" contains list of monitoring values. \n",
    "        steps (int): Number of passed epoches. \n",
    "        best_step (int): Number of best epoch. \n",
    "        best_monitor (float): Best of monitoring value.\n",
    "        model (Model): Training model\n",
    "    \"\"\"\n",
    "    \n",
    "    def __init__(self, monitor, model_path, mode):\n",
    "        self.monitor = monitor\n",
    "        self.model_path = model_path\n",
    "        self.mode = mode\n",
    "        self.history = None\n",
    "        self.steps = -1\n",
    "        self.best_step = -1\n",
    "        if self.mode == 'max':\n",
    "            self.best_monitor = 0\n",
    "        elif self.mode == 'min':\n",
    "            self.best_monitor = 1e99999\n",
    "    \n",
    "    def start(self, history, model):\n",
    "        \"\"\"Start and init callback. Save first version of model.\n",
    "        \n",
    "        Args:\n",
    "            history (dict): Dict of lists with train history. Key \"monitor\" contains list of monitoring values. \n",
    "            model (Model): Training model\n",
    "        \"\"\"\n",
    "        \n",
    "        self.history = history\n",
    "        self.model = model\n",
    "        torch.save(self.model.state_dict(), self.model_path)\n",
    "    \n",
    "    def step(self):\n",
    "        \"\"\"Make a step of callback.\n",
    "        \n",
    "        Returns:\n",
    "            tuple: (event, stop):\n",
    "                event (str): Decription of event. If event not did not happen then event = ''.\n",
    "                stop (bool): Flag of stopping train process.\n",
    "        \"\"\"\n",
    "        \n",
    "        self.steps += 1\n",
    "        \n",
    "        if self.mode == 'max':\n",
    "            if self.history[self.monitor][-1] > self.best_monitor:\n",
    "                self.best_monitor = self.history[self.monitor][-1]\n",
    "                self.best_step = self.steps\n",
    "        elif self.mode == 'min':\n",
    "            if self.history[self.monitor][-1] < self.best_monitor:\n",
    "                self.best_monitor = self.history[self.monitor][-1]\n",
    "                self.best_step = self.steps\n",
    "        \n",
    "        if self.steps == self.best_step:\n",
    "            torch.save(self.model.state_dict(), self.model_path)\n",
    "            return 'Save model with {}: {:.4f}'.format(self.monitor, self.history[self.monitor][self.best_step]), False\n",
    "        return None, False\n",
    "    \n",
    "    def stop(self):\n",
    "        \"\"\"Delete model from callback.\"\"\"\n",
    "        \n",
    "        self.model = None\n",
    "        torch.cuda.empty_cache()"
   ]
  },
  {
   "cell_type": "markdown",
   "metadata": {},
   "source": [
    "## Training function"
   ]
  },
  {
   "cell_type": "code",
   "execution_count": 202,
   "metadata": {},
   "outputs": [],
   "source": [
    "def train(model, inp, optimizer,\n",
    "          criterion, epochs, print_every, callbacks, lr_scheduler):\n",
    "    \"\"\"Make model prediction on image.\n",
    "    \n",
    "    Args:\n",
    "        model (Model): Model for training.\n",
    "        inp (Tensor): Inpu image.\n",
    "        optimizer (Optimizer): Optimizer. \n",
    "        criterion (callable): Function for loss calculation.\n",
    "        epochs (int): Number of epoches.\n",
    "        print_every (int): Number of iteration for update statusbar.\n",
    "        callbacks (list): List of callbacks\n",
    "    \n",
    "    Returns:\n",
    "        history (dict): Dict of lists with train history.\n",
    "    \"\"\"\n",
    "    \n",
    "    history = {'Train loss':[]}\n",
    "    \n",
    "    if callbacks:\n",
    "        for i in callbacks:\n",
    "            i.start(history, model)\n",
    "    \n",
    "    train_print = ''\n",
    "    state_text_last = ''\n",
    "    bar = tqdm(range(epochs), desc=\"Epoch\", postfix=train_print)\n",
    "    for e in range(epochs):\n",
    "        model.train()\n",
    "\n",
    "        running_loss = 0\n",
    "\n",
    "        stop = False\n",
    "        \n",
    "        steps = 0\n",
    "        \n",
    "        optimizer.zero_grad()\n",
    "        \n",
    "        out = model.forward(inp)\n",
    "            \n",
    "        loss = criterion(out)\n",
    "        if e > PATIENCE:\n",
    "            run[\"training/batch/loss_training\"].log(loss)\n",
    "\n",
    "        loss.backward()\n",
    "                \n",
    "        optimizer.step()\n",
    "            \n",
    "        with torch.no_grad():\n",
    "            running_loss = loss.item()\n",
    "        \n",
    "        if (e + 1) % print_every == 0:\n",
    "            print(f'epoch {e+1}/{epochs}, loss = {running_loss:.4f}')\n",
    "            train_print = \"Train loss: {:.4f}\".format(running_loss) + ', ' + state_text_last\n",
    "            bar.postfix = train_print\n",
    "            model.train()\n",
    "            \n",
    "        \n",
    "        history['Train loss'].append(running_loss)\n",
    "        \n",
    "        if lr_scheduler:\n",
    "            if \"OneCycleLR\" in str(lr_scheduler):\n",
    "                lr_scheduler.step()\n",
    "            else:\n",
    "                lr_scheduler.step(running_loss)\n",
    "        \n",
    "        if callbacks:\n",
    "            for i in callbacks:\n",
    "                state_text, state = i.step()\n",
    "                if state_text:\n",
    "                    state_text_last = state_text\n",
    "                if state:\n",
    "                    stop = True\n",
    "        if stop:\n",
    "            train_print = \"Train loss: {:.4f}\".format(running_loss) + ', ' + state_text_last\n",
    "            bar.postfix = train_print\n",
    "            if callbacks:\n",
    "                for i in callbacks:\n",
    "                    i.stop()\n",
    "            model = None\n",
    "            inputs = None\n",
    "            targets = None\n",
    "            outputs = None\n",
    "            loss = None\n",
    "            sm = None\n",
    "            \n",
    "            torch.cuda.empty_cache()\n",
    "            \n",
    "            break\n",
    "            \n",
    "        if e + 1 != epochs:\n",
    "            bar.update()\n",
    "                        \n",
    "        inputs = None\n",
    "        targets = None\n",
    "        outputs = None\n",
    "        loss = None\n",
    "        sm = None\n",
    "        \n",
    "        torch.cuda.empty_cache()\n",
    "      \n",
    "    bar.update()\n",
    "    bar.close()\n",
    "    \n",
    "    if callbacks:\n",
    "        for i in callbacks:\n",
    "            i.stop()\n",
    "    \n",
    "    model = None\n",
    "    \n",
    "    torch.cuda.empty_cache()\n",
    "    \n",
    "    return history\n",
    "\n",
    "\n",
    "def plot_train_history(history):\n",
    "    \"\"\"Plot train history.\n",
    "    \n",
    "    Args:\n",
    "        history (dict): Dict of lists with train history..\n",
    "    \"\"\"\n",
    "    \n",
    "    fig, ax = plt.subplots(figsize = (FIGSIZE * 2, FIGSIZE))\n",
    "    \n",
    "    ax.plot(history['Train loss'], c = 'r')\n",
    "    ax.set_title('Loss')\n",
    "    ax.set_xlabel('Epochs')\n",
    "    ax.set_ylabel('Loss')\n",
    "    ax.legend(['Train'])\n",
    "    ax.set_yscale('log')\n",
    "    plt.subplots_adjust(left=None, bottom=None, right=None, top=None, wspace=None, hspace=0.3)\n",
    "    plt.show()\n",
    "\n",
    "    \n",
    "def dict2str(dict1):\n",
    "    out = str(dict1).replace(\"}\", \"\")\n",
    "    out = str(out).replace(\"{\", \"\")\n",
    "    out = str(out).replace(\"\\\"\", \"\")\n",
    "    out = str(out).replace(\"\\'\", \"\")\n",
    "    out = str(out).replace(\":\", \"\")\n",
    "    return out"
   ]
  },
  {
   "cell_type": "markdown",
   "metadata": {},
   "source": [
    "# Analitical solution in case if the fluid is Newtonian\n",
    "\n",
    "The task of fluid flow through a pipe is known as Poiseuille flow and it has a simple analytical solution given in **cylindrical coordinates** $[\\rho, \\theta, x_3]$:\n",
    "\n",
    "\\begin{equation}\n",
    "    {v_3} = - \\frac{1}{4\\mu}\\frac{\\partial p}{\\partial x_3}(R^2 - \\rho^2),\n",
    "\\end{equation}\n",
    "where ${\\partial p}/{\\partial x_3}$ is the pressure drop along the axis of the cylinder.\n",
    "\n",
    "The flow rate trough the pipe cross section (surface $S_3$) is equal to:\n",
    "\n",
    "\\begin{equation}\n",
    "    {Q_3} = \\iint_{S_3} v_3 \\rho\\,d\\rho\\,d\\theta =  - \\frac{\\pi}{8}\\frac{\\partial p}{\\partial x_3}\\frac{R^4}{\\mu}.\n",
    "\\end{equation}\n",
    "\n",
    "Given data"
   ]
  },
  {
   "cell_type": "code",
   "execution_count": 203,
   "metadata": {},
   "outputs": [
    {
     "name": "stdout",
     "output_type": "stream",
     "text": [
      "fluid viscosity: mu = 0.01,\n",
      "flow rate along x_3 axis: Q3 = 2e-05.\n"
     ]
    }
   ],
   "source": [
    "print(f'fluid viscosity: mu = {MU},')\n",
    "print(f'flow rate along x_3 axis: Q3 = {Q[2]}.')"
   ]
  },
  {
   "cell_type": "markdown",
   "metadata": {},
   "source": [
    "Simulation results"
   ]
  },
  {
   "cell_type": "code",
   "execution_count": 204,
   "metadata": {},
   "outputs": [
    {
     "name": "stdout",
     "output_type": "stream",
     "text": [
      "pressure drop along x_3 axis: dpdx3 = -982.4379203203415,\n",
      "maximum velocity: v3 = 0.35367765131532297,\n",
      "Reynolds number Re = 424.41318157838754 is smaller than critical Re < 1100: True\n",
      "Pipe length L_3 = 0.5 is longer than critical L_cr = 0.40743665431525206: True\n"
     ]
    }
   ],
   "source": [
    "dpdx3a = - Q[2]*8*MU/(np.pi*(R**4))\n",
    "v3amax = -1/(4*MU)*dpdx3a*(R**2)\n",
    "\n",
    "Re = RHO*v3amax*2*R/MU\n",
    "Lcr = 0.16*R*Re\n",
    "\n",
    "#v3a = -1/(4*mu)*dpdx_3*(R**2 - x_1**2 - x_2**2)\n",
    "\n",
    "print(f'pressure drop along x_3 axis: dpdx3 = {dpdx3},')\n",
    "print(f'maximum velocity: v3 = {v3amax},')\n",
    "print(f'Reynolds number Re = {Re} is smaller than critical Re < {Re_cr}: {Re<Re_cr}')\n",
    "print(f'Pipe length L_3 = {L[2]} is longer than critical L_cr = {Lcr}: {L[2]>Lcr}')\n"
   ]
  },
  {
   "cell_type": "markdown",
   "metadata": {},
   "source": [
    "# Machine learning solution\n",
    "## Flow domain visualization"
   ]
  },
  {
   "cell_type": "code",
   "execution_count": 289,
   "metadata": {},
   "outputs": [
    {
     "data": {
      "image/png": "[encoded data removed]",
      "text/plain": [
       "<Figure size 1080x360 with 3 Axes>"
      ]
     },
     "metadata": {
      "needs_background": "light"
     },
     "output_type": "display_data"
    }
   ],
   "source": [
    "nr=1\n",
    "nc=3\n",
    "\n",
    "plt.figure(figsize=(nc*FIGSIZE,nr*FIGSIZE))\n",
    "\n",
    "plt.subplot(nr,nc,1)\n",
    "plt.contourf(img[0,slices[0],:,:])\n",
    "plt.title('$x_1 = const$')\n",
    "\n",
    "plt.subplot(nr,nc,2)\n",
    "plt.contourf(img[0,:,slices[1],:])\n",
    "plt.title('$x_2 = const$')\n",
    "\n",
    "plt.subplot(nr,nc,3)\n",
    "plt.contourf(img[0,:,:,slices[2]])\n",
    "plt.title('$x_3 = const$')\n",
    "\n",
    "plt.show()"
   ]
  },
  {
   "cell_type": "code",
   "execution_count": 287,
   "metadata": {},
   "outputs": [
    {
     "data": {
      "text/plain": [
       "(tensor(0.), tensor(1.))"
      ]
     },
     "execution_count": 287,
     "metadata": {},
     "output_type": "execute_result"
    }
   ],
   "source": [
    "img.min(),img.max()"
   ]
  },
  {
   "cell_type": "markdown",
   "metadata": {
    "id": "XaVb_Ejsmynq"
   },
   "source": [
    "## Kinematic properties\n",
    "The flow rate through a cross-section $x_i = const$ can be expressed as follows:\n",
    "\n",
    "\\begin{equation} \n",
    "    \\label{eq:flowRate}\n",
    "    Q_i(x_i) = -\\epsilon_{ijk}(\\psi_j(x_i,x_k^+) - \\psi_j(x_i,x_k^-))l_j,\n",
    "\\end{equation}\n",
    "where $l_j = (x_j^+ - x_j^-)$.\n",
    "\n",
    "The flow rates $Q_i$ through the edges $S_i^+$ when $x_i = x_i^+$ are given.\n",
    "\n",
    "It is convenient to suppose that $\\psi_j(x_i,x_k^-) = 0$, then the flow rates througth the edges $S_i^+$ are:\n",
    "\n",
    "\\begin{equation}\n",
    "    \\begin{matrix}\n",
    "    Q_1 = Q_1(x_1^+) = - \\psi_2(x_1^+,x_3^+)l_2 + \\psi_3(x_1^+,x_2^+)l_3, & \\\\\n",
    "    Q_2 = Q_2(x_2^+) = - \\psi_3(x_1^+,x_2^+)l_3 + \\psi_1(x_2^+,x_3^+)l_1, & \\\\\n",
    "    Q_3 = Q_3(x_3^+) = - \\psi_1(x_2^+,x_3^+)l_1 + \\psi_2(x_1^+,x_3^+)l_2.\n",
    "    \\end{matrix}\n",
    "\\end{equation}\n"
   ]
  },
  {
   "cell_type": "code",
   "execution_count": 297,
   "metadata": {
    "colab": {
     "base_uri": "https://localhost:8080/",
     "height": 232
    },
    "id": "Gb4BFZNWnBsh",
    "outputId": "0dde0211-4908-4885-e6ac-4fc8f130ed54"
   },
   "outputs": [
    {
     "data": {
      "image/png": "[encoded data removed]",
      "text/plain": [
       "<Figure size 1080x360 with 2 Axes>"
      ]
     },
     "metadata": {
      "needs_background": "light"
     },
     "output_type": "display_data"
    },
    {
     "name": "stdout",
     "output_type": "stream",
     "text": [
      "tensor(1.0000e-05) tensor(-1.0000e-05) tensor(1.0000e-05)\n",
      "Q1 = 1.9999999494757503e-05\n",
      "Q2 = 0.0\n",
      "Q3 = -1.9999999494757503e-05\n"
     ]
    }
   ],
   "source": [
    "#Initialization\n",
    "psi1 = (torch.linspace(0, -Q[2]/2, imgDim[1], dtype=torch.float32) * torch.ones(imgDim[1],imgDim[2])).T\n",
    "psi2 = (torch.linspace(0,  Q[2]/2, imgDim[0], dtype=torch.float32) * torch.ones(imgDim[0],imgDim[2])).T\n",
    "psi3 = (torch.linspace(0,  Q[2]/2, imgDim[0], dtype=torch.float32) * torch.ones(imgDim[0],imgDim[1])).T\n",
    "\n",
    "# Fix constant values in NL first and last layers and set the boundary conditions (set flow rates)\n",
    "psi1[:NL,:] = 0\n",
    "psi1[-NL:,:] = - Q[2]/2\n",
    "\n",
    "psi2[:NL,:] = 0\n",
    "psi2[-NL:,:] = Q[2]/2\n",
    "\n",
    "psi3[:NL,:] = 0\n",
    "psi3[-NL:,:] = Q[2]/2\n",
    "\n",
    "#Visualization\n",
    "\n",
    "fig = plt.figure(figsize=(FIGSIZE*nc, FIGSIZE*nr))\n",
    "plt.subplot(nr,nc,1)\n",
    "plt.imshow(psi0)\n",
    "plt.title('(a) Flow function initialization, $\\Psi$')\n",
    "\n",
    "plt.subplot(nr,nc,2)\n",
    "plt.plot(psi0[:,sp])\n",
    "plt.title('(c) Flow funcion slice, $\\Psi$')\n",
    "\n",
    "plt.show()\n",
    "\n",
    "#Check flow rates\n",
    "print(psi1[-1,-1], psi2[-1,-1], psi3[-1,-1])\n",
    "print(f'Q1 = {- psi2[-1,-1] + psi3[-1,-1]}')\n",
    "print(f'Q2 = {- psi3[-1,-1] + psi1[-1,-1]}')\n",
    "print(f'Q3 = {- psi1[-1,-1] + psi2[-1,-1]}')"
   ]
  },
  {
   "cell_type": "markdown",
   "metadata": {
    "id": "FPeLHoR31p1D"
   },
   "source": [
    "## Create model\n",
    "Unet architecture [2] is used"
   ]
  },
  {
   "cell_type": "code",
   "execution_count": 27,
   "metadata": {
    "id": "PID82zl-cxN4"
   },
   "outputs": [],
   "source": [
    "class UNet(nn.Module):\n",
    "\n",
    "    def __init__(self, in_channels=3, out_channels=1, init_features=4, use_bn=True):\n",
    "        super(UNet, self).__init__()\n",
    "\n",
    "        features = init_features\n",
    "        self.encoder1 = UNet._block(in_channels, features, name=\"enc1\", use_bn=use_bn)\n",
    "        self.pool1 = nn.MaxPool2d(kernel_size=2, stride=2)\n",
    "        self.encoder2 = UNet._block(features, features * 2, name=\"enc2\", use_bn=use_bn)\n",
    "        self.pool2 = nn.MaxPool2d(kernel_size=2, stride=2)\n",
    "        self.encoder3 = UNet._block(features * 2, features * 4, name=\"enc3\", use_bn=use_bn)\n",
    "        self.pool3 = nn.MaxPool2d(kernel_size=2, stride=2)\n",
    "        self.encoder4 = UNet._block(features * 4, features * 8, name=\"enc4\", use_bn=use_bn)\n",
    "        self.pool4 = nn.MaxPool2d(kernel_size=2, stride=2)\n",
    "\n",
    "        self.bottleneck = UNet._block(features * 8, features * 16, name=\"bottleneck\", use_bn=use_bn)\n",
    "\n",
    "        self.upconv4 = nn.ConvTranspose2d(\n",
    "            features * 16, features * 8, kernel_size=2, stride=2\n",
    "        )\n",
    "        self.decoder4 = UNet._block((features * 8) * 2, features * 8, name=\"dec4\", use_bn=use_bn)\n",
    "        self.upconv3 = nn.ConvTranspose2d(\n",
    "            features * 8, features * 4, kernel_size=2, stride=2\n",
    "        )\n",
    "        self.decoder3 = UNet._block((features * 4) * 2, features * 4, name=\"dec3\", use_bn=use_bn)\n",
    "        self.upconv2 = nn.ConvTranspose2d(\n",
    "            features * 4, features * 2, kernel_size=2, stride=2\n",
    "        )\n",
    "        self.decoder2 = UNet._block((features * 2) * 2, features * 2, name=\"dec2\", use_bn=use_bn)\n",
    "        self.upconv1 = nn.ConvTranspose2d(\n",
    "            features * 2, features, kernel_size=2, stride=2\n",
    "        )\n",
    "        self.decoder1 = UNet._block(features * 2, features, name=\"dec1\", use_bn=use_bn)\n",
    "        self.decoder0 = UNet._block(features, features, name=\"dec1\", use_bn=use_bn)\n",
    "        self.conv = nn.Conv2d(\n",
    "            in_channels=features, out_channels=out_channels, kernel_size=1\n",
    "        )\n",
    "\n",
    "    def forward(self, x):\n",
    "        enc1 = self.encoder1(x)\n",
    "        enc2 = self.encoder2(self.pool1(enc1))\n",
    "        enc3 = self.encoder3(self.pool2(enc2))\n",
    "        enc4 = self.encoder4(self.pool3(enc3))\n",
    "\n",
    "        bottleneck = self.bottleneck(self.pool4(enc4))\n",
    "\n",
    "        dec4 = self.upconv4(bottleneck)\n",
    "        dec4 = torch.cat((dec4, enc4), dim=1)\n",
    "        dec4 = self.decoder4(dec4)\n",
    "        dec3 = self.upconv3(dec4)\n",
    "        dec3 = torch.cat((dec3, enc3), dim=1)\n",
    "        dec3 = self.decoder3(dec3)\n",
    "        dec2 = self.upconv2(dec3)\n",
    "        dec2 = torch.cat((dec2, enc2), dim=1)\n",
    "        dec2 = self.decoder2(dec2)\n",
    "        dec1 = self.upconv1(dec2)\n",
    "        dec1 = torch.cat((dec1, enc1), dim=1)\n",
    "        dec1 = self.decoder1(dec1)\n",
    "        dec0 = self.decoder0(dec1)\n",
    "        return torch.sigmoid(self.conv(dec0))*Q\n",
    "\n",
    "    @staticmethod\n",
    "    def _block(in_channels, features, name, use_bn):\n",
    "        return nn.Sequential(\n",
    "            OrderedDict(\n",
    "                [\n",
    "                    (\n",
    "                        name + \"conv1\",\n",
    "                        nn.Conv2d(\n",
    "                            in_channels=in_channels,\n",
    "                            out_channels=features,\n",
    "                            kernel_size=3,\n",
    "                            padding=1,\n",
    "                            bias=False,\n",
    "                        ),\n",
    "                    ),\n",
    "                    *[(name + \"norm1\", nn.BatchNorm2d(num_features=features)),\n",
    "                      (name + \"relu1\", nn.ReLU(inplace=True))][0 if use_bn else 1:],\n",
    "                    (\n",
    "                        name + \"conv2\",\n",
    "                        nn.Conv2d(\n",
    "                            in_channels=features,\n",
    "                            out_channels=features,\n",
    "                            kernel_size=3,\n",
    "                            padding=1,\n",
    "                            bias=False,\n",
    "                        ),\n",
    "                    ),\n",
    "                    *[(name + \"norm2\", nn.BatchNorm2d(num_features=features)),\n",
    "                      (name + \"relu2\", nn.ReLU(inplace=True))][0 if use_bn else 1:],\n",
    "                ]\n",
    "            )\n",
    "        )\n",
    "    \n",
    "def power_loss(psi):\n",
    "    \n",
    "    #Fix psi function on the boundaries\n",
    "    psi[:,:,:NL,:] = 0\n",
    "    psi[:,:,-NL:,:] = Q\n",
    "    psi_masked = psi[0,0,:,:]\n",
    "    \n",
    "    #psi_masked = (psi[0,0,:,:] * flowDomainMask) + (lowerWallMask * Q)\n",
    "    v1,v2 = velocityDistr(psi_masked, DX1N, DX2N, LIM1, LIM2)\n",
    "    \n",
    "    xi11, xi12, xi22, EtaEta = TksiDistr(v1, v2, DX1N, DX2N, LIM1, LIM2)\n",
    "    \n",
    "    #Subintegral expression with masks for fluid and walls, respectively:\n",
    "    subInt = ((0.5*Q0*EtaEta + ((Q1/(Z+1))*EtaEta**((Z+1)*0.5)))*flowDomainMask + \n",
    "              (0.5*Q0W*EtaEta + ((Q1W/(ZW+1))*EtaEta**((ZW+1)*0.5)))*(1-flowDomainMask)) \n",
    "    \n",
    "    int1EtaEta = torch.trapz(subInt)# + v1*Fm[0]+v2*Fm[1])\n",
    "    int2EtaEta = torch.trapz(int1EtaEta)\n",
    "    \n",
    "    #int2EtaEta = int_func_sympson_2d(EtaEta + v1*Fm[0]+v2*Fm[1], DX1N, DX2N)\n",
    "  \n",
    "    out = int2EtaEta*s #doublelIntegral(0.5*mu*EtaEta,lim1,lim2) #loss\n",
    "    \n",
    "    return out #0.5 * MU * s * EtaEta.mean()"
   ]
  },
  {
   "cell_type": "markdown",
   "metadata": {
    "id": "PhZutgNIyYhH"
   },
   "source": [
    "## Training"
   ]
  },
  {
   "cell_type": "code",
   "execution_count": 28,
   "metadata": {},
   "outputs": [],
   "source": [
    "start_time = time.time()"
   ]
  },
  {
   "cell_type": "code",
   "execution_count": 29,
   "metadata": {},
   "outputs": [
    {
     "name": "stdout",
     "output_type": "stream",
     "text": [
      "hyperparams: \n",
      " Epochs 60000, learning_rate 0.001, scheduler none, scheduler_factor 0.1, scheduler_patience 50, use_bn True, Early_stop_patience 60000, Decay 0.0001\n"
     ]
    },
    {
     "data": {
      "application/vnd.jupyter.widget-view+json": {
       "model_id": "20743508775e455d98c827ae05ea01be",
       "version_major": 2,
       "version_minor": 0
      },
      "text/plain": [
       "Epoch:   0%|          | 0/60000 [00:00<?, ?it/s]"
      ]
     },
     "metadata": {},
     "output_type": "display_data"
    },
    {
     "name": "stderr",
     "output_type": "stream",
     "text": [
      "/opt/conda/lib/python3.7/site-packages/torch/nn/functional.py:718: UserWarning: Named tensors and all their associated APIs are an experimental feature and subject to change. Please do not use them for anything important until they are released as stable. (Triggered internally at  /pytorch/c10/core/TensorImpl.h:1156.)\n",
      "  return torch.max_pool2d(input, kernel_size, stride, padding, dilation, ceil_mode)\n"
     ]
    },
    {
     "name": "stdout",
     "output_type": "stream",
     "text": [
      "epoch 100/60000, loss = 23455.3359\n",
      "epoch 200/60000, loss = 9618.0742\n",
      "epoch 300/60000, loss = 4346.7861\n",
      "epoch 400/60000, loss = 2575.3889\n",
      "epoch 500/60000, loss = 1819.8722\n",
      "epoch 600/60000, loss = 1426.5226\n",
      "epoch 700/60000, loss = 1186.0066\n",
      "epoch 800/60000, loss = 1022.6808\n",
      "epoch 900/60000, loss = 901.1129\n",
      "epoch 1000/60000, loss = 806.8507\n",
      "epoch 1100/60000, loss = 732.6370\n",
      "epoch 1200/60000, loss = 671.7179\n",
      "epoch 1300/60000, loss = 621.7708\n",
      "epoch 1400/60000, loss = 578.6423\n",
      "epoch 1500/60000, loss = 539.3271\n",
      "epoch 1600/60000, loss = 505.2104\n",
      "epoch 1700/60000, loss = 475.2498\n",
      "epoch 1800/60000, loss = 448.3486\n",
      "epoch 1900/60000, loss = 424.6942\n",
      "epoch 2000/60000, loss = 403.9341\n",
      "epoch 2100/60000, loss = 384.7180\n",
      "epoch 2200/60000, loss = 366.8172\n",
      "epoch 2300/60000, loss = 350.9874\n",
      "epoch 2400/60000, loss = 335.3944\n",
      "epoch 2500/60000, loss = 320.5497\n",
      "epoch 2600/60000, loss = 314.1321\n",
      "epoch 2700/60000, loss = 295.4453\n",
      "epoch 2800/60000, loss = 284.9765\n",
      "epoch 2900/60000, loss = 273.6265\n",
      "epoch 3000/60000, loss = 263.3607\n",
      "epoch 3100/60000, loss = 253.1027\n",
      "epoch 3200/60000, loss = 342.4280\n",
      "epoch 3300/60000, loss = 245.7005\n",
      "epoch 3400/60000, loss = 252.6530\n",
      "epoch 3500/60000, loss = 223.3418\n",
      "epoch 3600/60000, loss = 214.7011\n",
      "epoch 3700/60000, loss = 214.7408\n",
      "epoch 3800/60000, loss = 249.5566\n",
      "epoch 3900/60000, loss = 287.9662\n",
      "epoch 4000/60000, loss = 188.9085\n",
      "epoch 4100/60000, loss = 182.2185\n",
      "epoch 4200/60000, loss = 174.8122\n",
      "epoch 4300/60000, loss = 194.3194\n",
      "epoch 4400/60000, loss = 163.1835\n",
      "epoch 4500/60000, loss = 159.7624\n",
      "epoch 4600/60000, loss = 183.8855\n",
      "epoch 4700/60000, loss = 148.5961\n",
      "epoch 4800/60000, loss = 180.7851\n",
      "epoch 4900/60000, loss = 141.0561\n",
      "epoch 5000/60000, loss = 151.2553\n",
      "epoch 5100/60000, loss = 127.7369\n",
      "epoch 5200/60000, loss = 124.0915\n",
      "epoch 5300/60000, loss = 138.8809\n",
      "epoch 5400/60000, loss = 115.3003\n",
      "epoch 5500/60000, loss = 112.7378\n",
      "epoch 5600/60000, loss = 106.6771\n",
      "epoch 5700/60000, loss = 159.1172\n",
      "epoch 5800/60000, loss = 106.1696\n",
      "epoch 5900/60000, loss = 127.3834\n",
      "epoch 6000/60000, loss = 114.1557\n",
      "epoch 6100/60000, loss = 92.8582\n",
      "epoch 6200/60000, loss = 85.1432\n",
      "epoch 6300/60000, loss = 78.3411\n",
      "epoch 6400/60000, loss = 98.2856\n",
      "epoch 6500/60000, loss = 96.7901\n",
      "epoch 6600/60000, loss = 80.3208\n",
      "epoch 6700/60000, loss = 79.8809\n",
      "epoch 6800/60000, loss = 226.3359\n",
      "epoch 6900/60000, loss = 57.3734\n",
      "epoch 7000/60000, loss = 59.1604\n",
      "epoch 7100/60000, loss = 125.0089\n",
      "epoch 7200/60000, loss = 66.5041\n",
      "epoch 7300/60000, loss = 50.0738\n",
      "epoch 7400/60000, loss = 49.9484\n",
      "epoch 7500/60000, loss = 48.9602\n",
      "epoch 7600/60000, loss = 94.1565\n",
      "epoch 7700/60000, loss = 44.4740\n",
      "epoch 7800/60000, loss = 43.1491\n",
      "epoch 7900/60000, loss = 38.2730\n",
      "epoch 8000/60000, loss = 68.6266\n",
      "epoch 8100/60000, loss = 88.9481\n",
      "epoch 8200/60000, loss = 144.6017\n",
      "epoch 8300/60000, loss = 37.8817\n",
      "epoch 8400/60000, loss = 32.7493\n",
      "epoch 8500/60000, loss = 32.2606\n",
      "epoch 8600/60000, loss = 55.9228\n",
      "epoch 8700/60000, loss = 35.6260\n",
      "epoch 8800/60000, loss = 31.0669\n",
      "epoch 8900/60000, loss = 30.6421\n",
      "epoch 9000/60000, loss = 37.6824\n",
      "epoch 9100/60000, loss = 30.4022\n",
      "epoch 9200/60000, loss = 28.6051\n",
      "epoch 9300/60000, loss = 26.1130\n",
      "epoch 9400/60000, loss = 50.7165\n",
      "epoch 9500/60000, loss = 117.6179\n",
      "epoch 9600/60000, loss = 25.5111\n",
      "epoch 9700/60000, loss = 26.9785\n",
      "epoch 9800/60000, loss = 58.9541\n",
      "epoch 9900/60000, loss = 24.7889\n",
      "epoch 10000/60000, loss = 29.8733\n",
      "epoch 10100/60000, loss = 31.0728\n",
      "epoch 10200/60000, loss = 21.2546\n",
      "epoch 10300/60000, loss = 21.0545\n",
      "epoch 10400/60000, loss = 34.7121\n",
      "epoch 10500/60000, loss = 19.3027\n",
      "epoch 10600/60000, loss = 191.6518\n",
      "epoch 10700/60000, loss = 23.9024\n",
      "epoch 10800/60000, loss = 18.6251\n",
      "epoch 10900/60000, loss = 16.9141\n",
      "epoch 11000/60000, loss = 15.9709\n",
      "epoch 11100/60000, loss = 15.1624\n",
      "epoch 11200/60000, loss = 13.8884\n",
      "epoch 11300/60000, loss = 44.6189\n",
      "epoch 11400/60000, loss = 12.5349\n",
      "epoch 11500/60000, loss = 15.6964\n",
      "epoch 11600/60000, loss = 13.0262\n",
      "epoch 11700/60000, loss = 27.0925\n",
      "epoch 11800/60000, loss = 14.2965\n",
      "epoch 11900/60000, loss = 30.6203\n",
      "epoch 12000/60000, loss = 9.7716\n",
      "epoch 12100/60000, loss = 13.2034\n",
      "epoch 12200/60000, loss = 9.0809\n",
      "epoch 12300/60000, loss = 9.2257\n",
      "epoch 12400/60000, loss = 8.1865\n",
      "epoch 12500/60000, loss = 14.8096\n",
      "epoch 12600/60000, loss = 11.3612\n",
      "epoch 12700/60000, loss = 10.8305\n",
      "epoch 12800/60000, loss = 6.1967\n",
      "epoch 12900/60000, loss = 6.2974\n",
      "epoch 13000/60000, loss = 11.0408\n",
      "epoch 13100/60000, loss = 5.2181\n",
      "epoch 13200/60000, loss = 5.2905\n",
      "epoch 13300/60000, loss = 5.3970\n",
      "epoch 13400/60000, loss = 25.1088\n",
      "epoch 13500/60000, loss = 80.7345\n",
      "epoch 13600/60000, loss = 39.1400\n",
      "epoch 13700/60000, loss = 27.1722\n",
      "epoch 13800/60000, loss = 20.5034\n",
      "epoch 13900/60000, loss = 16.3408\n",
      "epoch 14000/60000, loss = 13.4946\n",
      "epoch 14100/60000, loss = 11.4256\n",
      "epoch 14200/60000, loss = 9.8551\n",
      "epoch 14300/60000, loss = 8.6034\n",
      "epoch 14400/60000, loss = 7.5733\n",
      "epoch 14500/60000, loss = 6.6911\n",
      "epoch 14600/60000, loss = 5.9639\n",
      "epoch 14700/60000, loss = 5.3545\n",
      "epoch 14800/60000, loss = 4.8248\n",
      "epoch 14900/60000, loss = 4.3522\n",
      "epoch 15000/60000, loss = 3.9526\n",
      "epoch 15100/60000, loss = 3.6133\n",
      "epoch 15200/60000, loss = 3.3135\n",
      "epoch 15300/60000, loss = 3.0553\n",
      "epoch 15400/60000, loss = 2.8216\n",
      "epoch 15500/60000, loss = 2.6128\n",
      "epoch 15600/60000, loss = 2.4203\n",
      "epoch 15700/60000, loss = 2.2443\n",
      "epoch 15800/60000, loss = 2.0856\n",
      "epoch 15900/60000, loss = 1.9389\n",
      "epoch 16000/60000, loss = 1.7893\n",
      "epoch 16100/60000, loss = 1.6620\n",
      "epoch 16200/60000, loss = 1.5494\n",
      "epoch 16300/60000, loss = 1.4523\n",
      "epoch 16400/60000, loss = 1.3682\n",
      "epoch 16500/60000, loss = 1.2844\n",
      "epoch 16600/60000, loss = 1.3299\n",
      "epoch 16700/60000, loss = 1.1976\n",
      "epoch 16800/60000, loss = 1.0969\n",
      "epoch 16900/60000, loss = 1.0266\n",
      "epoch 17000/60000, loss = 0.9630\n",
      "epoch 17100/60000, loss = 0.9089\n",
      "epoch 17200/60000, loss = 0.8604\n",
      "epoch 17300/60000, loss = 0.8183\n",
      "epoch 17400/60000, loss = 0.7789\n",
      "epoch 17500/60000, loss = 0.7406\n",
      "epoch 17600/60000, loss = 0.7029\n",
      "epoch 17700/60000, loss = 0.6705\n",
      "epoch 17800/60000, loss = 0.6518\n",
      "epoch 17900/60000, loss = 0.6177\n",
      "epoch 18000/60000, loss = 0.6095\n",
      "epoch 18100/60000, loss = 0.5653\n",
      "epoch 18200/60000, loss = 0.5471\n",
      "epoch 18300/60000, loss = 0.5659\n",
      "epoch 18400/60000, loss = 0.4969\n",
      "epoch 18500/60000, loss = 0.4778\n",
      "epoch 18600/60000, loss = 0.4590\n",
      "epoch 18700/60000, loss = 0.4418\n",
      "epoch 18800/60000, loss = 0.4295\n",
      "epoch 18900/60000, loss = 0.4203\n",
      "epoch 19000/60000, loss = 0.3918\n",
      "epoch 19100/60000, loss = 0.3925\n",
      "epoch 19200/60000, loss = 0.3659\n",
      "epoch 19300/60000, loss = 0.3523\n",
      "epoch 19400/60000, loss = 0.3356\n",
      "epoch 19500/60000, loss = 0.3229\n",
      "epoch 19600/60000, loss = 0.3121\n",
      "epoch 19700/60000, loss = 0.7494\n",
      "epoch 19800/60000, loss = 0.3587\n",
      "epoch 19900/60000, loss = 0.3147\n",
      "epoch 20000/60000, loss = 0.2923\n",
      "epoch 20100/60000, loss = 0.2757\n",
      "epoch 20200/60000, loss = 0.2622\n",
      "epoch 20300/60000, loss = 0.2504\n",
      "epoch 20400/60000, loss = 0.2395\n",
      "epoch 20500/60000, loss = 0.2293\n",
      "epoch 20600/60000, loss = 0.2200\n",
      "epoch 20700/60000, loss = 0.2133\n",
      "epoch 20800/60000, loss = 0.2032\n",
      "epoch 20900/60000, loss = 0.1959\n",
      "epoch 21000/60000, loss = 0.1882\n",
      "epoch 21100/60000, loss = 0.1802\n",
      "epoch 21200/60000, loss = 0.1740\n",
      "epoch 21300/60000, loss = 0.1718\n",
      "epoch 21400/60000, loss = 0.1617\n",
      "epoch 21500/60000, loss = 0.1545\n",
      "epoch 21600/60000, loss = 0.1474\n",
      "epoch 21700/60000, loss = 0.1432\n",
      "epoch 21800/60000, loss = 0.1388\n",
      "epoch 21900/60000, loss = 0.1316\n",
      "epoch 22000/60000, loss = 0.1372\n",
      "epoch 22100/60000, loss = 0.1239\n",
      "epoch 22200/60000, loss = 0.1177\n",
      "epoch 22300/60000, loss = 0.1126\n",
      "epoch 22400/60000, loss = 0.1093\n",
      "epoch 22500/60000, loss = 0.1040\n",
      "epoch 22600/60000, loss = 0.1011\n",
      "epoch 22700/60000, loss = 0.0968\n",
      "epoch 22800/60000, loss = 0.0983\n",
      "epoch 22900/60000, loss = 0.0882\n",
      "epoch 23000/60000, loss = 0.0853\n",
      "epoch 23100/60000, loss = 0.0819\n",
      "epoch 23200/60000, loss = 0.0841\n",
      "epoch 23300/60000, loss = 0.0755\n",
      "epoch 23400/60000, loss = 0.0715\n",
      "epoch 23500/60000, loss = 0.0715\n",
      "epoch 23600/60000, loss = 0.0660\n",
      "epoch 23700/60000, loss = 0.0633\n",
      "epoch 23800/60000, loss = 0.0602\n",
      "epoch 23900/60000, loss = 0.0631\n",
      "epoch 24000/60000, loss = 0.0550\n",
      "epoch 24100/60000, loss = 0.0582\n",
      "epoch 24200/60000, loss = 0.0509\n",
      "epoch 24300/60000, loss = 0.0497\n",
      "epoch 24400/60000, loss = 0.0458\n",
      "epoch 24500/60000, loss = 0.0437\n",
      "epoch 24600/60000, loss = 0.0437\n",
      "epoch 24700/60000, loss = 0.0407\n",
      "epoch 24800/60000, loss = 0.0398\n",
      "epoch 24900/60000, loss = 0.0371\n",
      "epoch 25000/60000, loss = 0.0355\n",
      "epoch 25100/60000, loss = 0.0333\n",
      "epoch 25200/60000, loss = 0.0322\n",
      "epoch 25300/60000, loss = 0.0304\n",
      "epoch 25400/60000, loss = 0.0285\n",
      "epoch 25500/60000, loss = 0.0282\n",
      "epoch 25600/60000, loss = 0.0260\n",
      "epoch 25700/60000, loss = 0.0250\n",
      "epoch 25800/60000, loss = 0.0240\n",
      "epoch 25900/60000, loss = 0.0230\n",
      "epoch 26000/60000, loss = 0.0244\n",
      "epoch 26100/60000, loss = 0.0205\n",
      "epoch 26200/60000, loss = 0.0198\n",
      "epoch 26300/60000, loss = 0.0192\n",
      "epoch 26400/60000, loss = 0.0182\n",
      "epoch 26500/60000, loss = 0.0174\n",
      "epoch 26600/60000, loss = 0.0161\n",
      "epoch 26700/60000, loss = 0.0154\n",
      "epoch 26800/60000, loss = 0.0155\n",
      "epoch 26900/60000, loss = 0.0142\n",
      "epoch 27000/60000, loss = 0.0160\n",
      "epoch 27100/60000, loss = 0.0135\n",
      "epoch 27200/60000, loss = 0.0129\n",
      "epoch 27300/60000, loss = 0.0117\n",
      "epoch 27400/60000, loss = 0.0157\n",
      "epoch 27500/60000, loss = 0.0121\n",
      "epoch 27600/60000, loss = 0.0110\n",
      "epoch 27700/60000, loss = 0.0103\n",
      "epoch 27800/60000, loss = 0.0098\n",
      "epoch 27900/60000, loss = 0.0093\n",
      "epoch 28000/60000, loss = 0.0089\n",
      "epoch 28100/60000, loss = 0.0083\n",
      "epoch 28200/60000, loss = 0.0079\n",
      "epoch 28300/60000, loss = 0.0084\n",
      "epoch 28400/60000, loss = 0.0121\n",
      "epoch 28500/60000, loss = 0.0073\n",
      "epoch 28600/60000, loss = 0.0067\n",
      "epoch 28700/60000, loss = 0.0193\n",
      "epoch 28800/60000, loss = 0.0064\n",
      "epoch 28900/60000, loss = 0.0059\n",
      "epoch 29000/60000, loss = 0.0058\n",
      "epoch 29100/60000, loss = 0.0058\n",
      "epoch 29200/60000, loss = 0.0052\n",
      "epoch 29300/60000, loss = 0.0049\n",
      "epoch 29400/60000, loss = 0.0054\n",
      "epoch 29500/60000, loss = 0.0046\n",
      "epoch 29600/60000, loss = 0.0068\n",
      "epoch 29700/60000, loss = 0.0043\n",
      "epoch 29800/60000, loss = 0.0041\n",
      "epoch 29900/60000, loss = 0.0049\n",
      "epoch 30000/60000, loss = 0.0037\n",
      "epoch 30100/60000, loss = 0.0036\n",
      "epoch 30200/60000, loss = 0.0037\n",
      "epoch 30300/60000, loss = 0.0037\n",
      "epoch 30400/60000, loss = 0.0034\n",
      "epoch 30500/60000, loss = 0.0031\n",
      "epoch 30600/60000, loss = 0.0030\n",
      "epoch 30700/60000, loss = 0.0270\n",
      "epoch 30800/60000, loss = 0.0125\n",
      "epoch 30900/60000, loss = 0.0095\n",
      "epoch 31000/60000, loss = 0.0080\n",
      "epoch 31100/60000, loss = 0.0071\n",
      "epoch 31200/60000, loss = 0.0064\n",
      "epoch 31300/60000, loss = 0.0058\n",
      "epoch 31400/60000, loss = 0.0053\n",
      "epoch 31500/60000, loss = 0.0048\n",
      "epoch 31600/60000, loss = 0.0045\n",
      "epoch 31700/60000, loss = 0.0042\n",
      "epoch 31800/60000, loss = 0.0039\n",
      "epoch 31900/60000, loss = 0.0037\n",
      "epoch 32000/60000, loss = 0.0035\n",
      "epoch 32100/60000, loss = 0.0033\n",
      "epoch 32200/60000, loss = 0.0032\n",
      "epoch 32300/60000, loss = 0.0030\n",
      "epoch 32400/60000, loss = 0.0029\n",
      "epoch 32500/60000, loss = 0.0028\n",
      "epoch 32600/60000, loss = 0.0027\n",
      "epoch 32700/60000, loss = 0.0026\n",
      "epoch 32800/60000, loss = 0.0025\n",
      "epoch 32900/60000, loss = 0.0024\n",
      "epoch 33000/60000, loss = 0.0023\n",
      "epoch 33100/60000, loss = 0.0022\n",
      "epoch 33200/60000, loss = 0.0021\n",
      "epoch 33300/60000, loss = 0.0021\n",
      "epoch 33400/60000, loss = 0.0020\n",
      "epoch 33500/60000, loss = 0.0019\n",
      "epoch 33600/60000, loss = 0.0019\n",
      "epoch 33700/60000, loss = 0.0018\n",
      "epoch 33800/60000, loss = 0.0017\n",
      "epoch 33900/60000, loss = 0.0016\n",
      "epoch 34000/60000, loss = 0.0016\n",
      "epoch 34100/60000, loss = 0.0015\n",
      "epoch 34200/60000, loss = 0.0015\n",
      "epoch 34300/60000, loss = 0.0014\n",
      "epoch 34400/60000, loss = 0.0014\n",
      "epoch 34500/60000, loss = 0.0015\n",
      "epoch 34600/60000, loss = 0.0013\n",
      "epoch 34700/60000, loss = 0.0013\n",
      "epoch 34800/60000, loss = 0.0013\n",
      "epoch 34900/60000, loss = 0.0014\n",
      "epoch 35000/60000, loss = 0.0013\n",
      "epoch 35100/60000, loss = 0.0012\n",
      "epoch 35200/60000, loss = 0.0012\n",
      "epoch 35300/60000, loss = 0.0012\n",
      "epoch 35400/60000, loss = 0.0012\n",
      "epoch 35500/60000, loss = 0.0012\n",
      "epoch 35600/60000, loss = 0.0012\n",
      "epoch 35700/60000, loss = 0.0012\n",
      "epoch 35800/60000, loss = 0.0011\n",
      "epoch 35900/60000, loss = 0.0011\n",
      "epoch 36000/60000, loss = 0.0011\n",
      "epoch 36100/60000, loss = 0.0011\n",
      "epoch 36200/60000, loss = 0.0011\n",
      "epoch 36300/60000, loss = 0.0011\n",
      "epoch 36400/60000, loss = 0.0011\n",
      "epoch 36500/60000, loss = 0.0011\n",
      "epoch 36600/60000, loss = 0.0011\n",
      "epoch 36700/60000, loss = 0.0010\n",
      "epoch 36800/60000, loss = 0.0011\n",
      "epoch 36900/60000, loss = 0.0010\n",
      "epoch 37000/60000, loss = 0.0010\n",
      "epoch 37100/60000, loss = 0.0010\n",
      "epoch 37200/60000, loss = 0.0011\n",
      "epoch 37300/60000, loss = 0.0010\n",
      "epoch 37400/60000, loss = 0.0010\n",
      "epoch 37500/60000, loss = 0.0010\n",
      "epoch 37600/60000, loss = 0.0010\n",
      "epoch 37700/60000, loss = 0.0011\n",
      "epoch 37800/60000, loss = 0.0010\n",
      "epoch 37900/60000, loss = 0.0010\n",
      "epoch 38000/60000, loss = 0.0011\n",
      "epoch 38100/60000, loss = 0.0009\n",
      "epoch 38200/60000, loss = 0.0010\n",
      "epoch 38300/60000, loss = 0.0010\n",
      "epoch 38400/60000, loss = 0.0010\n",
      "epoch 38500/60000, loss = 0.0026\n",
      "epoch 38600/60000, loss = 0.0015\n",
      "epoch 38700/60000, loss = 0.0013\n",
      "epoch 38800/60000, loss = 0.0012\n",
      "epoch 38900/60000, loss = 0.0012\n",
      "epoch 39000/60000, loss = 0.0011\n",
      "epoch 39100/60000, loss = 0.0010\n",
      "epoch 39200/60000, loss = 0.0010\n",
      "epoch 39300/60000, loss = 0.0010\n",
      "epoch 39400/60000, loss = 0.0009\n",
      "epoch 39500/60000, loss = 0.0009\n",
      "epoch 39600/60000, loss = 0.0010\n",
      "epoch 39700/60000, loss = 0.0011\n",
      "epoch 39800/60000, loss = 0.0009\n",
      "epoch 39900/60000, loss = 0.0009\n",
      "epoch 40000/60000, loss = 0.0010\n",
      "epoch 40100/60000, loss = 0.0010\n",
      "epoch 40200/60000, loss = 0.0009\n",
      "epoch 40300/60000, loss = 3.0633\n",
      "epoch 40400/60000, loss = 1.6026\n",
      "epoch 40500/60000, loss = 1.0775\n",
      "epoch 40600/60000, loss = 0.7926\n",
      "epoch 40700/60000, loss = 0.6404\n",
      "epoch 40800/60000, loss = 0.5563\n",
      "epoch 40900/60000, loss = 0.4122\n",
      "epoch 41000/60000, loss = 0.3448\n",
      "epoch 41100/60000, loss = 0.2994\n",
      "epoch 41200/60000, loss = 0.2634\n",
      "epoch 41300/60000, loss = 0.2325\n",
      "epoch 41400/60000, loss = 0.2065\n",
      "epoch 41500/60000, loss = 0.1877\n",
      "epoch 41600/60000, loss = 0.1733\n",
      "epoch 41700/60000, loss = 0.1615\n",
      "epoch 41800/60000, loss = 0.1735\n",
      "epoch 41900/60000, loss = 0.1392\n",
      "epoch 42000/60000, loss = 0.1422\n",
      "epoch 42100/60000, loss = 0.1255\n",
      "epoch 42200/60000, loss = 0.1208\n",
      "epoch 42300/60000, loss = 0.1156\n",
      "epoch 42400/60000, loss = 0.1128\n",
      "epoch 42500/60000, loss = 0.1046\n",
      "epoch 42600/60000, loss = 0.6289\n",
      "epoch 42700/60000, loss = 0.1982\n",
      "epoch 42800/60000, loss = 0.1477\n",
      "epoch 42900/60000, loss = 0.1264\n",
      "epoch 43000/60000, loss = 0.1123\n",
      "epoch 43100/60000, loss = 0.1005\n",
      "epoch 43200/60000, loss = 0.0940\n",
      "epoch 43300/60000, loss = 0.0881\n",
      "epoch 43400/60000, loss = 0.0851\n",
      "epoch 43500/60000, loss = 0.0817\n",
      "epoch 43600/60000, loss = 0.0789\n",
      "epoch 43700/60000, loss = 0.0832\n",
      "epoch 43800/60000, loss = 0.0751\n",
      "epoch 43900/60000, loss = 0.0741\n",
      "epoch 44000/60000, loss = 0.0721\n",
      "epoch 44100/60000, loss = 0.0810\n",
      "epoch 44200/60000, loss = 0.0686\n",
      "epoch 44300/60000, loss = 0.0717\n",
      "epoch 44400/60000, loss = 0.0671\n",
      "epoch 44500/60000, loss = 0.0654\n",
      "epoch 44600/60000, loss = 0.0643\n",
      "epoch 44700/60000, loss = 0.0632\n",
      "epoch 44800/60000, loss = 0.0612\n",
      "epoch 44900/60000, loss = 0.0602\n",
      "epoch 45000/60000, loss = 0.0588\n",
      "epoch 45100/60000, loss = 0.0591\n",
      "epoch 45200/60000, loss = 0.0565\n",
      "epoch 45300/60000, loss = 0.0568\n",
      "epoch 45400/60000, loss = 0.0542\n",
      "epoch 45500/60000, loss = 0.0559\n",
      "epoch 45600/60000, loss = 0.0481\n",
      "epoch 45700/60000, loss = 0.0222\n",
      "epoch 45800/60000, loss = 0.0147\n",
      "epoch 45900/60000, loss = 0.0125\n",
      "epoch 46000/60000, loss = 0.0114\n",
      "epoch 46100/60000, loss = 0.0123\n",
      "epoch 46200/60000, loss = 0.0117\n",
      "epoch 46300/60000, loss = 0.0111\n",
      "epoch 46400/60000, loss = 0.0094\n",
      "epoch 46500/60000, loss = 0.0104\n",
      "epoch 46600/60000, loss = 0.1059\n",
      "epoch 46700/60000, loss = 0.0397\n",
      "epoch 46800/60000, loss = 0.0227\n",
      "epoch 46900/60000, loss = 0.0181\n",
      "epoch 47000/60000, loss = 0.0148\n",
      "epoch 47100/60000, loss = 0.0130\n",
      "epoch 47200/60000, loss = 0.0113\n",
      "epoch 47300/60000, loss = 0.0105\n",
      "epoch 47400/60000, loss = 0.0117\n",
      "epoch 47500/60000, loss = 0.0122\n",
      "epoch 47600/60000, loss = 0.0078\n",
      "epoch 47700/60000, loss = 0.0070\n",
      "epoch 47800/60000, loss = 0.0069\n",
      "epoch 47900/60000, loss = 0.0078\n",
      "epoch 48000/60000, loss = 0.0069\n",
      "epoch 48100/60000, loss = 0.0065\n",
      "epoch 48200/60000, loss = 0.0056\n",
      "epoch 48300/60000, loss = 0.0059\n",
      "epoch 48400/60000, loss = 0.0053\n",
      "epoch 48500/60000, loss = 0.0052\n",
      "epoch 48600/60000, loss = 0.0061\n",
      "epoch 48700/60000, loss = 0.0059\n",
      "epoch 48800/60000, loss = 0.0047\n",
      "epoch 48900/60000, loss = 0.0076\n",
      "epoch 49000/60000, loss = 0.0074\n",
      "epoch 49100/60000, loss = 0.0043\n",
      "epoch 49200/60000, loss = 0.0047\n",
      "epoch 49300/60000, loss = 0.0045\n",
      "epoch 49400/60000, loss = 0.0074\n",
      "epoch 49500/60000, loss = 0.0040\n",
      "epoch 49600/60000, loss = 0.0036\n",
      "epoch 49700/60000, loss = 0.0084\n",
      "epoch 49800/60000, loss = 0.0036\n",
      "epoch 49900/60000, loss = 0.0035\n",
      "epoch 50000/60000, loss = 0.0034\n",
      "epoch 50100/60000, loss = 0.0034\n",
      "epoch 50200/60000, loss = 0.0051\n",
      "epoch 50300/60000, loss = 0.0031\n",
      "epoch 50400/60000, loss = 0.0034\n",
      "epoch 50500/60000, loss = 0.0031\n",
      "epoch 50600/60000, loss = 0.0031\n",
      "epoch 50700/60000, loss = 0.0032\n",
      "epoch 50800/60000, loss = 0.0029\n",
      "epoch 50900/60000, loss = 0.0042\n",
      "epoch 51000/60000, loss = 0.0031\n",
      "epoch 51100/60000, loss = 0.0037\n",
      "epoch 51200/60000, loss = 0.0041\n",
      "epoch 51300/60000, loss = 0.0028\n",
      "epoch 51400/60000, loss = 0.0036\n",
      "epoch 51500/60000, loss = 0.0027\n",
      "epoch 51600/60000, loss = 0.0030\n",
      "epoch 51700/60000, loss = 0.0032\n",
      "epoch 51800/60000, loss = 0.0023\n",
      "epoch 51900/60000, loss = 0.0042\n",
      "epoch 52000/60000, loss = 0.0029\n",
      "epoch 52100/60000, loss = 0.0032\n",
      "epoch 52200/60000, loss = 0.0028\n",
      "epoch 52300/60000, loss = 0.0026\n",
      "epoch 52400/60000, loss = 0.0021\n",
      "epoch 52500/60000, loss = 0.0035\n",
      "epoch 52600/60000, loss = 0.0020\n",
      "epoch 52700/60000, loss = 0.0055\n",
      "epoch 52800/60000, loss = 0.0035\n",
      "epoch 52900/60000, loss = 0.0029\n",
      "epoch 53000/60000, loss = 0.0026\n",
      "epoch 53100/60000, loss = 0.0025\n",
      "epoch 53200/60000, loss = 0.0022\n",
      "epoch 53300/60000, loss = 0.0022\n",
      "epoch 53400/60000, loss = 0.0023\n",
      "epoch 53500/60000, loss = 0.0025\n",
      "epoch 53600/60000, loss = 0.0020\n",
      "epoch 53700/60000, loss = 0.0020\n",
      "epoch 53800/60000, loss = 0.0022\n",
      "epoch 53900/60000, loss = 0.0023\n",
      "epoch 54000/60000, loss = 0.0018\n",
      "epoch 54100/60000, loss = 0.0016\n",
      "epoch 54200/60000, loss = 0.0021\n",
      "epoch 54300/60000, loss = 0.0021\n",
      "epoch 54400/60000, loss = 0.0016\n",
      "epoch 54500/60000, loss = 0.0016\n",
      "epoch 54600/60000, loss = 0.0017\n",
      "epoch 54700/60000, loss = 0.0017\n",
      "epoch 54800/60000, loss = 0.0015\n",
      "epoch 54900/60000, loss = 0.0037\n",
      "epoch 55000/60000, loss = 0.0018\n",
      "epoch 55100/60000, loss = 0.0015\n",
      "epoch 55200/60000, loss = 0.0015\n",
      "epoch 55300/60000, loss = 0.0016\n",
      "epoch 55400/60000, loss = 0.0015\n",
      "epoch 55500/60000, loss = 0.0018\n",
      "epoch 55600/60000, loss = 0.0015\n",
      "epoch 55700/60000, loss = 0.0032\n",
      "epoch 55800/60000, loss = 0.0013\n",
      "epoch 55900/60000, loss = 0.0015\n",
      "epoch 56000/60000, loss = 0.0015\n",
      "epoch 56100/60000, loss = 0.0012\n",
      "epoch 56200/60000, loss = 0.0026\n",
      "epoch 56300/60000, loss = 0.0017\n",
      "epoch 56400/60000, loss = 0.0047\n",
      "epoch 56500/60000, loss = 0.0025\n",
      "epoch 56600/60000, loss = 0.0018\n",
      "epoch 56700/60000, loss = 0.0015\n",
      "epoch 56800/60000, loss = 0.0015\n",
      "epoch 56900/60000, loss = 0.0027\n",
      "epoch 57000/60000, loss = 0.0017\n",
      "epoch 57100/60000, loss = 0.0015\n",
      "epoch 57200/60000, loss = 0.0014\n",
      "epoch 57300/60000, loss = 0.0013\n",
      "epoch 57400/60000, loss = 0.0013\n",
      "epoch 57500/60000, loss = 0.0012\n",
      "epoch 57600/60000, loss = 0.0012\n",
      "epoch 57700/60000, loss = 0.0012\n",
      "epoch 57800/60000, loss = 0.0012\n",
      "epoch 57900/60000, loss = 0.0012\n",
      "epoch 58000/60000, loss = 0.0021\n",
      "epoch 58100/60000, loss = 0.0011\n",
      "epoch 58200/60000, loss = 0.0011\n",
      "epoch 58300/60000, loss = 0.0012\n",
      "epoch 58400/60000, loss = 0.0011\n",
      "epoch 58500/60000, loss = 0.0019\n",
      "epoch 58600/60000, loss = 0.0011\n",
      "epoch 58700/60000, loss = 0.0012\n",
      "epoch 58800/60000, loss = 0.0011\n",
      "epoch 58900/60000, loss = 0.0016\n",
      "epoch 59000/60000, loss = 0.0027\n",
      "epoch 59100/60000, loss = 0.0010\n",
      "epoch 59200/60000, loss = 0.0010\n",
      "epoch 59300/60000, loss = 0.0010\n",
      "epoch 59400/60000, loss = 0.0012\n",
      "epoch 59500/60000, loss = 0.0010\n",
      "epoch 59600/60000, loss = 0.0012\n",
      "epoch 59700/60000, loss = 0.0013\n",
      "epoch 59800/60000, loss = 0.0012\n",
      "epoch 59900/60000, loss = 0.0011\n",
      "epoch 60000/60000, loss = 0.0011\n",
      "Best Train loss 0.0009\n",
      "Best Train loss: 0.0009, best hyperparams: Epochs: 60000, learning_rate: 0.001, scheduler: none, scheduler_factor: 0.1, scheduler_patience: 50, use_bn: True, Early_stop_patience: 60000, Decay: 0.0001\n"
     ]
    },
    {
     "data": {
      "image/png": "[encoded data removed]",
      "text/plain": [
       "<Figure size 720x360 with 1 Axes>"
      ]
     },
     "metadata": {
      "needs_background": "light"
     },
     "output_type": "display_data"
    },
    {
     "name": "stdout",
     "output_type": "stream",
     "text": [
      "Final loss: 0.001\n",
      "simulation time:138m 24s\n"
     ]
    }
   ],
   "source": [
    "os.makedirs(WORK_DIR + '/models', exist_ok=True)\n",
    "os.makedirs(WORK_DIR + '/history', exist_ok=True)\n",
    "\n",
    "x = torch.ones((1, 1, SIZE, SIZE)) * psi0_masked\n",
    "s = DX1N * DX2N * LIM1[1] * LIM2[1]\n",
    "\n",
    "# Перемещение на GPU\n",
    "x = x.to(DEVICE)\n",
    "flowDomainMask = flowDomainMask.to(DEVICE)\n",
    "#lowerWallMask = lowerWallMask.to(DEVICE)\n",
    "DX1N = DX1N.to(DEVICE)\n",
    "DX2N = DX2N.to(DEVICE)\n",
    "s = s.to(DEVICE)\n",
    "\n",
    "run_record = {}\n",
    "\n",
    "for hyp in HYPS:\n",
    "    print('hyperparams: \\n', dict2str(hyp)) \n",
    "\n",
    "    model_path = (f'{WORK_DIR}/models/{MODEL_NAME}_{dict2str(hyp)}.pth')\n",
    "\n",
    "    callbacks = [SaveBest(f'Train loss', model_path, 'min'),\n",
    "                 EarlyStop(f'Train loss', EARLY_STOP_PATIENCE, 'min')]\n",
    "\n",
    "    model = UNet(in_channels=1, out_channels=1, init_features=NoOfFeatures, use_bn=hyp[\"use_bn\"])\n",
    "    model = model.to(DEVICE)\n",
    "\n",
    "    optimizer = torch.optim.Adam(model.parameters(), lr=hyp[\"learning_rate\"], weight_decay=DECAY)\n",
    "    \n",
    "    criterion = power_loss\n",
    "    \n",
    "    #Log model, criterion, and optimizer\n",
    "    run[\"config/model\"] = type(model).__name__\n",
    "    run[\"config/criterion\"] = type(criterion).__name__\n",
    "    run[\"config/optimizer\"] = type(optimizer).__name__\n",
    "\n",
    "    \n",
    "    if hyp[\"scheduler\"] == \"step\":\n",
    "        lr_scheduler = torch.optim.lr_scheduler.ReduceLROnPlateau(optimizer, mode='min',\n",
    "                                                                  patience=hyp[\"scheduler_patience\"],\n",
    "                                                                  min_lr=1e-6, factor=hyp[\"scheduler_factor\"])\n",
    "    elif hyp[\"scheduler\"] == \"cycle\":\n",
    "        lr_scheduler = scheduler = torch.optim.lr_scheduler.OneCycleLR(optimizer, max_lr=hyp[\"learning_rate\"] * 20,\n",
    "                                                                       steps_per_epoch=1, epochs=EPOCHS,\n",
    "                                                                       pct_start=0.125,\n",
    "                                                                       div_factor=hyp[\"scheduler_factor\"] ** -1,\n",
    "                                                                       final_div_factor=(hyp[\"scheduler_factor\"] ** -1) * 50)\n",
    "    else:\n",
    "        lr_scheduler = None\n",
    "\n",
    "    history = train(model, x, optimizer, power_loss,\n",
    "                    epochs=EPOCHS, print_every=100,\n",
    "                    callbacks=callbacks, lr_scheduler=lr_scheduler)\n",
    "\n",
    "    run_record[model_path] = {'hyperparams': hyp,\n",
    "                              'history': history,\n",
    "                              'final_val_metric': callbacks[1].best_monitor}\n",
    "\n",
    "    print(f\"Best Train loss %4.4f\" % (callbacks[1].best_monitor))\n",
    "\n",
    "    model = None\n",
    "    optimizer = None\n",
    "\n",
    "    torch.cuda.empty_cache()\n",
    "\n",
    "best_val_metric = None\n",
    "best_hyperparams = None\n",
    "best_run = None\n",
    "best_model_path = None\n",
    "\n",
    "for key, train_info in run_record.items():\n",
    "    if best_val_metric is None or best_val_metric > train_info['final_val_metric']:\n",
    "        best_val_metric = train_info['final_val_metric']\n",
    "        best_hyperparams = train_info['hyperparams']\n",
    "        best_run = train_info\n",
    "        best_model_path = key\n",
    "\n",
    "with open(f'{WORK_DIR}/history/{MODEL_NAME}_history.json', 'w') as fp:\n",
    "    json.dump(run_record, fp)\n",
    "\n",
    "best_hyp = str(best_hyperparams).replace(\"}\", \"\")\n",
    "best_hyp = best_hyp.replace(\"{\", \"\")\n",
    "best_hyp = best_hyp.replace(\"'\", \"\")\n",
    "\n",
    "print(f\"Best Train loss: %4.4f, best hyperparams: %s\" % (best_val_metric, best_hyp))\n",
    "\n",
    "model = UNet(in_channels=1, out_channels=1, init_features=NoOfFeatures, use_bn=best_hyperparams[\"use_bn\"])\n",
    "model.load_state_dict(torch.load(best_model_path))\n",
    "torch.save(model.state_dict(), f'{WORK_DIR}/models/{MODEL_NAME}_best.pth')\n",
    "\n",
    "model = model.to(DEVICE)\n",
    "\n",
    "psi = model.forward(x)\n",
    "\n",
    "plot_train_history(best_run['history'])\n",
    "\n",
    "simulation_time = time.time() - start_time\n",
    "print(f'Final loss: {power_loss(psi).cpu().item() :.3f}')\n",
    "print('simulation time:{:.0f}m {:.0f}s'.format(\n",
    "      simulation_time // 60, simulation_time % 60))"
   ]
  },
  {
   "cell_type": "markdown",
   "metadata": {
    "id": "PhZutgNIyYhH"
   },
   "source": [
    "## Results"
   ]
  },
  {
   "cell_type": "code",
   "execution_count": 30,
   "metadata": {},
   "outputs": [
    {
     "data": {
      "image/png": "[encoded data removed]",
      "text/plain": [
       "<Figure size 1080x360 with 3 Axes>"
      ]
     },
     "metadata": {
      "needs_background": "light"
     },
     "output_type": "display_data"
    }
   ],
   "source": [
    "#Output of the network: psi function of the flow\n",
    "\n",
    "psi_masked = psi[0, 0, :, :].clone().detach() #psi[0, 0, :, :].clone().detach() * flowDomainMask) + (lowerWallMask * Q)\n",
    "v1, v2 = velocityDistr(psi_masked, DX1N, DX2N, LIM1, LIM2)\n",
    "xi11ch, xi12ch, xi22ch, EtaEtach = TksiDistr(v1, v2, DX1N, DX2N, LIM1, LIM2)\n",
    "\n",
    "subInt = ((0.5*Q0*EtaEtach + ((Q1/(Z+1))*EtaEtach**((Z+1)*0.5)))*flowDomainMask + \n",
    "              (0.5*Q0W*EtaEtach + ((Q1W/(ZW+1))*EtaEtach**((ZW+1)*0.5)))*(1-flowDomainMask)) \n",
    "int1EtaEta = torch.trapz(subInt)\n",
    "int2EtaEta = torch.trapz(int1EtaEta)\n",
    "outch = int2EtaEta*s\n",
    "\n",
    "#Visualization\n",
    "nr=1\n",
    "nc=3\n",
    "fig = plt.figure(figsize=(FIGSIZE*nc, FIGSIZE*nr))\n",
    "plt.subplot(nr,nc,1)\n",
    "plt.imshow(psi[0, 0, :, :].clone().detach().to('cpu'))\n",
    "plt.title('Flow function, Psi (raw)')\n",
    "\n",
    "plt.subplot(nr,nc,2)\n",
    "plt.imshow(psi_masked.to('cpu'))\n",
    "plt.title('Flow function, Psi')\n",
    "\n",
    "plt.subplot(nr,nc,3)\n",
    "plt.plot(psi_masked[:,sp].to('cpu'))\n",
    "plt.title('Flow funcion, Psi (vertical slice)')\n",
    "\n",
    "plt.show()"
   ]
  },
  {
   "cell_type": "code",
   "execution_count": 31,
   "metadata": {
    "colab": {
     "base_uri": "https://localhost:8080/",
     "height": 234
    },
    "id": "IcEzHkrgcVWx",
    "outputId": "3679348b-c16e-4754-99ef-3040a3a32b9b"
   },
   "outputs": [
    {
     "data": {
      "image/png": "[encoded data removed]",
      "text/plain": [
       "<Figure size 720x720 with 5 Axes>"
      ]
     },
     "metadata": {
      "needs_background": "light"
     },
     "output_type": "display_data"
    },
    {
     "name": "stdout",
     "output_type": "stream",
     "text": [
      "v1_max =  tensor(0.2865, device='cuda:0') v1_min =  tensor(-1.2369e-05, device='cuda:0')\n"
     ]
    }
   ],
   "source": [
    "#Visualization\n",
    "nr=2\n",
    "nc=2\n",
    "fig = plt.figure(figsize=(FIGSIZE*nr, FIGSIZE*nc))\n",
    "plt.subplot(nr,nc,1)\n",
    "plt.imshow(psi_masked.to('cpu'))\n",
    "plt.title('(a) Flow function,$\\Psi$')\n",
    "\n",
    "plt.subplot(nr,nc,2)\n",
    "vector_plot(np.meshgrid(-X1N,-X2N), [np.array(v1.cpu()),np.array(v2.cpu())],FIGSIZE, \n",
    "            '(b) Velocity, $V = [v_1, v_2]$', 10)\n",
    "plt.xticks([])\n",
    "plt.yticks([])\n",
    "\n",
    "plt.subplot(nr,nc,3)\n",
    "plt.plot(psi_masked[:,sp].to('cpu'))\n",
    "plt.grid(True)\n",
    "plt.title('Flow function, $\\Psi$ (vertical slice)')\n",
    "\n",
    "plt.subplot(nr,nc,4)\n",
    "plt.plot(v1.cpu())\n",
    "plt.grid(True)\n",
    "plt.title('v1 (vertical slice)')\n",
    "\n",
    "plt.show()\n",
    "print('v1_max = ', v1.max(), 'v1_min = ', v1.min())"
   ]
  },
  {
   "cell_type": "code",
   "execution_count": 32,
   "metadata": {
    "colab": {
     "base_uri": "https://localhost:8080/",
     "height": 282
    },
    "id": "rXz9T9VWA3G5",
    "outputId": "44a0902a-36ce-48f8-c4f9-a46992ff780d"
   },
   "outputs": [
    {
     "data": {
      "image/png": "[encoded data removed]",
      "text/plain": [
       "<Figure size 720x180 with 1 Axes>"
      ]
     },
     "metadata": {
      "needs_background": "light"
     },
     "output_type": "display_data"
    }
   ],
   "source": [
    "# Check the flow rate\n",
    "Qch = torch.trapz(v1.t()) * DX1N * L\n",
    "\n",
    "fig = plt.figure(figsize=(FIGSIZE*2, FIGSIZE/2))\n",
    "plt.plot(Qch.cpu())\n",
    "plt.title(f'Flow rate through the vertical slices of the flow domain of size L x L = {L} x {L} \\nshould be equal to Q = {Q}')\n",
    "plt.show()"
   ]
  },
  {
   "cell_type": "code",
   "execution_count": 33,
   "metadata": {
    "colab": {
     "base_uri": "https://localhost:8080/",
     "height": 182
    },
    "id": "r3w7q2Y1pIfD",
    "outputId": "b26b5134-c04b-42a6-de69-787c7b966627"
   },
   "outputs": [
    {
     "name": "stdout",
     "output_type": "stream",
     "text": [
      "Q =  0.0004999999655410647 ; Loss =  0.0009041872108355165\n"
     ]
    }
   ],
   "source": [
    "print('Q = ', Qch.mean().cpu().item(), '; Loss = ', power_loss(psi).cpu().item())"
   ]
  },
  {
   "cell_type": "code",
   "execution_count": null,
   "metadata": {},
   "outputs": [],
   "source": []
  },
  {
   "cell_type": "code",
   "execution_count": 34,
   "metadata": {},
   "outputs": [
    {
     "name": "stdout",
     "output_type": "stream",
     "text": [
      "tensor(1.7053) tensor(111117.8516) tensor(0.) tensor(623996.1875)\n",
      "tensor(0.0009, device='cuda:0')\n"
     ]
    }
   ],
   "source": [
    "print (EtaEta.cpu().min(), EtaEta.cpu().max(), EtaEtach.cpu().min(), EtaEtach.cpu().max()) \n",
    "print(outch)\n"
   ]
  },
  {
   "cell_type": "code",
   "execution_count": 35,
   "metadata": {},
   "outputs": [
    {
     "name": "stdout",
     "output_type": "stream",
     "text": [
      "tensor(1.7053) tensor(111117.8516) tensor(0.) tensor(201881.3438)\n"
     ]
    },
    {
     "data": {
      "image/png": "[encoded data removed]",
      "text/plain": [
       "<Figure size 720x180 with 1 Axes>"
      ]
     },
     "metadata": {
      "needs_background": "light"
     },
     "output_type": "display_data"
    }
   ],
   "source": [
    "\n",
    "print (EtaEta.cpu().min(), EtaEta.cpu().max(), EtaEtach.cpu()[:,sp].min(), EtaEtach.cpu()[:,sp].max()) \n",
    "fig = plt.figure(figsize=(FIGSIZE*2, FIGSIZE/2))\n",
    "plt.plot(EtaEtach.cpu())\n",
    "plt.title('Eta*Eta')\n",
    "plt.show()"
   ]
  },
  {
   "cell_type": "code",
   "execution_count": 36,
   "metadata": {},
   "outputs": [
    {
     "data": {
      "image/png": "[encoded data removed]",
      "text/plain": [
       "<Figure size 720x180 with 1 Axes>"
      ]
     },
     "metadata": {
      "needs_background": "light"
     },
     "output_type": "display_data"
    }
   ],
   "source": [
    "fig = plt.figure(figsize=(FIGSIZE*2, FIGSIZE/2))\n",
    "plt.plot(v1.cpu()[:,sp])\n",
    "plt.title('v1')\n",
    "plt.show()"
   ]
  },
  {
   "cell_type": "code",
   "execution_count": 37,
   "metadata": {},
   "outputs": [
    {
     "data": {
      "image/png": "[encoded data removed]",
      "text/plain": [
       "<Figure size 720x180 with 1 Axes>"
      ]
     },
     "metadata": {
      "needs_background": "light"
     },
     "output_type": "display_data"
    }
   ],
   "source": [
    "fig = plt.figure(figsize=(FIGSIZE*2, FIGSIZE/2))\n",
    "plt.plot(xi12ch.cpu()[:,sp])\n",
    "plt.title('$\\Xi$')\n",
    "plt.show()\n"
   ]
  },
  {
   "cell_type": "code",
   "execution_count": 38,
   "metadata": {},
   "outputs": [
    {
     "data": {
      "image/png": "[encoded data removed]",
      "text/plain": [
       "<Figure size 720x180 with 1 Axes>"
      ]
     },
     "metadata": {
      "needs_background": "light"
     },
     "output_type": "display_data"
    }
   ],
   "source": [
    "fig = plt.figure(figsize=(FIGSIZE*2, FIGSIZE/2))\n",
    "plt.plot(EtaEtach.cpu()[:,sp])\n",
    "plt.title('$H^2$')\n",
    "plt.show()"
   ]
  },
  {
   "cell_type": "code",
   "execution_count": 39,
   "metadata": {},
   "outputs": [
    {
     "data": {
      "text/plain": [
       "(0.001808374421671033, 0.0013333751121535897, -35.623831972553624)"
      ]
     },
     "execution_count": 39,
     "metadata": {},
     "output_type": "execute_result"
    }
   ],
   "source": [
    " #Check power\n",
    "Intch = power_loss(psi).cpu().item()*2\n",
    "acc_rel_exact = (Int_ex.item()-Intch)/Int_ex.item()*100\n",
    "Intch, Int_ex.item(), acc_rel_exact"
   ]
  },
  {
   "cell_type": "markdown",
   "metadata": {},
   "source": [
    "## Log results"
   ]
  },
  {
   "cell_type": "code",
   "execution_count": 40,
   "metadata": {},
   "outputs": [],
   "source": [
    "results = {'Internal_power':Intch,\n",
    "           'Internal_power_exact':Int_ex.item(),\n",
    "           'Accuracy (in comparison with analitical solution)': acc_rel_exact}\n",
    "run[\"config/results\"] = results"
   ]
  },
  {
   "cell_type": "markdown",
   "metadata": {},
   "source": [
    "## Stop logging"
   ]
  },
  {
   "cell_type": "code",
   "execution_count": 41,
   "metadata": {},
   "outputs": [
    {
     "name": "stdout",
     "output_type": "stream",
     "text": [
      "Shutting down background jobs, please wait a moment...\n",
      "Done!\n",
      "Waiting for the remaining 38 operations to synchronize with Neptune. Do not kill this process.\n",
      "All 38 operations synced, thanks for waiting!\n",
      "Explore the metadata in the Neptune app:\n",
      "https://app.neptune.ai/avkornaev/PhysicsBasedDL/e/PHYSIC-80\n"
     ]
    }
   ],
   "source": [
    "run.stop()"
   ]
  },
  {
   "cell_type": "markdown",
   "metadata": {
    "id": "rpGo7xQz6cny"
   },
   "source": [
    "# Links\n",
    "\n",
    "[1]. https://github.com/Mechanics-Mechatronics-and-Robotics/Mathematical_modelling/blob/main/Practice_1_by_IStebakov.ipynb\n",
    "\n",
    "[2]. https://github.com/mateuszbuda/brain-segmentation-pytorch"
   ]
  }
 ],
 "metadata": {
  "accelerator": "GPU",
  "colab": {
   "collapsed_sections": [],
   "name": "Main.ipynb",
   "provenance": []
  },
  "kernelspec": {
   "display_name": "Python 3",
   "language": "python",
   "name": "python3"
  },
  "language_info": {
   "codemirror_mode": {
    "name": "ipython",
    "version": 3
   },
   "file_extension": ".py",
   "mimetype": "text/x-python",
   "name": "python",
   "nbconvert_exporter": "python",
   "pygments_lexer": "ipython3",
   "version": "3.7.7"
  },
  "varInspector": {
   "cols": {
    "lenName": 16,
    "lenType": 16,
    "lenVar": 40
   },
   "kernels_config": {
    "python": {
     "delete_cmd_postfix": "",
     "delete_cmd_prefix": "del ",
     "library": "var_list.py",
     "varRefreshCmd": "print(var_dic_list())"
    },
    "r": {
     "delete_cmd_postfix": ") ",
     "delete_cmd_prefix": "rm(",
     "library": "var_list.r",
     "varRefreshCmd": "cat(var_dic_list()) "
    }
   },
   "types_to_exclude": [
    "module",
    "function",
    "builtin_function_or_method",
    "instance",
    "_Feature"
   ],
   "window_display": false
  }
 },
 "nbformat": 4,
 "nbformat_minor": 4
}
