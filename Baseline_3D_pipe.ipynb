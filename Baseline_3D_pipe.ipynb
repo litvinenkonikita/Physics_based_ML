{
 "cells": [
  {
   "cell_type": "markdown",
   "metadata": {
    "id": "RJkKJ83igGYb"
   },
   "source": [
    "# **Physics-based loss and machine learing approach in application to fluids flow modelling: 3D flow in a pipe**\n",
    "It is supposed that the Newtonian fluid flows through a cylindrical pipe with radius $R$. The flow is steady, the Reynolds number is smaller than the critical one $Re < Re^* {\\approx} 1100...1400$ and the pipe length is greater than the critical one $L_3 > 0.16RRe$. \n",
    "\n"
   ]
  },
  {
   "cell_type": "markdown",
   "metadata": {
    "id": "ydwhZV95sFoN"
   },
   "source": [
    "# Initialization\n",
    "## Import libraries"
   ]
  },
  {
   "cell_type": "code",
   "execution_count": 207,
   "metadata": {
    "id": "Go3JwW4hICsK"
   },
   "outputs": [],
   "source": [
    "# Pytorch modules\n",
    "import torch\n",
    "from torch import nn\n",
    "\n",
    "# Plotting\n",
    "from matplotlib import pyplot as plt\n",
    "from matplotlib import transforms\n",
    "import numpy as np\n",
    "\n",
    "# Python functions\n",
    "from collections import namedtuple\n",
    "from itertools import product\n",
    "from collections import OrderedDict\n",
    "#from scipy import integrate\n",
    "\n",
    "# Status bar\n",
    "from tqdm.notebook import tqdm\n",
    "from datetime import datetime\n",
    "import time\n",
    "\n",
    "# Work with files and images\n",
    "import json\n",
    "from pathlib import Path\n",
    "import os, fnmatch\n",
    "import re\n",
    "from PIL import Image\n",
    "\n",
    "#Log\n",
    "import neptune.new as neptune\n",
    "from neptune.new.types import File\n",
    "\n",
    "import time"
   ]
  },
  {
   "cell_type": "markdown",
   "metadata": {},
   "source": [
    "## Neptune project"
   ]
  },
  {
   "cell_type": "code",
   "execution_count": 42,
   "metadata": {},
   "outputs": [
    {
     "name": "stdout",
     "output_type": "stream",
     "text": [
      "https://app.neptune.ai/avkornaev/PhysicsBasedDL/e/PHYSIC-104\n",
      "Remember to stop your run once you’ve finished logging your metadata (https://docs.neptune.ai/api/run#stop). It will be stopped automatically only when the notebook kernel/interactive console is terminated.\n"
     ]
    }
   ],
   "source": [
    "run = neptune.init(\n",
    "    project=\"avkornaev/PhysicsBasedDL\",\n",
    "    api_token=\"eyJhcGlfYWRkcmVzcyI6Imh0dHBzOi8vYXBwLm5lcHR1bmUuYWkiLCJhcGlfdXJsIjoiaHR0cHM6Ly9hcHAubmVwdHVuZS5haSIsImFwaV9rZXkiOiJiMmRjMGY4Ny1hYTI1LTQxZmEtYjRmZC02YzNkYWZjYzNiNjIifQ==\",\n",
    ")  # your credentials"
   ]
  },
  {
   "cell_type": "markdown",
   "metadata": {
    "id": "nzMpruhsYD38"
   },
   "source": [
    "## Download and preprocess image of the flow domain"
   ]
  },
  {
   "cell_type": "markdown",
   "metadata": {
    "id": "nzMpruhsYD38"
   },
   "source": [
    "## Path"
   ]
  },
  {
   "cell_type": "code",
   "execution_count": 208,
   "metadata": {},
   "outputs": [
    {
     "name": "stdout",
     "output_type": "stream",
     "text": [
      "['pipe_tensor.pt'] 0\n"
     ]
    }
   ],
   "source": [
    "path =  Path('/root/Physics_based_loss')\n",
    "imgPath = path/'ToyDataset'\n",
    "imgList = fnmatch.filter(os.listdir(imgPath), '*.pt') #imgPath.ls()\n",
    "imgList\n",
    "#Image number from the imgList\n",
    "imgNo = 0\n",
    "print(imgList, imgNo)"
   ]
  },
  {
   "cell_type": "markdown",
   "metadata": {},
   "source": [
    "Download 3D image"
   ]
  },
  {
   "cell_type": "code",
   "execution_count": 209,
   "metadata": {},
   "outputs": [
    {
     "name": "stdout",
     "output_type": "stream",
     "text": [
      "image shape: torch.Size([128, 128, 128])\n"
     ]
    }
   ],
   "source": [
    "img = torch.load(os.path.join(imgPath, imgList[imgNo]))\n",
    "imgDim = img.shape[1:]\n",
    "print(f'image shape: {imgDim}')"
   ]
  },
  {
   "cell_type": "markdown",
   "metadata": {
    "id": "nzMpruhsYD38"
   },
   "source": [
    "## Constants"
   ]
  },
  {
   "cell_type": "code",
   "execution_count": 210,
   "metadata": {
    "id": "YsKHT1J2Ibx9"
   },
   "outputs": [],
   "source": [
    "SIZE = imgDim\n",
    "#Training\n",
    "EPOCHS = 60000\n",
    "NoOfFeatures = 32 #32\n",
    "WORK_DIR = '/root/Physics_based_loss'\n",
    "IN_CH = 3 #number of input channels\n",
    "OUT_CH = 3#number of output channels\n",
    "\n",
    "#SCALE_FACTOR = 1 # muliplier for the loss function\n",
    "DEVICE = torch.device(\"cuda\" if torch.cuda.is_available() else \"cpu\")\n",
    "MODEL_NAME = \"unet\"\n",
    "EARLY_STOP_PATIENCE = EPOCHS\n",
    "DECAY = 1e-4\n",
    "PATIENCE = 0\n",
    "\n",
    "parameters = {'image_size':SIZE,\n",
    "             'Epochs':EPOCHS,\n",
    "             'Model':MODEL_NAME,\n",
    "             'No_of_features':NoOfFeatures}\n",
    "\n",
    "HYPS = []\n",
    "\n",
    "hyps = {\"Epochs\":[EPOCHS],\n",
    "        \"learning_rate\": [1e-3],\n",
    "        \"scheduler\": [\"None\"],\n",
    "        \"scheduler_factor\": [0.5],\n",
    "        \"scheduler_patience\": [int(EPOCHS*0.05)],\n",
    "        \"use_bn\": [True],\n",
    "        \"Early_stop_patience\": [EARLY_STOP_PATIENCE],\n",
    "        \"Decay\": [DECAY]} # Use or not batchnorm\n",
    "    \n",
    "for i in product(*[hyps[j] for j in hyps]):\n",
    "    HYPS.append({a:b for a, b in zip(hyps, i)})\n",
    "#\"scheduler\": [\"None\", \"step\", \"cycle\"]\n",
    "#\"use_bn\": [True, False]\n",
    "\n",
    "#Visualization\n",
    "slices = [int(imgDim[0]/2), int(imgDim[1]/2), int(imgDim[2]/2)]\n",
    "vps = 10 #vector plot step \n",
    "FIGSIZE = 5 # figure size"
   ]
  },
  {
   "cell_type": "markdown",
   "metadata": {},
   "source": [
    "## Log parameters"
   ]
  },
  {
   "cell_type": "code",
   "execution_count": 211,
   "metadata": {},
   "outputs": [],
   "source": [
    "run[\"config/parameters\"] = parameters\n",
    "run[\"config/hyperparameters\"] = hyps"
   ]
  },
  {
   "cell_type": "markdown",
   "metadata": {
    "id": "ORhTWZZvVw7c"
   },
   "source": [
    "## Geometry of the flow domain, fluid properties and boundary conditions"
   ]
  },
  {
   "cell_type": "markdown",
   "metadata": {},
   "source": [
    "Geometry\n",
    "\n",
    "It is convenient to present the flow domain $\\Omega$ in the form of a parallelepiped $x_i^- < x_i < x_i^+$ ($\\boldsymbol{L} = [l_i] = [x_i^+ - x_i^-]$, $i = 1,2,3$)."
   ]
  },
  {
   "cell_type": "code",
   "execution_count": 313,
   "metadata": {},
   "outputs": [],
   "source": [
    "# L_1 x L_2 x L_3 flow domain\n",
    "L = [0.012, 0.012, 0.5]#, [m]\n",
    "R = L[0]/2 #, [m]\n",
    "\n",
    "# Normalized coordinates, normalized finite diferences, limits and elementary volume\n",
    "X1N = torch.linspace(0, 1, SIZE[0])\n",
    "X2N = torch.linspace(0, 1, SIZE[1])\n",
    "X3N = torch.linspace(0, 1, SIZE[2])\n",
    "\n",
    "DX1N = X1N[1] - X1N[0]\n",
    "DX2N = X2N[1] - X2N[0]\n",
    "DX3N = X3N[1] - X3N[0]\n",
    "\n",
    "LIM1 = [0, L[0]]\n",
    "LIM2 = [0, L[1]]\n",
    "LIM3 = [0, L[2]]\n",
    "\n",
    "dOmega = DX1N * DX2N * DX3N * L[0] * L[1] * L[2] # elementary volume"
   ]
  },
  {
   "cell_type": "markdown",
   "metadata": {},
   "source": [
    "Boundary conditions\n",
    "1. The values of the flow rates $Q_i(x_i^-)$, $Q_i(x_i^+)$ through the edges $x_i = x_i^-$, $x_i = x_i^+$ of the flow domain are given:"
   ]
  },
  {
   "cell_type": "code",
   "execution_count": 213,
   "metadata": {},
   "outputs": [],
   "source": [
    "#Flow rates Q1-,Q2-,Q3-\n",
    "Qm = [0, 0, -2E-5]\n",
    "\n",
    "#Flow rates Q1+,Q2+,Q3+\n",
    "Qp = [0, 0, 2E-5]"
   ]
  },
  {
   "cell_type": "markdown",
   "metadata": {},
   "source": [
    "2. NL layers have fixed values of the unknown function $\\boldsymbol\\Psi$."
   ]
  },
  {
   "cell_type": "code",
   "execution_count": 214,
   "metadata": {},
   "outputs": [],
   "source": [
    "NL = 5"
   ]
  },
  {
   "cell_type": "markdown",
   "metadata": {},
   "source": [
    "Properties of non-Newtonian fluid and walls that are relatively rigid body.\n",
    "The Herschel-Bulkley law is applied:\n",
    "\\begin{equation}\n",
    "    \\mu(H)=q_0+q_1H^{z-1},\n",
    "\\end{equation}\n",
    "where $q_0$, $q_1$, $z$ are the parameters obtained from rheological tests."
   ]
  },
  {
   "cell_type": "code",
   "execution_count": 215,
   "metadata": {},
   "outputs": [],
   "source": [
    "#Non-Newtonian fluid viscosity\n",
    "Q0 = 1e-2\n",
    "Q1 = 0\n",
    "Z = 1\n",
    "# Fluid density, kg/m**3\n",
    "RHO = 1000\n",
    "#Newtonian fluid analogue\n",
    "MU = Q0\n",
    "\n",
    "#Critical Reynolds number\n",
    "Re_cr = 1100\n",
    "\n",
    "#Walls viscosity\n",
    "Q0W = 1e+3#1e-0#1e+3eye \n",
    "Q1W = 0#1e-0\n",
    "ZW =1#0.5"
   ]
  },
  {
   "cell_type": "markdown",
   "metadata": {
    "id": "Hw2AD3oWsfJb"
   },
   "source": [
    "## Additional functions"
   ]
  },
  {
   "cell_type": "markdown",
   "metadata": {
    "id": "2JAf1YAHtV15"
   },
   "source": [
    "3D numerical derivative"
   ]
  },
  {
   "cell_type": "code",
   "execution_count": 216,
   "metadata": {},
   "outputs": [],
   "source": [
    "def num_diff(f,dx1,dx2,dx3,template='sc'):\n",
    "    '''The following templates are applied:\n",
    "    sc - second-order central difference,\n",
    "    fc - fifth-order central difference.\n",
    "    Indexing:\n",
    "    i - index along x_1,\n",
    "    j - index along x_2,\n",
    "    k - index along x_3.\n",
    "    '''\n",
    "    #Shape\n",
    "    n1, n2, n3 = f.shape\n",
    "    \n",
    "    df_dx1, df_dx2, df_dx3 = torch.zeros(n1, n2, n3), torch.zeros(n1, n2, n3), torch.zeros(n1, n2, n3)\n",
    "    \n",
    "    #Device\n",
    "    if torch.cuda.is_available():\n",
    "        df_dx1 = df_dx1.to('cuda')\n",
    "        df_dx2 = df_dx2.to('cuda')\n",
    "        df_dx3 = df_dx3.to('cuda')\n",
    "    \n",
    "    #Derivatives\n",
    "    if template == 'sc':\n",
    "        # x1 derivative:\n",
    "        df_dx1[1:n1-1,:,:] = (f[2:,:,:] - f[:-2,:,:]) / (2 * dx1)\n",
    "        df_dx1[0,:,:] = (-f[2,:,:] + 4 * f[1,:,:] - 3 * f[0,:,:]) / (2 * dx1)\n",
    "        df_dx1[n1-1,:,:] = (3 * f[n1-1,:,:] - 4 * f[n1-2,:,:] + f[n1-3,:,:]) / (2 * dx1)\n",
    "        # x2 derivative:\n",
    "        df_dx2[:,1:n2-1, :] = (f[:, 2:, :] - f[:, :-2, :]) / (2 * dx2)\n",
    "        df_dx2[:,0, :] = (- f[:,2,:] + 4 * f[:,1,:] - 3 * f[:, 0, :]) / (2 * dx2)\n",
    "        df_dx2[:,n2-1, :] = (3 * f[:, n2 - 1, :] - 4 * f[:, n2 - 2, :] + f[:, n2 - 3, :]) / (2 * dx2)\n",
    "        # x3 derivative:\n",
    "        df_dx3[:, :, 1:n3-1] = (f[:,:,2:] - f[:,:,:-2]) / (2 * dx3)\n",
    "        df_dx3[:, :, 0] = (- f[:, :, 2] + 4 * f[:, :, 1] - 3 * f[:, :, 0]) / (2 * dx3)\n",
    "        df_dx3[:, :, n3-1] = (3 * f[:, :, n3 - 1] - 4 * f[:, :, n3 - 2] + f[:, :, n3 - 3]) / (2 * dx3)\n",
    "    elif template == 'fc':\n",
    "        # x1 derivative\n",
    "        df_dx1[2:n1-2, :, :] = (-f[4:, :,:] + 8 * f[3:n1-1, :, :] - 8 * f[1:n1-3, :, :] + f[:n1-4, :, :]) / (12 * dx1)\n",
    "        df_dx1[0, :, :] = (-3 * f[4, :, :] + 16 * f[3, :, :] - 36 * f[2, :, :] + 48 * f[1, :,:] - 25 * f[0, :, :]) / (12 * dx1)\n",
    "        df_dx1[1, :, :] = (f[4, :, :] - 6 * f[3, :, :] + 18 * f[2, :, :] - 10 * f[1, :, :] - 3 * f[0, :, :]) / (12 * dx1)\n",
    "        df_dx1[n1-2, :, :] = (3 * f[n1-1, :, :] + 10 * f[n1-2, :, :] - 18 * f[n1-3, :, :] + 6 * f[n1-4, :, :] - f[n1-5, :, :]) / (12 * dx1)\n",
    "        df_dx1[n1-1, :, :] = (25 * f[n1-1, :, :] - 48 * f[n1-2, :, :] + 36 * f[n1-3, :, :] - 16 * f[n1-4, :, :] + 3*f[n1-5, :, :]) / (12 * dx1)\n",
    "        \n",
    "        # x2 derivative\n",
    "        df_dx2[:, 2:n2-2, :] = (-f[:, 4:, :] + 8 * f[:, 3:n2-1, :] - 8 * f[:, 1:n2-3, :] + f[:, :n2-4, :]) / (12 * dx2)\n",
    "        df_dx2[:, 0, :] = (-3 * f[:,4, :] + 16 * f[:, 3, :] - 36 * f[:, 2, :] + 48 * f[:, 1, :] - 25 * f[:, 0, :]) / (12*dx2)\n",
    "        df_dx2[:, 1, :] = (f[:, 4, :] - 6 * f[:, 3, :] + 18 * f[:, 2, :] - 10 * f[:, 1, :] - 3 * f[:, 0, :]) / (12*dx2)\n",
    "        df_dx2[:, n2-2, :] = (3 * f[:, n2-1, :] + 10 * f[:, n2-2, :] - 18 * f[:, n2-3, :] + 6 * f[:, n2-4, :] - f[:, n2-5, :]) / (12*dx2)\n",
    "        df_dx2[:, n2-1, :] = (25 * f[:, n2-1, :] - 48 * f[:, n2-2, :] + 36 * f[:, n2-3, :] - 16 * f[:, n2-4, :] + 3 * f[:,n2-5, :]) / (12*dx2)       \n",
    "        # x3 derivative\n",
    "        df_dx3[:, :, 2:n3-2] = (-f[:, :, 4:] + 8 * f[:, :, 3:n3-1] - 8 * f[:, :, 1:n3-3] + f[:, :, :n3-4]) / (12 * dx3)\n",
    "        df_dx3[:, :, 0] = (-3 * f[:, :, 4] + 16 * f[:, :, 3] - 36 * f[:, :, 2] + 48 * f[:, :, 1] - 25 * f[:, :, 0]) / (12 * dx3)\n",
    "        df_dx3[:, :, 1] = (f[:, :, 4] - 6 * f[:, :, 3] + 18 * f[:, :, 2] - 10 * f[:, :, 1] - 3 * f[:, :, 0]) / (12 * dx3)\n",
    "        df_dx3[:, :, n3-2] = (3 * f[:, :, n3-1] + 10 * f[:, :, n3-2] - 18 * f[:, :, n3-3] + 6 * f[:,:,n3-4] - f[:, :, n3-5]) / (12 * dx3)\n",
    "        df_dx3[:, :, n3-1] = (25 * f[:,:, n3-1] - 48 * f[:,:, n3-2] + 36 * f[:,:, n3-3] - 16 * f[:,:, n3-4] + 3*f[:,:, n3-5]) / (12 * dx3)\n",
    "    \n",
    "    return df_dx1, df_dx2, df_dx3"
   ]
  },
  {
   "cell_type": "code",
   "execution_count": 217,
   "metadata": {},
   "outputs": [],
   "source": [
    "def num_diff2D(f,dx1,dx2,template='fc'):\n",
    "    '''The following templates are applied:\n",
    "    sc - second-order central difference,\n",
    "    fc - fifth-order central difference.\n",
    "    Indexing:\n",
    "    i - index along x_1,\n",
    "    j - index along x_2.\n",
    "    '''\n",
    "    #Shape\n",
    "    n1, n2 = f.shape\n",
    "    \n",
    "    df_dx1, df_dx2 = torch.zeros(n1, n2), torch.zeros(n1, n2)\n",
    "    \n",
    "    #Device\n",
    "    if torch.cuda.is_available():\n",
    "        df_dx1 = df_dx1.to('cuda')\n",
    "        df_dx2 = df_dx2.to('cuda')\n",
    "            \n",
    "    #Derivatives\n",
    "    if template == 'sc':\n",
    "        # x1 derivative:\n",
    "        df_dx1[1:n1-1,:] = (f[2:,:] - f[:-2,:]) / (2 * dx1)\n",
    "        df_dx1[0,:] = (-f[2,:] + 4 * f[1,:] - 3 * f[0,:]) / (2 * dx1)\n",
    "        df_dx1[n1-1,:] = (3 * f[n1-1,:] - 4 * f[n1-2,:] + f[n1-3,:]) / (2 * dx1)\n",
    "        # x2 derivative:\n",
    "        df_dx2[:,1:n2-1] = (f[:, 2:] - f[:, :-2]) / (2 * dx2)\n",
    "        df_dx2[:,0] = (- f[:,2] + 4 * f[:,1] - 3 * f[:, 0]) / (2 * dx2)\n",
    "        df_dx2[:,n2-1] = (3 * f[:, n2 - 1] - 4 * f[:, n2 - 2] + f[:, n2 - 3]) / (2 * dx2)\n",
    "    elif template == 'fc':\n",
    "        # 1st order x1 derivative:\n",
    "        df_dx1[:, 2:n2-2] = (-f[:, 4:] + 8 * f[:, 3:n2-1] - 8 * f[:, 1:n2-3] + f[:, :n2-4]) / (12 * dx1)\n",
    "        df_dx1[:, 0] = (-3 * f[:,4] + 16 * f[:, 3] - 36 * f[:, 2] + 48 * f[:, 1] - 25 * f[:,0]) / (12*dx1)\n",
    "        df_dx1[:, 1] = (f[:,4] - 6 * f[:, 3] + 18 * f[:, 2] - 10 * f[:, 1] - 3 * f[:,0]) / (12*dx1)\n",
    "        df_dx1[:, n2-2] = (3 * f[:, n2-1] + 10 * f[:, n2-2] - 18 * f[:, n2-3] + 6 * f[:, n2-4] - f[:,n2-5]) / (12*dx1)\n",
    "        df_dx1[:, n2-1] = (25 * f[:, n2-1] - 48 * f[:, n2-2] + 36 * f[:, n2-3] - 16 * f[:, n2-4] + 3 * f[:,n2-5]) / (12*dx1)\n",
    "      \n",
    "        # 1st order x2 derivative:\n",
    "        df_dx2[2:n1-2, :] = (-f[4:, :] + 8 * f[3:n1-1, :] - 8 * f[1:n1-3, :] + f[:n1-4, :]) / (12 * dx2)\n",
    "        df_dx2[0, :] = (-3 * f[4, :] + 16 * f[3, :] - 36 * f[2, :] + 48 * f[1, :] - 25 * f[0, :]) / (12 * dx2)\n",
    "        df_dx2[1, :] = (f[4, :] - 6 * f[3, :] + 18 * f[2, :] - 10 * f[1, :] - 3 * f[0, :]) / (12 * dx2)\n",
    "        df_dx2[n1-2, :] = (3 * f[n1-1, :] + 10 * f[n1-2, :] - 18 * f[n1-3, :] + 6 * f[n1-4, :] - f[n1-5, :]) / (12 * dx2)\n",
    "        df_dx2[n1-1, :] = (25 * f[n1-1, :] - 48 * f[n1-2, :] + 36 * f[n1-3, :] - 16 * f[n1-4, :] + 3*f[n1-5, :]) / (12 * dx2)     \n",
    "    \n",
    "    return df_dx1, df_dx2"
   ]
  },
  {
   "cell_type": "markdown",
   "metadata": {},
   "source": [
    "Check diff"
   ]
  },
  {
   "cell_type": "code",
   "execution_count": 218,
   "metadata": {},
   "outputs": [],
   "source": [
    "# x1 = torch.linspace(1, 2, 5)\n",
    "# x2 = torch.linspace(1, 2, 5)\n",
    "# x3 = torch.linspace(1, 2, 5)\n",
    "\n",
    "# dx = x1[1]-x1[0]\n",
    "# x1,x2,x3 = torch.meshgrid(x1,x2,x3)\n",
    "\n",
    "# v = (x1**2+ x2**3 + x3**4)\n",
    "\n",
    "# gradv = num_diff(v,dx,dx,dx,template='fc')\n",
    "# gradv"
   ]
  },
  {
   "cell_type": "markdown",
   "metadata": {},
   "source": [
    "Check diff2D"
   ]
  },
  {
   "cell_type": "code",
   "execution_count": 219,
   "metadata": {},
   "outputs": [],
   "source": [
    "# xx = torch.linspace(0, 1, 100)\n",
    "# xx, yy = torch.meshgrid(xx, xx)\n",
    "\n",
    "# dxx = xx[1][0]-xx[0][0]\n",
    "# zz = xx**3 + yy**3\n",
    "\n",
    "# diffzz = 3*xx**2 + 3*yy**2\n",
    "# diff1, diff2 = num_diff2D(zz, dxx, dxx) \n",
    "# diffzz_= diff1 + diff2\n",
    "\n",
    "# intzz1 = torch.trapz(diffzz)*dxx\n",
    "# intzz2 = torch.trapz(intzz1)*dxx\n",
    "\n",
    "# intzz1_ = torch.trapz(diffzz_)*dxx\n",
    "# intzz2_ = torch.trapz(intzz1_)*dxx\n",
    "\n",
    "# print(f'exact solution {intzz2}, approximate solution {intzz2_}')"
   ]
  },
  {
   "cell_type": "markdown",
   "metadata": {},
   "source": [
    "Visualization"
   ]
  },
  {
   "cell_type": "code",
   "execution_count": 304,
   "metadata": {},
   "outputs": [],
   "source": [
    "# def vector_plot(arg, vec, FIGSIZE, vptitle='vector_plot',step=10):\n",
    "#     gradmag = np.sqrt(vec[0]**2+vec[1]**2)\n",
    "#     plt.pcolor(arg[0], arg[1], gradmag, cmap='rainbow')\n",
    "#     plt.colorbar()\n",
    "#     plt.quiver(arg[0][::step,::step], arg[1][::step,::step], vec[0][::step,::step], vec[1][::step,::step])\n",
    "#     plt.title(vptitle)"
   ]
  },
  {
   "cell_type": "code",
   "execution_count": 307,
   "metadata": {},
   "outputs": [],
   "source": [
    "def vector_plot(x, y, u, v, FIGSIZE, vptitle='vector_plot',step=10):\n",
    "    gradmag = np.sqrt(u**2 + v**2)\n",
    "    plt.pcolor(x, y, gradmag, cmap='rainbow')\n",
    "    plt.colorbar()\n",
    "    plt.quiver(x[::step,::step], y[::step,::step], u[::step,::step], v[::step,::step])\n",
    "    plt.title(vptitle)"
   ]
  },
  {
   "cell_type": "markdown",
   "metadata": {
    "id": "mH8zURs8A1Sr"
   },
   "source": [
    "## Major functions\n",
    "\n",
    "For any given function $\\boldsymbol\\Psi = [\\psi_i]$ that has fixed values on the boundaries of the flow domain together with its first, second, and third derivatives, the velocity distribution can be expressed in compact or in expanded form, respectively:\n",
    "\\begin{equation} \n",
    "    \\boldsymbol{V} = \n",
    "    \\begin{bmatrix}\n",
    "    \\epsilon_{ijk}\n",
    "    \\frac{\\partial \\psi_k(x_i,x_j)}{\\partial x_j}\n",
    "    \\end{bmatrix},\n",
    "\\end{equation}\n",
    "where $\\epsilon_{ijk}$ is the Levi-Civita symbol,\n",
    "\n",
    "\\begin{equation} \n",
    "    \\boldsymbol{V} = \n",
    "    \\begin{bmatrix}\n",
    "    \\frac{\\partial \\psi_3}{\\partial x_2} - \\frac{\\partial \\psi_2}{\\partial x_3}, &\n",
    "    \\frac{\\partial \\psi_1}{\\partial x_3} - \\frac{\\partial \\psi_3}{\\partial x_1}, &\n",
    "    \\frac{\\partial \\psi_2}{\\partial x_1} - \\frac{\\partial \\psi_1}{\\partial x_2}\n",
    "    \\end{bmatrix}.\n",
    "\\end{equation} "
   ]
  },
  {
   "cell_type": "code",
   "execution_count": 221,
   "metadata": {
    "id": "WMUIipgs5t3Q"
   },
   "outputs": [],
   "source": [
    "def velocityDistr(psi1,psi2,psi3,dx1n,dx2n,dx3n,deltax1,deltax2,deltax3):\n",
    "    '''Velocity distribution [v_i] in the flow domain\n",
    "    '''\n",
    "    \n",
    "    #Psi function and it's partial derivatives are 2D functions\n",
    "    dpsi1dx2, dpsi1dx3 = num_diff2D(psi1, dx1n, dx3n)\n",
    "    dpsi2dx1, dpsi2dx3 = num_diff2D(psi2, dx1n, dx3n)\n",
    "    dpsi3dx1, dpsi3dx2 = num_diff2D(psi3, dx1n, dx2n)\n",
    "    \n",
    "    #Expand into 3D, then calculate the velocity distribution\n",
    "    dpsi1dx2 = torch.unsqueeze(dpsi1dx2,0)\n",
    "    dpsi1dx3 = torch.unsqueeze(dpsi1dx3,0)\n",
    "    \n",
    "    dpsi2dx1 = torch.unsqueeze(dpsi2dx1,1)\n",
    "    dpsi2dx3 = torch.unsqueeze(dpsi2dx3,1)\n",
    "    \n",
    "    dpsi3dx1 = torch.unsqueeze(dpsi3dx1,2)\n",
    "    dpsi3dx2 = torch.unsqueeze(dpsi3dx2,2)\n",
    "    \n",
    "    v1 = (dpsi3dx2.expand(-1,-1,SIZE[2]) / deltax2) - (dpsi2dx3.expand(-1,SIZE[1],-1) / deltax3)\n",
    "    v2 = (dpsi1dx3.expand(SIZE[0],-1,-1) / deltax3) - (dpsi3dx1.expand(-1,-1,SIZE[2]) / deltax1)\n",
    "    v3 = (dpsi2dx1.expand(-1,SIZE[1],-1) / deltax1) - (dpsi1dx2.expand(SIZE[0],-1,-1) / deltax2)\n",
    "    \n",
    "    return v1, v2, v3"
   ]
  },
  {
   "cell_type": "markdown",
   "metadata": {},
   "source": [
    "Taking into account the symmetry of the shear rate tensor $\\xi_{i,j}=\\xi_{i,j}$, the tensor has the following form:\n",
    "\n",
    "\\begin{equation}\n",
    "    \\boldsymbol{T}_\\xi= \\frac{1}{2}   \n",
    "    \\begin{bmatrix}\n",
    "    2\\frac{\\partial v_1}{\\partial x_1}, & \\frac{\\partial v_1}{\\partial x_2} - \\frac{\\partial v_2}{\\partial x_1}, & \\frac{\\partial v_1}{\\partial x_3} - \\frac{\\partial v_3}{\\partial x_1} \\\\\n",
    "     \\frac{\\partial v_1}{\\partial x_2} - \\frac{\\partial v_2}{\\partial x_1}, & 2\\frac{\\partial v_2}{\\partial x_2}, & \\frac{\\partial v_2}{\\partial x_3} - \\frac{\\partial v_3}{\\partial x_2}  \\\\\n",
    "    \\frac{\\partial v_1}{\\partial x_3} - \\frac{\\partial v_3}{\\partial x_1}, & \\frac{\\partial v_2}{\\partial x_3} - \\frac{\\partial v_3}{\\partial x_2},  & 2\\frac{\\partial v_3}{\\partial x_3}  \\\\\n",
    "    \\end{bmatrix}.\n",
    "\\end{equation}\n",
    "\n",
    "In the general case of a three dimensional flow the shear strain rate intensity $H$ depends on all the components of the shear rate tensor:\n",
    "\\begin{equation}\n",
    "    H =\\sqrt{2(\\xi_{11}^2 + \\xi_{22}^2 + \\xi_{33}^2 + 2\\xi_{12}^2 + 2\\xi_{13}^2 + 2\\xi_{23}^2)}. \n",
    "\\end{equation}"
   ]
  },
  {
   "cell_type": "code",
   "execution_count": 222,
   "metadata": {
    "id": "716qlRJoNglx"
   },
   "outputs": [],
   "source": [
    "def TksiDistr(v1,v2,v3,dx1n,dx2n,dx3n,deltax1,deltax2,deltax3):\n",
    "    '''Strain rate tensor Txi and the shear rate intensity Eta squared\n",
    "    '''    \n",
    "    \n",
    "    dv1dx1, dv1dx2, dv1dx3 = num_diff(v1, dx1n, dx2n, dx3n)\n",
    "    dv2dx1, dv2dx2, dv2dx3 = num_diff(v2, dx1n, dx2n, dx3n)\n",
    "    dv3dx1, dv3dx2, dv3dx3 = num_diff(v3, dx1n, dx2n, dx3n)\n",
    "    \n",
    "    #Txi\n",
    "    xi11 = dv1dx1 / deltax1\n",
    "    xi12 = 0.5 * ((dv1dx2 / deltax2) + (dv2dx1 / deltax1))\n",
    "    xi13 = 0.5 * ((dv1dx3 / deltax3) + (dv3dx1 / deltax1))\n",
    "    \n",
    "    xi22 = dv2dx2 / deltax2\n",
    "    xi23 = 0.5 * ((dv2dx3 / deltax3) + (dv3dx2 / deltax2))\n",
    "    \n",
    "    xi33 = dv3dx3 / deltax3\n",
    "    \n",
    "    #Eta^2    \n",
    "    EtaEta = (2 * (xi11 * xi11 + xi22 * xi22 + xi33 * xi33 + \n",
    "                   2 * (xi12 * xi12 + xi13 * xi13 + xi23 * xi23)))\n",
    "  \n",
    "    return xi11, xi12, xi22, EtaEta"
   ]
  },
  {
   "cell_type": "markdown",
   "metadata": {},
   "source": [
    "## Callbacks"
   ]
  },
  {
   "cell_type": "code",
   "execution_count": 223,
   "metadata": {},
   "outputs": [],
   "source": [
    "class EarlyStop():\n",
    "    \"\"\"Callback for early stop train process.\n",
    "    \n",
    "    Args:\n",
    "        monitor (str): value for monitoring.\n",
    "        patience (int): Number of epochs with no improvement after which training will be stopped.\n",
    "        mode (str): One of {\"min\", \"max\"}. In min mode, training will stop when the quantity monitored has stopped decreasing.\n",
    "            In \"max\" mode it will stop when the quantity monitored has stopped increasing.\n",
    "    \n",
    "    Attributes:\n",
    "        history (dict): Dict of lists with train history. Key \"monitor\" contains list of monitoring values. \n",
    "        steps (int): Number of passed epoches. \n",
    "        best_step (int): Number of best epoch. \n",
    "        best_monitor (float): Best of monitoring value.\n",
    "        model (Model): Training model\n",
    "    \"\"\"\n",
    "    \n",
    "    def __init__(self, monitor, patience, mode):\n",
    "        self.monitor = monitor\n",
    "        self.patience = patience\n",
    "        self.mode = mode\n",
    "        self.history = None\n",
    "        self.steps = -1\n",
    "        self.best_step = -1\n",
    "        if self.mode == 'max':\n",
    "            self.best_monitor = 0\n",
    "        elif self.mode == 'min':\n",
    "            self.best_monitor = 1e99999\n",
    "            \n",
    "    def start(self, history, model):\n",
    "        \"\"\"Start and init callback.\n",
    "        \n",
    "        Args:\n",
    "            history (dict): Dict of lists with train history. Key \"monitor\" contains list of monitoring values. \n",
    "            model (Model): Training model.\n",
    "        \"\"\"\n",
    "        \n",
    "        self.history = history\n",
    "        self.model = model\n",
    "        \n",
    "    def step(self):\n",
    "        \"\"\"Make a step of callback.\n",
    "        \n",
    "        Returns:\n",
    "            tuple: (event, stop):\n",
    "                event (str): Decription of event. If event not did not happen then event = ''.\n",
    "                stop (bool): Flag of stopping train process.\n",
    "        \"\"\"\n",
    "        \n",
    "        self.steps += 1\n",
    "        \n",
    "        if self.mode == 'max':\n",
    "            if self.history[self.monitor][-1] > self.best_monitor:\n",
    "                self.best_monitor = self.history[self.monitor][-1]\n",
    "                self.best_step = self.steps\n",
    "        elif self.mode == 'min':\n",
    "            if self.history[self.monitor][-1] < self.best_monitor:\n",
    "                self.best_monitor = self.history[self.monitor][-1]\n",
    "                self.best_step = self.steps\n",
    "        \n",
    "        if self.steps - self.best_step > self.patience:\n",
    "            return 'Early stop with {}: {:.4f}'.format(self.monitor, self.history[self.monitor][self.best_step]), True\n",
    "        return None, False\n",
    "    \n",
    "    def stop(self):\n",
    "        \"\"\"Delete model from callback.\"\"\"\n",
    "        \n",
    "        self.model = None\n",
    "        torch.cuda.empty_cache()\n",
    "\n",
    "\n",
    "class SaveBest():\n",
    "    \"\"\"Callback for save model if there is an improvement.\n",
    "    \n",
    "    Args:\n",
    "        monitor (str): value for monitoring.\n",
    "        model_path (str): Path for saving model.\n",
    "        mode (str): One of {\"min\", \"max\"}. In min mode, training will stop when the quantity monitored has stopped decreasing.\n",
    "            In \"max\" mode it will stop when the quantity monitored has stopped increasing.\n",
    "    \n",
    "    Attributes:\n",
    "        history (dict): Dict of lists with train history. Key \"monitor\" contains list of monitoring values. \n",
    "        steps (int): Number of passed epoches. \n",
    "        best_step (int): Number of best epoch. \n",
    "        best_monitor (float): Best of monitoring value.\n",
    "        model (Model): Training model\n",
    "    \"\"\"\n",
    "    \n",
    "    def __init__(self, monitor, model_path, mode):\n",
    "        self.monitor = monitor\n",
    "        self.model_path = model_path\n",
    "        self.mode = mode\n",
    "        self.history = None\n",
    "        self.steps = -1\n",
    "        self.best_step = -1\n",
    "        if self.mode == 'max':\n",
    "            self.best_monitor = 0\n",
    "        elif self.mode == 'min':\n",
    "            self.best_monitor = 1e99999\n",
    "    \n",
    "    def start(self, history, model):\n",
    "        \"\"\"Start and init callback. Save first version of model.\n",
    "        \n",
    "        Args:\n",
    "            history (dict): Dict of lists with train history. Key \"monitor\" contains list of monitoring values. \n",
    "            model (Model): Training model\n",
    "        \"\"\"\n",
    "        \n",
    "        self.history = history\n",
    "        self.model = model\n",
    "        torch.save(self.model.state_dict(), self.model_path)\n",
    "    \n",
    "    def step(self):\n",
    "        \"\"\"Make a step of callback.\n",
    "        \n",
    "        Returns:\n",
    "            tuple: (event, stop):\n",
    "                event (str): Decription of event. If event not did not happen then event = ''.\n",
    "                stop (bool): Flag of stopping train process.\n",
    "        \"\"\"\n",
    "        \n",
    "        self.steps += 1\n",
    "        \n",
    "        if self.mode == 'max':\n",
    "            if self.history[self.monitor][-1] > self.best_monitor:\n",
    "                self.best_monitor = self.history[self.monitor][-1]\n",
    "                self.best_step = self.steps\n",
    "        elif self.mode == 'min':\n",
    "            if self.history[self.monitor][-1] < self.best_monitor:\n",
    "                self.best_monitor = self.history[self.monitor][-1]\n",
    "                self.best_step = self.steps\n",
    "        \n",
    "        if self.steps == self.best_step:\n",
    "            torch.save(self.model.state_dict(), self.model_path)\n",
    "            return 'Save model with {}: {:.4f}'.format(self.monitor, self.history[self.monitor][self.best_step]), False\n",
    "        return None, False\n",
    "    \n",
    "    def stop(self):\n",
    "        \"\"\"Delete model from callback.\"\"\"\n",
    "        \n",
    "        self.model = None\n",
    "        torch.cuda.empty_cache()"
   ]
  },
  {
   "cell_type": "markdown",
   "metadata": {},
   "source": [
    "## Training function"
   ]
  },
  {
   "cell_type": "code",
   "execution_count": 224,
   "metadata": {},
   "outputs": [],
   "source": [
    "def train(model, inp, optimizer,\n",
    "          criterion, epochs, print_every, callbacks, lr_scheduler):\n",
    "    \"\"\"Make model prediction on image.\n",
    "    \n",
    "    Args:\n",
    "        model (Model): Model for training.\n",
    "        inp (Tensor): Inpu image.\n",
    "        optimizer (Optimizer): Optimizer. \n",
    "        criterion (callable): Function for loss calculation.\n",
    "        epochs (int): Number of epoches.\n",
    "        print_every (int): Number of iteration for update statusbar.\n",
    "        callbacks (list): List of callbacks\n",
    "    \n",
    "    Returns:\n",
    "        history (dict): Dict of lists with train history.\n",
    "    \"\"\"\n",
    "    \n",
    "    history = {'Train loss':[]}\n",
    "    \n",
    "    if callbacks:\n",
    "        for i in callbacks:\n",
    "            i.start(history, model)\n",
    "    \n",
    "    train_print = ''\n",
    "    state_text_last = ''\n",
    "    bar = tqdm(range(epochs), desc=\"Epoch\", postfix=train_print)\n",
    "    for e in range(epochs):\n",
    "        model.train()\n",
    "\n",
    "        running_loss = 0\n",
    "\n",
    "        stop = False\n",
    "        \n",
    "        steps = 0\n",
    "        \n",
    "        optimizer.zero_grad()\n",
    "        \n",
    "        out = model.forward(inp)\n",
    "            \n",
    "        loss = criterion(out)\n",
    "        if e > PATIENCE:\n",
    "            run[\"training/batch/loss_training\"].log(loss)\n",
    "\n",
    "        loss.backward()\n",
    "                \n",
    "        optimizer.step()\n",
    "            \n",
    "        with torch.no_grad():\n",
    "            running_loss = loss.item()\n",
    "        \n",
    "        if (e + 1) % print_every == 0:\n",
    "            print(f'epoch {e+1}/{epochs}, loss = {running_loss:.4f}')\n",
    "            train_print = \"Train loss: {:.4f}\".format(running_loss) + ', ' + state_text_last\n",
    "            bar.postfix = train_print\n",
    "            model.train()\n",
    "            \n",
    "        \n",
    "        history['Train loss'].append(running_loss)\n",
    "        \n",
    "        if lr_scheduler:\n",
    "            if \"OneCycleLR\" in str(lr_scheduler):\n",
    "                lr_scheduler.step()\n",
    "            else:\n",
    "                lr_scheduler.step(running_loss)\n",
    "        \n",
    "        if callbacks:\n",
    "            for i in callbacks:\n",
    "                state_text, state = i.step()\n",
    "                if state_text:\n",
    "                    state_text_last = state_text\n",
    "                if state:\n",
    "                    stop = True\n",
    "        if stop:\n",
    "            train_print = \"Train loss: {:.4f}\".format(running_loss) + ', ' + state_text_last\n",
    "            bar.postfix = train_print\n",
    "            if callbacks:\n",
    "                for i in callbacks:\n",
    "                    i.stop()\n",
    "            model = None\n",
    "            inputs = None\n",
    "            targets = None\n",
    "            outputs = None\n",
    "            loss = None\n",
    "            sm = None\n",
    "            \n",
    "            torch.cuda.empty_cache()\n",
    "            \n",
    "            break\n",
    "            \n",
    "        if e + 1 != epochs:\n",
    "            bar.update()\n",
    "                        \n",
    "        inputs = None\n",
    "        targets = None\n",
    "        outputs = None\n",
    "        loss = None\n",
    "        sm = None\n",
    "        \n",
    "        torch.cuda.empty_cache()\n",
    "      \n",
    "    bar.update()\n",
    "    bar.close()\n",
    "    \n",
    "    if callbacks:\n",
    "        for i in callbacks:\n",
    "            i.stop()\n",
    "    \n",
    "    model = None\n",
    "    \n",
    "    torch.cuda.empty_cache()\n",
    "    \n",
    "    return history\n",
    "\n",
    "\n",
    "def plot_train_history(history):\n",
    "    \"\"\"Plot train history.\n",
    "    \n",
    "    Args:\n",
    "        history (dict): Dict of lists with train history..\n",
    "    \"\"\"\n",
    "    \n",
    "    fig, ax = plt.subplots(figsize = (FIGSIZE * 2, FIGSIZE))\n",
    "    \n",
    "    ax.plot(history['Train loss'], c = 'r')\n",
    "    ax.set_title('Loss')\n",
    "    ax.set_xlabel('Epochs')\n",
    "    ax.set_ylabel('Loss')\n",
    "    ax.legend(['Train'])\n",
    "    ax.set_yscale('log')\n",
    "    plt.subplots_adjust(left=None, bottom=None, right=None, top=None, wspace=None, hspace=0.3)\n",
    "    plt.show()\n",
    "\n",
    "    \n",
    "def dict2str(dict1):\n",
    "    out = str(dict1).replace(\"}\", \"\")\n",
    "    out = str(out).replace(\"{\", \"\")\n",
    "    out = str(out).replace(\"\\\"\", \"\")\n",
    "    out = str(out).replace(\"\\'\", \"\")\n",
    "    out = str(out).replace(\":\", \"\")\n",
    "    return out"
   ]
  },
  {
   "cell_type": "markdown",
   "metadata": {},
   "source": [
    "# Analytical solution in case if the fluid is Newtonian\n",
    "\n",
    "The task of fluid flow through a pipe is known as Poiseuille flow and it has a simple analytical solution given in **cylindrical coordinates** $[\\rho, \\theta, x_3]$:\n",
    "\n",
    "\\begin{equation}\n",
    "    {v_3} = - \\frac{1}{4\\mu}\\frac{\\partial p}{\\partial x_3}(R^2 - \\rho^2),\n",
    "\\end{equation}\n",
    "where ${\\partial p}/{\\partial x_3}$ is the pressure drop along the axis of the cylinder.\n",
    "\n",
    "The flow rate trough the pipe cross section (surface $S_3$) is equal to:\n",
    "\n",
    "\\begin{equation}\n",
    "    {Q_3} = \\iint_{S_3} v_3 \\rho\\,d\\rho\\,d\\theta =  - \\frac{\\pi}{8}\\frac{\\partial p}{\\partial x_3}\\frac{R^4}{\\mu}.\n",
    "\\end{equation}\n",
    "\n",
    "Given data"
   ]
  },
  {
   "cell_type": "code",
   "execution_count": 225,
   "metadata": {},
   "outputs": [
    {
     "name": "stdout",
     "output_type": "stream",
     "text": [
      "fluid viscosity: mu = 0.01,\n",
      "flow rate along x_3 axis: Q3 = 2e-05.\n"
     ]
    }
   ],
   "source": [
    "print(f'fluid viscosity: mu = {MU},')\n",
    "print(f'flow rate along x_3 axis: Q3 = {Qp[2]}.')"
   ]
  },
  {
   "cell_type": "markdown",
   "metadata": {},
   "source": [
    "Simulation results"
   ]
  },
  {
   "cell_type": "code",
   "execution_count": 226,
   "metadata": {},
   "outputs": [
    {
     "name": "stdout",
     "output_type": "stream",
     "text": [
      "pressure drop along x_3 axis: dpdx3 = -392.97516812813666,\n",
      "maximum velocity: v3 = 0.35367765131532297,\n",
      "internal power: Int = 0,\n",
      "Reynolds number Re = 424.41318157838754 is smaller than critical Re < 1100: True\n",
      "Pipe length L_3 = 0.5 is longer than critical L_cr = 0.40743665431525206: True\n"
     ]
    }
   ],
   "source": [
    "dpdx3a = - Qp[2]*8*MU/(np.pi*(R**4))\n",
    "v3amax = -1/(4*MU)*dpdx3a*(R**2)\n",
    "Int = 0\n",
    "\n",
    "Re = RHO*v3amax*2*R/MU\n",
    "Lcr = 0.16*R*Re\n",
    "\n",
    "#v3a = -1/(4*mu)*dpdx_3*(R**2 - x_1**2 - x_2**2)\n",
    "\n",
    "print(f'pressure drop along x_3 axis: dpdx3 = {dpdx3a},')\n",
    "print(f'maximum velocity: v3 = {v3amax},')\n",
    "print(f'internal power: Int = {Int},')\n",
    "print(f'Reynolds number Re = {Re} is smaller than critical Re < {Re_cr}: {Re<Re_cr}')\n",
    "print(f'Pipe length L_3 = {L[2]} is longer than critical L_cr = {Lcr}: {L[2]>Lcr}')\n"
   ]
  },
  {
   "cell_type": "markdown",
   "metadata": {},
   "source": [
    "# Machine learning solution\n",
    "## Flow domain visualization"
   ]
  },
  {
   "cell_type": "code",
   "execution_count": 227,
   "metadata": {},
   "outputs": [
    {
     "data": {
      "image/png": "[encoded data removed]",
      "text/plain": [
       "<Figure size 1080x360 with 3 Axes>"
      ]
     },
     "metadata": {
      "needs_background": "light"
     },
     "output_type": "display_data"
    }
   ],
   "source": [
    "nr=1\n",
    "nc=len(SIZE)\n",
    "\n",
    "plt.figure(figsize=(nc*FIGSIZE,nr*FIGSIZE))\n",
    "\n",
    "plt.subplot(nr,nc,1)\n",
    "plt.contourf(img[0,slices[0],:,:])\n",
    "plt.title('$x_1 = const$')\n",
    "\n",
    "plt.subplot(nr,nc,2)\n",
    "plt.contourf(img[0,:,slices[1],:])\n",
    "plt.title('$x_2 = const$')\n",
    "\n",
    "plt.subplot(nr,nc,3)\n",
    "plt.contourf(img[0,:,:,slices[2]])\n",
    "plt.title('$x_3 = const$')\n",
    "\n",
    "plt.show()"
   ]
  },
  {
   "cell_type": "code",
   "execution_count": 228,
   "metadata": {},
   "outputs": [
    {
     "data": {
      "text/plain": [
       "(tensor(0.),\n",
       " tensor(1.),\n",
       " tensor([0., 0., 0., 0., 0., 0., 0., 0., 0., 0., 0., 0., 0., 0., 0., 0., 0., 0.,\n",
       "         0., 0., 0., 0., 0., 0., 0., 0., 0., 0., 0., 0., 0., 0., 1., 1., 1., 1.,\n",
       "         1., 1., 1., 1., 1., 1., 1., 1., 1., 1., 1., 1., 1., 1., 1., 1., 1., 1.,\n",
       "         1., 1., 1., 1., 1., 1., 1., 1., 1., 1., 1., 1., 1., 1., 1., 1., 1., 1.,\n",
       "         1., 1., 1., 1., 1., 1., 1., 1., 1., 1., 1., 1., 1., 1., 1., 1., 1., 1.,\n",
       "         1., 1., 1., 1., 1., 1., 1., 0., 0., 0., 0., 0., 0., 0., 0., 0., 0., 0.,\n",
       "         0., 0., 0., 0., 0., 0., 0., 0., 0., 0., 0., 0., 0., 0., 0., 0., 0., 0.,\n",
       "         0., 0.]))"
      ]
     },
     "execution_count": 228,
     "metadata": {},
     "output_type": "execute_result"
    }
   ],
   "source": [
    "img.min(),img.max(), img[0,64,:,64]"
   ]
  },
  {
   "cell_type": "markdown",
   "metadata": {
    "id": "XaVb_Ejsmynq"
   },
   "source": [
    "## Kinematic properties\n",
    "The flow rate through a cross-section $x_i = const$ can be expressed as follows:\n",
    "\n",
    "\\begin{equation} \n",
    "    \\label{eq:flowRate}\n",
    "    Q_i(x_i) = -\\epsilon_{ijk}(\\psi_j(x_i,x_k^+) - \\psi_j(x_i,x_k^-))l_j,\n",
    "\\end{equation}\n",
    "where $\\epsilon_{ijk}$ is the Levi-Civita symbol, $l_j = (x_j^+ - x_j^-)$.\n",
    "\n",
    "The array of right-side parts and the matrix of coefficeints. "
   ]
  },
  {
   "cell_type": "code",
   "execution_count": 229,
   "metadata": {},
   "outputs": [],
   "source": [
    "#Array of right-side parts\n",
    "b = np.concatenate((np.zeros(6), np.asarray(Qm + Qp)), axis=0) \n",
    "\n",
    "#Matrix of coefficients\n",
    "Lambda = np.array([[ 1,-1, 0, 0, 0, 0, 0, 0, 0, 0, 0, 0],\n",
    "                   [ 0, 0, 1,-1, 0, 0, 0, 0, 0, 0, 0, 0],\n",
    "                   [ 0, 0, 0, 0, 1,-1, 0, 0, 0, 0, 0, 0],\n",
    "                   [ 0, 0, 0, 0, 0, 0, 1,-1, 0, 0, 0, 0],\n",
    "                   [ 0, 0, 0, 0, 0, 0, 0, 0, 1,-1, 0, 0],\n",
    "                   [ 0, 0, 0, 0, 0, 0, 0, 0, 0, 0, 1,-1],\n",
    "                   [    0,    0,    0,    0, L[1],-L[1],    0,    0,-L[2], L[2],    0,    0],\n",
    "                   [-L[0], L[0],    0,    0,    0,    0,    0,    0,-L[2],    0,-L[2],    0],\n",
    "                   [ L[0],    0,-L[0],    0,-L[1],    0, L[1],    0,    0,    0,    0,    0],\n",
    "                   [    0,    0,    0,    0,    0,    0, L[1],-L[1],    0,    0,-L[2], L[2]],\n",
    "                   [    0,    0,-L[0], L[0],    0,    0,    0,    0,    0, L[2],    0,-L[2]],\n",
    "                   [    0, L[0],    0,-L[0],    0,-L[1],    0, L[1],    0,    0,    0,    0]])"
   ]
  },
  {
   "cell_type": "code",
   "execution_count": 230,
   "metadata": {},
   "outputs": [
    {
     "data": {
      "text/plain": [
       "0.0"
      ]
     },
     "execution_count": 230,
     "metadata": {},
     "output_type": "execute_result"
    }
   ],
   "source": [
    "np.linalg.det(Lambda)"
   ]
  },
  {
   "cell_type": "markdown",
   "metadata": {},
   "source": [
    "Array of unknowns $y$:\n",
    "\\begin{equation}\n",
    "    \\begin{bmatrix}\n",
    "    \\psi_1^{--}, & \\psi_1^{-+}, & \\psi_1^{+-}, & \\psi_1^{++}, & \\psi_2^{--}, & \\psi_2^{-+}, & \\psi_2^{+-}, & \\psi_2^{++}, & \\psi_3^{--}, & \\psi_3^{-+}, & \\psi_3^{+-}, & \\psi_3^{++}\n",
    "    \\end{bmatrix}.\n",
    "\\end{equation}\n",
    "\n",
    "Solution of the system of linear equations $\\boldsymbol\\Lambda \\cdot y = b$. DOESN'T WORK SO FAR"
   ]
  },
  {
   "cell_type": "code",
   "execution_count": 231,
   "metadata": {},
   "outputs": [],
   "source": [
    "# y = np.linalg.solve(Lambda, b)\n",
    "# y"
   ]
  },
  {
   "cell_type": "markdown",
   "metadata": {},
   "source": []
  },
  {
   "cell_type": "code",
   "execution_count": 232,
   "metadata": {},
   "outputs": [],
   "source": [
    "psimm = torch.tensor([0, 0, 0])\n",
    "psipp = torch.tensor([- Qp[2]/(L[0]+L[1]), Qp[2]/(L[0]+L[1]), 0])"
   ]
  },
  {
   "cell_type": "markdown",
   "metadata": {},
   "source": [
    "$\\boldsymbol\\Psi$ initialization"
   ]
  },
  {
   "cell_type": "code",
   "execution_count": 233,
   "metadata": {},
   "outputs": [],
   "source": [
    "psi1 = (torch.linspace(psimm[0], psipp[0], SIZE[1], dtype=torch.float32) * torch.ones(SIZE[1],SIZE[2])).T\n",
    "psi2 = (torch.linspace(psimm[1], psipp[1], SIZE[1], dtype=torch.float32) * torch.ones(SIZE[0],SIZE[2])).T\n",
    "psi3 = (torch.linspace(psimm[2], psipp[2], SIZE[1], dtype=torch.float32) * torch.ones(SIZE[0],SIZE[1])).T\n",
    "\n",
    "psi = [psi1, psi2, psi3]"
   ]
  },
  {
   "cell_type": "markdown",
   "metadata": {},
   "source": [
    "Convert $\\boldsymbol\\Psi$ into tensor 1 x 3 x SIZE[0] x SIZE[1}"
   ]
  },
  {
   "cell_type": "code",
   "execution_count": 234,
   "metadata": {},
   "outputs": [
    {
     "data": {
      "text/plain": [
       "torch.Size([1, 3, 128, 128])"
      ]
     },
     "execution_count": 234,
     "metadata": {},
     "output_type": "execute_result"
    }
   ],
   "source": [
    "psi = torch.stack(psi)\n",
    "psi = torch.unsqueeze(psi,0)\n",
    "psi.size()"
   ]
  },
  {
   "cell_type": "markdown",
   "metadata": {},
   "source": [
    "Fix constant values in NL first and last layers and set the boundary conditions (set flow rates)"
   ]
  },
  {
   "cell_type": "code",
   "execution_count": 235,
   "metadata": {},
   "outputs": [],
   "source": [
    "for i in range(len(SIZE)):\n",
    "    psi[0,i,:NL,:]  = psimm[i]\n",
    "    psi[0,i,-NL:,:] = psipp[i]"
   ]
  },
  {
   "cell_type": "markdown",
   "metadata": {},
   "source": [
    "Visualization"
   ]
  },
  {
   "cell_type": "code",
   "execution_count": 308,
   "metadata": {},
   "outputs": [
    {
     "ename": "SyntaxError",
     "evalue": "invalid syntax (<ipython-input-308-31ddb84a5006>, line 26)",
     "output_type": "error",
     "traceback": [
      "\u001b[0;36m  File \u001b[0;32m\"<ipython-input-308-31ddb84a5006>\"\u001b[0;36m, line \u001b[0;32m26\u001b[0m\n\u001b[0;31m    def vector_plot(XN[1][0,:,:], XN[2][0,:,:], V[1,slices[0],:,:], V[2,slices[0],:,:], FIGSIZE, vptitle='$x_1 = const$',step=10)\u001b[0m\n\u001b[0m                      ^\u001b[0m\n\u001b[0;31mSyntaxError\u001b[0m\u001b[0;31m:\u001b[0m invalid syntax\n"
     ]
    }
   ],
   "source": [
    "def flowVisualization(psi,step=10):\n",
    "    nr=3\n",
    "    nc=len(SIZE)\n",
    "    \n",
    "    #Velocity distribution\n",
    "    v1, v2, v3 = velocityDistr(psi[0,0,:,:], psi[0,1,:,:], psi[0,2,:,:], DX1N, DX2N, DX3N, L[0], L[1], L[2])\n",
    "    V = torch.stack([v1.to('cpu'),v2.to('cpu'),v3.to('cpu')])\n",
    "    \n",
    "    # Psi function Visualization\n",
    "    fig = plt.figure(figsize=(FIGSIZE*nc, FIGSIZE*nr))\n",
    "    for i in range(len(SIZE)):\n",
    "        plt.subplot(nr,nc,i+1)\n",
    "        plt.imshow(psi[0,i,::])\n",
    "        plt.title(f'$\\psi_{i+1}$')\n",
    "        plt.subplot(nr,nc,i+1+nc)\n",
    "        plt.plot(psi[0,i,:,slices[i]])\n",
    "        plt.grid()\n",
    "    plt.show()\n",
    "    \n",
    "    # Velocity distribution visualization\n",
    "    nr=1\n",
    "    XN = torch.meshgrid(X1N,X2N,X3N)\n",
    "    fig = plt.figure(figsize=(FIGSIZE*nc, FIGSIZE*nr))\n",
    "    \n",
    "    plt.subplot(nr,nc,1)\n",
    "    def vector_plot(XN[1][0,:,:], XN[2][0,:,:], V[1,slices[0],:,:], V[2,slices[0],:,:], FIGSIZE, vptitle='$x_1 = const$',step=10)\n",
    "    \n",
    "#     plt.subplot(nr,nc,1)\n",
    "#     plt.colorbar()\n",
    "#     plt.quiver(XN[1][0,::step,::step], XN[2][0,::step,::step], V[1,slices[0],::step,::step].to('cpu'), V[2,slices[0],::step,::step].to('cpu'))\n",
    "  \n",
    "#     #Check flow rates\n",
    "# #    print(psi[0,0,-1,-1].item(), psi[0,1,-1,-1].item(), psi[0,2,-1,-1].item())\n",
    "#     print(f'Q1+ = {- (psi[0,1,-1,-1] - psi[0,1,-1,0])*L[1] + (psi[0,2,-1,-1] - psi[0,2,-1,0])*L[2]}, target value: {Qp[0]},')\n",
    "#     print(f'Q2+ = {- (psi[0,2,-1,-1] - psi[0,2,0,-1])*L[2] + (psi[0,0,-1,-1] - psi[0,0,-1,0])*L[0]}, target value: {Qp[1]},')\n",
    "#     print(f'Q3+ = {- (psi[0,0,-1,-1] - psi[0,0,0,-1])*L[0] + (psi[0,1,-1,-1] - psi[0,1,0,-1])*L[1]}, target value: {Qp[2]}')\n",
    "#     return    "
   ]
  },
  {
   "cell_type": "code",
   "execution_count": 299,
   "metadata": {
    "colab": {
     "base_uri": "https://localhost:8080/",
     "height": 232
    },
    "id": "Gb4BFZNWnBsh",
    "outputId": "0dde0211-4908-4885-e6ac-4fc8f130ed54"
   },
   "outputs": [
    {
     "data": {
      "image/png": "[encoded data removed]",
      "text/plain": [
       "<Figure size 1080x1080 with 6 Axes>"
      ]
     },
     "metadata": {
      "needs_background": "light"
     },
     "output_type": "display_data"
    },
    {
     "name": "stdout",
     "output_type": "stream",
     "text": [
      "Q1+ = 0.0, target value: 0,\n",
      "Q2+ = 0.0, target value: 0,\n",
      "Q3+ = 2.0000001313746907e-05, target value: 2e-05\n"
     ]
    },
    {
     "data": {
      "image/png": "[encoded data removed]",
      "text/plain": [
       "<Figure size 1080x360 with 1 Axes>"
      ]
     },
     "metadata": {
      "needs_background": "light"
     },
     "output_type": "display_data"
    }
   ],
   "source": [
    "flowVisualization(psi)"
   ]
  },
  {
   "cell_type": "code",
   "execution_count": 309,
   "metadata": {},
   "outputs": [],
   "source": [
    "X1N = torch.linspace(0, 1, 5)\n",
    "X2N = torch.linspace(0, 1, 5)\n",
    "X3N = torch.linspace(0, 1, 5)"
   ]
  },
  {
   "cell_type": "code",
   "execution_count": 310,
   "metadata": {},
   "outputs": [],
   "source": [
    "XN = torch.meshgrid(X1N,X2N,X3N)"
   ]
  },
  {
   "cell_type": "code",
   "execution_count": 311,
   "metadata": {},
   "outputs": [
    {
     "data": {
      "text/plain": [
       "torch.Size([5, 5, 5])"
      ]
     },
     "execution_count": 311,
     "metadata": {},
     "output_type": "execute_result"
    }
   ],
   "source": [
    "XN[0].size()"
   ]
  },
  {
   "cell_type": "code",
   "execution_count": 312,
   "metadata": {},
   "outputs": [
    {
     "data": {
      "text/plain": [
       "(tensor([[0.0000, 0.0000, 0.0000, 0.0000, 0.0000],\n",
       "         [0.2500, 0.2500, 0.2500, 0.2500, 0.2500],\n",
       "         [0.5000, 0.5000, 0.5000, 0.5000, 0.5000],\n",
       "         [0.7500, 0.7500, 0.7500, 0.7500, 0.7500],\n",
       "         [1.0000, 1.0000, 1.0000, 1.0000, 1.0000]]),\n",
       " tensor([[0.0000, 0.2500, 0.5000, 0.7500, 1.0000],\n",
       "         [0.0000, 0.2500, 0.5000, 0.7500, 1.0000],\n",
       "         [0.0000, 0.2500, 0.5000, 0.7500, 1.0000],\n",
       "         [0.0000, 0.2500, 0.5000, 0.7500, 1.0000],\n",
       "         [0.0000, 0.2500, 0.5000, 0.7500, 1.0000]]),\n",
       " tensor([[0.0000, 0.0000, 0.0000, 0.0000, 0.0000],\n",
       "         [0.2500, 0.2500, 0.2500, 0.2500, 0.2500],\n",
       "         [0.5000, 0.5000, 0.5000, 0.5000, 0.5000],\n",
       "         [0.7500, 0.7500, 0.7500, 0.7500, 0.7500],\n",
       "         [1.0000, 1.0000, 1.0000, 1.0000, 1.0000]]))"
      ]
     },
     "execution_count": 312,
     "metadata": {},
     "output_type": "execute_result"
    }
   ],
   "source": [
    "XN[1][0,:,:], XN[2][0,:,:]"
   ]
  },
  {
   "cell_type": "code",
   "execution_count": null,
   "metadata": {},
   "outputs": [],
   "source": [
    "def vector_plot(arg, vec, FIGSIZE, vptitle='vector_plot',step=10):\n",
    "    gradmag = np.sqrt(vec[0]**2+vec[1]**2)\n",
    "    plt.pcolor(arg[0], arg[1], gradmag, cmap='rainbow')\n",
    "    plt.colorbar()\n",
    "    plt.quiver(arg[0][::step,::step], arg[1][::step,::step], vec[0][::step,::step], vec[1][::step,::step])\n",
    "    plt.title(vptitle)"
   ]
  },
  {
   "cell_type": "code",
   "execution_count": null,
   "metadata": {},
   "outputs": [],
   "source": [
    "nr=1\n",
    "nc=len(SIZE)\n",
    "\n",
    "plt.figure(figsize=(nc*FIGSIZE,nr*FIGSIZE))\n",
    "\n",
    "plt.subplot(nr,nc,1)\n",
    "plt.contourf(img[0,slices[0],:,:])\n",
    "plt.title('$x_1 = const$')\n",
    "\n",
    "plt.subplot(nr,nc,2)\n",
    "plt.contourf(img[0,:,slices[1],:])\n",
    "plt.title('$x_2 = const$')\n",
    "\n",
    "plt.subplot(nr,nc,3)\n",
    "plt.contourf(img[0,:,:,slices[2]])\n",
    "plt.title('$x_3 = const$')\n",
    "\n",
    "plt.show()"
   ]
  },
  {
   "cell_type": "code",
   "execution_count": null,
   "metadata": {},
   "outputs": [],
   "source": []
  },
  {
   "cell_type": "code",
   "execution_count": null,
   "metadata": {},
   "outputs": [],
   "source": []
  },
  {
   "cell_type": "code",
   "execution_count": null,
   "metadata": {},
   "outputs": [],
   "source": []
  },
  {
   "cell_type": "markdown",
   "metadata": {},
   "source": [
    "Convert psi into tensor 1 x 3 x SIZE[0] x SIZE[1}"
   ]
  },
  {
   "cell_type": "code",
   "execution_count": 29,
   "metadata": {},
   "outputs": [],
   "source": [
    "# psi = torch.stack(psi)\n",
    "# psi = torch.unsqueeze(psi,0)\n",
    "# psi.size()"
   ]
  },
  {
   "cell_type": "markdown",
   "metadata": {
    "id": "FPeLHoR31p1D"
   },
   "source": [
    "## Create model\n",
    "Unet architecture [2] is used"
   ]
  },
  {
   "cell_type": "code",
   "execution_count": 30,
   "metadata": {
    "id": "PID82zl-cxN4"
   },
   "outputs": [],
   "source": [
    "class UNet(nn.Module):\n",
    "\n",
    "    def __init__(self, in_channels=3, out_channels=1, init_features=4, use_bn=True):\n",
    "        super(UNet, self).__init__()\n",
    "\n",
    "        features = init_features\n",
    "        self.encoder1 = UNet._block(in_channels, features, name=\"enc1\", use_bn=use_bn)\n",
    "        self.pool1 = nn.MaxPool2d(kernel_size=2, stride=2)\n",
    "        self.encoder2 = UNet._block(features, features * 2, name=\"enc2\", use_bn=use_bn)\n",
    "        self.pool2 = nn.MaxPool2d(kernel_size=2, stride=2)\n",
    "        self.encoder3 = UNet._block(features * 2, features * 4, name=\"enc3\", use_bn=use_bn)\n",
    "        self.pool3 = nn.MaxPool2d(kernel_size=2, stride=2)\n",
    "        self.encoder4 = UNet._block(features * 4, features * 8, name=\"enc4\", use_bn=use_bn)\n",
    "        self.pool4 = nn.MaxPool2d(kernel_size=2, stride=2)\n",
    "\n",
    "        self.bottleneck = UNet._block(features * 8, features * 16, name=\"bottleneck\", use_bn=use_bn)\n",
    "\n",
    "        self.upconv4 = nn.ConvTranspose2d(\n",
    "            features * 16, features * 8, kernel_size=2, stride=2\n",
    "        )\n",
    "        self.decoder4 = UNet._block((features * 8) * 2, features * 8, name=\"dec4\", use_bn=use_bn)\n",
    "        self.upconv3 = nn.ConvTranspose2d(\n",
    "            features * 8, features * 4, kernel_size=2, stride=2\n",
    "        )\n",
    "        self.decoder3 = UNet._block((features * 4) * 2, features * 4, name=\"dec3\", use_bn=use_bn)\n",
    "        self.upconv2 = nn.ConvTranspose2d(\n",
    "            features * 4, features * 2, kernel_size=2, stride=2\n",
    "        )\n",
    "        self.decoder2 = UNet._block((features * 2) * 2, features * 2, name=\"dec2\", use_bn=use_bn)\n",
    "        self.upconv1 = nn.ConvTranspose2d(\n",
    "            features * 2, features, kernel_size=2, stride=2\n",
    "        )\n",
    "        self.decoder1 = UNet._block(features * 2, features, name=\"dec1\", use_bn=use_bn)\n",
    "        self.decoder0 = UNet._block(features, features, name=\"dec1\", use_bn=use_bn)\n",
    "        self.conv = nn.Conv2d(\n",
    "            in_channels=features, out_channels=out_channels, kernel_size=1\n",
    "        )\n",
    "\n",
    "    def forward(self, x):\n",
    "        enc1 = self.encoder1(x)\n",
    "        enc2 = self.encoder2(self.pool1(enc1))\n",
    "        enc3 = self.encoder3(self.pool2(enc2))\n",
    "        enc4 = self.encoder4(self.pool3(enc3))\n",
    "\n",
    "        bottleneck = self.bottleneck(self.pool4(enc4))\n",
    "\n",
    "        dec4 = self.upconv4(bottleneck)\n",
    "        dec4 = torch.cat((dec4, enc4), dim=1)\n",
    "        dec4 = self.decoder4(dec4)\n",
    "        dec3 = self.upconv3(dec4)\n",
    "        dec3 = torch.cat((dec3, enc3), dim=1)\n",
    "        dec3 = self.decoder3(dec3)\n",
    "        dec2 = self.upconv2(dec3)\n",
    "        dec2 = torch.cat((dec2, enc2), dim=1)\n",
    "        dec2 = self.decoder2(dec2)\n",
    "        dec1 = self.upconv1(dec2)\n",
    "        dec1 = torch.cat((dec1, enc1), dim=1)\n",
    "        dec1 = self.decoder1(dec1)\n",
    "        dec0 = self.decoder0(dec1)\n",
    "        return torch.sigmoid(self.conv(dec0))*psipp.max()\n",
    "\n",
    "    @staticmethod\n",
    "    def _block(in_channels, features, name, use_bn):\n",
    "        return nn.Sequential(\n",
    "            OrderedDict(\n",
    "                [\n",
    "                    (\n",
    "                        name + \"conv1\",\n",
    "                        nn.Conv2d(\n",
    "                            in_channels=in_channels,\n",
    "                            out_channels=features,\n",
    "                            kernel_size=3,\n",
    "                            padding=1,\n",
    "                            bias=False,\n",
    "                        ),\n",
    "                    ),\n",
    "                    *[(name + \"norm1\", nn.BatchNorm2d(num_features=features)),\n",
    "                      (name + \"relu1\", nn.ReLU(inplace=True))][0 if use_bn else 1:],\n",
    "                    (\n",
    "                        name + \"conv2\",\n",
    "                        nn.Conv2d(\n",
    "                            in_channels=features,\n",
    "                            out_channels=features,\n",
    "                            kernel_size=3,\n",
    "                            padding=1,\n",
    "                            bias=False,\n",
    "                        ),\n",
    "                    ),\n",
    "                    *[(name + \"norm2\", nn.BatchNorm2d(num_features=features)),\n",
    "                      (name + \"relu2\", nn.ReLU(inplace=True))][0 if use_bn else 1:],\n",
    "                ]\n",
    "            )\n",
    "        )\n",
    "    \n",
    "def power_loss(psi):\n",
    "    \n",
    "    #Fix psi function on the boundaries\n",
    "    psi_masked = psi.clone()\n",
    "    for i in range(len(SIZE)):\n",
    "        psi_masked[:,i,:NL,:]   = psimm[i]\n",
    "        psi_masked[:,i,-NL:,:] = psipp[i]\n",
    "\n",
    "    v1, v2, v3 = velocityDistr(psi_masked[0,0,:,:], psi_masked[0,1,:,:], psi_masked[0,2,:,:], DX1N, DX2N, DX3N, L[0], L[1], L[2])\n",
    "    \n",
    "    xi11, xi12, xi22, EtaEta = TksiDistr(v1, v2, v3, DX1N, DX2N, DX3N, L[0], L[1], L[2])\n",
    "    \n",
    "    #Subintegral expression with masks for fluid and walls, respectively:\n",
    "    subInt = ((0.5*Q0*EtaEta + ((Q1/(Z+1))*EtaEta**((Z+1)*0.5)))*img[0,:,:,:] + \n",
    "              (0.5*Q0W*EtaEta + ((Q1W/(ZW+1))*EtaEta**((ZW+1)*0.5)))*(1-img[0,:,:,:])) \n",
    "    \n",
    "    #Integral\n",
    "    int1 = torch.trapz(subInt)\n",
    "    int2 = torch.trapz(int1)\n",
    "    int3 = torch.trapz(int2)\n",
    "    \n",
    "    out = int3*dOmega #loss\n",
    "    \n",
    "    return out"
   ]
  },
  {
   "cell_type": "markdown",
   "metadata": {
    "id": "PhZutgNIyYhH"
   },
   "source": [
    "## Training"
   ]
  },
  {
   "cell_type": "code",
   "execution_count": 31,
   "metadata": {},
   "outputs": [],
   "source": [
    "start_time = time.time()"
   ]
  },
  {
   "cell_type": "code",
   "execution_count": 32,
   "metadata": {
    "collapsed": true,
    "jupyter": {
     "outputs_hidden": true
    }
   },
   "outputs": [
    {
     "name": "stdout",
     "output_type": "stream",
     "text": [
      "hyperparams: \n",
      " Epochs 60000, learning_rate 0.001, scheduler None, scheduler_factor 0.5, scheduler_patience 3000, use_bn True, Early_stop_patience 60000, Decay 0.0001\n"
     ]
    },
    {
     "data": {
      "application/vnd.jupyter.widget-view+json": {
       "model_id": "1563fb10ba1b487a97f8c341c9435614",
       "version_major": 2,
       "version_minor": 0
      },
      "text/plain": [
       "Epoch:   0%|          | 0/60000 [00:00<?, ?it/s]"
      ]
     },
     "metadata": {},
     "output_type": "display_data"
    },
    {
     "name": "stderr",
     "output_type": "stream",
     "text": [
      "/opt/conda/lib/python3.7/site-packages/torch/nn/functional.py:718: UserWarning: Named tensors and all their associated APIs are an experimental feature and subject to change. Please do not use them for anything important until they are released as stable. (Triggered internally at  /pytorch/c10/core/TensorImpl.h:1156.)\n",
      "  return torch.max_pool2d(input, kernel_size, stride, padding, dilation, ceil_mode)\n"
     ]
    },
    {
     "name": "stdout",
     "output_type": "stream",
     "text": [
      "epoch 100/60000, loss = 19769.4141\n",
      "epoch 200/60000, loss = 11549.5059\n",
      "epoch 300/60000, loss = 7673.0225\n",
      "epoch 400/60000, loss = 5469.5508\n",
      "epoch 500/60000, loss = 4156.3623\n",
      "epoch 600/60000, loss = 3320.4944\n",
      "epoch 700/60000, loss = 2933.6218\n",
      "epoch 800/60000, loss = 2418.8308\n",
      "epoch 900/60000, loss = 2136.1035\n",
      "epoch 1000/60000, loss = 1927.2582\n",
      "epoch 1100/60000, loss = 1732.9558\n",
      "epoch 1200/60000, loss = 1596.9678\n",
      "epoch 1300/60000, loss = 1464.2653\n",
      "epoch 1400/60000, loss = 1364.4713\n",
      "epoch 1500/60000, loss = 1254.1622\n",
      "epoch 1600/60000, loss = 1174.4387\n",
      "epoch 1700/60000, loss = 1500.4830\n",
      "epoch 1800/60000, loss = 1031.7587\n",
      "epoch 1900/60000, loss = 977.9446\n",
      "epoch 2000/60000, loss = 950.0125\n",
      "epoch 2100/60000, loss = 884.8424\n",
      "epoch 2200/60000, loss = 842.9239\n",
      "epoch 2300/60000, loss = 807.8745\n",
      "epoch 2400/60000, loss = 781.8582\n",
      "epoch 2500/60000, loss = 744.9606\n",
      "epoch 2600/60000, loss = 719.7376\n",
      "epoch 2700/60000, loss = 711.5325\n",
      "epoch 2800/60000, loss = 835.5865\n",
      "epoch 2900/60000, loss = 1110.4274\n",
      "epoch 3000/60000, loss = 632.1328\n",
      "epoch 3100/60000, loss = 618.9569\n",
      "epoch 3200/60000, loss = 638.8018\n",
      "epoch 3300/60000, loss = 579.9489\n",
      "epoch 3400/60000, loss = 566.7656\n",
      "epoch 3500/60000, loss = 670.5030\n",
      "epoch 3600/60000, loss = 626.2040\n",
      "epoch 3700/60000, loss = 551.9777\n",
      "epoch 3800/60000, loss = 509.7446\n",
      "epoch 3900/60000, loss = 499.2415\n",
      "epoch 4000/60000, loss = 492.2433\n",
      "epoch 4100/60000, loss = 503.0700\n",
      "epoch 4200/60000, loss = 466.6823\n",
      "epoch 4300/60000, loss = 520.1930\n",
      "epoch 4400/60000, loss = 620.4980\n",
      "epoch 4500/60000, loss = 576.0009\n",
      "epoch 4600/60000, loss = 448.1569\n",
      "epoch 4700/60000, loss = 420.8943\n",
      "epoch 4800/60000, loss = 412.1221\n",
      "epoch 4900/60000, loss = 399.9587\n",
      "epoch 5000/60000, loss = 394.9529\n",
      "epoch 5100/60000, loss = 552.6263\n",
      "epoch 5200/60000, loss = 379.6042\n",
      "epoch 5300/60000, loss = 430.9743\n",
      "epoch 5400/60000, loss = 374.2235\n",
      "epoch 5500/60000, loss = 618.7839\n",
      "epoch 5600/60000, loss = 351.6806\n",
      "epoch 5700/60000, loss = 345.0864\n",
      "epoch 5800/60000, loss = 340.7054\n",
      "epoch 5900/60000, loss = 333.9323\n",
      "epoch 6000/60000, loss = 329.1269\n",
      "epoch 6100/60000, loss = 323.8096\n",
      "epoch 6200/60000, loss = 325.4185\n",
      "epoch 6300/60000, loss = 369.8000\n",
      "epoch 6400/60000, loss = 348.3522\n",
      "epoch 6500/60000, loss = 306.7135\n",
      "epoch 6600/60000, loss = 305.2221\n",
      "epoch 6700/60000, loss = 310.3486\n",
      "epoch 6800/60000, loss = 437.5589\n",
      "epoch 6900/60000, loss = 312.4918\n",
      "epoch 7000/60000, loss = 296.5084\n",
      "epoch 7100/60000, loss = 286.7106\n",
      "epoch 7200/60000, loss = 280.3033\n",
      "epoch 7300/60000, loss = 320.5998\n",
      "epoch 7400/60000, loss = 688.0513\n",
      "epoch 7500/60000, loss = 274.2015\n",
      "epoch 7600/60000, loss = 338.5674\n",
      "epoch 7700/60000, loss = 272.6497\n",
      "epoch 7800/60000, loss = 356.0128\n",
      "epoch 7900/60000, loss = 358.1814\n",
      "epoch 8000/60000, loss = 266.0494\n",
      "epoch 8100/60000, loss = 264.1350\n",
      "epoch 8200/60000, loss = 282.9661\n",
      "epoch 8300/60000, loss = 250.9058\n",
      "epoch 8400/60000, loss = 243.4623\n",
      "epoch 8500/60000, loss = 239.1579\n",
      "epoch 8600/60000, loss = 517.0994\n",
      "epoch 8700/60000, loss = 224.5792\n",
      "epoch 8800/60000, loss = 219.0303\n",
      "epoch 8900/60000, loss = 215.7166\n",
      "epoch 9000/60000, loss = 212.8339\n",
      "epoch 9100/60000, loss = 211.1637\n",
      "epoch 9200/60000, loss = 203.1568\n",
      "epoch 9300/60000, loss = 199.3905\n",
      "epoch 9400/60000, loss = 195.3440\n",
      "epoch 9500/60000, loss = 192.5895\n",
      "epoch 9600/60000, loss = 187.6712\n",
      "epoch 9700/60000, loss = 200.5742\n",
      "epoch 9800/60000, loss = 421.4372\n",
      "epoch 9900/60000, loss = 179.4220\n",
      "epoch 10000/60000, loss = 173.2670\n",
      "epoch 10100/60000, loss = 168.4606\n",
      "epoch 10200/60000, loss = 176.0787\n",
      "epoch 10300/60000, loss = 166.4510\n",
      "epoch 10400/60000, loss = 156.8656\n",
      "epoch 10500/60000, loss = 153.0689\n",
      "epoch 10600/60000, loss = 150.7636\n",
      "epoch 10700/60000, loss = 163.0515\n",
      "epoch 10800/60000, loss = 161.8161\n",
      "epoch 10900/60000, loss = 1061.6500\n",
      "epoch 11000/60000, loss = 163.3158\n",
      "epoch 11100/60000, loss = 147.4984\n",
      "epoch 11200/60000, loss = 139.8424\n",
      "epoch 11300/60000, loss = 145.5593\n",
      "epoch 11400/60000, loss = 135.3687\n",
      "epoch 11500/60000, loss = 126.9192\n",
      "epoch 11600/60000, loss = 123.0618\n",
      "epoch 11700/60000, loss = 120.4085\n",
      "epoch 11800/60000, loss = 118.0295\n",
      "epoch 11900/60000, loss = 115.3086\n",
      "epoch 12000/60000, loss = 113.3185\n",
      "epoch 12100/60000, loss = 114.5309\n",
      "epoch 12200/60000, loss = 123.7021\n",
      "epoch 12300/60000, loss = 115.2208\n",
      "epoch 12400/60000, loss = 106.2443\n",
      "epoch 12500/60000, loss = 104.8992\n",
      "epoch 12600/60000, loss = 103.6146\n",
      "epoch 12700/60000, loss = 102.4540\n",
      "epoch 12800/60000, loss = 101.5614\n",
      "epoch 12900/60000, loss = 100.3685\n",
      "epoch 13000/60000, loss = 99.6911\n",
      "epoch 13100/60000, loss = 99.5464\n",
      "epoch 13200/60000, loss = 100.1452\n",
      "epoch 13300/60000, loss = 98.0462\n",
      "epoch 13400/60000, loss = 96.6404\n",
      "epoch 13500/60000, loss = 97.6557\n",
      "epoch 13600/60000, loss = 100.4642\n",
      "epoch 13700/60000, loss = 94.9588\n",
      "epoch 13800/60000, loss = 94.6112\n",
      "epoch 13900/60000, loss = 94.0545\n",
      "epoch 14000/60000, loss = 93.6978\n",
      "epoch 14100/60000, loss = 93.5587\n",
      "epoch 14200/60000, loss = 94.4560\n",
      "epoch 14300/60000, loss = 92.7288\n",
      "epoch 14400/60000, loss = 102.5869\n",
      "epoch 14500/60000, loss = 92.6739\n",
      "epoch 14600/60000, loss = 91.9262\n",
      "epoch 14700/60000, loss = 91.7085\n",
      "epoch 14800/60000, loss = 91.6548\n",
      "epoch 14900/60000, loss = 91.4766\n",
      "epoch 15000/60000, loss = 91.1240\n",
      "epoch 15100/60000, loss = 92.0275\n",
      "epoch 15200/60000, loss = 91.3577\n",
      "epoch 15300/60000, loss = 91.4691\n",
      "epoch 15400/60000, loss = 91.0355\n",
      "epoch 15500/60000, loss = 90.5860\n",
      "epoch 15600/60000, loss = 91.9788\n",
      "epoch 15700/60000, loss = 91.0241\n",
      "epoch 15800/60000, loss = 90.2383\n",
      "epoch 15900/60000, loss = 92.9138\n",
      "epoch 16000/60000, loss = 90.6086\n",
      "epoch 16100/60000, loss = 90.1727\n",
      "epoch 16200/60000, loss = 89.9917\n",
      "epoch 16300/60000, loss = 89.8713\n",
      "epoch 16400/60000, loss = 89.7829\n",
      "epoch 16500/60000, loss = 90.0928\n",
      "epoch 16600/60000, loss = 90.6791\n",
      "epoch 16700/60000, loss = 89.6382\n",
      "epoch 16800/60000, loss = 90.0061\n",
      "epoch 16900/60000, loss = 89.5717\n",
      "epoch 17000/60000, loss = 90.3606\n",
      "epoch 17100/60000, loss = 91.4127\n",
      "epoch 17200/60000, loss = 89.6581\n",
      "epoch 17300/60000, loss = 89.7173\n",
      "epoch 17400/60000, loss = 91.5726\n",
      "epoch 17500/60000, loss = 93.0016\n",
      "epoch 17600/60000, loss = 92.2117\n",
      "epoch 17700/60000, loss = 89.6266\n",
      "epoch 17800/60000, loss = 89.5917\n",
      "epoch 17900/60000, loss = 91.7323\n",
      "epoch 18000/60000, loss = 94.9029\n",
      "epoch 18100/60000, loss = 92.1039\n",
      "epoch 18200/60000, loss = 90.4493\n",
      "epoch 18300/60000, loss = 90.2217\n",
      "epoch 18400/60000, loss = 89.5791\n",
      "epoch 18500/60000, loss = 91.4577\n",
      "epoch 18600/60000, loss = 89.9961\n",
      "epoch 18700/60000, loss = 89.6242\n",
      "epoch 18800/60000, loss = 92.9793\n",
      "epoch 18900/60000, loss = 89.8755\n",
      "epoch 19000/60000, loss = 92.8465\n",
      "epoch 19100/60000, loss = 89.4008\n",
      "epoch 19200/60000, loss = 89.2445\n",
      "epoch 19300/60000, loss = 89.1898\n",
      "epoch 19400/60000, loss = 89.1320\n",
      "epoch 19500/60000, loss = 89.1210\n",
      "epoch 19600/60000, loss = 89.0929\n",
      "epoch 19700/60000, loss = 89.7065\n",
      "epoch 19800/60000, loss = 89.1068\n",
      "epoch 19900/60000, loss = 89.6546\n",
      "epoch 20000/60000, loss = 93.7213\n",
      "epoch 20100/60000, loss = 89.3017\n",
      "epoch 20200/60000, loss = 89.1841\n",
      "epoch 20300/60000, loss = 89.2903\n",
      "epoch 20400/60000, loss = 89.0586\n",
      "epoch 20500/60000, loss = 94.5229\n",
      "epoch 20600/60000, loss = 107.8126\n",
      "epoch 20700/60000, loss = 95.1294\n",
      "epoch 20800/60000, loss = 93.4840\n",
      "epoch 20900/60000, loss = 92.7591\n",
      "epoch 21000/60000, loss = 92.3300\n",
      "epoch 21100/60000, loss = 92.0516\n",
      "epoch 21200/60000, loss = 91.8519\n",
      "epoch 21300/60000, loss = 91.6799\n",
      "epoch 21400/60000, loss = 91.6198\n",
      "epoch 21500/60000, loss = 91.4178\n",
      "epoch 21600/60000, loss = 91.3080\n",
      "epoch 21700/60000, loss = 91.2251\n",
      "epoch 21800/60000, loss = 91.2176\n",
      "epoch 21900/60000, loss = 91.5966\n",
      "epoch 22000/60000, loss = 91.0333\n",
      "epoch 22100/60000, loss = 90.9553\n",
      "epoch 22200/60000, loss = 90.9893\n",
      "epoch 22300/60000, loss = 91.3557\n",
      "epoch 22400/60000, loss = 91.9853\n",
      "epoch 22500/60000, loss = 90.7826\n",
      "epoch 22600/60000, loss = 90.7555\n",
      "epoch 22700/60000, loss = 90.7231\n",
      "epoch 22800/60000, loss = 90.7087\n",
      "epoch 22900/60000, loss = 90.6560\n",
      "epoch 23000/60000, loss = 90.6363\n",
      "epoch 23100/60000, loss = 90.8233\n",
      "epoch 23200/60000, loss = 90.5893\n",
      "epoch 23300/60000, loss = 91.5078\n",
      "epoch 23400/60000, loss = 90.7918\n",
      "epoch 23500/60000, loss = 91.7904\n",
      "epoch 23600/60000, loss = 90.6104\n",
      "epoch 23700/60000, loss = 90.5300\n",
      "epoch 23800/60000, loss = 90.6579\n",
      "epoch 23900/60000, loss = 90.5007\n",
      "epoch 24000/60000, loss = 90.5082\n",
      "epoch 24100/60000, loss = 90.6628\n",
      "epoch 24200/60000, loss = 90.5294\n",
      "epoch 24300/60000, loss = 91.7040\n",
      "epoch 24400/60000, loss = 90.5830\n",
      "epoch 24500/60000, loss = 90.4997\n",
      "epoch 24600/60000, loss = 90.4549\n",
      "epoch 24700/60000, loss = 90.4401\n",
      "epoch 24800/60000, loss = 91.7326\n",
      "epoch 24900/60000, loss = 90.4614\n",
      "epoch 25000/60000, loss = 90.9327\n",
      "epoch 25100/60000, loss = 90.4270\n",
      "epoch 25200/60000, loss = 90.6276\n",
      "epoch 25300/60000, loss = 90.5695\n",
      "epoch 25400/60000, loss = 90.4669\n",
      "epoch 25500/60000, loss = 90.4133\n",
      "epoch 25600/60000, loss = 90.4588\n",
      "epoch 25700/60000, loss = 90.5008\n",
      "epoch 25800/60000, loss = 90.5245\n",
      "epoch 25900/60000, loss = 90.5634\n",
      "epoch 26000/60000, loss = 90.4478\n",
      "epoch 26100/60000, loss = 90.3787\n",
      "epoch 26200/60000, loss = 90.6893\n",
      "epoch 26300/60000, loss = 91.2992\n",
      "epoch 26400/60000, loss = 90.3803\n",
      "epoch 26500/60000, loss = 91.5382\n",
      "epoch 26600/60000, loss = 90.3677\n",
      "epoch 26700/60000, loss = 90.3706\n",
      "epoch 26800/60000, loss = 90.7578\n",
      "epoch 26900/60000, loss = 90.8763\n",
      "epoch 27000/60000, loss = 90.9256\n",
      "epoch 27100/60000, loss = 90.4415\n",
      "epoch 27200/60000, loss = 90.3621\n",
      "epoch 27300/60000, loss = 90.4042\n",
      "epoch 27400/60000, loss = 90.6938\n",
      "epoch 27500/60000, loss = 90.6265\n",
      "epoch 27600/60000, loss = 90.8863\n",
      "epoch 27700/60000, loss = 90.5365\n",
      "epoch 27800/60000, loss = 90.3614\n",
      "epoch 27900/60000, loss = 90.4445\n",
      "epoch 28000/60000, loss = 90.3465\n",
      "epoch 28100/60000, loss = 90.7432\n",
      "epoch 28200/60000, loss = 90.4456\n",
      "epoch 28300/60000, loss = 90.3987\n",
      "epoch 28400/60000, loss = 90.3605\n",
      "epoch 28500/60000, loss = 90.4495\n",
      "epoch 28600/60000, loss = 90.3632\n",
      "epoch 28700/60000, loss = 90.6213\n",
      "epoch 28800/60000, loss = 90.3321\n",
      "epoch 28900/60000, loss = 90.4216\n",
      "epoch 29000/60000, loss = 90.4333\n",
      "epoch 29100/60000, loss = 93.6918\n",
      "epoch 29200/60000, loss = 91.1484\n",
      "epoch 29300/60000, loss = 90.8900\n",
      "epoch 29400/60000, loss = 90.7710\n",
      "epoch 29500/60000, loss = 90.6815\n",
      "epoch 29600/60000, loss = 90.6149\n",
      "epoch 29700/60000, loss = 90.5823\n",
      "epoch 29800/60000, loss = 90.6330\n",
      "epoch 29900/60000, loss = 90.5149\n",
      "epoch 30000/60000, loss = 90.4843\n",
      "epoch 30100/60000, loss = 90.4579\n",
      "epoch 30200/60000, loss = 90.4429\n",
      "epoch 30300/60000, loss = 90.4962\n",
      "epoch 30400/60000, loss = 90.4623\n",
      "epoch 30500/60000, loss = 90.4298\n",
      "epoch 30600/60000, loss = 90.4728\n",
      "epoch 30700/60000, loss = 90.4134\n",
      "epoch 30800/60000, loss = 90.4161\n",
      "epoch 30900/60000, loss = 90.3914\n",
      "epoch 31000/60000, loss = 90.3880\n",
      "epoch 31100/60000, loss = 90.4910\n",
      "epoch 31200/60000, loss = 90.4213\n",
      "epoch 31300/60000, loss = 90.3566\n",
      "epoch 31400/60000, loss = 90.4553\n",
      "epoch 31500/60000, loss = 90.3729\n",
      "epoch 31600/60000, loss = 90.3616\n",
      "epoch 31700/60000, loss = 90.5719\n",
      "epoch 31800/60000, loss = 90.3477\n",
      "epoch 31900/60000, loss = 90.4436\n",
      "epoch 32000/60000, loss = 90.3729\n",
      "epoch 32100/60000, loss = 90.4745\n",
      "epoch 32200/60000, loss = 90.3985\n",
      "epoch 32300/60000, loss = 90.3520\n",
      "epoch 32400/60000, loss = 90.4607\n",
      "epoch 32500/60000, loss = 90.3392\n",
      "epoch 32600/60000, loss = 90.6875\n",
      "epoch 32700/60000, loss = 90.3444\n",
      "epoch 32800/60000, loss = 90.6255\n",
      "epoch 32900/60000, loss = 90.3355\n",
      "epoch 33000/60000, loss = 90.4476\n",
      "epoch 33100/60000, loss = 90.3288\n",
      "epoch 33200/60000, loss = 90.3356\n",
      "epoch 33300/60000, loss = 90.3309\n",
      "epoch 33400/60000, loss = 90.8143\n",
      "epoch 33500/60000, loss = 90.3224\n",
      "epoch 33600/60000, loss = 90.3803\n",
      "epoch 33700/60000, loss = 90.3283\n",
      "epoch 33800/60000, loss = 90.4472\n",
      "epoch 33900/60000, loss = 90.3292\n",
      "epoch 34000/60000, loss = 90.5471\n",
      "epoch 34100/60000, loss = 90.4886\n",
      "epoch 34200/60000, loss = 90.3410\n",
      "epoch 34300/60000, loss = 90.6294\n",
      "epoch 34400/60000, loss = 90.3579\n",
      "epoch 34500/60000, loss = 90.3214\n",
      "epoch 34600/60000, loss = 90.3189\n",
      "epoch 34700/60000, loss = 90.3388\n",
      "epoch 34800/60000, loss = 90.3690\n",
      "epoch 34900/60000, loss = 90.6369\n",
      "epoch 35000/60000, loss = 90.3156\n",
      "epoch 35100/60000, loss = 90.3157\n",
      "epoch 35200/60000, loss = 90.3441\n",
      "epoch 35300/60000, loss = 90.3134\n",
      "epoch 35400/60000, loss = 90.4138\n",
      "epoch 35500/60000, loss = 90.3171\n",
      "epoch 35600/60000, loss = 90.3241\n",
      "epoch 35700/60000, loss = 90.3080\n",
      "epoch 35800/60000, loss = 90.3900\n",
      "epoch 35900/60000, loss = 90.4307\n",
      "epoch 36000/60000, loss = 90.4320\n",
      "epoch 36100/60000, loss = 90.3316\n",
      "epoch 36200/60000, loss = 90.3223\n",
      "epoch 36300/60000, loss = 90.3185\n",
      "epoch 36400/60000, loss = 90.6021\n",
      "epoch 36500/60000, loss = 90.3109\n",
      "epoch 36600/60000, loss = 90.3170\n",
      "epoch 36700/60000, loss = 90.3334\n",
      "epoch 36800/60000, loss = 90.3039\n",
      "epoch 36900/60000, loss = 90.3908\n",
      "epoch 37000/60000, loss = 90.6655\n",
      "epoch 37100/60000, loss = 90.3051\n",
      "epoch 37200/60000, loss = 90.3056\n",
      "epoch 37300/60000, loss = 90.4502\n",
      "epoch 37400/60000, loss = 90.3042\n",
      "epoch 37500/60000, loss = 90.3417\n",
      "epoch 37600/60000, loss = 90.3235\n",
      "epoch 37700/60000, loss = 90.3025\n",
      "epoch 37800/60000, loss = 90.2991\n",
      "epoch 37900/60000, loss = 90.3474\n",
      "epoch 38000/60000, loss = 90.5112\n",
      "epoch 38100/60000, loss = 90.3165\n",
      "epoch 38200/60000, loss = 90.3008\n",
      "epoch 38300/60000, loss = 90.3249\n",
      "epoch 38400/60000, loss = 90.2983\n",
      "epoch 38500/60000, loss = 90.2933\n",
      "epoch 38600/60000, loss = 90.6321\n",
      "epoch 38700/60000, loss = 90.2942\n",
      "epoch 38800/60000, loss = 90.3332\n",
      "epoch 38900/60000, loss = 90.3173\n",
      "epoch 39000/60000, loss = 90.3166\n",
      "epoch 39100/60000, loss = 90.3010\n",
      "epoch 39200/60000, loss = 90.3049\n",
      "epoch 39300/60000, loss = 90.3086\n",
      "epoch 39400/60000, loss = 90.3104\n",
      "epoch 39500/60000, loss = 90.3949\n",
      "epoch 39600/60000, loss = 90.2903\n",
      "epoch 39700/60000, loss = 90.4210\n",
      "epoch 39800/60000, loss = 90.2948\n",
      "epoch 39900/60000, loss = 90.2994\n",
      "epoch 40000/60000, loss = 90.3133\n",
      "epoch 40100/60000, loss = 90.2920\n",
      "epoch 40200/60000, loss = 90.2971\n",
      "epoch 40300/60000, loss = 90.2885\n",
      "epoch 40400/60000, loss = 90.4158\n",
      "epoch 40500/60000, loss = 90.2921\n",
      "epoch 40600/60000, loss = 90.2873\n",
      "epoch 40700/60000, loss = 90.4445\n",
      "epoch 40800/60000, loss = 92.0802\n",
      "epoch 40900/60000, loss = 90.4437\n",
      "epoch 41000/60000, loss = 90.3833\n",
      "epoch 41100/60000, loss = 90.3611\n",
      "epoch 41200/60000, loss = 90.3484\n",
      "epoch 41300/60000, loss = 90.3379\n",
      "epoch 41400/60000, loss = 90.3928\n",
      "epoch 41500/60000, loss = 90.3318\n",
      "epoch 41600/60000, loss = 90.3246\n",
      "epoch 41700/60000, loss = 90.3186\n",
      "epoch 41800/60000, loss = 90.4187\n",
      "epoch 41900/60000, loss = 90.3569\n",
      "epoch 42000/60000, loss = 90.3788\n",
      "epoch 42100/60000, loss = 90.3069\n",
      "epoch 42200/60000, loss = 90.3180\n",
      "epoch 42300/60000, loss = 90.3013\n",
      "epoch 42400/60000, loss = 90.3236\n",
      "epoch 42500/60000, loss = 90.3034\n",
      "epoch 42600/60000, loss = 90.4132\n",
      "epoch 42700/60000, loss = 90.3222\n",
      "epoch 42800/60000, loss = 90.3111\n",
      "epoch 42900/60000, loss = 90.3118\n",
      "epoch 43000/60000, loss = 90.2487\n",
      "epoch 43100/60000, loss = 89.6481\n",
      "epoch 43200/60000, loss = 89.6407\n",
      "epoch 43300/60000, loss = 89.4978\n",
      "epoch 43400/60000, loss = 89.4874\n",
      "epoch 43500/60000, loss = 89.2017\n",
      "epoch 43600/60000, loss = 89.0870\n",
      "epoch 43700/60000, loss = 89.0483\n",
      "epoch 43800/60000, loss = 89.0624\n",
      "epoch 43900/60000, loss = 89.0755\n",
      "epoch 44000/60000, loss = 91.4981\n",
      "epoch 44100/60000, loss = 90.3655\n",
      "epoch 44200/60000, loss = 90.3291\n",
      "epoch 44300/60000, loss = 90.3283\n",
      "epoch 44400/60000, loss = 90.3111\n",
      "epoch 44500/60000, loss = 90.3058\n",
      "epoch 44600/60000, loss = 90.3025\n",
      "epoch 44700/60000, loss = 90.3046\n",
      "epoch 44800/60000, loss = 90.3039\n",
      "epoch 44900/60000, loss = 90.3056\n",
      "epoch 45000/60000, loss = 90.2942\n",
      "epoch 45100/60000, loss = 90.3710\n",
      "epoch 45200/60000, loss = 90.2912\n",
      "epoch 45300/60000, loss = 90.4059\n",
      "epoch 45400/60000, loss = 89.5708\n",
      "epoch 45500/60000, loss = 89.2499\n",
      "epoch 45600/60000, loss = 89.1343\n",
      "epoch 45700/60000, loss = 89.1006\n",
      "epoch 45800/60000, loss = 89.0505\n",
      "epoch 45900/60000, loss = 89.0275\n",
      "epoch 46000/60000, loss = 89.0022\n",
      "epoch 46100/60000, loss = 88.9695\n",
      "epoch 46200/60000, loss = 88.9895\n",
      "epoch 46300/60000, loss = 88.9481\n",
      "epoch 46400/60000, loss = 88.9666\n",
      "epoch 46500/60000, loss = 88.9935\n",
      "epoch 46600/60000, loss = 88.9810\n",
      "epoch 46700/60000, loss = 88.9472\n",
      "epoch 46800/60000, loss = 89.0270\n",
      "epoch 46900/60000, loss = 88.9658\n",
      "epoch 47000/60000, loss = 92.2477\n",
      "epoch 47100/60000, loss = 89.2762\n",
      "epoch 47200/60000, loss = 89.0084\n",
      "epoch 47300/60000, loss = 89.0061\n",
      "epoch 47400/60000, loss = 88.9668\n",
      "epoch 47500/60000, loss = 88.9649\n",
      "epoch 47600/60000, loss = 88.9524\n",
      "epoch 47700/60000, loss = 88.9731\n",
      "epoch 47800/60000, loss = 88.9623\n",
      "epoch 47900/60000, loss = 88.9444\n",
      "epoch 48000/60000, loss = 88.9731\n",
      "epoch 48100/60000, loss = 88.9470\n",
      "epoch 48200/60000, loss = 88.9443\n",
      "epoch 48300/60000, loss = 88.9343\n",
      "epoch 48400/60000, loss = 88.9550\n",
      "epoch 48500/60000, loss = 89.1288\n",
      "epoch 48600/60000, loss = 88.9422\n",
      "epoch 48700/60000, loss = 88.9403\n",
      "epoch 48800/60000, loss = 88.9412\n",
      "epoch 48900/60000, loss = 88.9817\n",
      "epoch 49000/60000, loss = 88.9265\n",
      "epoch 49100/60000, loss = 88.9631\n",
      "epoch 49200/60000, loss = 88.9391\n",
      "epoch 49300/60000, loss = 89.0946\n",
      "epoch 49400/60000, loss = 88.9244\n",
      "epoch 49500/60000, loss = 88.9477\n",
      "epoch 49600/60000, loss = 88.9292\n",
      "epoch 49700/60000, loss = 88.9305\n",
      "epoch 49800/60000, loss = 88.9552\n",
      "epoch 49900/60000, loss = 88.9488\n",
      "epoch 50000/60000, loss = 88.9333\n",
      "epoch 50100/60000, loss = 88.9302\n",
      "epoch 50200/60000, loss = 88.9210\n",
      "epoch 50300/60000, loss = 88.9356\n",
      "epoch 50400/60000, loss = 88.9371\n",
      "epoch 50500/60000, loss = 88.9214\n",
      "epoch 50600/60000, loss = 88.9270\n",
      "epoch 50700/60000, loss = 88.9172\n",
      "epoch 50800/60000, loss = 88.9198\n",
      "epoch 50900/60000, loss = 88.9625\n",
      "epoch 51000/60000, loss = 88.9204\n",
      "epoch 51100/60000, loss = 88.9118\n",
      "epoch 51200/60000, loss = 89.0339\n",
      "epoch 51300/60000, loss = 88.9344\n",
      "epoch 51400/60000, loss = 88.9335\n",
      "epoch 51500/60000, loss = 88.9078\n",
      "epoch 51600/60000, loss = 88.9141\n",
      "epoch 51700/60000, loss = 88.9199\n",
      "epoch 51800/60000, loss = 88.9310\n",
      "epoch 51900/60000, loss = 89.2552\n",
      "epoch 52000/60000, loss = 88.9070\n",
      "epoch 52100/60000, loss = 88.9167\n",
      "epoch 52200/60000, loss = 88.9510\n",
      "epoch 52300/60000, loss = 88.9063\n",
      "epoch 52400/60000, loss = 89.0354\n",
      "epoch 52500/60000, loss = 88.9381\n",
      "epoch 52600/60000, loss = 88.9068\n",
      "epoch 52700/60000, loss = 88.9128\n",
      "epoch 52800/60000, loss = 88.9070\n",
      "epoch 52900/60000, loss = 88.9107\n",
      "epoch 53000/60000, loss = 88.9339\n",
      "epoch 53100/60000, loss = 88.9354\n",
      "epoch 53200/60000, loss = 88.9042\n",
      "epoch 53300/60000, loss = 88.9097\n",
      "epoch 53400/60000, loss = 89.1748\n",
      "epoch 53500/60000, loss = 88.9174\n",
      "epoch 53600/60000, loss = 88.9021\n",
      "epoch 53700/60000, loss = 90.8087\n",
      "epoch 53800/60000, loss = 89.1323\n",
      "epoch 53900/60000, loss = 88.9693\n",
      "epoch 54000/60000, loss = 88.9570\n",
      "epoch 54100/60000, loss = 89.0157\n",
      "epoch 54200/60000, loss = 88.9361\n",
      "epoch 54300/60000, loss = 88.9427\n",
      "epoch 54400/60000, loss = 88.9668\n",
      "epoch 54500/60000, loss = 88.9447\n",
      "epoch 54600/60000, loss = 88.9205\n",
      "epoch 54700/60000, loss = 88.9288\n",
      "epoch 54800/60000, loss = 88.9799\n",
      "epoch 54900/60000, loss = 89.0668\n",
      "epoch 55000/60000, loss = 88.9799\n",
      "epoch 55100/60000, loss = 88.9720\n",
      "epoch 55200/60000, loss = 88.9418\n",
      "epoch 55300/60000, loss = 88.9168\n",
      "epoch 55400/60000, loss = 88.9123\n",
      "epoch 55500/60000, loss = 88.9574\n",
      "epoch 55600/60000, loss = 88.9208\n",
      "epoch 55700/60000, loss = 89.7579\n",
      "epoch 55800/60000, loss = 88.9256\n",
      "epoch 55900/60000, loss = 89.0683\n",
      "epoch 56000/60000, loss = 88.9186\n",
      "epoch 56100/60000, loss = 88.9230\n",
      "epoch 56200/60000, loss = 88.9523\n",
      "epoch 56300/60000, loss = 88.9206\n",
      "epoch 56400/60000, loss = 88.9794\n",
      "epoch 56500/60000, loss = 88.9120\n",
      "epoch 56600/60000, loss = 88.9120\n",
      "epoch 56700/60000, loss = 88.9211\n",
      "epoch 56800/60000, loss = 88.9168\n",
      "epoch 56900/60000, loss = 88.9068\n",
      "epoch 57000/60000, loss = 88.9069\n",
      "epoch 57100/60000, loss = 88.9218\n",
      "epoch 57200/60000, loss = 88.9066\n",
      "epoch 57300/60000, loss = 89.0523\n",
      "epoch 57400/60000, loss = 89.0093\n",
      "epoch 57500/60000, loss = 88.9488\n",
      "epoch 57600/60000, loss = 88.9100\n",
      "epoch 57700/60000, loss = 88.9318\n",
      "epoch 57800/60000, loss = 88.9112\n",
      "epoch 57900/60000, loss = 88.9256\n",
      "epoch 58000/60000, loss = 88.9136\n",
      "epoch 58100/60000, loss = 88.9958\n",
      "epoch 58200/60000, loss = 88.9292\n",
      "epoch 58300/60000, loss = 88.9191\n",
      "epoch 58400/60000, loss = 88.9080\n",
      "epoch 58500/60000, loss = 88.9035\n",
      "epoch 58600/60000, loss = 89.0302\n",
      "epoch 58700/60000, loss = 88.9097\n",
      "epoch 58800/60000, loss = 88.9091\n",
      "epoch 58900/60000, loss = 88.9220\n",
      "epoch 59000/60000, loss = 88.9289\n",
      "epoch 59100/60000, loss = 88.9137\n",
      "epoch 59200/60000, loss = 88.9379\n",
      "epoch 59300/60000, loss = 88.9164\n",
      "epoch 59400/60000, loss = 88.9043\n",
      "epoch 59500/60000, loss = 89.1069\n",
      "epoch 59600/60000, loss = 88.9209\n",
      "epoch 59700/60000, loss = 88.9044\n",
      "epoch 59800/60000, loss = 88.9116\n",
      "epoch 59900/60000, loss = 89.0877\n",
      "epoch 60000/60000, loss = 88.9324\n",
      "Best Train loss 88.9014\n",
      "Best Train loss: 88.9014, best hyperparams: Epochs: 60000, learning_rate: 0.001, scheduler: None, scheduler_factor: 0.5, scheduler_patience: 3000, use_bn: True, Early_stop_patience: 60000, Decay: 0.0001\n"
     ]
    },
    {
     "data": {
      "image/png": "[encoded data removed]",
      "text/plain": [
       "<Figure size 720x360 with 1 Axes>"
      ]
     },
     "metadata": {
      "needs_background": "light"
     },
     "output_type": "display_data"
    },
    {
     "name": "stdout",
     "output_type": "stream",
     "text": [
      "Final loss: 88.901\n",
      "simulation time:236m 38s\n"
     ]
    }
   ],
   "source": [
    "os.makedirs(WORK_DIR + '/models', exist_ok=True)\n",
    "os.makedirs(WORK_DIR + '/history', exist_ok=True)\n",
    "\n",
    "x = psi\n",
    "\n",
    "# Перемещение на GPU\n",
    "x = x.to(DEVICE)\n",
    "dOmega = dOmega.to(DEVICE)\n",
    "\n",
    "psimm = psimm.to(DEVICE)\n",
    "psipp = psipp.to(DEVICE)\n",
    "\n",
    "img = img.to(DEVICE)\n",
    "\n",
    "DX1N = DX1N.to(DEVICE)\n",
    "DX2N = DX2N.to(DEVICE)\n",
    "DX3N = DX3N.to(DEVICE)\n",
    "\n",
    "run_record = {}\n",
    "\n",
    "for hyp in HYPS:\n",
    "    print('hyperparams: \\n', dict2str(hyp)) \n",
    "\n",
    "    model_path = (f'{WORK_DIR}/models/{MODEL_NAME}_{dict2str(hyp)}.pth')\n",
    "\n",
    "    callbacks = [SaveBest(f'Train loss', model_path, 'min'),\n",
    "                 EarlyStop(f'Train loss', EARLY_STOP_PATIENCE, 'min')]\n",
    "\n",
    "    model = UNet(in_channels=IN_CH, out_channels=OUT_CH, init_features=NoOfFeatures, use_bn=hyp[\"use_bn\"])\n",
    "    model = model.to(DEVICE)\n",
    "\n",
    "    optimizer = torch.optim.Adam(model.parameters(), lr=hyp[\"learning_rate\"], weight_decay=DECAY)\n",
    "    \n",
    "    criterion = power_loss\n",
    "    \n",
    "    #Log model, criterion, and optimizer\n",
    "    run[\"config/model\"] = type(model).__name__\n",
    "    run[\"config/criterion\"] = type(criterion).__name__\n",
    "    run[\"config/optimizer\"] = type(optimizer).__name__\n",
    "\n",
    "    \n",
    "    if hyp[\"scheduler\"] == \"step\":\n",
    "        lr_scheduler = torch.optim.lr_scheduler.ReduceLROnPlateau(optimizer, mode='min',\n",
    "                                                                  patience=hyp[\"scheduler_patience\"],\n",
    "                                                                  min_lr=1e-6, factor=hyp[\"scheduler_factor\"])\n",
    "    elif hyp[\"scheduler\"] == \"cycle\":\n",
    "        lr_scheduler = scheduler = torch.optim.lr_scheduler.OneCycleLR(optimizer, max_lr=hyp[\"learning_rate\"] * 20,\n",
    "                                                                       steps_per_epoch=1, epochs=EPOCHS,\n",
    "                                                                       pct_start=0.125,\n",
    "                                                                       div_factor=hyp[\"scheduler_factor\"] ** -1,\n",
    "                                                                       final_div_factor=(hyp[\"scheduler_factor\"] ** -1) * 50)\n",
    "    else:\n",
    "        lr_scheduler = None\n",
    "\n",
    "    history = train(model, x, optimizer, power_loss,\n",
    "                    epochs=EPOCHS, print_every=100,\n",
    "                    callbacks=callbacks, lr_scheduler=lr_scheduler)\n",
    "\n",
    "    run_record[model_path] = {'hyperparams': hyp,\n",
    "                              'history': history,\n",
    "                              'final_val_metric': callbacks[1].best_monitor}\n",
    "\n",
    "    print(f\"Best Train loss %4.4f\" % (callbacks[1].best_monitor))\n",
    "\n",
    "    model = None\n",
    "    optimizer = None\n",
    "\n",
    "    torch.cuda.empty_cache()\n",
    "\n",
    "best_val_metric = None\n",
    "best_hyperparams = None\n",
    "best_run = None\n",
    "best_model_path = None\n",
    "\n",
    "for key, train_info in run_record.items():\n",
    "    if best_val_metric is None or best_val_metric > train_info['final_val_metric']:\n",
    "        best_val_metric = train_info['final_val_metric']\n",
    "        best_hyperparams = train_info['hyperparams']\n",
    "        best_run = train_info\n",
    "        best_model_path = key\n",
    "\n",
    "with open(f'{WORK_DIR}/history/{MODEL_NAME}_history.json', 'w') as fp:\n",
    "    json.dump(run_record, fp)\n",
    "\n",
    "best_hyp = str(best_hyperparams).replace(\"}\", \"\")\n",
    "best_hyp = best_hyp.replace(\"{\", \"\")\n",
    "best_hyp = best_hyp.replace(\"'\", \"\")\n",
    "\n",
    "print(f\"Best Train loss: %4.4f, best hyperparams: %s\" % (best_val_metric, best_hyp))\n",
    "\n",
    "model = UNet(in_channels=IN_CH, out_channels=OUT_CH, init_features=NoOfFeatures, use_bn=best_hyperparams[\"use_bn\"])\n",
    "model.load_state_dict(torch.load(best_model_path))\n",
    "torch.save(model.state_dict(), f'{WORK_DIR}/models/{MODEL_NAME}_best.pth')\n",
    "\n",
    "model = model.to(DEVICE)\n",
    "\n",
    "psi = model.forward(x)\n",
    "\n",
    "plot_train_history(best_run['history'])\n",
    "\n",
    "simulation_time = time.time() - start_time\n",
    "print(f'Final loss: {power_loss(psi).cpu().item() :.3f}')\n",
    "print('simulation time:{:.0f}m {:.0f}s'.format(\n",
    "      simulation_time // 60, simulation_time % 60))"
   ]
  },
  {
   "cell_type": "markdown",
   "metadata": {
    "id": "PhZutgNIyYhH"
   },
   "source": [
    "## Results"
   ]
  },
  {
   "cell_type": "code",
   "execution_count": 33,
   "metadata": {},
   "outputs": [],
   "source": [
    "# model = UNet(in_channels=IN_CH, out_channels=OUT_CH, init_features=NoOfFeatures, use_bn=best_hyperparams[\"use_bn\"])\n",
    "# model.load_state_dict(torch.load(best_model_path))\n",
    "# model.to(DEVICE)"
   ]
  },
  {
   "cell_type": "code",
   "execution_count": 36,
   "metadata": {},
   "outputs": [
    {
     "name": "stdout",
     "output_type": "stream",
     "text": [
      "absolute velocity: 0.0 < abs(V) < 0.1353873610496521,\n",
      "internal power: Int = 88.9013900756836,\n"
     ]
    }
   ],
   "source": [
    "#Fix psi function on the boundaries\n",
    "psi_masked = psi.clone().detach()\n",
    "for i in range(len(SIZE)):\n",
    "    psi_masked[0,i,:NL,:]   = psimm[i].to('cpu')\n",
    "    psi_masked[0,i,-NL:,:] = psipp[i].to('cpu')\n",
    "        \n",
    "v1, v2, v3 = velocityDistr(psi_masked[0,0,:,:], psi_masked[0,1,:,:], psi_masked[0,2,:,:], DX1N, DX2N, DX3N, L[0], L[1], L[2])\n",
    "V = torch.stack([v1,v2,v3])\n",
    "Vabs = torch.sqrt(v1**2 + v2**2 + v3**2)\n",
    "xi11, xi12, xi22, EtaEta = TksiDistr(v1, v2, v3, DX1N, DX2N, DX3N, L[0], L[1], L[2])\n",
    "    \n",
    "#Subintegral expression with masks for fluid and walls, respectively:\n",
    "subInt = ((0.5*Q0*EtaEta + ((Q1/(Z+1))*EtaEta**((Z+1)*0.5)))*img[0,:,:,:].to(DEVICE) +\n",
    "          (0.5*Q0W*EtaEta + ((Q1W/(ZW+1))*EtaEta**((ZW+1)*0.5)))*(1-img[0,:,:,:].to(DEVICE))) \n",
    "#Integral\n",
    "int1 = torch.trapz(subInt)\n",
    "int2 = torch.trapz(int1)\n",
    "int3 = torch.trapz(int2)\n",
    "out = int3*dOmega #loss\n",
    "\n",
    "print(f'absolute velocity: {Vabs.min()} < abs(V) < {Vabs.max()},')\n",
    "print(f'internal power: Int = {out},')"
   ]
  },
  {
   "cell_type": "markdown",
   "metadata": {},
   "source": [
    "Visualization"
   ]
  },
  {
   "cell_type": "code",
   "execution_count": 37,
   "metadata": {},
   "outputs": [
    {
     "data": {
      "image/png": "[encoded data removed]",
      "text/plain": [
       "<Figure size 1080x1080 with 9 Axes>"
      ]
     },
     "metadata": {
      "needs_background": "light"
     },
     "output_type": "display_data"
    },
    {
     "name": "stdout",
     "output_type": "stream",
     "text": [
      "4.881799853251323e-08 0.0008332850993610919 2.0517336452030577e-05\n",
      "Q1+ = -2.4430411826870113e-07, target value: 0,\n",
      "Q2+ = -8.813419754005736e-07, target value: 0,\n",
      "Q3+ = -4.281560106456084e-10, target value: 2e-05\n"
     ]
    }
   ],
   "source": [
    "nr=3\n",
    "nc=len(SIZE)\n",
    "\n",
    "fig = plt.figure(figsize=(FIGSIZE*nc, FIGSIZE*nr))\n",
    "for i in range(len(SIZE)):\n",
    "    plt.subplot(nr,nc,i+1)\n",
    "    plt.imshow(psi_masked[0,i,:,:].to('cpu'))\n",
    "    plt.title(f'$\\psi_{i+1}$')\n",
    "    plt.subplot(nr,nc,i+1+nc)\n",
    "    plt.plot(psi_masked[0,i,:,slices[i]].to('cpu'))\n",
    "    plt.grid()\n",
    "\n",
    "    plt.subplot(nr,nc,i+1+2*nc)\n",
    "    plt.imshow(V[i,:,:,slices[2]].to('cpu'))\n",
    "    plt.title(f'$v_{i+1}$, $(x_3 = const)$')\n",
    "    \n",
    "plt.show()\n",
    "\n",
    "#Check flow rates\n",
    "print(psi[0,0,-1,-1].item(), psi[0,1,-1,-1].item(), psi[0,2,-1,-1].item())\n",
    "print(f'Q1+ = {- (psi[0,1,-1,-1] - psi[0,1,-1,0])*L[1] + (psi[0,2,-1,-1] - psi[0,2,-1,0])*L[2]}, target value: {Qp[0]},')\n",
    "print(f'Q2+ = {- (psi[0,2,-1,-1] - psi[0,2,0,-1])*L[2] + (psi[0,0,-1,-1] - psi[0,0,-1,0])*L[0]}, target value: {Qp[1]},')\n",
    "print(f'Q3+ = {- (psi[0,0,-1,-1] - psi[0,0,0,-1])*L[0] + (psi[0,1,-1,-1] - psi[0,1,0,-1])*L[1]}, target value: {Qp[2]}')"
   ]
  },
  {
   "cell_type": "code",
   "execution_count": null,
   "metadata": {},
   "outputs": [],
   "source": [
    "psi_masked.size()"
   ]
  },
  {
   "cell_type": "code",
   "execution_count": null,
   "metadata": {},
   "outputs": [],
   "source": []
  },
  {
   "cell_type": "code",
   "execution_count": null,
   "metadata": {},
   "outputs": [],
   "source": [
    "# #Output of the network: psi function of the flow\n",
    "\n",
    "# psi_masked = psi[0, 0, :, :].clone().detach() #psi[0, 0, :, :].clone().detach() * flowDomainMask) + (lowerWallMask * Q)\n",
    "# v1, v2 = velocityDistr(psi_masked, DX1N, DX2N, LIM1, LIM2)\n",
    "# xi11ch, xi12ch, xi22ch, EtaEtach = TksiDistr(v1, v2, DX1N, DX2N, LIM1, LIM2)\n",
    "\n",
    "# subInt = ((0.5*Q0*EtaEtach + ((Q1/(Z+1))*EtaEtach**((Z+1)*0.5)))*flowDomainMask + \n",
    "#               (0.5*Q0W*EtaEtach + ((Q1W/(ZW+1))*EtaEtach**((ZW+1)*0.5)))*(1-flowDomainMask)) \n",
    "# int1EtaEta = torch.trapz(subInt)\n",
    "# int2EtaEta = torch.trapz(int1EtaEta)\n",
    "# outch = int2EtaEta*s\n",
    "\n",
    "# #Visualization\n",
    "# nr=1\n",
    "# nc=3\n",
    "# fig = plt.figure(figsize=(FIGSIZE*nc, FIGSIZE*nr))\n",
    "# plt.subplot(nr,nc,1)\n",
    "# plt.imshow(psi[0, 0, :, :].clone().detach().to('cpu'))\n",
    "# plt.title('Flow function, Psi (raw)')\n",
    "\n",
    "# plt.subplot(nr,nc,2)\n",
    "# plt.imshow(psi_masked.to('cpu'))\n",
    "# plt.title('Flow function, Psi')\n",
    "\n",
    "# plt.subplot(nr,nc,3)\n",
    "# plt.plot(psi_masked[:,sp].to('cpu'))\n",
    "# plt.title('Flow funcion, Psi (vertical slice)')\n",
    "\n",
    "# plt.show()"
   ]
  },
  {
   "cell_type": "code",
   "execution_count": null,
   "metadata": {
    "colab": {
     "base_uri": "https://localhost:8080/",
     "height": 234
    },
    "id": "IcEzHkrgcVWx",
    "outputId": "3679348b-c16e-4754-99ef-3040a3a32b9b"
   },
   "outputs": [],
   "source": [
    "# #Visualization\n",
    "# nr=2\n",
    "# nc=2\n",
    "# fig = plt.figure(figsize=(FIGSIZE*nr, FIGSIZE*nc))\n",
    "# plt.subplot(nr,nc,1)\n",
    "# plt.imshow(psi_masked.to('cpu'))\n",
    "# plt.title('(a) Flow function,$\\Psi$')\n",
    "\n",
    "# plt.subplot(nr,nc,2)\n",
    "# vector_plot(np.meshgrid(-X1N,-X2N), [np.array(v1.cpu()),np.array(v2.cpu())],FIGSIZE, \n",
    "#             '(b) Velocity, $V = [v_1, v_2]$', 10)\n",
    "# plt.xticks([])\n",
    "# plt.yticks([])\n",
    "\n",
    "# plt.subplot(nr,nc,3)\n",
    "# plt.plot(psi_masked[:,sp].to('cpu'))\n",
    "# plt.grid(True)\n",
    "# plt.title('Flow function, $\\Psi$ (vertical slice)')\n",
    "\n",
    "# plt.subplot(nr,nc,4)\n",
    "# plt.plot(v1.cpu())\n",
    "# plt.grid(True)\n",
    "# plt.title('v1 (vertical slice)')\n",
    "\n",
    "# plt.show()\n",
    "# print('v1_max = ', v1.max(), 'v1_min = ', v1.min())"
   ]
  },
  {
   "cell_type": "code",
   "execution_count": null,
   "metadata": {
    "colab": {
     "base_uri": "https://localhost:8080/",
     "height": 282
    },
    "id": "rXz9T9VWA3G5",
    "outputId": "44a0902a-36ce-48f8-c4f9-a46992ff780d"
   },
   "outputs": [],
   "source": [
    "# # Check the flow rate\n",
    "# Qch = torch.trapz(v1.t()) * DX1N * L\n",
    "\n",
    "# fig = plt.figure(figsize=(FIGSIZE*2, FIGSIZE/2))\n",
    "# plt.plot(Qch.cpu())\n",
    "# plt.title(f'Flow rate through the vertical slices of the flow domain of size L x L = {L} x {L} \\nshould be equal to Q = {Q}')\n",
    "# plt.show()"
   ]
  },
  {
   "cell_type": "code",
   "execution_count": null,
   "metadata": {
    "colab": {
     "base_uri": "https://localhost:8080/",
     "height": 182
    },
    "id": "r3w7q2Y1pIfD",
    "outputId": "b26b5134-c04b-42a6-de69-787c7b966627"
   },
   "outputs": [],
   "source": [
    "# print('Q = ', Qch.mean().cpu().item(), '; Loss = ', power_loss(psi).cpu().item())"
   ]
  },
  {
   "cell_type": "code",
   "execution_count": null,
   "metadata": {},
   "outputs": [],
   "source": []
  },
  {
   "cell_type": "code",
   "execution_count": null,
   "metadata": {},
   "outputs": [],
   "source": [
    "# print (EtaEta.cpu().min(), EtaEta.cpu().max(), EtaEtach.cpu().min(), EtaEtach.cpu().max()) \n",
    "# print(outch)\n"
   ]
  },
  {
   "cell_type": "code",
   "execution_count": null,
   "metadata": {},
   "outputs": [],
   "source": [
    "\n",
    "# print (EtaEta.cpu().min(), EtaEta.cpu().max(), EtaEtach.cpu()[:,sp].min(), EtaEtach.cpu()[:,sp].max()) \n",
    "# fig = plt.figure(figsize=(FIGSIZE*2, FIGSIZE/2))\n",
    "# plt.plot(EtaEtach.cpu())\n",
    "# plt.title('Eta*Eta')\n",
    "# plt.show()"
   ]
  },
  {
   "cell_type": "code",
   "execution_count": null,
   "metadata": {},
   "outputs": [],
   "source": [
    "# fig = plt.figure(figsize=(FIGSIZE*2, FIGSIZE/2))\n",
    "# plt.plot(v1.cpu()[:,sp])\n",
    "# plt.title('v1')\n",
    "# plt.show()"
   ]
  },
  {
   "cell_type": "code",
   "execution_count": null,
   "metadata": {},
   "outputs": [],
   "source": [
    "# fig = plt.figure(figsize=(FIGSIZE*2, FIGSIZE/2))\n",
    "# plt.plot(xi12ch.cpu()[:,sp])\n",
    "# plt.title('$\\Xi$')\n",
    "# plt.show()\n"
   ]
  },
  {
   "cell_type": "code",
   "execution_count": null,
   "metadata": {},
   "outputs": [],
   "source": [
    "# fig = plt.figure(figsize=(FIGSIZE*2, FIGSIZE/2))\n",
    "# plt.plot(EtaEtach.cpu()[:,sp])\n",
    "# plt.title('$H^2$')\n",
    "# plt.show()"
   ]
  },
  {
   "cell_type": "code",
   "execution_count": null,
   "metadata": {},
   "outputs": [],
   "source": [
    "#  #Check power\n",
    "# Intch = power_loss(psi).cpu().item()*2\n",
    "# acc_rel_exact = (Int_ex.item()-Intch)/Int_ex.item()*100\n",
    "# Intch, Int_ex.item(), acc_rel_exact"
   ]
  },
  {
   "cell_type": "markdown",
   "metadata": {},
   "source": [
    "## Log results"
   ]
  },
  {
   "cell_type": "code",
   "execution_count": null,
   "metadata": {},
   "outputs": [],
   "source": [
    "results = {'Internal_power':Intch,\n",
    "           'Internal_power_exact':Int_ex.item(),\n",
    "           'Accuracy (in comparison with analitical solution)': acc_rel_exact}\n",
    "run[\"config/results\"] = results"
   ]
  },
  {
   "cell_type": "markdown",
   "metadata": {},
   "source": [
    "## Stop logging"
   ]
  },
  {
   "cell_type": "code",
   "execution_count": null,
   "metadata": {},
   "outputs": [],
   "source": [
    "run.stop()"
   ]
  },
  {
   "cell_type": "markdown",
   "metadata": {
    "id": "rpGo7xQz6cny"
   },
   "source": [
    "# Links\n",
    "\n",
    "[1]. https://github.com/Mechanics-Mechatronics-and-Robotics/Mathematical_modelling/blob/main/Practice_1_by_IStebakov.ipynb\n",
    "\n",
    "[2]. https://github.com/mateuszbuda/brain-segmentation-pytorch"
   ]
  }
 ],
 "metadata": {
  "accelerator": "GPU",
  "colab": {
   "collapsed_sections": [],
   "name": "Main.ipynb",
   "provenance": []
  },
  "kernelspec": {
   "display_name": "Python 3",
   "language": "python",
   "name": "python3"
  },
  "language_info": {
   "codemirror_mode": {
    "name": "ipython",
    "version": 3
   },
   "file_extension": ".py",
   "mimetype": "text/x-python",
   "name": "python",
   "nbconvert_exporter": "python",
   "pygments_lexer": "ipython3",
   "version": "3.7.7"
  },
  "varInspector": {
   "cols": {
    "lenName": 16,
    "lenType": 16,
    "lenVar": 40
   },
   "kernels_config": {
    "python": {
     "delete_cmd_postfix": "",
     "delete_cmd_prefix": "del ",
     "library": "var_list.py",
     "varRefreshCmd": "print(var_dic_list())"
    },
    "r": {
     "delete_cmd_postfix": ") ",
     "delete_cmd_prefix": "rm(",
     "library": "var_list.r",
     "varRefreshCmd": "cat(var_dic_list()) "
    }
   },
   "types_to_exclude": [
    "module",
    "function",
    "builtin_function_or_method",
    "instance",
    "_Feature"
   ],
   "window_display": false
  }
 },
 "nbformat": 4,
 "nbformat_minor": 4
}
