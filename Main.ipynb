{
 "cells": [
  {
   "cell_type": "markdown",
   "metadata": {
    "id": "RJkKJ83igGYb"
   },
   "source": [
    "# **Physics-based loss and machine learing approach in application to fluids flow modelling: 2D flow domains**\n",
    "\n",
    "The program recieves an image of the flow domain and the flow rate value, then calculate velocity distribution. The main idea is power loss minimization. The main unknown function is the stream function $\\psi = \\psi(x_1, x_2)$ that determines the velocity field $\\textbf{V} = [[v_1, v_2]]$, where $v_1 = \\frac{\\partial \\psi}{\\partial x_2}$, $v_2 = - \\frac{\\partial \\psi}{\\partial x_1}$.\n",
    "\n"
   ]
  },
  {
   "cell_type": "markdown",
   "metadata": {
    "id": "ydwhZV95sFoN"
   },
   "source": [
    "# Initialization\n",
    "## Import libraries"
   ]
  },
  {
   "cell_type": "code",
   "execution_count": 1,
   "metadata": {
    "id": "Go3JwW4hICsK"
   },
   "outputs": [],
   "source": [
    "# Pytorch modules\n",
    "import torch\n",
    "from torch import nn\n",
    "\n",
    "# Plotting\n",
    "from matplotlib import pyplot as plt\n",
    "from matplotlib import transforms\n",
    "import numpy as np\n",
    "\n",
    "# Python functions\n",
    "from collections import namedtuple\n",
    "from itertools import product\n",
    "from collections import OrderedDict\n",
    "#from scipy import integrate\n",
    "\n",
    "# Status bar\n",
    "from tqdm.notebook import tqdm\n",
    "from datetime import datetime\n",
    "import time\n",
    "\n",
    "# Work with files and images\n",
    "import json\n",
    "from pathlib import Path\n",
    "import os, fnmatch\n",
    "import re\n",
    "from PIL import Image\n",
    "\n",
    "#Log\n",
    "import neptune.new as neptune\n",
    "from neptune.new.types import File\n",
    "\n",
    "import time"
   ]
  },
  {
   "cell_type": "markdown",
   "metadata": {},
   "source": [
    "## Neptune project"
   ]
  },
  {
   "cell_type": "code",
   "execution_count": 2,
   "metadata": {},
   "outputs": [
    {
     "name": "stderr",
     "output_type": "stream",
     "text": [
      "/opt/conda/lib/python3.7/site-packages/ipykernel_launcher.py:3: NeptuneDeprecationWarning: `init` is deprecated, use `init_run` instead. We'll end support of it in `neptune-client==1.0.0`.\n",
      "  This is separate from the ipykernel package so we can avoid doing imports until\n"
     ]
    },
    {
     "name": "stdout",
     "output_type": "stream",
     "text": [
      "https://app.neptune.ai/avkornaev/PhysicsBasedDL/e/PHYSIC-27\n",
      "Remember to stop your run once you’ve finished logging your metadata (https://docs.neptune.ai/api/run#stop). It will be stopped automatically only when the notebook kernel/interactive console is terminated.\n"
     ]
    }
   ],
   "source": [
    "run = neptune.init(\n",
    "    project=\"avkornaev/PhysicsBasedDL\",\n",
    "    api_token=\"eyJhcGlfYWRkcmVzcyI6Imh0dHBzOi8vYXBwLm5lcHR1bmUuYWkiLCJhcGlfdXJsIjoiaHR0cHM6Ly9hcHAubmVwdHVuZS5haSIsImFwaV9rZXkiOiJiMmRjMGY4Ny1hYTI1LTQxZmEtYjRmZC02YzNkYWZjYzNiNjIifQ==\",\n",
    ")  # your credentials"
   ]
  },
  {
   "cell_type": "markdown",
   "metadata": {
    "id": "nzMpruhsYD38"
   },
   "source": [
    "## Path"
   ]
  },
  {
   "cell_type": "code",
   "execution_count": 3,
   "metadata": {},
   "outputs": [
    {
     "data": {
      "text/plain": [
       "['Parallel plates narrow.png',\n",
       " 'Parallel plates 1x16.png',\n",
       " 'Parallel plates.png',\n",
       " 'Nailfold_capillary.png',\n",
       " 'Parallel plates 1x4.png',\n",
       " 'Parallel plates with notch.png',\n",
       " 'Parallel plates 1x4 with notch.png']"
      ]
     },
     "execution_count": 3,
     "metadata": {},
     "output_type": "execute_result"
    }
   ],
   "source": [
    " path =  Path('/root/Physics_based_loss')\n",
    " imgPath = path/'ToyDataset'\n",
    " imgList = fnmatch.filter(os.listdir(imgPath), '*.png') #imgPath.ls()\n",
    " imgList"
   ]
  },
  {
   "cell_type": "markdown",
   "metadata": {
    "id": "nzMpruhsYD38"
   },
   "source": [
    "## Download and preprocess image of the flow domain"
   ]
  },
  {
   "cell_type": "markdown",
   "metadata": {
    "id": "nzMpruhsYD38"
   },
   "source": [
    "## Constants"
   ]
  },
  {
   "cell_type": "code",
   "execution_count": 4,
   "metadata": {
    "id": "YsKHT1J2Ibx9"
   },
   "outputs": [],
   "source": [
    "#Training\n",
    "SIZE = 256 # image size (128, 256, 512)\n",
    "EPOCHS = 15000\n",
    "NoOfFeatures = 32 #32\n",
    "WORK_DIR = '/root/Physics_based_loss'\n",
    "#SCALE_FACTOR = 1 # muliplier for the loss function\n",
    "DEVICE = torch.device(\"cuda\" if torch.cuda.is_available() else \"cpu\")\n",
    "MODEL_NAME = \"unet\"\n",
    "EARLY_STOP_PATIENCE = 5000\n",
    "DECAY = 0\n",
    "\n",
    "parameters = {'image_size':SIZE,\n",
    "             'Epochs':EPOCHS,\n",
    "             'Model':MODEL_NAME,\n",
    "             'No_of_features':NoOfFeatures}\n",
    "\n",
    "HYPS = []\n",
    "\n",
    "hyps = {\"learning_rate\": [1e-2,1e-3,1e-4],\n",
    "        \"scheduler\": [\"none\"],\n",
    "        \"scheduler_factor\": [0.1],\n",
    "        \"scheduler_patience\": [50],\n",
    "        \"use_bn\": [True],\n",
    "        \"Early_stop_patience\": [EARLY_STOP_PATIENCE],\n",
    "        \"Decay\": [DECAY]} # Use or not batchnorm\n",
    "    \n",
    "for i in product(*[hyps[j] for j in hyps]):\n",
    "    HYPS.append({a:b for a, b in zip(hyps, i)})\n",
    "#\"scheduler\": [\"None\", \"step\", \"cycle\"]\n",
    "#\"use_bn\": [True, False]\n",
    "\n",
    "#Visualization\n",
    "sp = int(SIZE/2)#slice position\n",
    "vps = 10 #vector plot step \n",
    "FIGSIZE = 5 # figure size\n",
    "#S2 = int(SIZE*0.4)\n",
    "#S3 = SIZE - S2\n",
    "UP_COLOR  =  torch.tensor((0, 255, 0)) # upper wall color is green \n",
    "LOW_COLOR =  torch.tensor((0, 0, 255)) # upper wall color is blue\n",
    "#CENTER_COLOR = torch.tensor((1, 1, 1)) # flow domain"
   ]
  },
  {
   "cell_type": "markdown",
   "metadata": {},
   "source": [
    "## Log parameters"
   ]
  },
  {
   "cell_type": "code",
   "execution_count": 5,
   "metadata": {},
   "outputs": [
    {
     "name": "stderr",
     "output_type": "stream",
     "text": [
      "/opt/conda/lib/python3.7/site-packages/neptune/new/attributes/attribute.py:64: NeptuneDeprecationWarning: The object you're logging will be implicitly cast to a string. We'll end support of this behavior in `neptune-client==1.0.0`. To log the object as a string, use `str(object)` instead.\n",
      "  return self.assign(value, wait)\n"
     ]
    }
   ],
   "source": [
    "run[\"config/parameters\"] = parameters\n",
    "run[\"config/hyperparameters\"] = hyps"
   ]
  },
  {
   "cell_type": "markdown",
   "metadata": {
    "id": "ORhTWZZvVw7c"
   },
   "source": [
    "## Geometry of the flow domain, fluid properties and boundary conditions\n",
    "The fluid is Newtonian.\n",
    "The domain of size *'L x L'*  with flow channel is represented as an image of size *'SIZE x SIZE'*. $S_1$ is the upper wall with the green label [0 255 0]. $S_2$ and $S_4$ are outlet and inlet surfaces, respectivelly. $S_3$ is the lower wall with the blue label [0 0 255]. No-slip condition is applied on the walls. The flow rate is given and equal to $Q$."
   ]
  },
  {
   "cell_type": "code",
   "execution_count": 6,
   "metadata": {},
   "outputs": [],
   "source": [
    "#Image number from the imgList\n",
    "imgNo = 4\n",
    "\n",
    "#read proporion from the title\n",
    "regex = re.compile(r'\\d+')\n",
    "proportion = regex.findall(imgList[imgNo])\n",
    "\n",
    "# L x L flow domain\n",
    "L = 0.012#0.0024#\n",
    "h = L/4 # h is thickness of the gap between 2 parallel plates when 'Parallel plates.png' is under study\n",
    "\n",
    "# Normalized coordinates, finite diferences, limits and elementary surface area\n",
    "X1N = torch.linspace(0, 1, SIZE)\n",
    "X2N = torch.linspace(0, 1, SIZE)\n",
    "DX1N = X1N[1] - X1N[0]\n",
    "DX2N = X2N[1] - X2N[0]\n",
    "LIM1 = [0, L]\n",
    "LIM2 = [0, L]\n",
    "ds = DX1N * DX2N * LIM1[1] * LIM2[1] # elementary surface area\n",
    "\n",
    "# Flow rate through the inlet (outlet) boundary, m^3/s\n",
    "Q = 5E-4#0.0000005#\n",
    "\n",
    "# Koefficient of dynamic viscosity (viscosity), Pa*s\n",
    "# Herschel-Bulkley model mu = q0 + q1*Eta^(z-1)\n",
    "Q0 = 1e-3\n",
    "Q1 = 0\n",
    "Z = 1\n",
    "\n",
    "MU = 1e-3 # 2.65e-3 \n",
    "# Density, kg/m**3\n",
    "RHO = 1000\n",
    "\n",
    "#Mass force\n",
    "Fm = [-1.18E-5/(h*L), 0]"
   ]
  },
  {
   "cell_type": "markdown",
   "metadata": {
    "id": "Hw2AD3oWsfJb"
   },
   "source": [
    "## Additional functions"
   ]
  },
  {
   "cell_type": "markdown",
   "metadata": {
    "id": "2JAf1YAHtV15"
   },
   "source": [
    "Numerical derivative"
   ]
  },
  {
   "cell_type": "code",
   "execution_count": 7,
   "metadata": {
    "id": "5P2RND6cYEOK"
   },
   "outputs": [],
   "source": [
    "def num_diff_1(f, dx1, dx2):\n",
    "    '''Numerical partial derivatives of a function of two variables f = f(x1, x2):\n",
    "    i - index along x1\n",
    "    j - index along x2\n",
    "    for the internal points - central differences e.q. df_dx = (f_{i+1}-f_{i-1})/(2*dx)\n",
    "    for the boundaries - left or right finite differences e.q. df_dx = (f_{i+1}-f_{i})/dx or df_dx = (f_{i}-f_{i-1})/dx\n",
    "    '''\n",
    "    n1, n2 = f.shape\n",
    "    df_dx1 = 0\n",
    "    df_dx2 = 0\n",
    "    df_dx1, df_dx2 = torch.zeros(n1, n2), torch.zeros(n1, n2)\n",
    "    if torch.cuda.is_available():\n",
    "        df_dx1 = df_dx1.to('cuda')\n",
    "        df_dx2 = df_dx2.to('cuda')\n",
    "    # x1 derivative:\n",
    "    df_dx1[:, 1:n2-1] = (f[:, 2:] - f[:, :-2]) / (2 * dx1)\n",
    "    df_dx1[:, 0] = (-f[:, 2] + 4 * f[:,1] - 3 * f[:,0]) / (2 * dx1)\n",
    "    df_dx1[:, n2-1] = (3 * f[:,n2-1] - 4 * f[:,n2-2] + f[:,n2-3]) / (2 * dx1)\n",
    "    # x2 derivative:\n",
    "    df_dx2[1:n1-1, :] = (f[2:, :] - f[:-2,:]) / (2 * dx2)\n",
    "    df_dx2[0, :] = (- f[2,:] + 4 * f[1,:] - 3 * f[0, :]) / (2 * dx2)\n",
    "    df_dx2[n1-1, :] = (3 * f[n1 - 1, :] - 4 * f[n1 - 2, :] + f[n1 - 3, :]) / (2 * dx2)\n",
    "\n",
    "    return df_dx1, df_dx2"
   ]
  },
  {
   "cell_type": "code",
   "execution_count": 8,
   "metadata": {},
   "outputs": [],
   "source": [
    "def num_diff(f, dx1, dx2):\n",
    "    '''Numerical partial derivatives of a function of two variables f = f(x1, x2):\n",
    "    i - index along x1\n",
    "    j - index along x2\n",
    "    for the internal points - central differences e.q. df_dx = (f_{i+1}-f_{i-1})/(2*dx)\n",
    "    for the boundaries - left or right finite differences e.q. df_dx = (f_{i+1}-f_{i})/dx or df_dx = (f_{i}-f_{i-1})/dx\n",
    "    '''\n",
    "    n1, n2 = f.shape\n",
    "    df_dx1 = 0\n",
    "    df_dx2 = 0\n",
    "    df_dx1, df_dx2 = torch.zeros(n1, n2), torch.zeros(n1, n2)\n",
    "    if torch.cuda.is_available():\n",
    "        df_dx1 = df_dx1.to('cuda')\n",
    "        df_dx2 = df_dx2.to('cuda')\n",
    "    # x1 derivative:\n",
    "    df_dx1[:, 1:n2-1] = (-3*f[:, 0:n2-2] +4*f[:, 1:n2-1] - f[:, 2:n2]) / (2 * dx1)\n",
    "    df_dx1[:, 0] = (3 * f[:,n2-1] - 4 * f[:,n2-2] + f[:,n2-3]) / (2*dx1)\n",
    "    df_dx1[:, n2-1] = (3 * f[:,n2-2] - 4 * f[:,n2-3] + f[:,n2-4]) / (2*dx1)\n",
    "    # x2 derivative:\n",
    "    df_dx2[0:n1-2, :] = (-3*f[0:n1-2,:] +4*f[1:n1-1,:] - f[2:n1,:]) / (2 * dx2)\n",
    "    df_dx2[n1-1, :] = (3 * f[n1-1,:] - 4 * f[n1-2,:] + f[n1-3,:]) / (2 * dx2)\n",
    "    df_dx2[n1-2, :] = (3 * f[n1-2,:] - 4 * f[n1-3,:] + f[n1-4,:]) / (2 * dx2)\n",
    "\n",
    "    return df_dx1, df_dx2"
   ]
  },
  {
   "cell_type": "code",
   "execution_count": 9,
   "metadata": {},
   "outputs": [],
   "source": [
    "def num_diff_5_points(f, dx1, dx2):\n",
    "    '''Numerical partial derivatives of a function of two variables f = f(x1, x2):\n",
    "    i - index along x1\n",
    "    j - index along x2\n",
    "    for the internal points - central differences e.q. df_dx = (f_{i+1}-f_{i-1})/(2*dx)\n",
    "    for the boundaries - left or right finite differences e.q. df_dx = (f_{i+1}-f_{i})/dx or df_dx = (f_{i}-f_{i-1})/dx\n",
    "    '''\n",
    "    n1, n2 = f.shape\n",
    "    df_dx1 = 0\n",
    "    df_dx2 = 0\n",
    "    df_dx1, df_dx2 = torch.zeros(n1, n2), torch.zeros(n1, n2)\n",
    "    d2f_dx1, d2f_dx2 = torch.zeros(n1, n2), torch.zeros(n1, n2)\n",
    "    if torch.cuda.is_available():\n",
    "        df_dx1 = df_dx1.to('cuda')\n",
    "        df_dx2 = df_dx2.to('cuda')\n",
    "        d2f_dx1 = df_dx1.to('cuda')\n",
    "        d2f_dx2 = df_dx2.to('cuda')\n",
    "    \n",
    "      # 1st order x1 derivative:\n",
    "    df_dx1[:, 2:n2-2] = (-f[:, 4:] + 8 * f[:, 3:n2-1] - 8 * f[:, 1:n2-3] + f[:, :n2-4]) / (12 * dx1)\n",
    "    df_dx1[:, 0] = (-3 * f[:,4] + 16 * f[:, 3] - 36 * f[:, 2] + 48 * f[:, 1] - 25 * f[:,0]) / (12*dx1)\n",
    "    df_dx1[:, 1] = (f[:,4] - 6 * f[:, 3] + 18 * f[:, 2] - 10 * f[:, 1] - 3 * f[:,0]) / (12*dx1)\n",
    "    df_dx1[:, n2-2] = (3 * f[:, n2-1] + 10 * f[:, n2-2] - 18 * f[:, n2-3] + 6 * f[:, n2-4] - f[:,n2-5]) / (12*dx1)\n",
    "    df_dx1[:, n2-1] = (25 * f[:, n2-1] - 48 * f[:, n2-2] + 36 * f[:, n2-3] - 16 * f[:, n2-4] + 3 * f[:,n2-5]) / (12*dx1)\n",
    "      \n",
    "      # 1st order x2 derivative:\n",
    "    df_dx2[2:n1-2, :] = (-f[4:, :] + 8 * f[3:n1-1, :] - 8 * f[1:n1-3, :] + f[:n1-4, :]) / (12 * dx2)\n",
    "    df_dx2[0, :] = (-3 * f[4, :] + 16 * f[3, :] - 36 * f[2, :] + 48 * f[1, :] - 25 * f[0, :]) / (12 * dx2)\n",
    "    df_dx2[1, :] = (f[4, :] - 6 * f[3, :] + 18 * f[2, :] - 10 * f[1, :] - 3 * f[0, :]) / (12 * dx2)\n",
    "    df_dx2[n1-2, :] = (3 * f[n1-1, :] + 10 * f[n1-2, :] - 18 * f[n1-3, :] + 6 * f[n1-4, :] - f[n1-5, :]) / (12 * dx2)\n",
    "    df_dx2[n1-1, :] = (25 * f[n1-1, :] - 48 * f[n1-2, :] + 36 * f[n1-3, :] - 16 * f[n1-4, :] + 3*f[n1-5, :]) / (12 * dx2)\n",
    "\n",
    "#     # 2nd order x1 derivative:\n",
    "#     d2f_dx1[:, 2:n2-2] = (-f[:, 4:] + 16 * f[:, 3:n2-1] - 30 *f[:, 2:n2-2] + 16* f[:, 1:n2-3] - f[:, :n2-4]) / (12 * dx1**2)\n",
    "#     d2f_dx1[:, 0] = (11 * f[:,4] - 56 * f[:, 3] + 114 * f[:, 2] - 104 * f[:, 1] + 35 * f[:,0]) / (12*dx1**2)\n",
    "#     d2f_dx1[:, 1] = (-f[:,4] + 4 * f[:, 3] + 6 * f[:, 2] - 20 * f[:, 1] + 11 * f[:,0]) / (12*dx1**2)\n",
    "#     d2f_dx1[:, n2-2] = (11 * f[:, n2-1] - 20 * f[:, n2-2] + 6 * f[:, n2-3] + 4 * f[:, n2-4] - f[:,n2-5]) / (12*dx1**2)\n",
    "#     d2f_dx1[:, n2-1] = (35 * f[:, n2-1] - 104 * f[:, n2-2] + 114 * f[:, n2-3] - 56 * f[:, n2-4] + 11 * f[:,n2-5]) / (12*dx1**2)\n",
    "\n",
    "#     # 2nd order x2 derivative:\n",
    "#     d2f_dx2[2:n1-2, :] = (-f[4:, :] + 16 * f[3:n1-1, :] - 30 *f[2:n1-2, :] + 16* f[1:n1-3, :] - f[:n1-4, :]) / (12 * dx2**2)\n",
    "#     d2f_dx2[0, :] = (11 * f[4, :] - 56 * f[3, :] + 114 * f[2, :] - 104 * f[1, :] + 35 * f[0, :]) / (12*dx2**2)\n",
    "#     d2f_dx2[1, :] = (-f[4, :] + 4 * f[3, :] + 6 * f[2, :] - 20 * f[1, :] + 11 * f[0, :]) / (12*dx2**2)\n",
    "#     d2f_dx2[n1-2, :] = (11 * f[n1-1, :] - 20 * f[n1-2, :] + 6 * f[n1-3, :] + 4 * f[n1-4, :] - f[n1-5, :]) / (12*dx2**2)\n",
    "#     d2f_dx2[n1-1, :] = (35 * f[n1-1, :] - 104 * f[n1-2, :] + 114 * f[n1-3, :] - 56 * f[n1-4, :] + 11 * f[n1-5, :]) / (12*dx2**2)\n",
    "\n",
    "    return df_dx1, df_dx2"
   ]
  },
  {
   "cell_type": "markdown",
   "metadata": {},
   "source": [
    "Check numerical differentiations"
   ]
  },
  {
   "cell_type": "code",
   "execution_count": 10,
   "metadata": {},
   "outputs": [
    {
     "name": "stdout",
     "output_type": "stream",
     "text": [
      "exact solution 2.0001022815704346, approximate solution 2.0001018047332764\n"
     ]
    }
   ],
   "source": [
    "xx = torch.linspace(0, 1, 100)\n",
    "xx, yy = torch.meshgrid(xx, xx)\n",
    "\n",
    "dxx = xx[1][0]-xx[0][0]\n",
    "zz = xx**3 + yy**3\n",
    "\n",
    "diffzz = 3*xx**2 + 3*yy**2\n",
    "diff1, diff2 = num_diff_5_points(zz, dxx, dxx) \n",
    "diffzz_= diff1 + diff2\n",
    "\n",
    "intzz1 = torch.trapz(diffzz)*dxx\n",
    "intzz2 = torch.trapz(intzz1)*dxx\n",
    "\n",
    "intzz1_ = torch.trapz(diffzz_)*dxx\n",
    "intzz2_ = torch.trapz(intzz1_)*dxx\n",
    "\n",
    "print(f'exact solution {intzz2}, approximate solution {intzz2_}')"
   ]
  },
  {
   "cell_type": "markdown",
   "metadata": {
    "id": "1i1RAg4ozeGq"
   },
   "source": [
    "Numerical integrals: single and double can be implemented by torch.trapezoid function https://pytorch.org/docs/stable/generated/torch.trapezoid.html#torch.trapezoid\n",
    "\n",
    "Visualization"
   ]
  },
  {
   "cell_type": "code",
   "execution_count": 11,
   "metadata": {},
   "outputs": [],
   "source": [
    "def vector_plot(arg, vec, FIGSIZE, vptitle='vector_plot',step=10):\n",
    "    gradmag = np.sqrt(vec[0]**2+vec[1]**2)\n",
    "    plt.pcolor(arg[0], arg[1], gradmag, cmap='rainbow')\n",
    "    plt.colorbar()\n",
    "    plt.quiver(arg[0][::step,::step], arg[1][::step,::step], vec[0][::step,::step], vec[1][::step,::step])\n",
    "    plt.title(vptitle)\n",
    " "
   ]
  },
  {
   "cell_type": "markdown",
   "metadata": {
    "id": "1i1RAg4ozeGq"
   },
   "source": [
    "Color filter"
   ]
  },
  {
   "cell_type": "code",
   "execution_count": 12,
   "metadata": {},
   "outputs": [],
   "source": [
    "# def colorFilter(img, color):\n",
    "#     white = (255,255,255,255)\n",
    "#     black = (0,0,0,255)\n",
    "#     width,heigth = img.size\n",
    "#     for i in range(width):\n",
    "#         for j in range(heigth):\n",
    "#             if img.getpixel((i,j)) == color:\n",
    "#                 img.putpixel((i,j),black)\n",
    "#         else:\n",
    "#             #print(img.getpixel((i,j)))\n",
    "#             img.putpixel((i,j),white)\n",
    "#     return img\n",
    "\n",
    "# def inverseColorFilter(img, color):\n",
    "#     white = (255,255,255,255)\n",
    "#     black = (0,0,0,255)\n",
    "#     width,heigth = img.size\n",
    "#     for i in range(width):\n",
    "#         for j in range(heigth):\n",
    "#             if img.getpixel((i,j)) == color:\n",
    "#                 img.putpixel((i,j),white)\n",
    "#         else:\n",
    "#             #print(img.getpixel((i,j)))\n",
    "#             img.putpixel((i,j),black)\n",
    "#     return img"
   ]
  },
  {
   "cell_type": "markdown",
   "metadata": {
    "id": "mH8zURs8A1Sr"
   },
   "source": [
    "## Major functions\n",
    "\n",
    "Distributions: the velocity components [[$v_1$, $v_2$]], the strain rate tensor components [[$\\xi_{ij}$]], $\\xi_{ij}=\\xi_{ji}$ . And the shear rate intensity Η. "
   ]
  },
  {
   "cell_type": "code",
   "execution_count": 13,
   "metadata": {
    "id": "WMUIipgs5t3Q"
   },
   "outputs": [],
   "source": [
    "def velocityDistr(psi,dx1n,dx2n,lim1,lim2):\n",
    "    '''Velocity distribution [[v1, v2]] in the flow domain\n",
    "    '''\n",
    "    n = psi.shape\n",
    "    v1 = 0\n",
    "    v2 = 0\n",
    "    dpsidx1 = 0\n",
    "    dpsidx2 = 0\n",
    "    dpsidx1, dpsidx2 = num_diff_5_points(psi, dx1n, dx2n)\n",
    "    v1 = dpsidx2 / lim2[1]\n",
    "    v2 = - dpsidx1 / lim1[1]\n",
    "    \n",
    "    return v1,v2"
   ]
  },
  {
   "cell_type": "code",
   "execution_count": 14,
   "metadata": {
    "id": "716qlRJoNglx"
   },
   "outputs": [],
   "source": [
    "def TksiDistr(v1,v2,dx1n,dx2n,lim1,lim2):\n",
    "    '''Strain rate tensor Txi and the shear rate intensity Eta squared\n",
    "    '''    \n",
    "    n = v1.shape\n",
    "    xi11 = 0\n",
    "    xi12 = 0\n",
    "    xi22 = 0\n",
    "    dv1dx1 = 0\n",
    "    dv1dx2 =0\n",
    "    dv2dx1 = 0\n",
    "    dv2dx2 = 0\n",
    "  \n",
    "    dv1dx1, dv1dx2 = num_diff_5_points(v1, dx1n, dx2n)\n",
    "    dv2dx1, dv2dx2 = num_diff_5_points(v2, dx1n, dx2n)\n",
    "  \n",
    "    xi11 = dv1dx1 / lim1[1]\n",
    "    xi12 = 0.5 * (dv1dx2 / lim2[1] + dv2dx1 / lim1[1])\n",
    "    xi22 = dv2dx2 / lim2[1]\n",
    "    EtaEta = (2 * (xi11 * xi11 + 2* xi12 * xi12 + xi22 * xi22))\n",
    "  \n",
    "    return xi11, xi12, xi22, EtaEta"
   ]
  },
  {
   "cell_type": "markdown",
   "metadata": {},
   "source": [
    "## Callbacks"
   ]
  },
  {
   "cell_type": "code",
   "execution_count": 15,
   "metadata": {},
   "outputs": [],
   "source": [
    "class EarlyStop():\n",
    "    \"\"\"Callback for early stop train process.\n",
    "    \n",
    "    Args:\n",
    "        monitor (str): value for monitoring.\n",
    "        patience (int): Number of epochs with no improvement after which training will be stopped.\n",
    "        mode (str): One of {\"min\", \"max\"}. In min mode, training will stop when the quantity monitored has stopped decreasing.\n",
    "            In \"max\" mode it will stop when the quantity monitored has stopped increasing.\n",
    "    \n",
    "    Attributes:\n",
    "        history (dict): Dict of lists with train history. Key \"monitor\" contains list of monitoring values. \n",
    "        steps (int): Number of passed epoches. \n",
    "        best_step (int): Number of best epoch. \n",
    "        best_monitor (float): Best of monitoring value.\n",
    "        model (Model): Training model\n",
    "    \"\"\"\n",
    "    \n",
    "    def __init__(self, monitor, patience, mode):\n",
    "        self.monitor = monitor\n",
    "        self.patience = patience\n",
    "        self.mode = mode\n",
    "        self.history = None\n",
    "        self.steps = -1\n",
    "        self.best_step = -1\n",
    "        if self.mode == 'max':\n",
    "            self.best_monitor = 0\n",
    "        elif self.mode == 'min':\n",
    "            self.best_monitor = 1e99999\n",
    "            \n",
    "    def start(self, history, model):\n",
    "        \"\"\"Start and init callback.\n",
    "        \n",
    "        Args:\n",
    "            history (dict): Dict of lists with train history. Key \"monitor\" contains list of monitoring values. \n",
    "            model (Model): Training model.\n",
    "        \"\"\"\n",
    "        \n",
    "        self.history = history\n",
    "        self.model = model\n",
    "        \n",
    "    def step(self):\n",
    "        \"\"\"Make a step of callback.\n",
    "        \n",
    "        Returns:\n",
    "            tuple: (event, stop):\n",
    "                event (str): Decription of event. If event not did not happen then event = ''.\n",
    "                stop (bool): Flag of stopping train process.\n",
    "        \"\"\"\n",
    "        \n",
    "        self.steps += 1\n",
    "        \n",
    "        if self.mode == 'max':\n",
    "            if self.history[self.monitor][-1] > self.best_monitor:\n",
    "                self.best_monitor = self.history[self.monitor][-1]\n",
    "                self.best_step = self.steps\n",
    "        elif self.mode == 'min':\n",
    "            if self.history[self.monitor][-1] < self.best_monitor:\n",
    "                self.best_monitor = self.history[self.monitor][-1]\n",
    "                self.best_step = self.steps\n",
    "        \n",
    "        if self.steps - self.best_step > self.patience:\n",
    "            return 'Early stop with {}: {:.4f}'.format(self.monitor, self.history[self.monitor][self.best_step]), True\n",
    "        return None, False\n",
    "    \n",
    "    def stop(self):\n",
    "        \"\"\"Delete model from callback.\"\"\"\n",
    "        \n",
    "        self.model = None\n",
    "        torch.cuda.empty_cache()\n",
    "\n",
    "\n",
    "class SaveBest():\n",
    "    \"\"\"Callback for save model if there is an improvement.\n",
    "    \n",
    "    Args:\n",
    "        monitor (str): value for monitoring.\n",
    "        model_path (str): Path for saving model.\n",
    "        mode (str): One of {\"min\", \"max\"}. In min mode, training will stop when the quantity monitored has stopped decreasing.\n",
    "            In \"max\" mode it will stop when the quantity monitored has stopped increasing.\n",
    "    \n",
    "    Attributes:\n",
    "        history (dict): Dict of lists with train history. Key \"monitor\" contains list of monitoring values. \n",
    "        steps (int): Number of passed epoches. \n",
    "        best_step (int): Number of best epoch. \n",
    "        best_monitor (float): Best of monitoring value.\n",
    "        model (Model): Training model\n",
    "    \"\"\"\n",
    "    \n",
    "    def __init__(self, monitor, model_path, mode):\n",
    "        self.monitor = monitor\n",
    "        self.model_path = model_path\n",
    "        self.mode = mode\n",
    "        self.history = None\n",
    "        self.steps = -1\n",
    "        self.best_step = -1\n",
    "        if self.mode == 'max':\n",
    "            self.best_monitor = 0\n",
    "        elif self.mode == 'min':\n",
    "            self.best_monitor = 1e99999\n",
    "    \n",
    "    def start(self, history, model):\n",
    "        \"\"\"Start and init callback. Save first version of model.\n",
    "        \n",
    "        Args:\n",
    "            history (dict): Dict of lists with train history. Key \"monitor\" contains list of monitoring values. \n",
    "            model (Model): Training model\n",
    "        \"\"\"\n",
    "        \n",
    "        self.history = history\n",
    "        self.model = model\n",
    "        torch.save(self.model.state_dict(), self.model_path)\n",
    "    \n",
    "    def step(self):\n",
    "        \"\"\"Make a step of callback.\n",
    "        \n",
    "        Returns:\n",
    "            tuple: (event, stop):\n",
    "                event (str): Decription of event. If event not did not happen then event = ''.\n",
    "                stop (bool): Flag of stopping train process.\n",
    "        \"\"\"\n",
    "        \n",
    "        self.steps += 1\n",
    "        \n",
    "        if self.mode == 'max':\n",
    "            if self.history[self.monitor][-1] > self.best_monitor:\n",
    "                self.best_monitor = self.history[self.monitor][-1]\n",
    "                self.best_step = self.steps\n",
    "        elif self.mode == 'min':\n",
    "            if self.history[self.monitor][-1] < self.best_monitor:\n",
    "                self.best_monitor = self.history[self.monitor][-1]\n",
    "                self.best_step = self.steps\n",
    "        \n",
    "        if self.steps == self.best_step:\n",
    "            torch.save(self.model.state_dict(), self.model_path)\n",
    "            return 'Save model with {}: {:.4f}'.format(self.monitor, self.history[self.monitor][self.best_step]), False\n",
    "        return None, False\n",
    "    \n",
    "    def stop(self):\n",
    "        \"\"\"Delete model from callback.\"\"\"\n",
    "        \n",
    "        self.model = None\n",
    "        torch.cuda.empty_cache()"
   ]
  },
  {
   "cell_type": "markdown",
   "metadata": {},
   "source": [
    "## Training function"
   ]
  },
  {
   "cell_type": "code",
   "execution_count": 16,
   "metadata": {},
   "outputs": [],
   "source": [
    "def train(model, inp, optimizer,\n",
    "          criterion, epochs, print_every, callbacks, lr_scheduler):\n",
    "    \"\"\"Make model prediction on image.\n",
    "    \n",
    "    Args:\n",
    "        model (Model): Model for training.\n",
    "        inp (Tensor): Inpu image.\n",
    "        optimizer (Optimizer): Optimizer. \n",
    "        criterion (callable): Function for loss calculation.\n",
    "        epochs (int): Number of epoches.\n",
    "        print_every (int): Number of iteration for update statusbar.\n",
    "        callbacks (list): List of callbacks\n",
    "    \n",
    "    Returns:\n",
    "        history (dict): Dict of lists with train history.\n",
    "    \"\"\"\n",
    "    \n",
    "    history = {'Train loss':[]}\n",
    "    \n",
    "    if callbacks:\n",
    "        for i in callbacks:\n",
    "            i.start(history, model)\n",
    "    \n",
    "    train_print = ''\n",
    "    state_text_last = ''\n",
    "    bar = tqdm(range(epochs), desc=\"Epoch\", postfix=train_print)\n",
    "    for e in range(epochs):\n",
    "        model.train()\n",
    "\n",
    "        running_loss = 0\n",
    "\n",
    "        stop = False\n",
    "        \n",
    "        steps = 0\n",
    "        \n",
    "        optimizer.zero_grad()\n",
    "        \n",
    "        out = model.forward(inp)\n",
    "            \n",
    "        loss = criterion(out)\n",
    "        run[\"training/batch/loss_training\"].log(loss)\n",
    "\n",
    "        loss.backward()\n",
    "                \n",
    "        optimizer.step()\n",
    "            \n",
    "        with torch.no_grad():\n",
    "            running_loss = loss.item()\n",
    "        \n",
    "        if (e + 1) % print_every == 0:\n",
    "            print(f'epoch {e+1}/{epochs}, loss = {running_loss:.4f}')\n",
    "            train_print = \"Train loss: {:.4f}\".format(running_loss) + ', ' + state_text_last\n",
    "            bar.postfix = train_print\n",
    "            model.train()\n",
    "            \n",
    "        \n",
    "        history['Train loss'].append(running_loss)\n",
    "        \n",
    "        if lr_scheduler:\n",
    "            if \"OneCycleLR\" in str(lr_scheduler):\n",
    "                lr_scheduler.step()\n",
    "            else:\n",
    "                lr_scheduler.step(running_loss)\n",
    "        \n",
    "        if callbacks:\n",
    "            for i in callbacks:\n",
    "                state_text, state = i.step()\n",
    "                if state_text:\n",
    "                    state_text_last = state_text\n",
    "                if state:\n",
    "                    stop = True\n",
    "        if stop:\n",
    "            train_print = \"Train loss: {:.4f}\".format(running_loss) + ', ' + state_text_last\n",
    "            bar.postfix = train_print\n",
    "            if callbacks:\n",
    "                for i in callbacks:\n",
    "                    i.stop()\n",
    "            model = None\n",
    "            inputs = None\n",
    "            targets = None\n",
    "            outputs = None\n",
    "            loss = None\n",
    "            sm = None\n",
    "            \n",
    "            torch.cuda.empty_cache()\n",
    "            \n",
    "            break\n",
    "            \n",
    "        if e + 1 != epochs:\n",
    "            bar.update()\n",
    "                        \n",
    "        inputs = None\n",
    "        targets = None\n",
    "        outputs = None\n",
    "        loss = None\n",
    "        sm = None\n",
    "        \n",
    "        torch.cuda.empty_cache()\n",
    "      \n",
    "    bar.update()\n",
    "    bar.close()\n",
    "    \n",
    "    if callbacks:\n",
    "        for i in callbacks:\n",
    "            i.stop()\n",
    "    \n",
    "    model = None\n",
    "    \n",
    "    torch.cuda.empty_cache()\n",
    "    \n",
    "    return history\n",
    "\n",
    "\n",
    "def plot_train_history(history):\n",
    "    \"\"\"Plot train history.\n",
    "    \n",
    "    Args:\n",
    "        history (dict): Dict of lists with train history..\n",
    "    \"\"\"\n",
    "    \n",
    "    fig, ax = plt.subplots(figsize = (FIGSIZE * 2, FIGSIZE))\n",
    "    \n",
    "    ax.plot(history['Train loss'], c = 'r')\n",
    "    ax.set_title('Loss')\n",
    "    ax.set_xlabel('Epochs')\n",
    "    ax.set_ylabel('Loss')\n",
    "    ax.legend(['Train'])\n",
    "    ax.set_yscale('log')\n",
    "    plt.subplots_adjust(left=None, bottom=None, right=None, top=None, wspace=None, hspace=0.3)\n",
    "    plt.show()\n",
    "\n",
    "    \n",
    "def dict2str(dict1):\n",
    "    out = str(dict1).replace(\"}\", \"\")\n",
    "    out = str(out).replace(\"{\", \"\")\n",
    "    out = str(out).replace(\"\\\"\", \"\")\n",
    "    out = str(out).replace(\"\\'\", \"\")\n",
    "    out = str(out).replace(\":\", \"\")\n",
    "    return out"
   ]
  },
  {
   "cell_type": "markdown",
   "metadata": {
    "id": "wOpHVjQdkxS_"
   },
   "source": [
    "# Asymptotic solution: flow between two parallel plates\n",
    "Newtonian fluid flow between 2 parallel plates, the flow domain size is hxL"
   ]
  },
  {
   "cell_type": "code",
   "execution_count": 17,
   "metadata": {
    "colab": {
     "base_uri": "https://localhost:8080/",
     "height": 0
    },
    "id": "fpG0AV2LlF-W",
    "outputId": "9f04cbfb-4b5d-434d-daf0-8c00d296066d"
   },
   "outputs": [
    {
     "name": "stdout",
     "output_type": "stream",
     "text": [
      "h = 0.003 ; L= 0.012 ; (p1-p0) = -2.666666666666667 ; v1max = tensor(0.2500) \n",
      "mu =  0.001 Q =  0.0005 \n",
      "Ext_ex = -0.0013333333333333335 \n",
      "Int = tensor(0.0013, device='cuda:0') \n",
      "Re = tensor(749.9885)\n"
     ]
    },
    {
     "data": {
      "image/png": "[encoded data removed]",
      "text/plain": [
       "<Figure size 720x720 with 5 Axes>"
      ]
     },
     "metadata": {
      "needs_background": "light"
     },
     "output_type": "display_data"
    }
   ],
   "source": [
    "#Exact solution\n",
    "\n",
    "C0 = -12*MU*Q/(h**3)\n",
    "C1 = 6*Q/(h**2)\n",
    "psiex = C0*(X2N**3)*h**3/(6*MU) + C1*(X2N**2/2)*h**2\n",
    "v1ex = C0*(X2N**2)*h**2/(2*MU) + C1*(X2N)*h\n",
    "v1exmax = v1ex[int(SIZE/2)] \n",
    "\n",
    "pressureDrop = C0*L\n",
    "Ext_ex = pressureDrop * Q\n",
    "\n",
    "# From 1D to 2D\n",
    "psiex = psiex * torch.ones(SIZE, SIZE)\n",
    "psiex = psiex.t()\n",
    "\n",
    "v1ex = v1ex * torch.ones(SIZE, SIZE)\n",
    "v1ex = v1ex.t()\n",
    "\n",
    "v2ex = torch.zeros(SIZE, SIZE)\n",
    "\n",
    "#Calculate Internal power to check numerical integration\n",
    "lim1 = [0, L]\n",
    "lim2 = [0, h]\n",
    "\n",
    "xi11, xi12, xi22, EtaEta = TksiDistr(v1ex, v2ex, DX1N, DX2N, lim1, lim2)\n",
    "#Int_ex is a double integral. It's calculation can be done in 2 steps: in 2 single integrations\n",
    "int1EtaEta = torch.trapz(EtaEta)\n",
    "int2EtaEta = torch.trapz(int1EtaEta)\n",
    "ds_ex = DX1N * DX2N * lim1[1] * lim2[1] # elementary surface area\n",
    "Int_ex = MU*ds_ex*int2EtaEta #doublelIntegral\n",
    "\n",
    "Re = RHO*v1ex.max()*h/MU\n",
    "\n",
    "print('h =', h, '; L=', L, '; (p1-p0) =', pressureDrop,'; v1max =', v1exmax, \n",
    "      '\\nmu = ', MU, 'Q = ', Q, \n",
    "      '\\nExt_ex =', Ext_ex, \n",
    "      '\\nInt =', Int_ex,\n",
    "      '\\nRe =', Re)\n",
    "\n",
    "#Visualization\n",
    "nr=2\n",
    "nc=2\n",
    "fig = plt.figure(figsize=(FIGSIZE*nr, FIGSIZE*nc))\n",
    "plt.title('Asymptotic solution: Newtonian flow between 2 parallel plates in the flow domain h x L')\n",
    "plt.subplot(nr,nc,1)\n",
    "plt.imshow(psiex)\n",
    "plt.title('Flow function, Psi_ex')\n",
    "\n",
    "plt.subplot(nr,nc,2)\n",
    "vector_plot(np.meshgrid(X1N,X2N), [np.array(v1ex),np.array(v2ex)],FIGSIZE, 'Velocity, V_ex = [v1_ex, v2_ex]', vps)\n",
    "\n",
    "plt.subplot(nr,nc,3)\n",
    "plt.plot(psiex[:,sp])\n",
    "plt.grid(True)\n",
    "plt.title('Flow function, Psi_ex (vertical slice)')\n",
    "\n",
    "plt.subplot(nr,nc,4)\n",
    "plt.plot(v1ex[:,sp])\n",
    "plt.grid(True)\n",
    "plt.title('v1_ex (vertical slice)')\n",
    "\n",
    "plt.show()\n",
    "    "
   ]
  },
  {
   "cell_type": "code",
   "execution_count": 18,
   "metadata": {},
   "outputs": [
    {
     "data": {
      "text/plain": [
       "0.00075"
      ]
     },
     "execution_count": 18,
     "metadata": {},
     "output_type": "execute_result"
    }
   ],
   "source": [
    "L/16"
   ]
  },
  {
   "cell_type": "code",
   "execution_count": 19,
   "metadata": {},
   "outputs": [
    {
     "data": {
      "image/png": "[encoded data removed]",
      "text/plain": [
       "<Figure size 720x180 with 1 Axes>"
      ]
     },
     "metadata": {
      "needs_background": "light"
     },
     "output_type": "display_data"
    }
   ],
   "source": [
    "# Check the flow rate\n",
    "Qex = torch.trapz(v1ex.t()) * DX1N * h\n",
    "\n",
    "fig = plt.figure(figsize=(FIGSIZE*2, FIGSIZE/2))\n",
    "plt.plot(Qex.cpu())\n",
    "plt.title(f'Flow rate through the vertical slices of the flow domain of size h x L = {h:.4} x {L} \\nshould be equal to Q = {Q}')\n",
    "plt.show()"
   ]
  },
  {
   "cell_type": "code",
   "execution_count": 20,
   "metadata": {},
   "outputs": [
    {
     "name": "stdout",
     "output_type": "stream",
     "text": [
      "tensor(1.7042) tensor(111128.2500)\n"
     ]
    },
    {
     "data": {
      "image/png": "[encoded data removed]",
      "text/plain": [
       "<Figure size 720x180 with 1 Axes>"
      ]
     },
     "metadata": {
      "needs_background": "light"
     },
     "output_type": "display_data"
    }
   ],
   "source": [
    "print (EtaEta.cpu().min(), EtaEta.cpu().max()) \n",
    "\n",
    "fig = plt.figure(figsize=(FIGSIZE*2, FIGSIZE/2))\n",
    "plt.plot(EtaEta.cpu()[:,sp])\n",
    "plt.title('Eta*Eta')\n",
    "plt.show()"
   ]
  },
  {
   "cell_type": "markdown",
   "metadata": {},
   "source": [
    "# Machine learning solution\n",
    "## Flow domain mask"
   ]
  },
  {
   "cell_type": "code",
   "execution_count": 21,
   "metadata": {
    "colab": {
     "base_uri": "https://localhost:8080/",
     "height": 143
    },
    "id": "1hKq9A5gtHzs",
    "outputId": "6b39a1b5-7f5e-4fe7-97e2-c822b1e80554"
   },
   "outputs": [
    {
     "data": {
      "image/png": "[encoded data removed]",
      "text/plain": [
       "<Figure size 1440x360 with 4 Axes>"
      ]
     },
     "metadata": {},
     "output_type": "display_data"
    },
    {
     "name": "stdout",
     "output_type": "stream",
     "text": [
      "Check the masks: \n",
      "upper wall (min, max) = (tensor(0.), tensor(1.)), \n",
      "lower wall (min, max) = (tensor(0.), tensor(1.)), \n",
      "flow domain (min, max) = (tensor(0.), tensor(1.)),\n"
     ]
    }
   ],
   "source": [
    "labeledImage = Image.open(imgPath/imgList[imgNo]) #open image\n",
    "labeledImage = torch.tensor(np.uint8(labeledImage.resize((SIZE,SIZE),resample=3)))[:,:,:-1] #open image\n",
    "\n",
    "tmpImage = torch.ones(labeledImage.shape)\n",
    "\n",
    "upperWallMask = (labeledImage == (tmpImage*UP_COLOR)).float().sum(axis=2)\n",
    "invUpperWallMask = torch.clone(upperWallMask)\n",
    "upperWallMask[upperWallMask < 3] = 0\n",
    "upperWallMask[upperWallMask == 3] = 1\n",
    "invUpperWallMask[invUpperWallMask < 3] = 1\n",
    "invUpperWallMask[invUpperWallMask == 3] = 0\n",
    "\n",
    "lowerWallMask = (labeledImage == (tmpImage*LOW_COLOR)).float().sum(axis=2)\n",
    "invLowerWallMask = torch.clone(lowerWallMask)\n",
    "lowerWallMask[lowerWallMask < 3] = 0\n",
    "lowerWallMask[lowerWallMask == 3] = 1\n",
    "invLowerWallMask[invLowerWallMask < 3] = 1\n",
    "invLowerWallMask[invLowerWallMask == 3] = 0\n",
    "\n",
    "flowDomainMask = (invLowerWallMask + invUpperWallMask)/2\n",
    "flowDomainMask[flowDomainMask<1] = 0\n",
    "\n",
    "#Visualization\n",
    "nr=1\n",
    "nc=4\n",
    "fig = plt.figure(figsize=(FIGSIZE*nc, FIGSIZE*nr))\n",
    "plt.subplot(nr,nc,1)\n",
    "plt.imshow(labeledImage)\n",
    "plt.xticks([])\n",
    "plt.yticks([])\n",
    "plt.title(imgList[imgNo], color='b')\n",
    "\n",
    "plt.subplot(nr,nc,2)\n",
    "plt.imshow(upperWallMask, cmap = 'gray')\n",
    "plt.xticks([])\n",
    "plt.yticks([])\n",
    "plt.title(\"Upper wall mask\", color='b')\n",
    "\n",
    "plt.subplot(nr,nc,3)\n",
    "plt.imshow(lowerWallMask, cmap = 'gray')\n",
    "plt.xticks([])\n",
    "plt.yticks([])\n",
    "plt.title(\"Lower wall mask\", color='b')\n",
    "\n",
    "plt.subplot(nr,nc,4)\n",
    "plt.imshow(flowDomainMask, cmap = 'gray')\n",
    "plt.xticks([])\n",
    "plt.yticks([])\n",
    "plt.title(\"Flow domain mask\", color='b')\n",
    "\n",
    "plt.show()\n",
    "\n",
    "print (f'Check the masks: \\nupper wall (min, max) = {upperWallMask.min(), upperWallMask.max()}, \\nlower wall (min, max) = {lowerWallMask.min(), lowerWallMask.max()}, \\nflow domain (min, max) = {flowDomainMask.min(), flowDomainMask.max()},')"
   ]
  },
  {
   "cell_type": "code",
   "execution_count": 22,
   "metadata": {},
   "outputs": [
    {
     "data": {
      "text/plain": [
       "tensor([255, 255, 255], dtype=torch.uint8)"
      ]
     },
     "execution_count": 22,
     "metadata": {},
     "output_type": "execute_result"
    }
   ],
   "source": [
    "labeledImage[sp,0,:]"
   ]
  },
  {
   "cell_type": "markdown",
   "metadata": {
    "id": "XaVb_Ejsmynq"
   },
   "source": [
    "## Kinematic properties\n",
    "The velocity is equal to zero on all the surfaces. The flow rate is given and equal to Q.\n",
    "\n",
    "1. Flow function initialization"
   ]
  },
  {
   "cell_type": "code",
   "execution_count": 23,
   "metadata": {
    "colab": {
     "base_uri": "https://localhost:8080/",
     "height": 232
    },
    "id": "Gb4BFZNWnBsh",
    "outputId": "0dde0211-4908-4885-e6ac-4fc8f130ed54"
   },
   "outputs": [
    {
     "data": {
      "image/png": "[encoded data removed]",
      "text/plain": [
       "<Figure size 1080x360 with 3 Axes>"
      ]
     },
     "metadata": {
      "needs_background": "light"
     },
     "output_type": "display_data"
    }
   ],
   "source": [
    "#Initialization\n",
    "#psi0 = (torch.linspace(Q * 4, 0,SIZE, dtype=torch.float32) * torch.ones(SIZE,SIZE)).T - 1.5 * Q #raw Psi0 function\n",
    "psi0 = (torch.linspace(0, Q, SIZE, dtype=torch.float32) * torch.ones(SIZE,SIZE)).T #raw Psi0 function\n",
    "#psi0_masked = (psi0 * wall_mask) + (upper_mask * Q)# Psi0 function with mask\n",
    "psi0_masked = psi0 *flowDomainMask + (lowerWallMask*Q)\n",
    "\n",
    "#Visualization\n",
    "nr=1\n",
    "nc=3\n",
    "fig = plt.figure(figsize=(FIGSIZE*nc, FIGSIZE*nr))\n",
    "plt.subplot(nr,nc,1)\n",
    "plt.imshow(psi0)\n",
    "plt.title('(a) Flow function initialization, $\\Psi$')\n",
    "\n",
    "plt.subplot(nr,nc,2)\n",
    "plt.imshow(psi0_masked)\n",
    "plt.title('(b) Flow function with mask, $\\Psi$')\n",
    "\n",
    "plt.subplot(nr,nc,3)\n",
    "plt.plot(psi0_masked[:,sp])\n",
    "plt.title('(c) Flow funcion slice, $\\Psi$')\n",
    "\n",
    "plt.show()"
   ]
  },
  {
   "cell_type": "markdown",
   "metadata": {
    "id": "XaVb_Ejsmynq"
   },
   "source": [
    "2. Velocity field initialization"
   ]
  },
  {
   "cell_type": "code",
   "execution_count": 24,
   "metadata": {
    "colab": {
     "base_uri": "https://localhost:8080/",
     "height": 234
    },
    "id": "qbVbaBjT3aOd",
    "outputId": "70e136d5-4175-44e2-c96d-24e7e35e5ced"
   },
   "outputs": [
    {
     "data": {
      "image/png": "[encoded data removed]",
      "text/plain": [
       "<Figure size 720x720 with 5 Axes>"
      ]
     },
     "metadata": {
      "needs_background": "light"
     },
     "output_type": "display_data"
    }
   ],
   "source": [
    "v1, v2 = velocityDistr(psi0_masked, DX1N, DX2N, LIM1, LIM2)\n",
    "\n",
    "#Visualization\n",
    "nr=2\n",
    "nc=2\n",
    "fig = plt.figure(figsize=(FIGSIZE*nr, FIGSIZE*nc))\n",
    "plt.subplot(nr,nc,1)\n",
    "plt.imshow(psi0_masked)\n",
    "plt.title('Flow function, Psi')\n",
    "\n",
    "plt.subplot(nr,nc,2)\n",
    "#coordinates are negative in meshgrid for the better visualisation\n",
    "vector_plot(np.meshgrid(-X1N,-X2N), [np.array(v1.cpu()),np.array(v2.cpu())],FIGSIZE, 'Velocity, V = [v1, v2]', vps)\n",
    "plt.xticks([])\n",
    "plt.yticks([])\n",
    "\n",
    "plt.subplot(nr,nc,3)\n",
    "plt.plot(psi0_masked[:,sp])\n",
    "plt.grid(True)\n",
    "plt.title('Flow function, Psi (vertical slice)')\n",
    "\n",
    "plt.subplot(nr,nc,4)\n",
    "plt.plot(v1[:,sp].cpu())\n",
    "plt.grid(True)\n",
    "plt.title('v1 (vertical slice)')\n",
    "\n",
    "plt.show()"
   ]
  },
  {
   "cell_type": "code",
   "execution_count": 25,
   "metadata": {
    "colab": {
     "base_uri": "https://localhost:8080/",
     "height": 282
    },
    "id": "rXz9T9VWA3G5",
    "outputId": "44a0902a-36ce-48f8-c4f9-a46992ff780d"
   },
   "outputs": [
    {
     "data": {
      "image/png": "[encoded data removed]",
      "text/plain": [
       "<Figure size 720x180 with 1 Axes>"
      ]
     },
     "metadata": {
      "needs_background": "light"
     },
     "output_type": "display_data"
    }
   ],
   "source": [
    "# Check the flow rate\n",
    "Qch = torch.trapz(v1.t()) * DX1N * L\n",
    "\n",
    "fig = plt.figure(figsize=(FIGSIZE*2, FIGSIZE/2))\n",
    "plt.plot(Qch.cpu())\n",
    "plt.title(f'Flow rate through the vertical slices of the flow domain of size L x L = {L} x {L} \\nshould be equal to Q = {Q}')\n",
    "plt.show()"
   ]
  },
  {
   "cell_type": "markdown",
   "metadata": {
    "id": "FPeLHoR31p1D"
   },
   "source": [
    "## Create model\n",
    "Unet architecture [2] is used"
   ]
  },
  {
   "cell_type": "code",
   "execution_count": 26,
   "metadata": {
    "id": "PID82zl-cxN4"
   },
   "outputs": [],
   "source": [
    "class UNet(nn.Module):\n",
    "\n",
    "    def __init__(self, in_channels=3, out_channels=1, init_features=4, use_bn=True):\n",
    "        super(UNet, self).__init__()\n",
    "\n",
    "        features = init_features\n",
    "        self.encoder1 = UNet._block(in_channels, features, name=\"enc1\", use_bn=use_bn)\n",
    "        self.pool1 = nn.MaxPool2d(kernel_size=2, stride=2)\n",
    "        self.encoder2 = UNet._block(features, features * 2, name=\"enc2\", use_bn=use_bn)\n",
    "        self.pool2 = nn.MaxPool2d(kernel_size=2, stride=2)\n",
    "        self.encoder3 = UNet._block(features * 2, features * 4, name=\"enc3\", use_bn=use_bn)\n",
    "        self.pool3 = nn.MaxPool2d(kernel_size=2, stride=2)\n",
    "        self.encoder4 = UNet._block(features * 4, features * 8, name=\"enc4\", use_bn=use_bn)\n",
    "        self.pool4 = nn.MaxPool2d(kernel_size=2, stride=2)\n",
    "\n",
    "        self.bottleneck = UNet._block(features * 8, features * 16, name=\"bottleneck\", use_bn=use_bn)\n",
    "\n",
    "        self.upconv4 = nn.ConvTranspose2d(\n",
    "            features * 16, features * 8, kernel_size=2, stride=2\n",
    "        )\n",
    "        self.decoder4 = UNet._block((features * 8) * 2, features * 8, name=\"dec4\", use_bn=use_bn)\n",
    "        self.upconv3 = nn.ConvTranspose2d(\n",
    "            features * 8, features * 4, kernel_size=2, stride=2\n",
    "        )\n",
    "        self.decoder3 = UNet._block((features * 4) * 2, features * 4, name=\"dec3\", use_bn=use_bn)\n",
    "        self.upconv2 = nn.ConvTranspose2d(\n",
    "            features * 4, features * 2, kernel_size=2, stride=2\n",
    "        )\n",
    "        self.decoder2 = UNet._block((features * 2) * 2, features * 2, name=\"dec2\", use_bn=use_bn)\n",
    "        self.upconv1 = nn.ConvTranspose2d(\n",
    "            features * 2, features, kernel_size=2, stride=2\n",
    "        )\n",
    "        self.decoder1 = UNet._block(features * 2, features, name=\"dec1\", use_bn=use_bn)\n",
    "        self.decoder0 = UNet._block(features, features, name=\"dec1\", use_bn=use_bn)\n",
    "        self.conv = nn.Conv2d(\n",
    "            in_channels=features, out_channels=out_channels, kernel_size=1\n",
    "        )\n",
    "\n",
    "    def forward(self, x):\n",
    "        enc1 = self.encoder1(x)\n",
    "        enc2 = self.encoder2(self.pool1(enc1))\n",
    "        enc3 = self.encoder3(self.pool2(enc2))\n",
    "        enc4 = self.encoder4(self.pool3(enc3))\n",
    "\n",
    "        bottleneck = self.bottleneck(self.pool4(enc4))\n",
    "\n",
    "        dec4 = self.upconv4(bottleneck)\n",
    "        dec4 = torch.cat((dec4, enc4), dim=1)\n",
    "        dec4 = self.decoder4(dec4)\n",
    "        dec3 = self.upconv3(dec4)\n",
    "        dec3 = torch.cat((dec3, enc3), dim=1)\n",
    "        dec3 = self.decoder3(dec3)\n",
    "        dec2 = self.upconv2(dec3)\n",
    "        dec2 = torch.cat((dec2, enc2), dim=1)\n",
    "        dec2 = self.decoder2(dec2)\n",
    "        dec1 = self.upconv1(dec2)\n",
    "        dec1 = torch.cat((dec1, enc1), dim=1)\n",
    "        dec1 = self.decoder1(dec1)\n",
    "        dec0 = self.decoder0(dec1)\n",
    "        return torch.sigmoid(self.conv(dec0))*Q\n",
    "\n",
    "    @staticmethod\n",
    "    def _block(in_channels, features, name, use_bn):\n",
    "        return nn.Sequential(\n",
    "            OrderedDict(\n",
    "                [\n",
    "                    (\n",
    "                        name + \"conv1\",\n",
    "                        nn.Conv2d(\n",
    "                            in_channels=in_channels,\n",
    "                            out_channels=features,\n",
    "                            kernel_size=3,\n",
    "                            padding=1,\n",
    "                            bias=False,\n",
    "                        ),\n",
    "                    ),\n",
    "                    *[(name + \"norm1\", nn.BatchNorm2d(num_features=features)),\n",
    "                      (name + \"relu1\", nn.ReLU(inplace=True))][0 if use_bn else 1:],\n",
    "                    (\n",
    "                        name + \"conv2\",\n",
    "                        nn.Conv2d(\n",
    "                            in_channels=features,\n",
    "                            out_channels=features,\n",
    "                            kernel_size=3,\n",
    "                            padding=1,\n",
    "                            bias=False,\n",
    "                        ),\n",
    "                    ),\n",
    "                    *[(name + \"norm2\", nn.BatchNorm2d(num_features=features)),\n",
    "                      (name + \"relu2\", nn.ReLU(inplace=True))][0 if use_bn else 1:],\n",
    "                ]\n",
    "            )\n",
    "        )\n",
    "    \n",
    "def power_loss(psi):\n",
    "    psi_masked = (psi[0,0,:,:] * flowDomainMask) + (lowerWallMask * Q)\n",
    "    v1,v2 = velocityDistr(psi_masked, DX1N, DX2N, LIM1, LIM2)\n",
    "\n",
    "    xi11, xi12, xi22, EtaEta = TksiDistr(v1, v2, DX1N, DX2N, LIM1, LIM2)\n",
    "    \n",
    "    int1EtaEta = torch.trapz(EtaEta + v1*Fm[0]+v2*Fm[1])\n",
    "    int2EtaEta = torch.trapz(int1EtaEta)\n",
    "    out = 0.5*MU*s*int2EtaEta #doublelIntegral(0.5*mu*EtaEta,lim1,lim2) #loss\n",
    "    \n",
    "    return out #0.5 * MU * s * EtaEta.mean()"
   ]
  },
  {
   "cell_type": "markdown",
   "metadata": {
    "id": "PhZutgNIyYhH"
   },
   "source": [
    "## Training"
   ]
  },
  {
   "cell_type": "code",
   "execution_count": 27,
   "metadata": {},
   "outputs": [],
   "source": [
    "start_time = time.time()"
   ]
  },
  {
   "cell_type": "code",
   "execution_count": 28,
   "metadata": {},
   "outputs": [
    {
     "name": "stdout",
     "output_type": "stream",
     "text": [
      "hyperparams: \n",
      " learning_rate 0.01, scheduler none, scheduler_factor 0.1, scheduler_patience 50, use_bn True, Early_stop_patience 5000, Decay 0\n"
     ]
    },
    {
     "data": {
      "application/vnd.jupyter.widget-view+json": {
       "model_id": "0df68ce7a28d4906bf98c0536584270e",
       "version_major": 2,
       "version_minor": 0
      },
      "text/plain": [
       "Epoch:   0%|          | 0/15000 [00:00<?, ?it/s]"
      ]
     },
     "metadata": {},
     "output_type": "display_data"
    },
    {
     "name": "stderr",
     "output_type": "stream",
     "text": [
      "/opt/conda/lib/python3.7/site-packages/torch/nn/functional.py:718: UserWarning: Named tensors and all their associated APIs are an experimental feature and subject to change. Please do not use them for anything important until they are released as stable. (Triggered internally at  /pytorch/c10/core/TensorImpl.h:1156.)\n",
      "  return torch.max_pool2d(input, kernel_size, stride, padding, dilation, ceil_mode)\n"
     ]
    },
    {
     "name": "stdout",
     "output_type": "stream",
     "text": [
      "epoch 100/15000, loss = 0.0319\n",
      "epoch 200/15000, loss = 0.0161\n",
      "epoch 300/15000, loss = 0.0090\n",
      "epoch 400/15000, loss = 0.0056\n",
      "epoch 500/15000, loss = 0.0039\n",
      "epoch 600/15000, loss = 0.0043\n",
      "epoch 700/15000, loss = 0.0022\n",
      "epoch 800/15000, loss = 0.0023\n",
      "epoch 900/15000, loss = 0.0016\n",
      "epoch 1000/15000, loss = 0.0029\n",
      "epoch 1100/15000, loss = 0.0022\n",
      "epoch 1200/15000, loss = 0.0014\n",
      "epoch 1300/15000, loss = 0.0013\n",
      "epoch 1400/15000, loss = 0.0013\n",
      "epoch 1500/15000, loss = 0.0012\n",
      "epoch 1600/15000, loss = 0.0044\n",
      "epoch 1700/15000, loss = 0.0012\n",
      "epoch 1800/15000, loss = 0.0011\n",
      "epoch 1900/15000, loss = 0.0012\n",
      "epoch 2000/15000, loss = 0.0015\n",
      "epoch 2100/15000, loss = 0.0017\n",
      "epoch 2200/15000, loss = 0.0012\n",
      "epoch 2300/15000, loss = 0.0014\n",
      "epoch 2400/15000, loss = 0.0015\n",
      "epoch 2500/15000, loss = 0.0012\n",
      "epoch 2600/15000, loss = 0.0009\n",
      "epoch 2700/15000, loss = 0.0013\n",
      "epoch 2800/15000, loss = 0.0014\n",
      "epoch 2900/15000, loss = 0.0011\n",
      "epoch 3000/15000, loss = 0.0009\n",
      "epoch 3100/15000, loss = 0.0009\n",
      "epoch 3200/15000, loss = 0.0012\n",
      "epoch 3300/15000, loss = 0.0009\n",
      "epoch 3400/15000, loss = 0.0010\n",
      "epoch 3500/15000, loss = 0.0012\n",
      "epoch 3600/15000, loss = 0.0008\n",
      "epoch 3700/15000, loss = 0.0030\n",
      "epoch 3800/15000, loss = 0.0010\n",
      "epoch 3900/15000, loss = 0.0009\n",
      "epoch 4000/15000, loss = 0.0010\n",
      "epoch 4100/15000, loss = 0.0009\n",
      "epoch 4200/15000, loss = 0.0015\n",
      "epoch 4300/15000, loss = 0.0013\n",
      "epoch 4400/15000, loss = 0.0016\n",
      "epoch 4500/15000, loss = 0.0008\n",
      "epoch 4600/15000, loss = 0.0009\n",
      "epoch 4700/15000, loss = 0.0018\n",
      "epoch 4800/15000, loss = 0.0007\n",
      "epoch 4900/15000, loss = 0.0009\n",
      "epoch 5000/15000, loss = 0.0010\n",
      "epoch 5100/15000, loss = 0.0008\n",
      "epoch 5200/15000, loss = 0.0007\n",
      "epoch 5300/15000, loss = 0.0009\n",
      "epoch 5400/15000, loss = 0.0014\n",
      "epoch 5500/15000, loss = 0.0007\n",
      "epoch 5600/15000, loss = 0.0009\n",
      "epoch 5700/15000, loss = 0.0018\n",
      "epoch 5800/15000, loss = 0.0008\n",
      "epoch 5900/15000, loss = 0.0008\n",
      "epoch 6000/15000, loss = 0.0009\n",
      "epoch 6100/15000, loss = 0.0007\n",
      "epoch 6200/15000, loss = 0.0007\n",
      "epoch 6300/15000, loss = 0.0008\n",
      "epoch 6400/15000, loss = 0.0009\n",
      "epoch 6500/15000, loss = 0.0008\n",
      "epoch 6600/15000, loss = 0.0007\n",
      "epoch 6700/15000, loss = 0.0009\n",
      "epoch 6800/15000, loss = 0.0007\n",
      "epoch 6900/15000, loss = 0.0007\n",
      "epoch 7000/15000, loss = 0.0007\n",
      "epoch 7100/15000, loss = 0.0007\n",
      "epoch 7200/15000, loss = 0.0006\n",
      "epoch 7300/15000, loss = 0.0006\n",
      "epoch 7400/15000, loss = 0.0007\n",
      "epoch 7500/15000, loss = 0.0011\n",
      "epoch 7600/15000, loss = 0.0016\n",
      "epoch 7700/15000, loss = 0.0006\n",
      "epoch 7800/15000, loss = 0.0009\n",
      "epoch 7900/15000, loss = 0.0008\n",
      "epoch 8000/15000, loss = 0.0008\n",
      "epoch 8100/15000, loss = 0.0006\n",
      "epoch 8200/15000, loss = 0.0007\n",
      "epoch 8300/15000, loss = 0.0007\n",
      "epoch 8400/15000, loss = 0.0007\n",
      "epoch 8500/15000, loss = 0.0006\n",
      "epoch 8600/15000, loss = 0.0007\n",
      "epoch 8700/15000, loss = 0.0007\n",
      "epoch 8800/15000, loss = 0.0007\n",
      "epoch 8900/15000, loss = 0.0006\n",
      "epoch 9000/15000, loss = 0.0006\n",
      "epoch 9100/15000, loss = 0.0010\n",
      "epoch 9200/15000, loss = 0.0007\n",
      "epoch 9300/15000, loss = 0.0008\n",
      "epoch 9400/15000, loss = 0.0007\n",
      "epoch 9500/15000, loss = 0.0007\n",
      "epoch 9600/15000, loss = 0.0006\n",
      "epoch 9700/15000, loss = 0.0006\n",
      "epoch 9800/15000, loss = 0.0007\n",
      "epoch 9900/15000, loss = 0.0006\n",
      "epoch 10000/15000, loss = 0.0010\n",
      "epoch 10100/15000, loss = 0.0006\n",
      "epoch 10200/15000, loss = 0.0007\n",
      "epoch 10300/15000, loss = 0.0006\n",
      "epoch 10400/15000, loss = 0.0007\n",
      "epoch 10500/15000, loss = 0.0006\n",
      "epoch 10600/15000, loss = 0.0006\n",
      "epoch 10700/15000, loss = 0.0007\n",
      "epoch 10800/15000, loss = 0.0007\n",
      "epoch 10900/15000, loss = 0.0006\n",
      "epoch 11000/15000, loss = 0.0006\n",
      "epoch 11100/15000, loss = 0.1712\n",
      "epoch 11200/15000, loss = 0.0010\n",
      "epoch 11300/15000, loss = 0.0008\n",
      "epoch 11400/15000, loss = 0.0008\n",
      "epoch 11500/15000, loss = 0.0008\n",
      "epoch 11600/15000, loss = 0.0007\n",
      "epoch 11700/15000, loss = 0.0007\n",
      "epoch 11800/15000, loss = 0.0007\n",
      "epoch 11900/15000, loss = 0.0008\n",
      "epoch 12000/15000, loss = 0.0007\n",
      "epoch 12100/15000, loss = 0.0007\n",
      "epoch 12200/15000, loss = 0.0006\n",
      "epoch 12300/15000, loss = 0.0006\n",
      "epoch 12400/15000, loss = 0.0006\n",
      "epoch 12500/15000, loss = 0.0006\n",
      "epoch 12600/15000, loss = 0.0006\n",
      "epoch 12700/15000, loss = 0.0007\n",
      "epoch 12800/15000, loss = 0.0006\n",
      "epoch 12900/15000, loss = 0.0006\n",
      "epoch 13000/15000, loss = 0.0006\n",
      "epoch 13100/15000, loss = 0.0007\n",
      "epoch 13200/15000, loss = 0.0006\n",
      "epoch 13300/15000, loss = 0.0006\n",
      "epoch 13400/15000, loss = 0.0006\n",
      "epoch 13500/15000, loss = 0.0006\n",
      "epoch 13600/15000, loss = 0.0006\n",
      "epoch 13700/15000, loss = 0.0006\n",
      "epoch 13800/15000, loss = 0.0006\n",
      "epoch 13900/15000, loss = 0.0006\n",
      "epoch 14000/15000, loss = 0.0006\n",
      "epoch 14100/15000, loss = 0.0006\n",
      "epoch 14200/15000, loss = 0.0006\n",
      "epoch 14300/15000, loss = 0.0006\n",
      "epoch 14400/15000, loss = 0.0006\n",
      "epoch 14500/15000, loss = 0.0006\n",
      "epoch 14600/15000, loss = 0.0006\n",
      "epoch 14700/15000, loss = 0.0006\n",
      "epoch 14800/15000, loss = 0.0007\n",
      "epoch 14900/15000, loss = 0.0006\n",
      "epoch 15000/15000, loss = 0.0006\n",
      "Best Train loss 0.0006\n",
      "hyperparams: \n",
      " learning_rate 0.001, scheduler none, scheduler_factor 0.1, scheduler_patience 50, use_bn True, Early_stop_patience 5000, Decay 0\n"
     ]
    },
    {
     "data": {
      "application/vnd.jupyter.widget-view+json": {
       "model_id": "a47bc5737bf5421b846dfea17e058662",
       "version_major": 2,
       "version_minor": 0
      },
      "text/plain": [
       "Epoch:   0%|          | 0/15000 [00:00<?, ?it/s]"
      ]
     },
     "metadata": {},
     "output_type": "display_data"
    },
    {
     "name": "stdout",
     "output_type": "stream",
     "text": [
      "epoch 100/15000, loss = 0.0402\n",
      "epoch 200/15000, loss = 0.0235\n",
      "epoch 300/15000, loss = 0.0102\n",
      "epoch 400/15000, loss = 0.0074\n",
      "epoch 500/15000, loss = 0.0060\n",
      "epoch 600/15000, loss = 0.0048\n",
      "epoch 700/15000, loss = 0.0040\n",
      "epoch 800/15000, loss = 0.0091\n",
      "epoch 900/15000, loss = 0.0033\n",
      "epoch 1000/15000, loss = 0.0043\n",
      "epoch 1100/15000, loss = 0.0027\n",
      "epoch 1200/15000, loss = 0.0023\n",
      "epoch 1300/15000, loss = 0.0021\n",
      "epoch 1400/15000, loss = 0.0019\n",
      "epoch 1500/15000, loss = 0.0019\n",
      "epoch 1600/15000, loss = 0.0019\n",
      "epoch 1700/15000, loss = 0.0016\n",
      "epoch 1800/15000, loss = 0.0015\n",
      "epoch 1900/15000, loss = 0.0014\n",
      "epoch 2000/15000, loss = 0.0017\n",
      "epoch 2100/15000, loss = 0.0014\n",
      "epoch 2200/15000, loss = 0.0011\n",
      "epoch 2300/15000, loss = 0.0011\n",
      "epoch 2400/15000, loss = 0.0011\n",
      "epoch 2500/15000, loss = 0.0011\n",
      "epoch 2600/15000, loss = 0.0010\n",
      "epoch 2700/15000, loss = 0.0010\n",
      "epoch 2800/15000, loss = 0.0010\n",
      "epoch 2900/15000, loss = 0.0028\n",
      "epoch 3000/15000, loss = 0.0009\n",
      "epoch 3100/15000, loss = 0.0009\n",
      "epoch 3200/15000, loss = 0.0009\n",
      "epoch 3300/15000, loss = 0.0008\n",
      "epoch 3400/15000, loss = 0.0008\n",
      "epoch 3500/15000, loss = 0.0008\n",
      "epoch 3600/15000, loss = 0.0008\n",
      "epoch 3700/15000, loss = 0.0008\n",
      "epoch 3800/15000, loss = 0.0008\n",
      "epoch 3900/15000, loss = 0.0008\n",
      "epoch 4000/15000, loss = 0.0008\n",
      "epoch 4100/15000, loss = 0.0007\n",
      "epoch 4200/15000, loss = 0.0007\n",
      "epoch 4300/15000, loss = 0.0008\n",
      "epoch 4400/15000, loss = 0.0013\n",
      "epoch 4500/15000, loss = 0.0010\n",
      "epoch 4600/15000, loss = 0.0008\n",
      "epoch 4700/15000, loss = 0.0007\n",
      "epoch 4800/15000, loss = 0.0007\n",
      "epoch 4900/15000, loss = 0.0018\n",
      "epoch 5000/15000, loss = 0.0007\n",
      "epoch 5100/15000, loss = 0.0006\n",
      "epoch 5200/15000, loss = 0.0006\n",
      "epoch 5300/15000, loss = 0.0007\n",
      "epoch 5400/15000, loss = 0.0006\n",
      "epoch 5500/15000, loss = 0.0008\n",
      "epoch 5600/15000, loss = 0.0008\n",
      "epoch 5700/15000, loss = 0.0006\n",
      "epoch 5800/15000, loss = 0.0007\n",
      "epoch 5900/15000, loss = 0.0014\n",
      "epoch 6000/15000, loss = 0.0007\n",
      "epoch 6100/15000, loss = 0.0006\n",
      "epoch 6200/15000, loss = 0.0006\n",
      "epoch 6300/15000, loss = 0.0006\n",
      "epoch 6400/15000, loss = 0.0006\n",
      "epoch 6500/15000, loss = 0.0006\n",
      "epoch 6600/15000, loss = 0.0006\n",
      "epoch 6700/15000, loss = 0.0006\n",
      "epoch 6800/15000, loss = 0.0006\n",
      "epoch 6900/15000, loss = 0.0006\n",
      "epoch 7000/15000, loss = 0.0006\n",
      "epoch 7100/15000, loss = 0.0007\n",
      "epoch 7200/15000, loss = 0.0006\n",
      "epoch 7300/15000, loss = 0.0014\n",
      "epoch 7400/15000, loss = 0.0006\n",
      "epoch 7500/15000, loss = 0.0006\n",
      "epoch 7600/15000, loss = 0.0006\n",
      "epoch 7700/15000, loss = 0.0007\n",
      "epoch 7800/15000, loss = 0.0006\n",
      "epoch 7900/15000, loss = 0.0006\n",
      "epoch 8000/15000, loss = 0.0006\n",
      "epoch 8100/15000, loss = 0.0006\n",
      "epoch 8200/15000, loss = 0.0006\n",
      "epoch 8300/15000, loss = 0.0006\n",
      "epoch 8400/15000, loss = 0.0018\n",
      "epoch 8500/15000, loss = 0.0006\n",
      "epoch 8600/15000, loss = 0.0006\n",
      "epoch 8700/15000, loss = 0.0006\n",
      "epoch 8800/15000, loss = 0.0006\n",
      "epoch 8900/15000, loss = 0.0006\n",
      "epoch 9000/15000, loss = 0.0008\n",
      "epoch 9100/15000, loss = 0.0006\n",
      "epoch 9200/15000, loss = 0.0006\n",
      "epoch 9300/15000, loss = 0.0006\n",
      "epoch 9400/15000, loss = 0.0006\n",
      "epoch 9500/15000, loss = 0.0006\n",
      "epoch 9600/15000, loss = 0.0006\n",
      "epoch 9700/15000, loss = 0.0006\n",
      "epoch 9800/15000, loss = 0.0006\n",
      "epoch 9900/15000, loss = 0.0006\n",
      "epoch 10000/15000, loss = 0.0006\n",
      "epoch 10100/15000, loss = 0.0006\n",
      "epoch 10200/15000, loss = 0.0006\n",
      "epoch 10300/15000, loss = 0.0007\n",
      "epoch 10400/15000, loss = 0.0006\n",
      "epoch 10500/15000, loss = 0.0006\n",
      "epoch 10600/15000, loss = 0.0087\n",
      "epoch 10700/15000, loss = 0.0009\n",
      "epoch 10800/15000, loss = 0.0007\n",
      "epoch 10900/15000, loss = 0.0007\n",
      "epoch 11000/15000, loss = 0.0006\n",
      "epoch 11100/15000, loss = 0.0006\n",
      "epoch 11200/15000, loss = 0.0006\n",
      "epoch 11300/15000, loss = 0.0006\n",
      "epoch 11400/15000, loss = 0.0006\n",
      "epoch 11500/15000, loss = 0.0006\n",
      "epoch 11600/15000, loss = 0.0006\n",
      "epoch 11700/15000, loss = 0.0006\n",
      "epoch 11800/15000, loss = 0.0006\n",
      "epoch 11900/15000, loss = 0.0006\n",
      "epoch 12000/15000, loss = 0.0006\n",
      "epoch 12100/15000, loss = 0.0006\n",
      "epoch 12200/15000, loss = 0.0006\n",
      "epoch 12300/15000, loss = 0.0006\n",
      "epoch 12400/15000, loss = 0.0006\n",
      "epoch 12500/15000, loss = 0.0006\n",
      "epoch 12600/15000, loss = 0.0006\n",
      "epoch 12700/15000, loss = 0.0006\n",
      "epoch 12800/15000, loss = 0.0006\n",
      "epoch 12900/15000, loss = 0.0006\n",
      "epoch 13000/15000, loss = 0.0006\n",
      "epoch 13100/15000, loss = 0.0006\n",
      "epoch 13200/15000, loss = 0.0006\n",
      "epoch 13300/15000, loss = 0.0006\n",
      "epoch 13400/15000, loss = 0.0006\n",
      "epoch 13500/15000, loss = 0.0006\n",
      "epoch 13600/15000, loss = 0.0006\n",
      "epoch 13700/15000, loss = 0.0006\n",
      "epoch 13800/15000, loss = 0.0006\n",
      "epoch 13900/15000, loss = 0.0006\n",
      "epoch 14000/15000, loss = 0.0006\n",
      "epoch 14100/15000, loss = 0.0006\n",
      "epoch 14200/15000, loss = 0.0006\n",
      "epoch 14300/15000, loss = 0.0006\n",
      "epoch 14400/15000, loss = 0.0006\n",
      "epoch 14500/15000, loss = 0.0006\n",
      "epoch 14600/15000, loss = 0.0006\n",
      "epoch 14700/15000, loss = 0.0006\n",
      "epoch 14800/15000, loss = 0.0006\n",
      "epoch 14900/15000, loss = 0.0009\n",
      "epoch 15000/15000, loss = 0.0006\n",
      "Best Train loss 0.0006\n",
      "hyperparams: \n",
      " learning_rate 0.0001, scheduler none, scheduler_factor 0.1, scheduler_patience 50, use_bn True, Early_stop_patience 5000, Decay 0\n"
     ]
    },
    {
     "data": {
      "application/vnd.jupyter.widget-view+json": {
       "model_id": "99854a7d50184d66a8fdd3836c9aaa8a",
       "version_major": 2,
       "version_minor": 0
      },
      "text/plain": [
       "Epoch:   0%|          | 0/15000 [00:00<?, ?it/s]"
      ]
     },
     "metadata": {},
     "output_type": "display_data"
    },
    {
     "name": "stdout",
     "output_type": "stream",
     "text": [
      "epoch 100/15000, loss = 0.1371\n",
      "epoch 200/15000, loss = 0.0724\n",
      "epoch 300/15000, loss = 0.0453\n",
      "epoch 400/15000, loss = 0.0317\n",
      "epoch 500/15000, loss = 0.0238\n",
      "epoch 600/15000, loss = 0.0184\n",
      "epoch 700/15000, loss = 0.0150\n",
      "epoch 800/15000, loss = 0.0126\n",
      "epoch 900/15000, loss = 0.0108\n",
      "epoch 1000/15000, loss = 0.0095\n",
      "epoch 1100/15000, loss = 0.0090\n",
      "epoch 1200/15000, loss = 0.0074\n",
      "epoch 1300/15000, loss = 0.0079\n",
      "epoch 1400/15000, loss = 0.0058\n",
      "epoch 1500/15000, loss = 0.0053\n",
      "epoch 1600/15000, loss = 0.0047\n",
      "epoch 1700/15000, loss = 0.0046\n",
      "epoch 1800/15000, loss = 0.0079\n",
      "epoch 1900/15000, loss = 0.0035\n",
      "epoch 2000/15000, loss = 0.0032\n",
      "epoch 2100/15000, loss = 0.0029\n",
      "epoch 2200/15000, loss = 0.0032\n",
      "epoch 2300/15000, loss = 0.0023\n",
      "epoch 2400/15000, loss = 0.0021\n",
      "epoch 2500/15000, loss = 0.0019\n",
      "epoch 2600/15000, loss = 0.0039\n",
      "epoch 2700/15000, loss = 0.0020\n",
      "epoch 2800/15000, loss = 0.0015\n",
      "epoch 2900/15000, loss = 0.0014\n",
      "epoch 3000/15000, loss = 0.0014\n",
      "epoch 3100/15000, loss = 0.0013\n",
      "epoch 3200/15000, loss = 0.0011\n",
      "epoch 3300/15000, loss = 0.0011\n",
      "epoch 3400/15000, loss = 0.0016\n",
      "epoch 3500/15000, loss = 0.0010\n",
      "epoch 3600/15000, loss = 0.0010\n",
      "epoch 3700/15000, loss = 0.0013\n",
      "epoch 3800/15000, loss = 0.0011\n",
      "epoch 3900/15000, loss = 0.0008\n",
      "epoch 4000/15000, loss = 0.0008\n",
      "epoch 4100/15000, loss = 0.0008\n",
      "epoch 4200/15000, loss = 0.0008\n",
      "epoch 4300/15000, loss = 0.0010\n",
      "epoch 4400/15000, loss = 0.0011\n",
      "epoch 4500/15000, loss = 0.0010\n",
      "epoch 4600/15000, loss = 0.0007\n",
      "epoch 4700/15000, loss = 0.0007\n",
      "epoch 4800/15000, loss = 0.0007\n",
      "epoch 4900/15000, loss = 0.0007\n",
      "epoch 5000/15000, loss = 0.0008\n",
      "epoch 5100/15000, loss = 0.0007\n",
      "epoch 5200/15000, loss = 0.0007\n",
      "epoch 5300/15000, loss = 0.0006\n",
      "epoch 5400/15000, loss = 0.0007\n",
      "epoch 5500/15000, loss = 0.0006\n",
      "epoch 5600/15000, loss = 0.0006\n",
      "epoch 5700/15000, loss = 0.0019\n",
      "epoch 5800/15000, loss = 0.0006\n",
      "epoch 5900/15000, loss = 0.0006\n",
      "epoch 6000/15000, loss = 0.0007\n",
      "epoch 6100/15000, loss = 0.0020\n",
      "epoch 6200/15000, loss = 0.0010\n",
      "epoch 6300/15000, loss = 0.0008\n",
      "epoch 6400/15000, loss = 0.0007\n",
      "epoch 6500/15000, loss = 0.0007\n",
      "epoch 6600/15000, loss = 0.0007\n",
      "epoch 6700/15000, loss = 0.0007\n",
      "epoch 6800/15000, loss = 0.0006\n",
      "epoch 6900/15000, loss = 0.0006\n",
      "epoch 7000/15000, loss = 0.0006\n",
      "epoch 7100/15000, loss = 0.0006\n",
      "epoch 7200/15000, loss = 0.0006\n",
      "epoch 7300/15000, loss = 0.0006\n",
      "epoch 7400/15000, loss = 0.0006\n",
      "epoch 7500/15000, loss = 0.0006\n",
      "epoch 7600/15000, loss = 0.0006\n",
      "epoch 7700/15000, loss = 0.0006\n",
      "epoch 7800/15000, loss = 0.0006\n",
      "epoch 7900/15000, loss = 0.0006\n",
      "epoch 8000/15000, loss = 0.0006\n",
      "epoch 8100/15000, loss = 0.0006\n",
      "epoch 8200/15000, loss = 0.0006\n",
      "epoch 8300/15000, loss = 0.0006\n",
      "epoch 8400/15000, loss = 0.0006\n",
      "epoch 8500/15000, loss = 0.0006\n",
      "epoch 8600/15000, loss = 0.0006\n",
      "epoch 8700/15000, loss = 0.0006\n",
      "epoch 8800/15000, loss = 0.0006\n",
      "epoch 8900/15000, loss = 0.0006\n",
      "epoch 9000/15000, loss = 0.0006\n",
      "epoch 9100/15000, loss = 0.0006\n",
      "epoch 9200/15000, loss = 0.0006\n",
      "epoch 9300/15000, loss = 0.0006\n",
      "epoch 9400/15000, loss = 0.0006\n",
      "epoch 9500/15000, loss = 0.0006\n",
      "epoch 9600/15000, loss = 0.0006\n",
      "epoch 9700/15000, loss = 0.0006\n",
      "epoch 9800/15000, loss = 0.0006\n",
      "epoch 9900/15000, loss = 0.0006\n",
      "epoch 10000/15000, loss = 0.0006\n",
      "epoch 10100/15000, loss = 0.0006\n",
      "epoch 10200/15000, loss = 0.0006\n",
      "epoch 10300/15000, loss = 0.0006\n",
      "epoch 10400/15000, loss = 0.0006\n",
      "epoch 10500/15000, loss = 0.0006\n",
      "epoch 10600/15000, loss = 0.0006\n",
      "epoch 10700/15000, loss = 0.0006\n",
      "epoch 10800/15000, loss = 0.0006\n",
      "epoch 10900/15000, loss = 0.0006\n",
      "epoch 11000/15000, loss = 0.0006\n",
      "epoch 11100/15000, loss = 0.0007\n",
      "epoch 11200/15000, loss = 0.0006\n",
      "epoch 11300/15000, loss = 0.0006\n",
      "epoch 11400/15000, loss = 0.0006\n",
      "epoch 11500/15000, loss = 0.0006\n",
      "epoch 11600/15000, loss = 0.0012\n",
      "epoch 11700/15000, loss = 0.0006\n",
      "epoch 11800/15000, loss = 0.0006\n",
      "epoch 11900/15000, loss = 0.0006\n",
      "epoch 12000/15000, loss = 0.0006\n",
      "epoch 12100/15000, loss = 0.0006\n",
      "epoch 12200/15000, loss = 0.0006\n",
      "epoch 12300/15000, loss = 0.0006\n",
      "epoch 12400/15000, loss = 0.0006\n",
      "epoch 12500/15000, loss = 0.0006\n",
      "epoch 12600/15000, loss = 0.0006\n",
      "epoch 12700/15000, loss = 0.0006\n",
      "epoch 12800/15000, loss = 0.0006\n",
      "epoch 12900/15000, loss = 0.0006\n",
      "epoch 13000/15000, loss = 0.0006\n",
      "epoch 13100/15000, loss = 0.0006\n",
      "epoch 13200/15000, loss = 0.0006\n",
      "epoch 13300/15000, loss = 0.0006\n",
      "epoch 13400/15000, loss = 0.0006\n",
      "epoch 13500/15000, loss = 0.0006\n",
      "epoch 13600/15000, loss = 0.0006\n",
      "epoch 13700/15000, loss = 0.0006\n",
      "epoch 13800/15000, loss = 0.0006\n",
      "epoch 13900/15000, loss = 0.0006\n",
      "epoch 14000/15000, loss = 0.0006\n",
      "epoch 14100/15000, loss = 0.0006\n",
      "epoch 14200/15000, loss = 0.0006\n",
      "epoch 14300/15000, loss = 0.0006\n",
      "epoch 14400/15000, loss = 0.0006\n",
      "epoch 14500/15000, loss = 0.0006\n",
      "epoch 14600/15000, loss = 0.0008\n",
      "epoch 14700/15000, loss = 0.0006\n",
      "epoch 14800/15000, loss = 0.0006\n",
      "epoch 14900/15000, loss = 0.0006\n",
      "epoch 15000/15000, loss = 0.0006\n",
      "Best Train loss 0.0006\n",
      "Best Train loss: 0.0006, best hyperparams: learning_rate: 0.0001, scheduler: none, scheduler_factor: 0.1, scheduler_patience: 50, use_bn: True, Early_stop_patience: 5000, Decay: 0\n"
     ]
    },
    {
     "data": {
      "image/png": "[encoded data removed]",
      "text/plain": [
       "<Figure size 720x360 with 1 Axes>"
      ]
     },
     "metadata": {
      "needs_background": "light"
     },
     "output_type": "display_data"
    },
    {
     "name": "stdout",
     "output_type": "stream",
     "text": [
      "Final loss: 0.001\n",
      "simulation time:105m 20s\n"
     ]
    }
   ],
   "source": [
    "os.makedirs(WORK_DIR + '/models', exist_ok=True)\n",
    "os.makedirs(WORK_DIR + '/history', exist_ok=True)\n",
    "\n",
    "x = torch.ones((1, 1, SIZE, SIZE)) * psi0_masked\n",
    "s = DX1N * DX2N * LIM1[1] * LIM2[1]\n",
    "\n",
    "# Перемещение на GPU\n",
    "x = x.to(DEVICE)\n",
    "flowDomainMask = flowDomainMask.to(DEVICE)\n",
    "lowerWallMask = lowerWallMask.to(DEVICE)\n",
    "DX1N = DX1N.to(DEVICE)\n",
    "DX2N = DX2N.to(DEVICE)\n",
    "s = s.to(DEVICE)\n",
    "\n",
    "run_record = {}\n",
    "\n",
    "for hyp in HYPS:\n",
    "    print('hyperparams: \\n', dict2str(hyp)) \n",
    "\n",
    "    model_path = (f'{WORK_DIR}/models/{MODEL_NAME}_{dict2str(hyp)}.pth')\n",
    "\n",
    "    callbacks = [SaveBest(f'Train loss', model_path, 'min'),\n",
    "                 EarlyStop(f'Train loss', EARLY_STOP_PATIENCE, 'min')]\n",
    "\n",
    "    model = UNet(in_channels=1, out_channels=1, init_features=NoOfFeatures, use_bn=hyp[\"use_bn\"])\n",
    "    model = model.to(DEVICE)\n",
    "\n",
    "    optimizer = torch.optim.Adam(model.parameters(), lr=hyp[\"learning_rate\"], weight_decay=DECAY)\n",
    "    \n",
    "    criterion = power_loss\n",
    "    \n",
    "    #Log model, criterion, and optimizer\n",
    "    run[\"config/model\"] = type(model).__name__\n",
    "    run[\"config/criterion\"] = type(criterion).__name__\n",
    "    run[\"config/optimizer\"] = type(optimizer).__name__\n",
    "\n",
    "    \n",
    "    if hyp[\"scheduler\"] == \"step\":\n",
    "        lr_scheduler = torch.optim.lr_scheduler.ReduceLROnPlateau(optimizer, mode='min',\n",
    "                                                                  patience=hyp[\"scheduler_patience\"],\n",
    "                                                                  min_lr=1e-6, factor=hyp[\"scheduler_factor\"])\n",
    "    elif hyp[\"scheduler\"] == \"cycle\":\n",
    "        lr_scheduler = scheduler = torch.optim.lr_scheduler.OneCycleLR(optimizer, max_lr=hyp[\"learning_rate\"] * 20,\n",
    "                                                                       steps_per_epoch=1, epochs=EPOCHS,\n",
    "                                                                       pct_start=0.125,\n",
    "                                                                       div_factor=hyp[\"scheduler_factor\"] ** -1,\n",
    "                                                                       final_div_factor=(hyp[\"scheduler_factor\"] ** -1) * 50)\n",
    "    else:\n",
    "        lr_scheduler = None\n",
    "\n",
    "    history = train(model, x, optimizer, power_loss,\n",
    "                    epochs=EPOCHS, print_every=100,\n",
    "                    callbacks=callbacks, lr_scheduler=lr_scheduler)\n",
    "\n",
    "    run_record[model_path] = {'hyperparams': hyp,\n",
    "                              'history': history,\n",
    "                              'final_val_metric': callbacks[1].best_monitor}\n",
    "\n",
    "    print(f\"Best Train loss %4.4f\" % (callbacks[1].best_monitor))\n",
    "\n",
    "    model = None\n",
    "    optimizer = None\n",
    "\n",
    "    torch.cuda.empty_cache()\n",
    "\n",
    "best_val_metric = None\n",
    "best_hyperparams = None\n",
    "best_run = None\n",
    "best_model_path = None\n",
    "\n",
    "for key, train_info in run_record.items():\n",
    "    if best_val_metric is None or best_val_metric > train_info['final_val_metric']:\n",
    "        best_val_metric = train_info['final_val_metric']\n",
    "        best_hyperparams = train_info['hyperparams']\n",
    "        best_run = train_info\n",
    "        best_model_path = key\n",
    "\n",
    "with open(f'{WORK_DIR}/history/{MODEL_NAME}_history.json', 'w') as fp:\n",
    "    json.dump(run_record, fp)\n",
    "\n",
    "best_hyp = str(best_hyperparams).replace(\"}\", \"\")\n",
    "best_hyp = best_hyp.replace(\"{\", \"\")\n",
    "best_hyp = best_hyp.replace(\"'\", \"\")\n",
    "\n",
    "print(f\"Best Train loss: %4.4f, best hyperparams: %s\" % (best_val_metric, best_hyp))\n",
    "\n",
    "model = UNet(in_channels=1, out_channels=1, init_features=NoOfFeatures, use_bn=best_hyperparams[\"use_bn\"])\n",
    "model.load_state_dict(torch.load(best_model_path))\n",
    "torch.save(model.state_dict(), f'{WORK_DIR}/models/{MODEL_NAME}_best.pth')\n",
    "\n",
    "model = model.to(DEVICE)\n",
    "\n",
    "psi = model.forward(x)\n",
    "\n",
    "plot_train_history(best_run['history'])\n",
    "\n",
    "simulation_time = time.time() - start_time\n",
    "print(f'Final loss: {power_loss(psi).cpu().item() :.3f}')\n",
    "print('simulation time:{:.0f}m {:.0f}s'.format(\n",
    "      simulation_time // 60, simulation_time % 60))"
   ]
  },
  {
   "cell_type": "markdown",
   "metadata": {
    "id": "PhZutgNIyYhH"
   },
   "source": [
    "## Results"
   ]
  },
  {
   "cell_type": "code",
   "execution_count": 29,
   "metadata": {},
   "outputs": [
    {
     "data": {
      "image/png": "[encoded data removed]",
      "text/plain": [
       "<Figure size 1080x360 with 3 Axes>"
      ]
     },
     "metadata": {
      "needs_background": "light"
     },
     "output_type": "display_data"
    }
   ],
   "source": [
    "#Output of the network: psi function of the flow\n",
    "\n",
    "psi_masked = (psi[0, 0, :, :].clone().detach() * flowDomainMask) + (lowerWallMask * Q)\n",
    "v1, v2 = velocityDistr(psi_masked, DX1N, DX2N, LIM1, LIM2)\n",
    "xi11ch, xi12ch, xi22ch, EtaEtach = TksiDistr(v1, v2, DX1N, DX2N, LIM1, LIM2)\n",
    "int1EtaEta = torch.trapz(EtaEtach)\n",
    "int2EtaEta = torch.trapz(int1EtaEta)\n",
    "outch = 0.5*MU*s*int2EtaEta\n",
    "\n",
    "\n",
    "#Visualization\n",
    "nr=1\n",
    "nc=3\n",
    "fig = plt.figure(figsize=(FIGSIZE*nc, FIGSIZE*nr))\n",
    "plt.subplot(nr,nc,1)\n",
    "plt.imshow(psi[0, 0, :, :].clone().detach().to('cpu'))\n",
    "plt.title('Flow function, Psi (raw)')\n",
    "\n",
    "plt.subplot(nr,nc,2)\n",
    "plt.imshow(psi_masked.to('cpu'))\n",
    "plt.title('Flow function, Psi')\n",
    "\n",
    "plt.subplot(nr,nc,3)\n",
    "plt.plot(psi_masked[:,sp].to('cpu'))\n",
    "plt.title('Flow funcion, Psi (vertical slice)')\n",
    "\n",
    "plt.show()"
   ]
  },
  {
   "cell_type": "code",
   "execution_count": 30,
   "metadata": {
    "colab": {
     "base_uri": "https://localhost:8080/",
     "height": 234
    },
    "id": "IcEzHkrgcVWx",
    "outputId": "3679348b-c16e-4754-99ef-3040a3a32b9b"
   },
   "outputs": [
    {
     "data": {
      "image/png": "[encoded data removed]",
      "text/plain": [
       "<Figure size 720x720 with 5 Axes>"
      ]
     },
     "metadata": {
      "needs_background": "light"
     },
     "output_type": "display_data"
    },
    {
     "name": "stdout",
     "output_type": "stream",
     "text": [
      "v1_max =  tensor(0.2412, device='cuda:0') v1_min =  tensor(-0.0043, device='cuda:0')\n"
     ]
    }
   ],
   "source": [
    "#Visualization\n",
    "nr=2\n",
    "nc=2\n",
    "fig = plt.figure(figsize=(FIGSIZE*nr, FIGSIZE*nc))\n",
    "plt.subplot(nr,nc,1)\n",
    "plt.imshow(psi_masked.to('cpu'))\n",
    "plt.title('(a) Flow function,$\\Psi$')\n",
    "\n",
    "plt.subplot(nr,nc,2)\n",
    "vector_plot(np.meshgrid(-X1N,-X2N), [np.array(v1.cpu()),np.array(v2.cpu())],FIGSIZE, \n",
    "            '(b) Velocity, $V = [v_1, v_2]$', 10)\n",
    "plt.xticks([])\n",
    "plt.yticks([])\n",
    "\n",
    "plt.subplot(nr,nc,3)\n",
    "plt.plot(psi_masked[:,sp].to('cpu'))\n",
    "plt.grid(True)\n",
    "plt.title('Flow function, $\\Psi$ (vertical slice)')\n",
    "\n",
    "plt.subplot(nr,nc,4)\n",
    "plt.plot(v1.cpu())\n",
    "plt.grid(True)\n",
    "plt.title('v1 (vertical slice)')\n",
    "\n",
    "plt.show()\n",
    "print('v1_max = ', v1.max(), 'v1_min = ', v1.min())"
   ]
  },
  {
   "cell_type": "code",
   "execution_count": 31,
   "metadata": {
    "colab": {
     "base_uri": "https://localhost:8080/",
     "height": 282
    },
    "id": "rXz9T9VWA3G5",
    "outputId": "44a0902a-36ce-48f8-c4f9-a46992ff780d"
   },
   "outputs": [
    {
     "data": {
      "image/png": "[encoded data removed]",
      "text/plain": [
       "<Figure size 720x180 with 1 Axes>"
      ]
     },
     "metadata": {
      "needs_background": "light"
     },
     "output_type": "display_data"
    }
   ],
   "source": [
    "# Check the flow rate\n",
    "Qch = torch.trapz(v1.t()) * DX1N * L\n",
    "\n",
    "fig = plt.figure(figsize=(FIGSIZE*2, FIGSIZE/2))\n",
    "plt.plot(Qch.cpu())\n",
    "plt.title(f'Flow rate through the vertical slices of the flow domain of size L x L = {L} x {L} \\nshould be equal to Q = {Q}')\n",
    "plt.show()"
   ]
  },
  {
   "cell_type": "code",
   "execution_count": 32,
   "metadata": {
    "colab": {
     "base_uri": "https://localhost:8080/",
     "height": 182
    },
    "id": "r3w7q2Y1pIfD",
    "outputId": "b26b5134-c04b-42a6-de69-787c7b966627"
   },
   "outputs": [
    {
     "name": "stdout",
     "output_type": "stream",
     "text": [
      "Q =  0.0004999994998797774 ; Loss =  0.0005664186319336295\n"
     ]
    }
   ],
   "source": [
    "print('Q = ', Qch.mean().cpu().item(), '; Loss = ', power_loss(psi).cpu().item())"
   ]
  },
  {
   "cell_type": "code",
   "execution_count": null,
   "metadata": {},
   "outputs": [],
   "source": []
  },
  {
   "cell_type": "code",
   "execution_count": 33,
   "metadata": {},
   "outputs": [
    {
     "name": "stdout",
     "output_type": "stream",
     "text": [
      "tensor(1.7042) tensor(111128.2500) tensor(0.) tensor(391697.5625)\n",
      "tensor(0.0006, device='cuda:0')\n"
     ]
    }
   ],
   "source": [
    "print (EtaEta.cpu().min(), EtaEta.cpu().max(), EtaEtach.cpu().min(), EtaEtach.cpu().max()) \n",
    "print(outch)\n"
   ]
  },
  {
   "cell_type": "code",
   "execution_count": 34,
   "metadata": {},
   "outputs": [
    {
     "name": "stdout",
     "output_type": "stream",
     "text": [
      "tensor(1.7042) tensor(111128.2500) tensor(0.) tensor(79975.5859)\n"
     ]
    },
    {
     "data": {
      "image/png": "[encoded data removed]",
      "text/plain": [
       "<Figure size 720x180 with 1 Axes>"
      ]
     },
     "metadata": {
      "needs_background": "light"
     },
     "output_type": "display_data"
    }
   ],
   "source": [
    "\n",
    "print (EtaEta.cpu().min(), EtaEta.cpu().max(), EtaEtach.cpu()[:,sp].min(), EtaEtach.cpu()[:,sp].max()) \n",
    "fig = plt.figure(figsize=(FIGSIZE*2, FIGSIZE/2))\n",
    "plt.plot(EtaEtach.cpu())\n",
    "plt.title('Eta*Eta')\n",
    "plt.show()"
   ]
  },
  {
   "cell_type": "code",
   "execution_count": 35,
   "metadata": {},
   "outputs": [
    {
     "data": {
      "image/png": "[encoded data removed]",
      "text/plain": [
       "<Figure size 720x180 with 1 Axes>"
      ]
     },
     "metadata": {
      "needs_background": "light"
     },
     "output_type": "display_data"
    }
   ],
   "source": [
    "fig = plt.figure(figsize=(FIGSIZE*2, FIGSIZE/2))\n",
    "plt.plot(v1.cpu()[:,sp])\n",
    "plt.title('v1')\n",
    "plt.show()"
   ]
  },
  {
   "cell_type": "code",
   "execution_count": 36,
   "metadata": {},
   "outputs": [
    {
     "data": {
      "text/plain": [
       "(0.001132837263867259, 0.001333374879322946, 0.15039852525008943)"
      ]
     },
     "execution_count": 36,
     "metadata": {},
     "output_type": "execute_result"
    }
   ],
   "source": [
    " #Check power\n",
    "Intch = power_loss(psi).cpu().item()*2\n",
    "acc_rel_exact = (Int_ex.item()-Intch)/Int_ex.item()\n",
    "Intch, Int_ex.item(), acc_rel_exact"
   ]
  },
  {
   "cell_type": "markdown",
   "metadata": {},
   "source": [
    "## Log results"
   ]
  },
  {
   "cell_type": "code",
   "execution_count": 37,
   "metadata": {},
   "outputs": [],
   "source": [
    "results = {'Internal_power':Intch,\n",
    "           'Internal_power_exact':Int_ex.item(),\n",
    "           'Accuracy (in comparison with analitical solution)': acc_rel_exact}\n",
    "run[\"config/results\"] = results"
   ]
  },
  {
   "cell_type": "markdown",
   "metadata": {},
   "source": [
    "## Stop logging"
   ]
  },
  {
   "cell_type": "code",
   "execution_count": 38,
   "metadata": {},
   "outputs": [
    {
     "name": "stdout",
     "output_type": "stream",
     "text": [
      "Shutting down background jobs, please wait a moment...\n",
      "Done!\n",
      "Waiting for the remaining 48 operations to synchronize with Neptune. Do not kill this process.\n",
      "All 48 operations synced, thanks for waiting!\n",
      "Explore the metadata in the Neptune app:\n",
      "https://app.neptune.ai/avkornaev/PhysicsBasedDL/e/PHYSIC-27\n"
     ]
    }
   ],
   "source": [
    "run.stop()"
   ]
  },
  {
   "cell_type": "markdown",
   "metadata": {
    "id": "rpGo7xQz6cny"
   },
   "source": [
    "# Links\n",
    "\n",
    "[1]. https://github.com/Mechanics-Mechatronics-and-Robotics/Mathematical_modelling/blob/main/Practice_1_by_IStebakov.ipynb\n",
    "\n",
    "[2]. https://github.com/mateuszbuda/brain-segmentation-pytorch"
   ]
  },
  {
   "cell_type": "code",
   "execution_count": 39,
   "metadata": {},
   "outputs": [
    {
     "data": {
      "text/plain": [
       "UNet(\n",
       "  (encoder1): Sequential(\n",
       "    (enc1conv1): Conv2d(1, 32, kernel_size=(3, 3), stride=(1, 1), padding=(1, 1), bias=False)\n",
       "    (enc1norm1): BatchNorm2d(32, eps=1e-05, momentum=0.1, affine=True, track_running_stats=True)\n",
       "    (enc1relu1): ReLU(inplace=True)\n",
       "    (enc1conv2): Conv2d(32, 32, kernel_size=(3, 3), stride=(1, 1), padding=(1, 1), bias=False)\n",
       "    (enc1norm2): BatchNorm2d(32, eps=1e-05, momentum=0.1, affine=True, track_running_stats=True)\n",
       "    (enc1relu2): ReLU(inplace=True)\n",
       "  )\n",
       "  (pool1): MaxPool2d(kernel_size=2, stride=2, padding=0, dilation=1, ceil_mode=False)\n",
       "  (encoder2): Sequential(\n",
       "    (enc2conv1): Conv2d(32, 64, kernel_size=(3, 3), stride=(1, 1), padding=(1, 1), bias=False)\n",
       "    (enc2norm1): BatchNorm2d(64, eps=1e-05, momentum=0.1, affine=True, track_running_stats=True)\n",
       "    (enc2relu1): ReLU(inplace=True)\n",
       "    (enc2conv2): Conv2d(64, 64, kernel_size=(3, 3), stride=(1, 1), padding=(1, 1), bias=False)\n",
       "    (enc2norm2): BatchNorm2d(64, eps=1e-05, momentum=0.1, affine=True, track_running_stats=True)\n",
       "    (enc2relu2): ReLU(inplace=True)\n",
       "  )\n",
       "  (pool2): MaxPool2d(kernel_size=2, stride=2, padding=0, dilation=1, ceil_mode=False)\n",
       "  (encoder3): Sequential(\n",
       "    (enc3conv1): Conv2d(64, 128, kernel_size=(3, 3), stride=(1, 1), padding=(1, 1), bias=False)\n",
       "    (enc3norm1): BatchNorm2d(128, eps=1e-05, momentum=0.1, affine=True, track_running_stats=True)\n",
       "    (enc3relu1): ReLU(inplace=True)\n",
       "    (enc3conv2): Conv2d(128, 128, kernel_size=(3, 3), stride=(1, 1), padding=(1, 1), bias=False)\n",
       "    (enc3norm2): BatchNorm2d(128, eps=1e-05, momentum=0.1, affine=True, track_running_stats=True)\n",
       "    (enc3relu2): ReLU(inplace=True)\n",
       "  )\n",
       "  (pool3): MaxPool2d(kernel_size=2, stride=2, padding=0, dilation=1, ceil_mode=False)\n",
       "  (encoder4): Sequential(\n",
       "    (enc4conv1): Conv2d(128, 256, kernel_size=(3, 3), stride=(1, 1), padding=(1, 1), bias=False)\n",
       "    (enc4norm1): BatchNorm2d(256, eps=1e-05, momentum=0.1, affine=True, track_running_stats=True)\n",
       "    (enc4relu1): ReLU(inplace=True)\n",
       "    (enc4conv2): Conv2d(256, 256, kernel_size=(3, 3), stride=(1, 1), padding=(1, 1), bias=False)\n",
       "    (enc4norm2): BatchNorm2d(256, eps=1e-05, momentum=0.1, affine=True, track_running_stats=True)\n",
       "    (enc4relu2): ReLU(inplace=True)\n",
       "  )\n",
       "  (pool4): MaxPool2d(kernel_size=2, stride=2, padding=0, dilation=1, ceil_mode=False)\n",
       "  (bottleneck): Sequential(\n",
       "    (bottleneckconv1): Conv2d(256, 512, kernel_size=(3, 3), stride=(1, 1), padding=(1, 1), bias=False)\n",
       "    (bottlenecknorm1): BatchNorm2d(512, eps=1e-05, momentum=0.1, affine=True, track_running_stats=True)\n",
       "    (bottleneckrelu1): ReLU(inplace=True)\n",
       "    (bottleneckconv2): Conv2d(512, 512, kernel_size=(3, 3), stride=(1, 1), padding=(1, 1), bias=False)\n",
       "    (bottlenecknorm2): BatchNorm2d(512, eps=1e-05, momentum=0.1, affine=True, track_running_stats=True)\n",
       "    (bottleneckrelu2): ReLU(inplace=True)\n",
       "  )\n",
       "  (upconv4): ConvTranspose2d(512, 256, kernel_size=(2, 2), stride=(2, 2))\n",
       "  (decoder4): Sequential(\n",
       "    (dec4conv1): Conv2d(512, 256, kernel_size=(3, 3), stride=(1, 1), padding=(1, 1), bias=False)\n",
       "    (dec4norm1): BatchNorm2d(256, eps=1e-05, momentum=0.1, affine=True, track_running_stats=True)\n",
       "    (dec4relu1): ReLU(inplace=True)\n",
       "    (dec4conv2): Conv2d(256, 256, kernel_size=(3, 3), stride=(1, 1), padding=(1, 1), bias=False)\n",
       "    (dec4norm2): BatchNorm2d(256, eps=1e-05, momentum=0.1, affine=True, track_running_stats=True)\n",
       "    (dec4relu2): ReLU(inplace=True)\n",
       "  )\n",
       "  (upconv3): ConvTranspose2d(256, 128, kernel_size=(2, 2), stride=(2, 2))\n",
       "  (decoder3): Sequential(\n",
       "    (dec3conv1): Conv2d(256, 128, kernel_size=(3, 3), stride=(1, 1), padding=(1, 1), bias=False)\n",
       "    (dec3norm1): BatchNorm2d(128, eps=1e-05, momentum=0.1, affine=True, track_running_stats=True)\n",
       "    (dec3relu1): ReLU(inplace=True)\n",
       "    (dec3conv2): Conv2d(128, 128, kernel_size=(3, 3), stride=(1, 1), padding=(1, 1), bias=False)\n",
       "    (dec3norm2): BatchNorm2d(128, eps=1e-05, momentum=0.1, affine=True, track_running_stats=True)\n",
       "    (dec3relu2): ReLU(inplace=True)\n",
       "  )\n",
       "  (upconv2): ConvTranspose2d(128, 64, kernel_size=(2, 2), stride=(2, 2))\n",
       "  (decoder2): Sequential(\n",
       "    (dec2conv1): Conv2d(128, 64, kernel_size=(3, 3), stride=(1, 1), padding=(1, 1), bias=False)\n",
       "    (dec2norm1): BatchNorm2d(64, eps=1e-05, momentum=0.1, affine=True, track_running_stats=True)\n",
       "    (dec2relu1): ReLU(inplace=True)\n",
       "    (dec2conv2): Conv2d(64, 64, kernel_size=(3, 3), stride=(1, 1), padding=(1, 1), bias=False)\n",
       "    (dec2norm2): BatchNorm2d(64, eps=1e-05, momentum=0.1, affine=True, track_running_stats=True)\n",
       "    (dec2relu2): ReLU(inplace=True)\n",
       "  )\n",
       "  (upconv1): ConvTranspose2d(64, 32, kernel_size=(2, 2), stride=(2, 2))\n",
       "  (decoder1): Sequential(\n",
       "    (dec1conv1): Conv2d(64, 32, kernel_size=(3, 3), stride=(1, 1), padding=(1, 1), bias=False)\n",
       "    (dec1norm1): BatchNorm2d(32, eps=1e-05, momentum=0.1, affine=True, track_running_stats=True)\n",
       "    (dec1relu1): ReLU(inplace=True)\n",
       "    (dec1conv2): Conv2d(32, 32, kernel_size=(3, 3), stride=(1, 1), padding=(1, 1), bias=False)\n",
       "    (dec1norm2): BatchNorm2d(32, eps=1e-05, momentum=0.1, affine=True, track_running_stats=True)\n",
       "    (dec1relu2): ReLU(inplace=True)\n",
       "  )\n",
       "  (decoder0): Sequential(\n",
       "    (dec1conv1): Conv2d(32, 32, kernel_size=(3, 3), stride=(1, 1), padding=(1, 1), bias=False)\n",
       "    (dec1norm1): BatchNorm2d(32, eps=1e-05, momentum=0.1, affine=True, track_running_stats=True)\n",
       "    (dec1relu1): ReLU(inplace=True)\n",
       "    (dec1conv2): Conv2d(32, 32, kernel_size=(3, 3), stride=(1, 1), padding=(1, 1), bias=False)\n",
       "    (dec1norm2): BatchNorm2d(32, eps=1e-05, momentum=0.1, affine=True, track_running_stats=True)\n",
       "    (dec1relu2): ReLU(inplace=True)\n",
       "  )\n",
       "  (conv): Conv2d(32, 1, kernel_size=(1, 1), stride=(1, 1))\n",
       ")"
      ]
     },
     "execution_count": 39,
     "metadata": {},
     "output_type": "execute_result"
    }
   ],
   "source": [
    "model"
   ]
  },
  {
   "cell_type": "code",
   "execution_count": null,
   "metadata": {},
   "outputs": [],
   "source": []
  },
  {
   "cell_type": "code",
   "execution_count": null,
   "metadata": {},
   "outputs": [],
   "source": []
  }
 ],
 "metadata": {
  "accelerator": "GPU",
  "colab": {
   "collapsed_sections": [],
   "name": "Main.ipynb",
   "provenance": []
  },
  "kernelspec": {
   "display_name": "Python 3",
   "language": "python",
   "name": "python3"
  },
  "language_info": {
   "codemirror_mode": {
    "name": "ipython",
    "version": 3
   },
   "file_extension": ".py",
   "mimetype": "text/x-python",
   "name": "python",
   "nbconvert_exporter": "python",
   "pygments_lexer": "ipython3",
   "version": "3.7.7"
  },
  "varInspector": {
   "cols": {
    "lenName": 16,
    "lenType": 16,
    "lenVar": 40
   },
   "kernels_config": {
    "python": {
     "delete_cmd_postfix": "",
     "delete_cmd_prefix": "del ",
     "library": "var_list.py",
     "varRefreshCmd": "print(var_dic_list())"
    },
    "r": {
     "delete_cmd_postfix": ") ",
     "delete_cmd_prefix": "rm(",
     "library": "var_list.r",
     "varRefreshCmd": "cat(var_dic_list()) "
    }
   },
   "types_to_exclude": [
    "module",
    "function",
    "builtin_function_or_method",
    "instance",
    "_Feature"
   ],
   "window_display": false
  }
 },
 "nbformat": 4,
 "nbformat_minor": 4
}
