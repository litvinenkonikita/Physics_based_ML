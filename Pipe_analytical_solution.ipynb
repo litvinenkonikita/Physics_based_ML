{
  "nbformat": 4,
  "nbformat_minor": 0,
  "metadata": {
    "colab": {
      "provenance": [],
      "authorship_tag": "ABX9TyOKXtUEZP0jQvEJFJC4WlOc",
      "include_colab_link": true
    },
    "kernelspec": {
      "name": "python3",
      "display_name": "Python 3"
    },
    "language_info": {
      "name": "python"
    },
    "gpuClass": "standard"
  },
  "cells": [
    {
      "cell_type": "markdown",
      "metadata": {
        "id": "view-in-github",
        "colab_type": "text"
      },
      "source": [
        "<a href=\"https://colab.research.google.com/github/litvinenkonikita/Physics_based_ML/blob/main/Pipe_analytical_solution.ipynb\" target=\"_parent\"><img src=\"https://colab.research.google.com/assets/colab-badge.svg\" alt=\"Open In Colab\"/></a>"
      ]
    },
    {
      "cell_type": "markdown",
      "source": [
        "# Introduction\n",
        "\n",
        "It is supposed that the Newtonian fluid flows through a cylindrical pipe with radius $R$. The flow is steady, the Reynolds number is smaller than the critical one $Re < Re^* {\\approx} 1100...1400$ and the pipe length is greater than the critical one $L_3 > 0.16RRe$. Then the task is known as Poiseuille flow and it has a simple analytical solution given in cylindrical coordinates $[\\rho, \\theta, x_3]$:\n",
        "\n",
        "\\begin{equation}\n",
        "    {v_3} = - \\frac{1}{4\\mu}\\frac{\\partial p}{\\partial x_3}(R^2 - \\rho^2),\n",
        "\\end{equation}\n",
        "where ${\\partial p}/{\\partial x_3}$ is the pressure drop along the axis of the cylinder.\n",
        "\n",
        "The flow rate trough the pipe cross section with surface $S_3$ is equal to:\n",
        "\n",
        "\\begin{equation}\n",
        "    {Q_3} = \\iint_{S_3} v_3 \\rho\\,d\\rho\\,d\\theta =  - \\frac{\\pi}{8}\\frac{\\partial p}{\\partial x_3}\\frac{R^4}{\\mu}.\n",
        "\\end{equation}"
      ],
      "metadata": {
        "id": "WN1yv-FGS2tg"
      }
    },
    {
      "cell_type": "markdown",
      "source": [
        "# Initialization"
      ],
      "metadata": {
        "id": "lrvFyOZpz_a_"
      }
    },
    {
      "cell_type": "markdown",
      "source": [
        "## Import libraries"
      ],
      "metadata": {
        "id": "JlSxlGhUQRJq"
      }
    },
    {
      "cell_type": "code",
      "execution_count": 50,
      "metadata": {
        "id": "uU0xxdRxQHK0"
      },
      "outputs": [],
      "source": [
        "# Pytorch modules\n",
        "import torch\n",
        "\n",
        "# Plotting\n",
        "from matplotlib import pyplot as plt\n",
        "from matplotlib import cm\n",
        "import numpy as np\n",
        "\n",
        "# Work with files and images"
      ]
    },
    {
      "cell_type": "markdown",
      "source": [
        "## Settings"
      ],
      "metadata": {
        "id": "oJubEjEoz6p7"
      }
    },
    {
      "cell_type": "code",
      "source": [
        "#Geometric parameters\n",
        "n = 100\n",
        "L_3 = 1 \n",
        "R = 0.01 \n",
        "\n",
        "#Static parameters\n",
        "dpdx_3 = -1E+2 #pressure drop\n",
        "\n",
        "#Dynamic parameters\n",
        "mu = 1E-2\n",
        "density = 1E+3\n",
        "\n",
        "#Coordinates\n",
        "x_1 = torch.linspace(-R, R, n)\n",
        "x_1, x_2 = torch.meshgrid(x_1, x_1)\n",
        "\n",
        "x_1, x_2"
      ],
      "metadata": {
        "id": "tD-xKVYOQptw",
        "colab": {
          "base_uri": "https://localhost:8080/"
        },
        "outputId": "22895e61-a0f0-4b69-94ef-1405dfed702f"
      },
      "execution_count": 56,
      "outputs": [
        {
          "output_type": "execute_result",
          "data": {
            "text/plain": [
              "(tensor([[-0.0100, -0.0100, -0.0100,  ..., -0.0100, -0.0100, -0.0100],\n",
              "         [-0.0098, -0.0098, -0.0098,  ..., -0.0098, -0.0098, -0.0098],\n",
              "         [-0.0096, -0.0096, -0.0096,  ..., -0.0096, -0.0096, -0.0096],\n",
              "         ...,\n",
              "         [ 0.0096,  0.0096,  0.0096,  ...,  0.0096,  0.0096,  0.0096],\n",
              "         [ 0.0098,  0.0098,  0.0098,  ...,  0.0098,  0.0098,  0.0098],\n",
              "         [ 0.0100,  0.0100,  0.0100,  ...,  0.0100,  0.0100,  0.0100]]),\n",
              " tensor([[-0.0100, -0.0098, -0.0096,  ...,  0.0096,  0.0098,  0.0100],\n",
              "         [-0.0100, -0.0098, -0.0096,  ...,  0.0096,  0.0098,  0.0100],\n",
              "         [-0.0100, -0.0098, -0.0096,  ...,  0.0096,  0.0098,  0.0100],\n",
              "         ...,\n",
              "         [-0.0100, -0.0098, -0.0096,  ...,  0.0096,  0.0098,  0.0100],\n",
              "         [-0.0100, -0.0098, -0.0096,  ...,  0.0096,  0.0098,  0.0100],\n",
              "         [-0.0100, -0.0098, -0.0096,  ...,  0.0096,  0.0098,  0.0100]]))"
            ]
          },
          "metadata": {},
          "execution_count": 56
        }
      ]
    },
    {
      "cell_type": "markdown",
      "source": [],
      "metadata": {
        "id": "rSgO7LIcPPCu"
      }
    },
    {
      "cell_type": "markdown",
      "source": [
        "# Analytical solution"
      ],
      "metadata": {
        "id": "CzO6F8G3CLW3"
      }
    },
    {
      "cell_type": "markdown",
      "source": [
        "Velocity distributioin"
      ],
      "metadata": {
        "id": "r-8_qMguCUYf"
      }
    },
    {
      "cell_type": "code",
      "source": [
        "v_3 = -1/(4*mu)*dpdx_3*(R**2 - x_1**2 - x_2**2)\n",
        "v_3max = -1/(4*mu)*dpdx_3*(R**2)\n",
        "\n",
        "v_3, v_3max"
      ],
      "metadata": {
        "colab": {
          "base_uri": "https://localhost:8080/"
        },
        "id": "Vn3Jnj_X0n9X",
        "outputId": "70d14ecd-6f7c-420e-8ae1-ce2c8715102f"
      },
      "execution_count": 57,
      "outputs": [
        {
          "output_type": "execute_result",
          "data": {
            "text/plain": [
              "(tensor([[-0.2500, -0.2400, -0.2302,  ..., -0.2302, -0.2400, -0.2500],\n",
              "         [-0.2400, -0.2300, -0.2202,  ..., -0.2202, -0.2300, -0.2400],\n",
              "         [-0.2302, -0.2202, -0.2104,  ..., -0.2104, -0.2202, -0.2302],\n",
              "         ...,\n",
              "         [-0.2302, -0.2202, -0.2104,  ..., -0.2104, -0.2202, -0.2302],\n",
              "         [-0.2400, -0.2300, -0.2202,  ..., -0.2202, -0.2300, -0.2400],\n",
              "         [-0.2500, -0.2400, -0.2302,  ..., -0.2302, -0.2400, -0.2500]]), 0.25)"
            ]
          },
          "metadata": {},
          "execution_count": 57
        }
      ]
    },
    {
      "cell_type": "code",
      "source": [
        "fig, ax = plt.subplots(subplot_kw={\"projection\": \"3d\"})\n",
        "surf = ax.plot_surface(np.array(x_1),np.array(x_2), np.array(v_3), cmap=cm.coolwarm, linewidth=0, antialiased=False)\n",
        "# Add a color bar which maps values to colors.\n",
        "fig.colorbar(surf, shrink=0.5, aspect=5)\n",
        "\n",
        "plt.show()"
      ],
      "metadata": {
        "colab": {
          "base_uri": "https://localhost:8080/",
          "height": 248
        },
        "id": "rxPCFPiISQXO",
        "outputId": "ec34d2af-44b1-4d4d-fdbd-1395c3b631fb"
      },
      "execution_count": 59,
      "outputs": [
        {
          "output_type": "display_data",
          "data": {
            "text/plain": [
              "<Figure size 432x288 with 2 Axes>"
            ],
            "image/png": "[encoded data removed]"
          },
          "metadata": {
            "needs_background": "light"
          }
        }
      ]
    },
    {
      "cell_type": "markdown",
      "source": [
        "Flow rate"
      ],
      "metadata": {
        "id": "fYH9g9XNPSJd"
      }
    },
    {
      "cell_type": "code",
      "source": [
        "Q_3 = -torch.pi/(8*mu)*dpdx_3*(R**4)\n",
        "Q_3"
      ],
      "metadata": {
        "id": "Wql74NgE0sLn",
        "colab": {
          "base_uri": "https://localhost:8080/"
        },
        "outputId": "ef76ecce-ba00-4986-d281-381eb4122d62"
      },
      "execution_count": 47,
      "outputs": [
        {
          "output_type": "execute_result",
          "data": {
            "text/plain": [
              "3.9269908169872414e-05"
            ]
          },
          "metadata": {},
          "execution_count": 47
        }
      ]
    },
    {
      "cell_type": "markdown",
      "source": [
        "Reynolds number and critical length"
      ],
      "metadata": {
        "id": "TdY3t3lDDJkf"
      }
    },
    {
      "cell_type": "code",
      "source": [
        "Re = density*v_3max*2*R/mu\n",
        "Lcr = 0.16*R*Re\n",
        "Re, Lcr"
      ],
      "metadata": {
        "colab": {
          "base_uri": "https://localhost:8080/"
        },
        "id": "yAYRwK1aDQRz",
        "outputId": "1abac831-33fc-4f68-e11c-5514bb65ca60"
      },
      "execution_count": 42,
      "outputs": [
        {
          "output_type": "execute_result",
          "data": {
            "text/plain": [
              "(500.0, 0.8)"
            ]
          },
          "metadata": {},
          "execution_count": 42
        }
      ]
    },
    {
      "cell_type": "markdown",
      "source": [
        "Since the flow rate distribution $\\boldsymbol{V} = [v_1, v_2, v_3]$ is given, the $\\boldsymbol\\Psi = [\\psi_1, \\psi_2, \\psi_3]$ function can be reconstructed"
      ],
      "metadata": {
        "id": "xScugCusUtOr"
      }
    },
    {
      "cell_type": "code",
      "source": [],
      "metadata": {
        "id": "GTCgAwaVUlnw"
      },
      "execution_count": null,
      "outputs": []
    },
    {
      "cell_type": "code",
      "source": [
        "torch.pi"
      ],
      "metadata": {
        "colab": {
          "base_uri": "https://localhost:8080/"
        },
        "id": "JFe6DBYYQJlk",
        "outputId": "671fe293-08b5-46d3-8c37-a0b7db9addae"
      },
      "execution_count": 45,
      "outputs": [
        {
          "output_type": "execute_result",
          "data": {
            "text/plain": [
              "3.141592653589793"
            ]
          },
          "metadata": {},
          "execution_count": 45
        }
      ]
    },
    {
      "cell_type": "code",
      "source": [],
      "metadata": {
        "id": "E2w0fiYaRtqU"
      },
      "execution_count": null,
      "outputs": []
    }
  ]
}